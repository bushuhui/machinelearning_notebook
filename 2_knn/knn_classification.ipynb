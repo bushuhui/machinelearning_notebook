{
 "cells": [
  {
   "cell_type": "markdown",
   "metadata": {},
   "source": [
    "# kNN 分类算法\n",
    "\n",
    "\n",
    "K最近邻(k-Nearest Neighbor，kNN)分类算法，是一个理论上比较成熟的方法，也是最简单的机器学习算法之一。该方法的思路是：***如果一个样本在特征空间中的k个最相似（即特征空间中最邻近）的样本中的大多数属于某一个类别，则该样本也属于这个类别***。kNN可以说是一种最直接的用来分类未知数据的方法,通过下面这张图帮助理解kNN的原理\n",
    "\n",
    "![knn](images/knn.png)\n",
    "\n",
    "简单来说，kNN可以看成：**有那么一堆你已经知道分类的数据，然后当一个新数据进入的时候，就开始跟训练数据里的每个点求距离，然后挑选这个训练数据最近的K个点，看看这几个点属于什么类型，然后用少数服从多数的原则，给新数据归类**。\n"
   ]
  },
  {
   "cell_type": "markdown",
   "metadata": {},
   "source": [
    "## 1. 算法步骤\n",
    "\n",
    "**输入：**\n",
    "* 训练数据： $T=\\{(x_1,y_1),(x_2,y_2), ..., (x_N,y_N)\\}$, 其中$x_i \\in X=\\mathbb{R}^n$，$y_i \\in Y = \\{0, 1, ..., K-1\\}$，i=1,2...N\n",
    "* 用户输入数据：$x_u$\n",
    "\n",
    "**输出：** \n",
    "* 预测的最优类别$y_{pred}$\n",
    "\n",
    "**处理过程：**\n",
    "1. 准备数据;\n",
    "2. 计算测试数据与各个训练数据之间的**距离**；\n",
    "3. 按照距离的递增关系进行排序；\n",
    "4. 选取距离最小的`k`个点；\n",
    "5. 确定前`k`个点所在类别的出现频率；\n",
    "6. 返回前`k`个点中出现频率最高的类别作为测试数据的预测分类。\n",
    "\n",
    "\n",
    "\n",
    "**深入思考：**\n",
    "* 上述的处理过程，难点有哪些？\n",
    "* 每个处理步骤如何用程序语言来描述？"
   ]
  },
  {
   "cell_type": "markdown",
   "metadata": {},
   "source": [
    "### 1.1 距离计算\n",
    "\n",
    "要度量空间中点距离的话，有好几种度量方式，比如常见的曼哈顿距离计算、欧式距离计算等等。不过通常 kNN 算法中使用的是欧式距离。这里只是简单说一下，拿二维平面为例，二维空间两个点的欧式距离计算公式如下：\n",
    "$$\n",
    "d(p, q) = \\sqrt{(p_1 - q_1)^2 + (p_2 - q_2)^2}\n",
    "$$\n",
    "\n",
    "在二维空间其实就是计算 $(p_1,p_2)$ 和 $(q_1, q_2)$ 的距离。拓展到多维空间，则公式变成：\n",
    "$$\n",
    "d(p, q) = \\sqrt{ (p_1-q_1)^2 + (p_2-q_2)^2 + ... + (p_n-q_n)^2 } = \\sqrt{ \\sum_{i=1,n} (p_i-q_i)^2}\n",
    "$$\n",
    "\n",
    "kNN 算法最简单粗暴的就是将 `预测点` 与 `所有点` 距离进行计算，然后保存并排序，选出前面 k 个值看看哪些类别比较多。"
   ]
  },
  {
   "cell_type": "markdown",
   "metadata": {},
   "source": [
    "\n",
    "## 2. 机器学习的思维模型\n",
    "\n",
    "针对kNN方法从原理、算法、到实现，可以得出机器学习的思维模型，在给定问题的情况下，是如何思考并解决机器学习问题。\n",
    "\n",
    "![machine learning - methodology](images/ml_methodology.png)\n",
    "\n",
    "\n"
   ]
  },
  {
   "cell_type": "markdown",
   "metadata": {},
   "source": [
    "上图是机器学习的经典的流程\n",
    "* 问题：我们需要解决的问题是什么？\n",
    "* 核心思想： 通过什么手段解决问题？\n",
    "* 数学理论： 如何构建数学模型，使用什么数学方法？\n",
    "* 算法： 如何将数学理论、处理流程转化成计算机可以实现的程序？\n",
    "* 编程： 如何把算法变成可以计算机执行的程序？\n",
    "* 测试: 如何使用训练、测试数据来验证算法\n",
    "* 深入思考：所采用的方法能够取得什么效果，存在什么问题，如何改进？\n"
   ]
  },
  {
   "cell_type": "markdown",
   "metadata": {},
   "source": [
    "## 3. 生成数据"
   ]
  },
  {
   "cell_type": "code",
   "execution_count": 2,
   "metadata": {},
   "outputs": [
    {
     "name": "stderr",
     "output_type": "stream",
     "text": [
      "/tmp/ipykernel_3792/180119110.py:46: UserWarning: Glyph 35757 (\\N{CJK UNIFIED IDEOGRAPH-8BAD}) missing from font(s) DejaVu Sans.\n",
      "  plt.savefig(\"fig-res-knn-traindata.pdf\")\n",
      "/tmp/ipykernel_3792/180119110.py:46: UserWarning: Glyph 32451 (\\N{CJK UNIFIED IDEOGRAPH-7EC3}) missing from font(s) DejaVu Sans.\n",
      "  plt.savefig(\"fig-res-knn-traindata.pdf\")\n",
      "/tmp/ipykernel_3792/180119110.py:46: UserWarning: Glyph 25968 (\\N{CJK UNIFIED IDEOGRAPH-6570}) missing from font(s) DejaVu Sans.\n",
      "  plt.savefig(\"fig-res-knn-traindata.pdf\")\n",
      "/tmp/ipykernel_3792/180119110.py:46: UserWarning: Glyph 25454 (\\N{CJK UNIFIED IDEOGRAPH-636E}) missing from font(s) DejaVu Sans.\n",
      "  plt.savefig(\"fig-res-knn-traindata.pdf\")\n",
      "/tmp/ipykernel_3792/180119110.py:46: UserWarning: Glyph 35757 (\\N{CJK UNIFIED IDEOGRAPH-8BAD}) missing from font(s) DejaVu Sans.\n",
      "  plt.savefig(\"fig-res-knn-traindata.pdf\")\n",
      "/tmp/ipykernel_3792/180119110.py:46: UserWarning: Glyph 32451 (\\N{CJK UNIFIED IDEOGRAPH-7EC3}) missing from font(s) DejaVu Sans.\n",
      "  plt.savefig(\"fig-res-knn-traindata.pdf\")\n",
      "/tmp/ipykernel_3792/180119110.py:46: UserWarning: Glyph 25968 (\\N{CJK UNIFIED IDEOGRAPH-6570}) missing from font(s) DejaVu Sans.\n",
      "  plt.savefig(\"fig-res-knn-traindata.pdf\")\n",
      "/tmp/ipykernel_3792/180119110.py:46: UserWarning: Glyph 25454 (\\N{CJK UNIFIED IDEOGRAPH-636E}) missing from font(s) DejaVu Sans.\n",
      "  plt.savefig(\"fig-res-knn-traindata.pdf\")\n",
      "/home/bushuhui/anaconda3/envs/ml/lib/python3.11/site-packages/IPython/core/pylabtools.py:170: UserWarning: Glyph 35757 (\\N{CJK UNIFIED IDEOGRAPH-8BAD}) missing from font(s) DejaVu Sans.\n",
      "  fig.canvas.print_figure(bytes_io, **kw)\n",
      "/home/bushuhui/anaconda3/envs/ml/lib/python3.11/site-packages/IPython/core/pylabtools.py:170: UserWarning: Glyph 32451 (\\N{CJK UNIFIED IDEOGRAPH-7EC3}) missing from font(s) DejaVu Sans.\n",
      "  fig.canvas.print_figure(bytes_io, **kw)\n",
      "/home/bushuhui/anaconda3/envs/ml/lib/python3.11/site-packages/IPython/core/pylabtools.py:170: UserWarning: Glyph 25968 (\\N{CJK UNIFIED IDEOGRAPH-6570}) missing from font(s) DejaVu Sans.\n",
      "  fig.canvas.print_figure(bytes_io, **kw)\n",
      "/home/bushuhui/anaconda3/envs/ml/lib/python3.11/site-packages/IPython/core/pylabtools.py:170: UserWarning: Glyph 25454 (\\N{CJK UNIFIED IDEOGRAPH-636E}) missing from font(s) DejaVu Sans.\n",
      "  fig.canvas.print_figure(bytes_io, **kw)\n"
     ]
    },
    {
     "data": {
      "image/png": "[encoded data removed]",
      "text/plain": [
       "<Figure size 640x480 with 1 Axes>"
      ]
     },
     "metadata": {},
     "output_type": "display_data"
    },
    {
     "name": "stderr",
     "output_type": "stream",
     "text": [
      "/tmp/ipykernel_3792/180119110.py:57: UserWarning: Glyph 27979 (\\N{CJK UNIFIED IDEOGRAPH-6D4B}) missing from font(s) DejaVu Sans.\n",
      "  plt.savefig(\"fig-res-knn-testdata.pdf\")\n",
      "/tmp/ipykernel_3792/180119110.py:57: UserWarning: Glyph 35797 (\\N{CJK UNIFIED IDEOGRAPH-8BD5}) missing from font(s) DejaVu Sans.\n",
      "  plt.savefig(\"fig-res-knn-testdata.pdf\")\n",
      "/tmp/ipykernel_3792/180119110.py:57: UserWarning: Glyph 25968 (\\N{CJK UNIFIED IDEOGRAPH-6570}) missing from font(s) DejaVu Sans.\n",
      "  plt.savefig(\"fig-res-knn-testdata.pdf\")\n",
      "/tmp/ipykernel_3792/180119110.py:57: UserWarning: Glyph 25454 (\\N{CJK UNIFIED IDEOGRAPH-636E}) missing from font(s) DejaVu Sans.\n",
      "  plt.savefig(\"fig-res-knn-testdata.pdf\")\n",
      "/tmp/ipykernel_3792/180119110.py:57: UserWarning: Glyph 27979 (\\N{CJK UNIFIED IDEOGRAPH-6D4B}) missing from font(s) DejaVu Sans.\n",
      "  plt.savefig(\"fig-res-knn-testdata.pdf\")\n",
      "/tmp/ipykernel_3792/180119110.py:57: UserWarning: Glyph 35797 (\\N{CJK UNIFIED IDEOGRAPH-8BD5}) missing from font(s) DejaVu Sans.\n",
      "  plt.savefig(\"fig-res-knn-testdata.pdf\")\n",
      "/tmp/ipykernel_3792/180119110.py:57: UserWarning: Glyph 25968 (\\N{CJK UNIFIED IDEOGRAPH-6570}) missing from font(s) DejaVu Sans.\n",
      "  plt.savefig(\"fig-res-knn-testdata.pdf\")\n",
      "/tmp/ipykernel_3792/180119110.py:57: UserWarning: Glyph 25454 (\\N{CJK UNIFIED IDEOGRAPH-636E}) missing from font(s) DejaVu Sans.\n",
      "  plt.savefig(\"fig-res-knn-testdata.pdf\")\n",
      "/home/bushuhui/anaconda3/envs/ml/lib/python3.11/site-packages/IPython/core/pylabtools.py:170: UserWarning: Glyph 27979 (\\N{CJK UNIFIED IDEOGRAPH-6D4B}) missing from font(s) DejaVu Sans.\n",
      "  fig.canvas.print_figure(bytes_io, **kw)\n",
      "/home/bushuhui/anaconda3/envs/ml/lib/python3.11/site-packages/IPython/core/pylabtools.py:170: UserWarning: Glyph 35797 (\\N{CJK UNIFIED IDEOGRAPH-8BD5}) missing from font(s) DejaVu Sans.\n",
      "  fig.canvas.print_figure(bytes_io, **kw)\n",
      "/home/bushuhui/anaconda3/envs/ml/lib/python3.11/site-packages/IPython/core/pylabtools.py:170: UserWarning: Glyph 25968 (\\N{CJK UNIFIED IDEOGRAPH-6570}) missing from font(s) DejaVu Sans.\n",
      "  fig.canvas.print_figure(bytes_io, **kw)\n",
      "/home/bushuhui/anaconda3/envs/ml/lib/python3.11/site-packages/IPython/core/pylabtools.py:170: UserWarning: Glyph 25454 (\\N{CJK UNIFIED IDEOGRAPH-636E}) missing from font(s) DejaVu Sans.\n",
      "  fig.canvas.print_figure(bytes_io, **kw)\n"
     ]
    },
    {
     "data": {
      "image/png": "[encoded data removed]",
      "text/plain": [
       "<Figure size 640x480 with 1 Axes>"
      ]
     },
     "metadata": {},
     "output_type": "display_data"
    }
   ],
   "source": [
    "%matplotlib inline\n",
    "\n",
    "import numpy as np\n",
    "import matplotlib.pyplot as plt\n",
    "import matplotlib as mpl\n",
    "\n",
    "# 生成模拟数据\n",
    "np.random.seed(314)\n",
    "\n",
    "data_size1 = 100\n",
    "x1 = np.random.randn(data_size1, 2)*2 + np.array([4,4])\n",
    "y1 = [0 for _ in range(data_size1)]\n",
    "\n",
    "data_size2 = 100\n",
    "x2 = np.random.randn(data_size2, 2)*2 + np.array([10,10])\n",
    "y2 = [1 for _ in range(data_size2)]\n",
    "\n",
    "\n",
    "# 合并生成全部数据\n",
    "x = np.concatenate((x1, x2), axis=0)\n",
    "y = np.concatenate((y1, y2), axis=0)\n",
    "\n",
    "data_size_all = data_size1 + data_size2\n",
    "shuffled_index = np.random.permutation(data_size_all)\n",
    "x = x[shuffled_index]\n",
    "y = y[shuffled_index]\n",
    "\n",
    "# 分割训练与测试数据\n",
    "split_index = int(data_size_all*0.7)\n",
    "x_train = x[:split_index]\n",
    "y_train = y[:split_index]\n",
    "x_test = x[split_index:]\n",
    "y_test = y[split_index:]\n",
    "\n",
    "\n",
    "# 绘制结果\n",
    "for i in range(split_index):\n",
    "    if y_train[i] == 0:\n",
    "        plt.scatter(x_train[i,0],x_train[i,1], s=38, c = 'r', marker='.')\n",
    "    else:\n",
    "        plt.scatter(x_train[i,0],x_train[i,1], s=38, c = 'b', marker='^')   \n",
    "\n",
    "#plt.rcParams['figure.figsize']=(12.0, 8.0)\n",
    "#mpl.rcParams['font.family'] = 'SimHei'\n",
    "plt.title(\"训练数据\")\n",
    "plt.savefig(\"fig-res-knn-traindata.pdf\")\n",
    "plt.show()\n",
    "\n",
    "for i in range(data_size_all - split_index):\n",
    "    if y_test[i] == 0:\n",
    "        plt.scatter(x_test[i,0],x_test[i,1], s=38, c = 'r', marker='.')\n",
    "    else:\n",
    "        plt.scatter(x_test[i,0],x_test[i,1], s=38, c = 'b', marker='^')\n",
    "#plt.rcParams['figure.figsize']=(12.0, 8.0)\n",
    "#mpl.rcParams['font.family'] = 'SimHei'\n",
    "plt.title(\"测试数据\")\n",
    "plt.savefig(\"fig-res-knn-testdata.pdf\")\n",
    "plt.show()"
   ]
  },
  {
   "cell_type": "markdown",
   "metadata": {},
   "source": [
    "## 4. 最简单的程序实现"
   ]
  },
  {
   "cell_type": "code",
   "execution_count": 3,
   "metadata": {},
   "outputs": [
    {
     "name": "stdout",
     "output_type": "stream",
     "text": [
      "(140, 2) (140,)\n",
      "(60, 2) (60,)\n"
     ]
    }
   ],
   "source": [
    "print(x_train.shape, y_train.shape)\n",
    "print(x_test.shape, y_test.shape)"
   ]
  },
  {
   "cell_type": "code",
   "execution_count": 4,
   "metadata": {},
   "outputs": [
    {
     "name": "stdout",
     "output_type": "stream",
     "text": [
      "[1, 0, 0, 0, 1, 0, 1, 0, 0, 1, 1, 0, 1, 0, 1, 0, 1, 0, 1, 0, 0, 0, 1, 0, 1, 1, 0, 1, 1, 1, 0, 0, 0, 1, 1, 1, 0, 1, 0, 1, 0, 0, 1, 1, 0, 1, 0, 1, 1, 1, 0, 1, 1, 0, 1, 0, 0, 1, 0, 0, 0, 0, 0, 1, 1, 0, 1, 0, 0, 1, 0, 1, 0, 0, 1, 1, 0, 1, 1, 1, 1, 0, 1, 1, 1, 1, 0, 1, 0, 1, 0, 0, 1, 1, 1, 0, 0, 0, 1, 1, 1, 1, 1, 0, 0, 1, 1, 0, 1, 1, 0, 1, 0, 1, 0, 1, 1, 1, 0, 1, 0, 0, 1, 1, 0, 0, 0, 1, 0, 1, 1, 1, 0, 0, 1, 0, 0, 1, 1, 0]\n"
     ]
    }
   ],
   "source": [
    "import numpy as np\n",
    "import operator\n",
    "\n",
    "def knn_distance(v1, v2):\n",
    "    \"\"\"计算两个多维向量的距离\"\"\"\n",
    "    return np.sum(np.square(v1-v2))\n",
    "\n",
    "def knn_vote(ys):\n",
    "    \"\"\"根据ys的类别，挑选类别最多一类作为输出\"\"\"\n",
    "    vote_dict = {}\n",
    "    for y in ys:\n",
    "        if y not in vote_dict.keys():\n",
    "            vote_dict[y] = 1\n",
    "        else:\n",
    "            vote_dict[y] += 1\n",
    "                \n",
    "    method = 1\n",
    "    \n",
    "    # 方法1 - 使用循环遍历找到类别最多的一类\n",
    "    if method == 1:\n",
    "        maxv = maxk = 0\n",
    "        for y in np.unique(ys):\n",
    "            if maxv < vote_dict[y]:\n",
    "                maxv = vote_dict[y]\n",
    "                maxk = y\n",
    "        return maxk\n",
    "    \n",
    "    # 方法2 - 使用排序的方法\n",
    "    if method == 2:\n",
    "        sorted_vote_dict = sorted(vote_dict.items(), \\\n",
    "                                  #key=operator.itemgetter(1), \\\n",
    "                                  key=lambda x:x[1], \\\n",
    "                                  reverse=True)\n",
    "        return sorted_vote_dict[0][0]\n",
    "    \n",
    "\n",
    "    \n",
    "def knn_predict(x, train_x, train_y, k=3):\n",
    "    \"\"\"\n",
    "    针对给定的数据进行分类\n",
    "    参数\n",
    "    x - 输入的待分类样本\n",
    "    train_x - 训练数据的样本\n",
    "    train_y - 训练数据的标签\n",
    "    k - 最近邻的样本个数\n",
    "    \"\"\"\n",
    "    dist_arr = [knn_distance(x, train_x[j]) for j in range(len(train_x))]\n",
    "    sorted_index = np.argsort(dist_arr)\n",
    "    top_k_index = sorted_index[:k]\n",
    "    ys=train_y[top_k_index]\n",
    "    return knn_vote(ys)\n",
    "    \n",
    "\n",
    "# 对每个样本进行分类\n",
    "y_train_est = [knn_predict(x_train[i], x_train, y_train) for i in range(len(x_train))]\n",
    "print(y_train_est)"
   ]
  },
  {
   "cell_type": "code",
   "execution_count": 5,
   "metadata": {},
   "outputs": [
    {
     "data": {
      "image/png": "[encoded data removed]",
      "text/plain": [
       "<Figure size 640x480 with 1 Axes>"
      ]
     },
     "metadata": {},
     "output_type": "display_data"
    }
   ],
   "source": [
    "# 绘制结果\n",
    "for i in range(len(y_train_est)):\n",
    "    if y_train_est[i] == 0:\n",
    "        plt.scatter(x_train[i,0],x_train[i,1], s=38, c = 'r', marker='.')\n",
    "    else:\n",
    "        plt.scatter(x_train[i,0],x_train[i,1], s=38, c = 'b', marker='^')   \n",
    "#plt.rcParams['figure.figsize']=(12.0, 8.0)\n",
    "mpl.rcParams['font.family'] = 'SimHei'\n",
    "plt.title(\"Train Results\")\n",
    "plt.savefig(\"fig-res-knn-train-res.pdf\")\n",
    "plt.show()"
   ]
  },
  {
   "cell_type": "code",
   "execution_count": 6,
   "metadata": {},
   "outputs": [
    {
     "name": "stdout",
     "output_type": "stream",
     "text": [
      "Train Accuracy: 97.142857%\n"
     ]
    }
   ],
   "source": [
    "# 计算训练数据的精度\n",
    "n_correct = 0\n",
    "for i in range(len(x_train)):\n",
    "    if y_train_est[i] == y_train[i]:\n",
    "        n_correct += 1\n",
    "accuracy = n_correct / len(x_train) * 100.0\n",
    "print(\"Train Accuracy: %f%%\" % accuracy)"
   ]
  },
  {
   "cell_type": "code",
   "execution_count": 7,
   "metadata": {},
   "outputs": [
    {
     "name": "stdout",
     "output_type": "stream",
     "text": [
      "Test Accuracy: 96.666667%\n",
      "58 60\n"
     ]
    }
   ],
   "source": [
    "# 计算测试数据的精度\n",
    "y_test_est = [knn_predict(x_test[i], x_train, y_train, 3) for i in range(len(x_test))]\n",
    "n_correct = 0\n",
    "for i in range(len(x_test)):\n",
    "    if y_test_est[i] == y_test[i]:\n",
    "        n_correct += 1\n",
    "accuracy = n_correct / len(x_test) * 100.0\n",
    "print(\"Test Accuracy: %f%%\" % accuracy)\n",
    "print(n_correct, len(x_test))"
   ]
  },
  {
   "cell_type": "markdown",
   "metadata": {},
   "source": [
    "## 5. 通过类实现kNN程序"
   ]
  },
  {
   "cell_type": "code",
   "execution_count": 8,
   "metadata": {},
   "outputs": [],
   "source": [
    "import numpy as np\n",
    "import operator\n",
    "\n",
    "class KNN(object):\n",
    "    def __init__(self, k=3):\n",
    "        \"\"\"对象构造函数，参数为：\n",
    "        k - 近邻个数\"\"\"\n",
    "        self.k = k\n",
    "\n",
    "    def fit(self, x, y):\n",
    "        \"\"\"拟合给定的数据，参数为：\n",
    "        x - 样本的特征；y - 样本的标签\"\"\"\n",
    "        self.x = x\n",
    "        self.y = y\n",
    "        return self\n",
    "\n",
    "    def _square_distance(self, v1, v2):\n",
    "        \"\"\"计算两个样本点的特征空间距离，参数为：\n",
    "        v1 - 样本点1；v2 - 样本点2\"\"\"\n",
    "        return np.sum(np.square(v1-v2))\n",
    "\n",
    "    def _vote(self, ys):\n",
    "        \"\"\"投票算法，参数为：\n",
    "        ys - k个近邻样本的类别\"\"\"\n",
    "        ys_unique = np.unique(ys)\n",
    "        vote_dict = {}\n",
    "        for y in ys:\n",
    "            if y not in vote_dict.keys():\n",
    "                vote_dict[y] = 1\n",
    "            else:\n",
    "                vote_dict[y] += 1\n",
    "        sorted_vote_dict = sorted(vote_dict.items(), key=operator.itemgetter(1), reverse=True)\n",
    "        return sorted_vote_dict[0][0]\n",
    "\n",
    "    def predict(self, x):\n",
    "        y_pred = []\n",
    "        for i in range(len(x)):\n",
    "            dist_arr = [self._square_distance(x[i], self.x[j]) for j in range(len(self.x))]\n",
    "            sorted_index = np.argsort(dist_arr)\n",
    "            top_k_index = sorted_index[:self.k]\n",
    "            y_pred.append(self._vote(ys=self.y[top_k_index]))\n",
    "        return np.array(y_pred)\n",
    "\n",
    "    def score(self, y_true=None, y_pred=None):\n",
    "        if y_true is None and y_pred is None:\n",
    "            y_pred = self.predict(self.x)\n",
    "            y_true = self.y\n",
    "        score = 0.0\n",
    "        for i in range(len(y_true)):\n",
    "            if y_true[i] == y_pred[i]:\n",
    "                score += 1\n",
    "        score /= len(y_true)\n",
    "        return score"
   ]
  },
  {
   "cell_type": "code",
   "execution_count": 10,
   "metadata": {},
   "outputs": [
    {
     "name": "stdout",
     "output_type": "stream",
     "text": [
      "train accuracy: 97.857143 %\n",
      "test accuracy: 96.666667 %\n"
     ]
    }
   ],
   "source": [
    "# data preprocessing\n",
    "#x_train = (x_train - np.min(x_train, axis=0)) / (np.max(x_train, axis=0) - np.min(x_train, axis=0))\n",
    "#x_test = (x_test - np.min(x_train, axis=0)) / (np.max(x_train, axis=0) - np.min(x_train, axis=0))\n",
    "\n",
    "# knn classifier\n",
    "clf = KNN(k=5)\n",
    "train_acc = clf.fit(x_train, y_train).score() * 100.0\n",
    "\n",
    "y_test_pred = clf.predict(x_test)\n",
    "test_acc = clf.score(y_test, y_test_pred) * 100.0\n",
    "\n",
    "print('train accuracy: %f %%' % train_acc)\n",
    "print('test accuracy: %f %%' % test_acc)"
   ]
  },
  {
   "cell_type": "markdown",
   "metadata": {},
   "source": [
    "## 6. sklearn program"
   ]
  },
  {
   "cell_type": "code",
   "execution_count": 11,
   "metadata": {},
   "outputs": [
    {
     "name": "stdout",
     "output_type": "stream",
     "text": [
      "Feature dimensions:  (1797, 64)\n",
      "Label dimensions:    (1797,)\n"
     ]
    }
   ],
   "source": [
    "#% matplotlib inline\n",
    "\n",
    "import matplotlib.pyplot as plt\n",
    "from sklearn import datasets, neighbors, linear_model\n",
    "\n",
    "# load data\n",
    "digits = datasets.load_digits()\n",
    "X_digits = digits.data\n",
    "y_digits = digits.target\n",
    "\n",
    "print(\"Feature dimensions: \", X_digits.shape)\n",
    "print(\"Label dimensions:   \", y_digits.shape)\n"
   ]
  },
  {
   "cell_type": "code",
   "execution_count": 12,
   "metadata": {},
   "outputs": [
    {
     "data": {
      "image/png": "[encoded data removed]",
      "text/plain": [
       "<Figure size 640x480 with 10 Axes>"
      ]
     },
     "metadata": {},
     "output_type": "display_data"
    }
   ],
   "source": [
    "# plot sample images\n",
    "nplot = 10\n",
    "fig, axes = plt.subplots(nrows=1, ncols=nplot)\n",
    "\n",
    "for i in range(nplot):\n",
    "    img = X_digits[i].reshape(8, 8)\n",
    "    axes[i].imshow(img)\n",
    "    axes[i].set_title(y_digits[i])\n",
    "plt.show()\n",
    "fig.set_size_inches(16,9)\n",
    "fig.savefig('fig-res-digits.pdf')"
   ]
  },
  {
   "cell_type": "code",
   "execution_count": 13,
   "metadata": {},
   "outputs": [],
   "source": [
    "# split train / test data\n",
    "n_samples = len(X_digits)\n",
    "n_train = int(0.7 * n_samples)\n",
    "\n",
    "X_train = X_digits[:n_train]\n",
    "y_train = y_digits[:n_train]\n",
    "X_test = X_digits[n_train:]\n",
    "y_test = y_digits[n_train:]\n"
   ]
  },
  {
   "cell_type": "code",
   "execution_count": 14,
   "metadata": {},
   "outputs": [
    {
     "name": "stdout",
     "output_type": "stream",
     "text": [
      "KNN score: 0.964815\n"
     ]
    }
   ],
   "source": [
    "# do KNN classification\n",
    "knn = neighbors.KNeighborsClassifier()\n",
    "#logistic = linear_model.LogisticRegression()\n",
    "\n",
    "print('KNN score: %f' % knn.fit(X_train, y_train).score(X_test, y_test))\n",
    "#print('LogisticRegression score: %f' % logistic.fit(X_train, y_train).score(X_test, y_test))"
   ]
  },
  {
   "cell_type": "markdown",
   "metadata": {
    "jp-MarkdownHeadingCollapsed": true
   },
   "source": [
    "## 7. 深入思考\n",
    "\n",
    "* 如果输入的数据非常多，怎么快速进行距离计算？\n",
    "    - KD-Tree详解: 从原理到编程实现 https://blog.csdn.net/qq_42688495/article/details/124049811\n",
    "    - [sklean kd-tree](https://scikit-learn.org/stable/modules/generated/sklearn.neighbors.KDTree.html#sklearn.neighbors.KDTree) \n",
    "    - Fast Library for Approximate Nearest Neighbors （FLANN）\n",
    "    - [PyNNDescent for fast Approximate Nearest Neighbors](https://pynndescent.readthedocs.io/en/latest/)\n",
    "* 如何选择最好的`k`？\n",
    "    - https://zhuanlan.zhihu.com/p/143092725\n"
   ]
  },
  {
   "cell_type": "markdown",
   "metadata": {},
   "source": [
    "## 参考资料\n",
    "* [Digits Classification Exercise](http://scikit-learn.org/stable/auto_examples/exercises/plot_digits_classification_exercise.html)\n",
    "* [kNN算法的原理与实现](https://zhuanlan.zhihu.com/p/36549000)"
   ]
  }
 ],
 "metadata": {
  "kernelspec": {
   "display_name": "Python 3 (ipykernel)",
   "language": "python",
   "name": "python3"
  },
  "language_info": {
   "codemirror_mode": {
    "name": "ipython",
    "version": 3
   },
   "file_extension": ".py",
   "mimetype": "text/x-python",
   "name": "python",
   "nbconvert_exporter": "python",
   "pygments_lexer": "ipython3",
   "version": "3.11.9"
  }
 },
 "nbformat": 4,
 "nbformat_minor": 4
}
