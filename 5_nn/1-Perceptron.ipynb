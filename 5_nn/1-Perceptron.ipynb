{
 "cells": [
  {
   "cell_type": "markdown",
   "metadata": {},
   "source": [
    "# 感知机\n",
    "\n",
    "感知机（Perceptron）是二分类的线性分类模型，输入为实例的特征向量，输出为实例的类别（取`+1`或`-1`）。感知机的学习过程就是将实例通过分离超平面将特征空间划分为两类，为求得超平面导入了基于误分类的损失函数，利用梯度下降法对损失函数进行最优化。\n",
    "\n",
    "![perceptron](images/perceptron.png)\n"
   ]
  },
  {
   "cell_type": "markdown",
   "metadata": {},
   "source": [
    "## 1. 生物学、心理学解释\n",
    "\n",
    "心理学家唐纳德·赫布（Donald Olding Hebb）于1949年提出`赫布理论`，该理论能够解释学习的过程中脑中的神经元所发生的变化。赫布理论描述了突触可塑性的基本原理，即突触前神经元向突触后神经元的持续重复的刺激，可以导致突触传递效能的增加：\n",
    "> 当细胞A的轴突足以接近以激发细胞B，并反复持续地对细胞B放电，一些生长过程或代谢变化将发生在某一个或这两个细胞内，以致A作为对B放电的细胞中的一个，导致突触传递效能的增加。\n",
    "\n",
    "![neuron_cell](images/neuron_cell_cn.png)\n",
    "\n",
    "\n",
    "心理学家弗兰克·罗森布拉特(Frank Rosenblatt)于1957年提出了`感知机`，它作为简化的数学模型解释大脑神经元如何工作：它取一组二进制输入值（附近的神经元），将每个输入值乘以一个连续值权重（每个附近神经元的突触强度），并设立一个阈值，如果这些加权输入值的和超过这个阈值，就输出1，否则输出0，这样的工作原理就相当于神经元是否放电。\n",
    "\n",
    "\n",
    "感知机并没有完全遵循赫布理论，**但通过调输入值的权重，可以有一个非常简单直观的学习方案：给定一个有输入输出实例的训练集，感知机应该「学习」一个函数：对每个例子，若感知机的输出值比实例低太多，则增加它的权重；否则若设比实例高太多，则减少它的权重。**\n",
    "\n",
    "\n",
    "感知机模仿的是生物神经系统内的神经元，它能够接受来自多个源的信号输入，然后将信号转化为便于传播的信号在进行输出(在生物体内表现为电信号)。\n",
    "\n",
    "![neuron](images/neuron.png)\n",
    "\n",
    "* dendrites - 树突\n",
    "* nucleus - 细胞核\n",
    "* axon - 轴突\n"
   ]
  },
  {
   "cell_type": "markdown",
   "metadata": {},
   "source": [
    "## 2. 感知机模型\n",
    "\n",
    "假设输入空间(特征向量)为$\\mathbf{X} \\subseteq \\mathbb{R}^D$，输出空间为$\\mathbf{Y} \\in \\{-1, +1\\}$。输入$x \\in \\mathbf{X}$ 表示实例的特征向量，对应于输入空间的点；输出$y \\in \\mathbf{Y}$表示示例的类别。由输入空间到输出空间的函数为\n",
    "\n",
    "$$\n",
    "f(x) = sign(w x + b)\n",
    "$$\n",
    "\n",
    "称为感知机。其中，参数$w$叫做权值向量，$b$称为偏置。$w·x$表示$w$和$x$的内积。$sign$为符号函数，即\n",
    "![sign_function](images/sign.png)\n",
    "\n",
    "\n"
   ]
  },
  {
   "cell_type": "markdown",
   "metadata": {},
   "source": [
    "### 2.1 几何解释    \n",
    "感知机模型是`线性分类模型`，感知机模型的假设空间是定义在特征空间中的所有线性分类模型，即函数集合$\\{ f | f(x)=w·x+b\\}$。线性方程 $w·x+b=0$对应于特征空间$\\mathbb{R}^D$中的一个超平面$S$，其中$w$是超平面的法向量，$b$是超平面的截距。这个超平面把特征空间划分为两部分，位于两侧的点分别为正负两类。超平面$S$称为分离超平面，如下图：\n",
    "![perceptron_geometry_def](images/perceptron_geometry_def.png)\n",
    "\n"
   ]
  },
  {
   "cell_type": "markdown",
   "metadata": {},
   "source": [
    "## 3. 感知机学习策略\n",
    "\n",
    "假设训练数据集是 **线性可分**，感知机学习的目标是求得一个能够将训练数据的正负实例点完全分开的分离超平面，即最终求得参数$w, b$。这需要一个学习策略，即定义（经验）损失函数并将损失函数最小化。\n",
    "\n",
    "损失函数的一个自然的选择是误分类的点的总数，但是这样得到的损失函数不是参数$w，b$的连续可导函数，不宜优化。损失函数的另一个选择是误分类点到分类面的距离之和。\n",
    "\n",
    "首先，对于任意一点$x$到超平面的距离（[参考资料](https://www.cnblogs.com/graphics/archive/2010/07/10/1774809.html)）为\n",
    "$$\n",
    "\\frac{1}{||w||} | w \\cdot x + b |\n",
    "$$\n",
    "\n",
    "其次，对于误分类点$(x_i,y_i)$来说 $-y_i(w \\cdot x_i + b) > 0$\n",
    "\n",
    "这样，假设超平面$S$的总的误分类点集合为$\\mathbf{M}$，那么所有误分类点到$S$的距离之和为\n",
    "$$\n",
    "-\\frac{1}{||w||} \\sum_{x_i \\in \\mathbf{M}} y_i (w \\cdot x_i + b)\n",
    "$$\n",
    "不考虑$1/||w||$，就得到了感知机学习的损失函数\n",
    "$$\n",
    "L = - \\sum_{x_i \\in \\mathbf{M}} y_i (w \\cdot x_i + b)\n",
    "$$\n",
    "\n",
    "### 3.1 经验风险函数\n",
    "\n",
    "给定数据集$\\mathbf{T} = \\{(x_1,y_1), (x_2, y_2), ... (x_N, y_N)\\}$，其中\n",
    "* $x_i \\in \\mathbb{R}^D$\n",
    "* $y_i \\in \\{-1, +1\\}，i=1,2...N$\n",
    "\n",
    "感知机$sign(w·x+b)$学习的损失函数定义为\n",
    "$$\n",
    "L(w, b) = - \\sum_{x_i \\in \\mathbf{M}} y_i (w \\cdot x_i + b)\n",
    "$$\n",
    "其中$\\mathbf{M}$为误分类点的集合，这个损失函数就是感知机学习的[经验风险函数](https://blog.csdn.net/zhzhx1204/article/details/70163099)。\n",
    "\n",
    "显然，损失函数$L(w,b)$是非负的。\n",
    "* 如果没有误分类点，那么$L(w,b)$为0\n",
    "* 误分类点数越少，$L(w,b)$值越小\n",
    "\n",
    "该损失函数在误分类时是参数$w,b$的线性函数，在正确分类时该损失函数是0。因此，给定训练数据集$\\mathbf{T}$，损失函数$L(w,b)$是$w,b$的连续可导函数。\n"
   ]
  },
  {
   "cell_type": "markdown",
   "metadata": {},
   "source": [
    "## 4. 感知机学习算法\n",
    "\n",
    "\n",
    "最优化问题：给定数据集$\\mathbf{T} = \\{(x_1,y_1), (x_2, y_2), ... (x_N, y_N)\\}$，其中\n",
    "* $x_i \\in \\mathbb{R}^D$\n",
    "* $y_i \\in \\{-1, +1\\}，i=1,2...N$\n",
    "\n",
    "求参数$w,b$，使其成为损失函数的解，其中$\\mathbf{M}$为误分类数据的集合：\n",
    "\n",
    "$$\n",
    "min_{w,b} L(w, b) =  - \\sum_{x_i \\in \\mathbf{M}} y_i (w \\cdot x_i + b)\n",
    "$$\n",
    "\n",
    "感知机学习是误分类驱动的，具体采用随机梯度下降法：\n",
    "* 首先，任意选定$w_0$、$b_0$，\n",
    "* 然后用梯度下降法不断极小化目标函数\n",
    "   - 极小化的过程不是一次性的把$\\mathbf{M}$中的所有误分类点梯度下降\n",
    "   - 而是一次随机选取一个误分类点使其梯度下降。\n",
    "\n",
    "假设误分类集合$\\mathbf{M}$是固定的，那么损失函数$L(w,b)$的梯度为\n",
    "$$\n",
    "\\triangledown_w L(w, b) = - \\sum_{x_i \\in \\mathbf{M}} y_i x_i \\\\\n",
    "\\triangledown_b L(w, b) = - \\sum_{x_i \\in \\mathbf{M}} y_i \\\\\n",
    "$$\n",
    "\n",
    "随机选取一个误分类点$(x_i,y_i)$,对$w,b$进行更新：\n",
    "\\begin{eqnarray}\n",
    "w & \\leftarrow & w + \\eta y_i x_i \\\\\n",
    "b & \\leftarrow & b + \\eta y_i\n",
    "\\end{eqnarray}\n",
    "\n",
    "式中$\\eta$（0 ≤ $ \\eta $ ≤ 1）是学习速率（步长）：\n",
    "* 步长越大，梯度下降的速度越快，更能接近极小点。如果步长过大，有可能导致跨过极小点，导致函数发散；\n",
    "* 如果步长过小，有可能会耗很长时间才能达到极小点。\n",
    "\n",
    "> 直观解释：当一个实例点被误分类时，调整$w,b$，使分离超平面向该误分类点的一侧移动，以减少该误分类点与超平面的距离，直至超越该点被正确分类。\n",
    "\n"
   ]
  },
  {
   "cell_type": "markdown",
   "metadata": {},
   "source": [
    "### 4.1 算法\n",
    "\n",
    "\n",
    "**输入：**\n",
    "* $\\mathbf{T}=\\{(x_1,y_1),(x_2,y_2), ..., (x_N,y_N)\\}$, 其中$x_i \\in \\mathbf{X}=\\mathbb{R}^D$，\n",
    "* $y_i \\in \\mathbf{Y} = {-1, +1}，i=1,2...N$，\n",
    "* 学习速率为η\n",
    "\n",
    "**输出：**\n",
    "* $w$, $b$; \n",
    "* 感知机模型$f(x)=sign(w·x+b)$\n",
    "\n",
    "**处理过程:**\n",
    "1. 初始化$w_0$,$b_0$\n",
    "2. 在训练数据集中选取$(x_i, y_i）$\n",
    "3. 如果$y_i(w * x_i+b)≤0$\n",
    "           \n",
    "    $w = w + η y_i x_i$\n",
    "    \n",
    "    $b = b + η y_i$\n",
    "\n",
    "4. 如果所有的样本都正确分类，或者迭代次数超过设定值，则终止\n",
    "5. 否则，跳转至（2）\n"
   ]
  },
  {
   "cell_type": "markdown",
   "metadata": {},
   "source": [
    "## 5. 示例程序\n",
    "\n",
    "生成数据："
   ]
  },
  {
   "cell_type": "code",
   "execution_count": 1,
   "metadata": {},
   "outputs": [
    {
     "name": "stdout",
     "output_type": "stream",
     "text": [
      "[2 2 2 2 2 1 1 2 1 1 1 1 2 1 1 1 1 2 2 2]\n"
     ]
    },
    {
     "data": {
      "image/png": "[encoded data removed]",
      "text/plain": [
       "<Figure size 640x480 with 1 Axes>"
      ]
     },
     "metadata": {},
     "output_type": "display_data"
    }
   ],
   "source": [
    "%matplotlib inline\n",
    "\n",
    "import numpy as np\n",
    "import matplotlib.pyplot as plt\n",
    "\n",
    "# data generation\n",
    "np.random.seed(314)\n",
    "\n",
    "data_size1 = 10\n",
    "x1 = np.random.randn(data_size1, 2) + np.array([2,2])\n",
    "y1 = [-1 for _ in range(data_size1)]\n",
    "\n",
    "data_size2 = 10\n",
    "x2 = np.random.randn(data_size2, 2)*2 + np.array([8,8])\n",
    "y2 = [1 for _ in range(data_size2)]\n",
    "\n",
    "# all sample data\n",
    "x = np.concatenate((x1, x2), axis=0)\n",
    "y = np.concatenate((y1, y2), axis=0)\n",
    "\n",
    "shuffled_index = np.random.permutation(data_size1 + data_size2)\n",
    "x = x[shuffled_index]\n",
    "y = y[shuffled_index]\n",
    "\n",
    "train_data = np.concatenate((x, y[:, np.newaxis]), axis=1)\n",
    "\n",
    "label_y = y.copy()\n",
    "label_y[label_y==-1] = 2;\n",
    "print(label_y)\n",
    "# plot data\n",
    "plt.scatter(train_data[:,0], train_data[:,1], marker='.',  s = 300,\n",
    "            c=label_y, cmap=plt.cm.Spectral)\n",
    "plt.title(\"Data\")\n",
    "plt.savefig(\"fig-res_perceptron_sample_data.pdf\")\n",
    "plt.show()\n"
   ]
  },
  {
   "cell_type": "markdown",
   "metadata": {},
   "source": [
    "学习模型："
   ]
  },
  {
   "cell_type": "code",
   "execution_count": 4,
   "metadata": {
    "lines_to_end_of_cell_marker": 2
   },
   "outputs": [
    {
     "name": "stdout",
     "output_type": "stream",
     "text": [
      "update weight/bias:  -0.021660854387405323 -0.027819644825116455 -0.01\n",
      "update weight/bias:  0.061702560712786056 0.055807672107502995 0.0\n",
      "update weight/bias:  0.03978751637295839 0.04199531041210704 -0.01\n",
      "update weight/bias:  0.007965253730218586 0.01080155320217683 -0.02\n",
      "update weight/bias:  -0.009816849689137541 -0.013015682574722326 -0.03\n",
      "update weight/bias:  0.03286205351820953 0.0542560378535423 -0.019999999999999997\n",
      "update weight/bias:  0.017847426020431482 0.02661278299589423 -0.03\n",
      "update weight/bias:  -0.018809764851673377 -0.010769099018048782 -0.04\n",
      "update weight/bias:  0.054440627288809884 0.05000347250276092 -0.03\n",
      "update weight/bias:  0.04375719919150363 0.021136863712913796 -0.04\n",
      "update weight/bias:  0.015234348259483742 0.008207573302329732 -0.05\n",
      "update weight/bias:  -0.021422842612621118 -0.029174308711613278 -0.060000000000000005\n",
      "update weight/bias:  0.0539504478774472 0.027881191177798782 -0.05\n",
      "update weight/bias:  0.03203540353761953 0.014068829482402822 -0.060000000000000005\n",
      "update weight/bias:  0.014848003799735034 0.0033880837740440477 -0.07\n",
      "w =  [0.014848003799735034, 0.0033880837740440477]\n",
      "b =  -0.07\n",
      "\n",
      "\n",
      "\n",
      "ground_truth:  [-1. -1. -1. -1. -1.  1.  1. -1.  1.  1.  1.  1. -1.  1.  1.  1.  1. -1.\n",
      " -1. -1.]\n",
      "predicted:     [-1. -1. -1. -1. -1.  1.  1. -1.  1.  1.  1.  1. -1.  1.  1.  1.  1. -1.\n",
      " -1. -1.]\n",
      "accuracy:      1.0\n"
     ]
    }
   ],
   "source": [
    "import random\n",
    "import numpy as np\n",
    "\n",
    "\n",
    "def sign(v):\n",
    "    \"\"\"符号函数\"\"\"\n",
    "    if v >= 0:  return 1\n",
    "    else:       return -1\n",
    "    \n",
    "def perceptron_train(train_data, eta=0.01, n_iter=100):\n",
    "    \"\"\"对感知机模型进行训练\"\"\"\n",
    "    weight = [0, 0]      # 权重\n",
    "    bias = 0             # 偏置量\n",
    "    learning_rate = eta  # 学习速率\n",
    "\n",
    "    train_num = n_iter  # 迭代次数\n",
    "\n",
    "    for i in range(train_num):\n",
    "        # select one data\n",
    "        ti = np.random.randint(len(train_data))\n",
    "        (x1, x2, y) = train_data[ti]\n",
    "        \n",
    "        y_pred = sign(weight[0] * x1 + weight[1] * x2 + bias) \n",
    "        \n",
    "        if y * y_pred <= 0:  # 判断误分类点\n",
    "            weight[0] = weight[0] + learning_rate * y * x1  # 更新权重\n",
    "            weight[1] = weight[1] + learning_rate * y * x2\n",
    "            bias      = bias      + learning_rate * y       # 更新偏置量\n",
    "            print(\"update weight/bias: \", weight[0], weight[1], bias)\n",
    "\n",
    "    return weight, bias\n",
    "\n",
    "def perceptron_pred(data, w, b):\n",
    "    \"\"\"输入数据，模型，对数据进行分类\"\"\"\n",
    "    y_pred = []\n",
    "    for d in data:\n",
    "        x1, x2, y = d\n",
    "        yi = sign(w[0]*x1 + w[1]*x2 + b)\n",
    "        y_pred.append(yi)\n",
    "        \n",
    "    return np.array(y_pred, dtype=float)\n",
    "\n",
    "\n",
    "# 训练感知机\n",
    "w, b = perceptron_train(train_data, n_iter=500)\n",
    "print(\"w = \", w)\n",
    "print(\"b = \", b)\n",
    "\n",
    "# 预测 \n",
    "y_pred = perceptron_pred(train_data, w, b)\n",
    "\n",
    "# 计算分类精度\n",
    "c = y_pred == y\n",
    "cn = np.sum(c == True)\n",
    "acc = cn / len(y_pred)\n",
    "print()\n",
    "\n",
    "print(\"\\n\")\n",
    "print(\"ground_truth: \", train_data[:, 2])\n",
    "print(\"predicted:    \", y_pred)\n",
    "print(\"accuracy:     \", acc)"
   ]
  },
  {
   "cell_type": "code",
   "execution_count": 5,
   "metadata": {},
   "outputs": [
    {
     "data": {
      "image/png": "[encoded data removed]",
      "text/plain": [
       "<Figure size 640x480 with 1 Axes>"
      ]
     },
     "metadata": {},
     "output_type": "display_data"
    }
   ],
   "source": [
    "label_y = y_pred.copy()\n",
    "label_y[label_y==-1] = 2;\n",
    "\n",
    "# plot data\n",
    "plt.scatter(train_data[:,0], train_data[:,1], marker='.',  s = 300,\n",
    "            c=label_y, cmap=plt.cm.Spectral)\n",
    "plt.title(\"Data\")\n",
    "plt.savefig(\"fig-res_perceptron_res_data.pdf\")\n",
    "plt.show()"
   ]
  },
  {
   "cell_type": "markdown",
   "metadata": {},
   "source": [
    "## 参考资料\n",
    "* [感知机（Python实现）](http://www.cnblogs.com/kaituorensheng/p/3561091.html)\n",
    "* [Programming a Perceptron in Python](https://blog.dbrgn.ch/2013/3/26/perceptrons-in-python/)\n",
    "* [损失函数、风险函数、经验风险最小化、结构风险最小化](https://blog.csdn.net/zhzhx1204/article/details/70163099)"
   ]
  }
 ],
 "metadata": {
  "kernelspec": {
   "display_name": "Python 3 (ipykernel)",
   "language": "python",
   "name": "python3"
  },
  "language_info": {
   "codemirror_mode": {
    "name": "ipython",
    "version": 3
   },
   "file_extension": ".py",
   "mimetype": "text/x-python",
   "name": "python",
   "nbconvert_exporter": "python",
   "pygments_lexer": "ipython3",
   "version": "3.9.18"
  }
 },
 "nbformat": 4,
 "nbformat_minor": 2
}
