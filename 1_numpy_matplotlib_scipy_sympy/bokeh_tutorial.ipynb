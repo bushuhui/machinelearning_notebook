{
 "cells": [
  {
   "cell_type": "markdown",
   "metadata": {},
   "source": [
    "<div>\n",
    "<a href=\"http://bokeh.pydata.org/\"><img src=\"../images/bokeh-header.png\"></a>\n",
    "</div>\n",
    "\n",
    "# Bokeh 5-minute Overview\n",
    "\n",
    "Bokeh is a Python interactive visualization library that targets modern web browsers for presentation. Its goal is to provide elegant, concise construction of novel graphics in the style of D3.js, and to extend this capability with high-performance interactivity over very large or streaming datasets. Bokeh can help anyone who would like to quickly and easily create interactive plots, dashboards, and data applications."
   ]
  },
  {
   "cell_type": "markdown",
   "metadata": {},
   "source": [
    "## Simple Example\n",
    "\n",
    "Here is a simple first example.  First we'll import the [`figure`](https://bokeh.pydata.org/en/latest/docs/reference/plotting.html#bokeh.plotting.figure.figure) function from [`bokeh.plotting`](https://bokeh.pydata.org/en/latest/docs/user_guide/plotting.html), which will let us create all sorts of interesting plots easily. We also import the `show` and `ouptut_notebook` functions from `bokeh.io` &mdash; these let us display our results inline in the notebook."
   ]
  },
  {
   "cell_type": "code",
   "execution_count": 1,
   "metadata": {
    "collapsed": true
   },
   "outputs": [],
   "source": [
    "from bokeh.plotting import figure \n",
    "from bokeh.io import output_notebook, show"
   ]
  },
  {
   "cell_type": "markdown",
   "metadata": {},
   "source": [
    "Next, we'll tell Bokeh to display its plots directly into the notebook.\n",
    "This will cause all of the Javascript and data to be embedded directly\n",
    "into the HTML of the notebook itself.\n",
    "(Bokeh can output straight to HTML files, or use a server, which we'll\n",
    "look at later.)"
   ]
  },
  {
   "cell_type": "code",
   "execution_count": 2,
   "metadata": {},
   "outputs": [
    {
     "data": {
      "text/html": [
       "\n",
       "    <div class=\"bk-root\">\n",
       "        <a href=\"https://bokeh.pydata.org\" target=\"_blank\" class=\"bk-logo bk-logo-small bk-logo-notebook\"></a>\n",
       "        <span id=\"a4f679b2-5082-4608-b464-f516710dc6df\">Loading BokehJS ...</span>\n",
       "    </div>"
      ]
     },
     "metadata": {},
     "output_type": "display_data"
    },
    {
     "data": {
      "application/javascript": [
       "\n",
       "(function(root) {\n",
       "  function now() {\n",
       "    return new Date();\n",
       "  }\n",
       "\n",
       "  var force = true;\n",
       "\n",
       "  if (typeof (root._bokeh_onload_callbacks) === \"undefined\" || force === true) {\n",
       "    root._bokeh_onload_callbacks = [];\n",
       "    root._bokeh_is_loading = undefined;\n",
       "  }\n",
       "\n",
       "  var JS_MIME_TYPE = 'application/javascript';\n",
       "  var HTML_MIME_TYPE = 'text/html';\n",
       "  var EXEC_MIME_TYPE = 'application/vnd.bokehjs_exec.v0+json';\n",
       "  var CLASS_NAME = 'output_bokeh rendered_html';\n",
       "\n",
       "  /**\n",
       "   * Render data to the DOM node\n",
       "   */\n",
       "  function render(props, node) {\n",
       "    var script = document.createElement(\"script\");\n",
       "    node.appendChild(script);\n",
       "  }\n",
       "\n",
       "  /**\n",
       "   * Handle when an output is cleared or removed\n",
       "   */\n",
       "  function handleClearOutput(event, handle) {\n",
       "    var cell = handle.cell;\n",
       "\n",
       "    var id = cell.output_area._bokeh_element_id;\n",
       "    var server_id = cell.output_area._bokeh_server_id;\n",
       "    // Clean up Bokeh references\n",
       "    if (id != null && id in Bokeh.index) {\n",
       "      Bokeh.index[id].model.document.clear();\n",
       "      delete Bokeh.index[id];\n",
       "    }\n",
       "\n",
       "    if (server_id !== undefined) {\n",
       "      // Clean up Bokeh references\n",
       "      var cmd = \"from bokeh.io.state import curstate; print(curstate().uuid_to_server['\" + server_id + \"'].get_sessions()[0].document.roots[0]._id)\";\n",
       "      cell.notebook.kernel.execute(cmd, {\n",
       "        iopub: {\n",
       "          output: function(msg) {\n",
       "            var id = msg.content.text.trim();\n",
       "            if (id in Bokeh.index) {\n",
       "              Bokeh.index[id].model.document.clear();\n",
       "              delete Bokeh.index[id];\n",
       "            }\n",
       "          }\n",
       "        }\n",
       "      });\n",
       "      // Destroy server and session\n",
       "      var cmd = \"import bokeh.io.notebook as ion; ion.destroy_server('\" + server_id + \"')\";\n",
       "      cell.notebook.kernel.execute(cmd);\n",
       "    }\n",
       "  }\n",
       "\n",
       "  /**\n",
       "   * Handle when a new output is added\n",
       "   */\n",
       "  function handleAddOutput(event, handle) {\n",
       "    var output_area = handle.output_area;\n",
       "    var output = handle.output;\n",
       "\n",
       "    // limit handleAddOutput to display_data with EXEC_MIME_TYPE content only\n",
       "    if ((output.output_type != \"display_data\") || (!output.data.hasOwnProperty(EXEC_MIME_TYPE))) {\n",
       "      return\n",
       "    }\n",
       "\n",
       "    var toinsert = output_area.element.find(\".\" + CLASS_NAME.split(' ')[0]);\n",
       "\n",
       "    if (output.metadata[EXEC_MIME_TYPE][\"id\"] !== undefined) {\n",
       "      toinsert[toinsert.length - 1].firstChild.textContent = output.data[JS_MIME_TYPE];\n",
       "      // store reference to embed id on output_area\n",
       "      output_area._bokeh_element_id = output.metadata[EXEC_MIME_TYPE][\"id\"];\n",
       "    }\n",
       "    if (output.metadata[EXEC_MIME_TYPE][\"server_id\"] !== undefined) {\n",
       "      var bk_div = document.createElement(\"div\");\n",
       "      bk_div.innerHTML = output.data[HTML_MIME_TYPE];\n",
       "      var script_attrs = bk_div.children[0].attributes;\n",
       "      for (var i = 0; i < script_attrs.length; i++) {\n",
       "        toinsert[toinsert.length - 1].firstChild.setAttribute(script_attrs[i].name, script_attrs[i].value);\n",
       "      }\n",
       "      // store reference to server id on output_area\n",
       "      output_area._bokeh_server_id = output.metadata[EXEC_MIME_TYPE][\"server_id\"];\n",
       "    }\n",
       "  }\n",
       "\n",
       "  function register_renderer(events, OutputArea) {\n",
       "\n",
       "    function append_mime(data, metadata, element) {\n",
       "      // create a DOM node to render to\n",
       "      var toinsert = this.create_output_subarea(\n",
       "        metadata,\n",
       "        CLASS_NAME,\n",
       "        EXEC_MIME_TYPE\n",
       "      );\n",
       "      this.keyboard_manager.register_events(toinsert);\n",
       "      // Render to node\n",
       "      var props = {data: data, metadata: metadata[EXEC_MIME_TYPE]};\n",
       "      render(props, toinsert[toinsert.length - 1]);\n",
       "      element.append(toinsert);\n",
       "      return toinsert\n",
       "    }\n",
       "\n",
       "    /* Handle when an output is cleared or removed */\n",
       "    events.on('clear_output.CodeCell', handleClearOutput);\n",
       "    events.on('delete.Cell', handleClearOutput);\n",
       "\n",
       "    /* Handle when a new output is added */\n",
       "    events.on('output_added.OutputArea', handleAddOutput);\n",
       "\n",
       "    /**\n",
       "     * Register the mime type and append_mime function with output_area\n",
       "     */\n",
       "    OutputArea.prototype.register_mime_type(EXEC_MIME_TYPE, append_mime, {\n",
       "      /* Is output safe? */\n",
       "      safe: true,\n",
       "      /* Index of renderer in `output_area.display_order` */\n",
       "      index: 0\n",
       "    });\n",
       "  }\n",
       "\n",
       "  // register the mime type if in Jupyter Notebook environment and previously unregistered\n",
       "  if (root.Jupyter !== undefined) {\n",
       "    var events = require('base/js/events');\n",
       "    var OutputArea = require('notebook/js/outputarea').OutputArea;\n",
       "\n",
       "    if (OutputArea.prototype.mime_types().indexOf(EXEC_MIME_TYPE) == -1) {\n",
       "      register_renderer(events, OutputArea);\n",
       "    }\n",
       "  }\n",
       "\n",
       "  \n",
       "  if (typeof (root._bokeh_timeout) === \"undefined\" || force === true) {\n",
       "    root._bokeh_timeout = Date.now() + 5000;\n",
       "    root._bokeh_failed_load = false;\n",
       "  }\n",
       "\n",
       "  var NB_LOAD_WARNING = {'data': {'text/html':\n",
       "     \"<div style='background-color: #fdd'>\\n\"+\n",
       "     \"<p>\\n\"+\n",
       "     \"BokehJS does not appear to have successfully loaded. If loading BokehJS from CDN, this \\n\"+\n",
       "     \"may be due to a slow or bad network connection. Possible fixes:\\n\"+\n",
       "     \"</p>\\n\"+\n",
       "     \"<ul>\\n\"+\n",
       "     \"<li>re-rerun `output_notebook()` to attempt to load from CDN again, or</li>\\n\"+\n",
       "     \"<li>use INLINE resources instead, as so:</li>\\n\"+\n",
       "     \"</ul>\\n\"+\n",
       "     \"<code>\\n\"+\n",
       "     \"from bokeh.resources import INLINE\\n\"+\n",
       "     \"output_notebook(resources=INLINE)\\n\"+\n",
       "     \"</code>\\n\"+\n",
       "     \"</div>\"}};\n",
       "\n",
       "  function display_loaded() {\n",
       "    var el = document.getElementById(\"a4f679b2-5082-4608-b464-f516710dc6df\");\n",
       "    if (el != null) {\n",
       "      el.textContent = \"BokehJS is loading...\";\n",
       "    }\n",
       "    if (root.Bokeh !== undefined) {\n",
       "      if (el != null) {\n",
       "        el.textContent = \"BokehJS \" + root.Bokeh.version + \" successfully loaded.\";\n",
       "      }\n",
       "    } else if (Date.now() < root._bokeh_timeout) {\n",
       "      setTimeout(display_loaded, 100)\n",
       "    }\n",
       "  }\n",
       "\n",
       "\n",
       "  function run_callbacks() {\n",
       "    try {\n",
       "      root._bokeh_onload_callbacks.forEach(function(callback) { callback() });\n",
       "    }\n",
       "    finally {\n",
       "      delete root._bokeh_onload_callbacks\n",
       "    }\n",
       "    console.info(\"Bokeh: all callbacks have finished\");\n",
       "  }\n",
       "\n",
       "  function load_libs(js_urls, callback) {\n",
       "    root._bokeh_onload_callbacks.push(callback);\n",
       "    if (root._bokeh_is_loading > 0) {\n",
       "      console.log(\"Bokeh: BokehJS is being loaded, scheduling callback at\", now());\n",
       "      return null;\n",
       "    }\n",
       "    if (js_urls == null || js_urls.length === 0) {\n",
       "      run_callbacks();\n",
       "      return null;\n",
       "    }\n",
       "    console.log(\"Bokeh: BokehJS not loaded, scheduling load and callback at\", now());\n",
       "    root._bokeh_is_loading = js_urls.length;\n",
       "    for (var i = 0; i < js_urls.length; i++) {\n",
       "      var url = js_urls[i];\n",
       "      var s = document.createElement('script');\n",
       "      s.src = url;\n",
       "      s.async = false;\n",
       "      s.onreadystatechange = s.onload = function() {\n",
       "        root._bokeh_is_loading--;\n",
       "        if (root._bokeh_is_loading === 0) {\n",
       "          console.log(\"Bokeh: all BokehJS libraries loaded\");\n",
       "          run_callbacks()\n",
       "        }\n",
       "      };\n",
       "      s.onerror = function() {\n",
       "        console.warn(\"failed to load library \" + url);\n",
       "      };\n",
       "      console.log(\"Bokeh: injecting script tag for BokehJS library: \", url);\n",
       "      document.getElementsByTagName(\"head\")[0].appendChild(s);\n",
       "    }\n",
       "  };var element = document.getElementById(\"a4f679b2-5082-4608-b464-f516710dc6df\");\n",
       "  if (element == null) {\n",
       "    console.log(\"Bokeh: ERROR: autoload.js configured with elementid 'a4f679b2-5082-4608-b464-f516710dc6df' but no matching script tag was found. \")\n",
       "    return false;\n",
       "  }\n",
       "\n",
       "  var js_urls = [\"https://cdn.pydata.org/bokeh/release/bokeh-0.13.0.min.js\", \"https://cdn.pydata.org/bokeh/release/bokeh-widgets-0.13.0.min.js\", \"https://cdn.pydata.org/bokeh/release/bokeh-tables-0.13.0.min.js\", \"https://cdn.pydata.org/bokeh/release/bokeh-gl-0.13.0.min.js\"];\n",
       "\n",
       "  var inline_js = [\n",
       "    function(Bokeh) {\n",
       "      Bokeh.set_log_level(\"info\");\n",
       "    },\n",
       "    \n",
       "    function(Bokeh) {\n",
       "      \n",
       "    },\n",
       "    function(Bokeh) {\n",
       "      console.log(\"Bokeh: injecting CSS: https://cdn.pydata.org/bokeh/release/bokeh-0.13.0.min.css\");\n",
       "      Bokeh.embed.inject_css(\"https://cdn.pydata.org/bokeh/release/bokeh-0.13.0.min.css\");\n",
       "      console.log(\"Bokeh: injecting CSS: https://cdn.pydata.org/bokeh/release/bokeh-widgets-0.13.0.min.css\");\n",
       "      Bokeh.embed.inject_css(\"https://cdn.pydata.org/bokeh/release/bokeh-widgets-0.13.0.min.css\");\n",
       "      console.log(\"Bokeh: injecting CSS: https://cdn.pydata.org/bokeh/release/bokeh-tables-0.13.0.min.css\");\n",
       "      Bokeh.embed.inject_css(\"https://cdn.pydata.org/bokeh/release/bokeh-tables-0.13.0.min.css\");\n",
       "    }\n",
       "  ];\n",
       "\n",
       "  function run_inline_js() {\n",
       "    \n",
       "    if ((root.Bokeh !== undefined) || (force === true)) {\n",
       "      for (var i = 0; i < inline_js.length; i++) {\n",
       "        inline_js[i].call(root, root.Bokeh);\n",
       "      }if (force === true) {\n",
       "        display_loaded();\n",
       "      }} else if (Date.now() < root._bokeh_timeout) {\n",
       "      setTimeout(run_inline_js, 100);\n",
       "    } else if (!root._bokeh_failed_load) {\n",
       "      console.log(\"Bokeh: BokehJS failed to load within specified timeout.\");\n",
       "      root._bokeh_failed_load = true;\n",
       "    } else if (force !== true) {\n",
       "      var cell = $(document.getElementById(\"a4f679b2-5082-4608-b464-f516710dc6df\")).parents('.cell').data().cell;\n",
       "      cell.output_area.append_execute_result(NB_LOAD_WARNING)\n",
       "    }\n",
       "\n",
       "  }\n",
       "\n",
       "  if (root._bokeh_is_loading === 0) {\n",
       "    console.log(\"Bokeh: BokehJS loaded, going straight to plotting\");\n",
       "    run_inline_js();\n",
       "  } else {\n",
       "    load_libs(js_urls, function() {\n",
       "      console.log(\"Bokeh: BokehJS plotting callback run at\", now());\n",
       "      run_inline_js();\n",
       "    });\n",
       "  }\n",
       "}(window));"
      ],
      "application/vnd.bokehjs_load.v0+json": "\n(function(root) {\n  function now() {\n    return new Date();\n  }\n\n  var force = true;\n\n  if (typeof (root._bokeh_onload_callbacks) === \"undefined\" || force === true) {\n    root._bokeh_onload_callbacks = [];\n    root._bokeh_is_loading = undefined;\n  }\n\n  \n\n  \n  if (typeof (root._bokeh_timeout) === \"undefined\" || force === true) {\n    root._bokeh_timeout = Date.now() + 5000;\n    root._bokeh_failed_load = false;\n  }\n\n  var NB_LOAD_WARNING = {'data': {'text/html':\n     \"<div style='background-color: #fdd'>\\n\"+\n     \"<p>\\n\"+\n     \"BokehJS does not appear to have successfully loaded. If loading BokehJS from CDN, this \\n\"+\n     \"may be due to a slow or bad network connection. Possible fixes:\\n\"+\n     \"</p>\\n\"+\n     \"<ul>\\n\"+\n     \"<li>re-rerun `output_notebook()` to attempt to load from CDN again, or</li>\\n\"+\n     \"<li>use INLINE resources instead, as so:</li>\\n\"+\n     \"</ul>\\n\"+\n     \"<code>\\n\"+\n     \"from bokeh.resources import INLINE\\n\"+\n     \"output_notebook(resources=INLINE)\\n\"+\n     \"</code>\\n\"+\n     \"</div>\"}};\n\n  function display_loaded() {\n    var el = document.getElementById(\"a4f679b2-5082-4608-b464-f516710dc6df\");\n    if (el != null) {\n      el.textContent = \"BokehJS is loading...\";\n    }\n    if (root.Bokeh !== undefined) {\n      if (el != null) {\n        el.textContent = \"BokehJS \" + root.Bokeh.version + \" successfully loaded.\";\n      }\n    } else if (Date.now() < root._bokeh_timeout) {\n      setTimeout(display_loaded, 100)\n    }\n  }\n\n\n  function run_callbacks() {\n    try {\n      root._bokeh_onload_callbacks.forEach(function(callback) { callback() });\n    }\n    finally {\n      delete root._bokeh_onload_callbacks\n    }\n    console.info(\"Bokeh: all callbacks have finished\");\n  }\n\n  function load_libs(js_urls, callback) {\n    root._bokeh_onload_callbacks.push(callback);\n    if (root._bokeh_is_loading > 0) {\n      console.log(\"Bokeh: BokehJS is being loaded, scheduling callback at\", now());\n      return null;\n    }\n    if (js_urls == null || js_urls.length === 0) {\n      run_callbacks();\n      return null;\n    }\n    console.log(\"Bokeh: BokehJS not loaded, scheduling load and callback at\", now());\n    root._bokeh_is_loading = js_urls.length;\n    for (var i = 0; i < js_urls.length; i++) {\n      var url = js_urls[i];\n      var s = document.createElement('script');\n      s.src = url;\n      s.async = false;\n      s.onreadystatechange = s.onload = function() {\n        root._bokeh_is_loading--;\n        if (root._bokeh_is_loading === 0) {\n          console.log(\"Bokeh: all BokehJS libraries loaded\");\n          run_callbacks()\n        }\n      };\n      s.onerror = function() {\n        console.warn(\"failed to load library \" + url);\n      };\n      console.log(\"Bokeh: injecting script tag for BokehJS library: \", url);\n      document.getElementsByTagName(\"head\")[0].appendChild(s);\n    }\n  };var element = document.getElementById(\"a4f679b2-5082-4608-b464-f516710dc6df\");\n  if (element == null) {\n    console.log(\"Bokeh: ERROR: autoload.js configured with elementid 'a4f679b2-5082-4608-b464-f516710dc6df' but no matching script tag was found. \")\n    return false;\n  }\n\n  var js_urls = [\"https://cdn.pydata.org/bokeh/release/bokeh-0.13.0.min.js\", \"https://cdn.pydata.org/bokeh/release/bokeh-widgets-0.13.0.min.js\", \"https://cdn.pydata.org/bokeh/release/bokeh-tables-0.13.0.min.js\", \"https://cdn.pydata.org/bokeh/release/bokeh-gl-0.13.0.min.js\"];\n\n  var inline_js = [\n    function(Bokeh) {\n      Bokeh.set_log_level(\"info\");\n    },\n    \n    function(Bokeh) {\n      \n    },\n    function(Bokeh) {\n      console.log(\"Bokeh: injecting CSS: https://cdn.pydata.org/bokeh/release/bokeh-0.13.0.min.css\");\n      Bokeh.embed.inject_css(\"https://cdn.pydata.org/bokeh/release/bokeh-0.13.0.min.css\");\n      console.log(\"Bokeh: injecting CSS: https://cdn.pydata.org/bokeh/release/bokeh-widgets-0.13.0.min.css\");\n      Bokeh.embed.inject_css(\"https://cdn.pydata.org/bokeh/release/bokeh-widgets-0.13.0.min.css\");\n      console.log(\"Bokeh: injecting CSS: https://cdn.pydata.org/bokeh/release/bokeh-tables-0.13.0.min.css\");\n      Bokeh.embed.inject_css(\"https://cdn.pydata.org/bokeh/release/bokeh-tables-0.13.0.min.css\");\n    }\n  ];\n\n  function run_inline_js() {\n    \n    if ((root.Bokeh !== undefined) || (force === true)) {\n      for (var i = 0; i < inline_js.length; i++) {\n        inline_js[i].call(root, root.Bokeh);\n      }if (force === true) {\n        display_loaded();\n      }} else if (Date.now() < root._bokeh_timeout) {\n      setTimeout(run_inline_js, 100);\n    } else if (!root._bokeh_failed_load) {\n      console.log(\"Bokeh: BokehJS failed to load within specified timeout.\");\n      root._bokeh_failed_load = true;\n    } else if (force !== true) {\n      var cell = $(document.getElementById(\"a4f679b2-5082-4608-b464-f516710dc6df\")).parents('.cell').data().cell;\n      cell.output_area.append_execute_result(NB_LOAD_WARNING)\n    }\n\n  }\n\n  if (root._bokeh_is_loading === 0) {\n    console.log(\"Bokeh: BokehJS loaded, going straight to plotting\");\n    run_inline_js();\n  } else {\n    load_libs(js_urls, function() {\n      console.log(\"Bokeh: BokehJS plotting callback run at\", now());\n      run_inline_js();\n    });\n  }\n}(window));"
     },
     "metadata": {},
     "output_type": "display_data"
    }
   ],
   "source": [
    "output_notebook()"
   ]
  },
  {
   "cell_type": "markdown",
   "metadata": {},
   "source": [
    "Next, we'll import NumPy and create some simple data."
   ]
  },
  {
   "cell_type": "code",
   "execution_count": 3,
   "metadata": {
    "collapsed": true
   },
   "outputs": [],
   "source": [
    "from numpy import cos, linspace\n",
    "x = linspace(-6, 6, 100)\n",
    "y = cos(x)"
   ]
  },
  {
   "cell_type": "markdown",
   "metadata": {},
   "source": [
    "Now we'll call Bokeh's `figure` functtion to create a plot `p`. Then we call the `circle()` method of the plot to render a red circle at each of the points in x and y.\n",
    "\n",
    "We can immediately interact with the plot:\n",
    "\n",
    "  * click-drag will pan the plot around.\n",
    "  * mousewheel will zoom in and out (after enabling in the toolbar)\n",
    "  \n",
    "The toolbar below is the default one that is available for all plots. It can be configured further via the `tools` keyword argument."
   ]
  },
  {
   "cell_type": "code",
   "execution_count": 4,
   "metadata": {},
   "outputs": [
    {
     "data": {
      "text/html": [
       "\n",
       "\n",
       "\n",
       "\n",
       "\n",
       "\n",
       "  <div class=\"bk-root\" id=\"b222b025-8275-4f12-970e-8178dd185864\"></div>\n"
      ]
     },
     "metadata": {},
     "output_type": "display_data"
    },
    {
     "data": {
      "application/javascript": [
       "(function(root) {\n",
       "  function embed_document(root) {\n",
       "    \n",
       "  var docs_json = {\"4b094061-e396-4590-9de1-8190021c1d60\":{\"roots\":{\"references\":[{\"attributes\":{},\"id\":\"93212e2f-3bd0-4a01-a738-91ec30788546\",\"type\":\"BasicTicker\"},{\"attributes\":{},\"id\":\"6ce2d866-32db-4b23-a59d-678f68b086b9\",\"type\":\"UnionRenderers\"},{\"attributes\":{},\"id\":\"92733ffc-9bf3-4cef-93aa-c494d7f76b59\",\"type\":\"HelpTool\"},{\"attributes\":{},\"id\":\"dd38050d-47fa-4ec7-81b5-0e2a58d0218d\",\"type\":\"SaveTool\"},{\"attributes\":{\"callback\":null},\"id\":\"af2c4ec2-42fc-4cba-aeba-b1cdc1eb7c28\",\"type\":\"DataRange1d\"},{\"attributes\":{\"below\":[{\"id\":\"bb86df27-58ac-4b31-aab7-4b40511f5bb7\",\"type\":\"LinearAxis\"}],\"left\":[{\"id\":\"3d386b95-02ef-44b8-b0f3-9ee0add0f042\",\"type\":\"LinearAxis\"}],\"plot_height\":500,\"plot_width\":500,\"renderers\":[{\"id\":\"bb86df27-58ac-4b31-aab7-4b40511f5bb7\",\"type\":\"LinearAxis\"},{\"id\":\"77e5a000-32e6-4c42-9ade-7cdf460627de\",\"type\":\"Grid\"},{\"id\":\"3d386b95-02ef-44b8-b0f3-9ee0add0f042\",\"type\":\"LinearAxis\"},{\"id\":\"644faeb6-fd5a-44cb-be63-650e36d85170\",\"type\":\"Grid\"},{\"id\":\"c6e2eebe-08bd-4e52-aad4-3f4bc7a61b87\",\"type\":\"BoxAnnotation\"},{\"id\":\"6877f88f-5005-4461-be23-fd786ce006a3\",\"type\":\"GlyphRenderer\"}],\"title\":{\"id\":\"528e17d3-b06e-4557-90b4-32568862030a\",\"type\":\"Title\"},\"toolbar\":{\"id\":\"2f51d8d9-33b7-46da-acf2-686c2150be34\",\"type\":\"Toolbar\"},\"x_range\":{\"id\":\"74f4ce6c-1120-4ac2-ab0f-766d46b1e382\",\"type\":\"DataRange1d\"},\"x_scale\":{\"id\":\"bdb94468-35b0-48ce-9f26-84f02c2abd29\",\"type\":\"LinearScale\"},\"y_range\":{\"id\":\"af2c4ec2-42fc-4cba-aeba-b1cdc1eb7c28\",\"type\":\"DataRange1d\"},\"y_scale\":{\"id\":\"51fe24da-ae0b-4911-a301-7c8ba8eec00c\",\"type\":\"LinearScale\"}},\"id\":\"e7d99083-f93e-40c6-9f3a-5d61d590ac5b\",\"subtype\":\"Figure\",\"type\":\"Plot\"},{\"attributes\":{},\"id\":\"67f51397-8af4-475e-b676-1a5fe940d13d\",\"type\":\"Selection\"},{\"attributes\":{},\"id\":\"eff6b4ba-aa91-42cf-bc3f-0b3b16d6b206\",\"type\":\"WheelZoomTool\"},{\"attributes\":{\"fill_alpha\":{\"value\":0.1},\"fill_color\":{\"value\":\"#1f77b4\"},\"line_alpha\":{\"value\":0.1},\"line_color\":{\"value\":\"#1f77b4\"},\"size\":{\"units\":\"screen\",\"value\":7},\"x\":{\"field\":\"x\"},\"y\":{\"field\":\"y\"}},\"id\":\"3681563c-cc66-408a-a83d-873080b1a688\",\"type\":\"Circle\"},{\"attributes\":{},\"id\":\"51fe24da-ae0b-4911-a301-7c8ba8eec00c\",\"type\":\"LinearScale\"},{\"attributes\":{\"dimension\":1,\"plot\":{\"id\":\"e7d99083-f93e-40c6-9f3a-5d61d590ac5b\",\"subtype\":\"Figure\",\"type\":\"Plot\"},\"ticker\":{\"id\":\"f97f616e-2c14-4b42-83d4-d4c6a7de205e\",\"type\":\"BasicTicker\"}},\"id\":\"644faeb6-fd5a-44cb-be63-650e36d85170\",\"type\":\"Grid\"},{\"attributes\":{\"callback\":null,\"data\":{\"x\":{\"__ndarray__\":\"AAAAAAAAGMCEDz744IMXwAgffPDBBxfAjC666KKLFsAQPvjggw8WwJNNNtlkkxXAF1100UUXFcCbbLLJJpsUwB988MEHHxTAo4suuuiiE8Anm2yyySYTwKqqqqqqqhLALrrooosuEsCyySabbLIRwDbZZJNNNhHAuuiiiy66EMA++OCDDz4QwIQPPvjggw/AjC666KKLDsCTTTbZZJMNwJtssskmmwzAo4suuuiiC8CqqqqqqqoKwLLJJptssgnAuuiiiy66CMDCBx988MEHwMomm2yyyQbA0UUXXXTRBcDZZJNNNtkEwOGDDz744APA6KKLLrroAsDwwQcffPABwPjggw8++ADAAAAAAAAAAMAQPvjggw/+vyB88MEHH/y/MLrooosu+r88+OCDDz74v0w22WSTTfa/XHTRRRdd9L9ssskmm2zyv3zwwQcffPC/GF100UUX7b842WSTTTbpv1BVVVVVVeW/cNFFF1104b8gm2yyySbbv2CTTTbZZNO/QBdddNFFx78AH3zwwQevvwAffPDBB68/QBdddNFFxz9gk0022WTTPzCbbLLJJts/eNFFF1104T9YVVVVVVXlPzjZZJNNNuk/GF100UUX7T988MEHH3zwP2yyySabbPI/YHTRRRdd9D9QNtlkk032P0D44IMPPvg/MLrooosu+j8gfPDBBx/8PxA++OCDD/4/AAAAAAAAAED44IMPPvgAQPDBBx988AFA6KKLLrroAkDggw8++OADQNhkk0022QRA0EUXXXTRBUDMJptssskGQMQHH3zwwQdAvOiiiy66CEC0ySabbLIJQKyqqqqqqgpApIsuuuiiC0CcbLLJJpsMQJRNNtlkkw1AjC666KKLDkCEDz744IMPQD744IMPPhBAuuiiiy66EEA22WSTTTYRQLLJJptsshFALrrooosuEkCsqqqqqqoSQCibbLLJJhNApIsuuuiiE0AgfPDBBx8UQJxssskmmxRAGF100UUXFUCUTTbZZJMVQBA++OCDDxZAjC666KKLFkAIH3zwwQcXQIQPPvjggxdAAAAAAAAAGEA=\",\"dtype\":\"float64\",\"shape\":[100]},\"y\":{\"__ndarray__\":\"9SJ4Cbe57j8JY+r+OmvtP60Tvck6rus/WLzTHz6J6T/x0bJaUwTnP6I1+zPxKOQ/oScYONMB4T8ZPFzpojXbP8HygfRnAdQ/fGjcYAsEyT8z6888mk6zP+5YV8fTZqe/pYFip7xExb9PFf407y/Svy7Wz2Mtedm/GSzA6Fwx4L8zrWZ2Tmnjv1uZMxdUWOa/yEpIeGjz6L+BKUaewTDrv4rmZKv1B+2/pq/Cehpy7r9tKDKa32nvv7My8UCi6++/lWFJ+Hr1779ggMrCRIfvv13mP6edou6//JJWneBK7b/O+cbyGIXrv36TXFjvV+m/wpQK3pDL5r8HDQc8kOnjv6yITtzBvOC/BXJTVyai2r/ACBWWu2bTv4h0TibdxMe/sSQZ5fDFsL8tuK+mtnmsP79vCY4VhcY//tyFCJLL0j9AaSfs/Q3aPzoevIFEd+A/HBvGyK6p4z+ZiDpMO5LmPxkpbAr9Jek/+alUikVb6z85RlM6ySntP8nZq5m+iu4/fMS1t/d47z+hS/Ko9fDvP6FL8qj18O8/fMS1t/d47z/J2auZvoruPzZGUzrJKe0/9KlUikVb6z8UKWwK/SXpP5mIOkw7kuY/HBvGyK6p4z86HryBRHfgP0BpJ+z9Ddo/79yFCJLL0j+fbwmOFYXGP623r6a2eaw/sSQZ5fDFsL+IdE4m3cTHv8AIFZa7ZtO/BXJTVyai2r+siE7cwbzgvwcNBzyQ6eO/wpQK3pDL5r98k1xY71fpv8z5xvIYheu/+pJWneBK7b9f5j+nnaLuv2KAysJEh++/lWFJ+Hr177+zMvFAouvvv2soMprfae+/pK/Cehpy7r+I5mSr9Qftv38pRp7BMOu/yEpIeGjz6L9bmTMXVFjmvzOtZnZOaeO/GSzA6Fwx4L8u1s9jLXnZv08V/jTvL9K/pYFip7xExb/uV1fH02anv3PrzzyaTrM/nGjcYAsEyT/Q8oH0ZwHUPyc8XOmiNds/qCcYONMB4T+oNfsz8SjkP/HRslpTBOc/WLzTHz6J6T+tE73JOq7rPwlj6v46a+0/9SJ4Cbe57j8=\",\"dtype\":\"float64\",\"shape\":[100]}},\"selected\":{\"id\":\"67f51397-8af4-475e-b676-1a5fe940d13d\",\"type\":\"Selection\"},\"selection_policy\":{\"id\":\"6ce2d866-32db-4b23-a59d-678f68b086b9\",\"type\":\"UnionRenderers\"}},\"id\":\"cc84fc39-d42c-4584-9ae6-a6fda1214c1c\",\"type\":\"ColumnDataSource\"},{\"attributes\":{},\"id\":\"bd92b546-ee4d-4b14-a7b2-8e970a426479\",\"type\":\"PanTool\"},{\"attributes\":{\"active_drag\":\"auto\",\"active_inspect\":\"auto\",\"active_multi\":null,\"active_scroll\":\"auto\",\"active_tap\":\"auto\",\"tools\":[{\"id\":\"bd92b546-ee4d-4b14-a7b2-8e970a426479\",\"type\":\"PanTool\"},{\"id\":\"eff6b4ba-aa91-42cf-bc3f-0b3b16d6b206\",\"type\":\"WheelZoomTool\"},{\"id\":\"9fe2080b-58c5-4cb5-8f5c-853b2237b946\",\"type\":\"BoxZoomTool\"},{\"id\":\"dd38050d-47fa-4ec7-81b5-0e2a58d0218d\",\"type\":\"SaveTool\"},{\"id\":\"a9133004-22fa-42aa-aa82-2bb0a759083c\",\"type\":\"ResetTool\"},{\"id\":\"92733ffc-9bf3-4cef-93aa-c494d7f76b59\",\"type\":\"HelpTool\"}]},\"id\":\"2f51d8d9-33b7-46da-acf2-686c2150be34\",\"type\":\"Toolbar\"},{\"attributes\":{\"callback\":null},\"id\":\"74f4ce6c-1120-4ac2-ab0f-766d46b1e382\",\"type\":\"DataRange1d\"},{\"attributes\":{\"source\":{\"id\":\"cc84fc39-d42c-4584-9ae6-a6fda1214c1c\",\"type\":\"ColumnDataSource\"}},\"id\":\"90570dc3-eec7-404c-9990-018eda0dc99d\",\"type\":\"CDSView\"},{\"attributes\":{\"data_source\":{\"id\":\"cc84fc39-d42c-4584-9ae6-a6fda1214c1c\",\"type\":\"ColumnDataSource\"},\"glyph\":{\"id\":\"913493bb-a656-4791-8447-7c8131f049e8\",\"type\":\"Circle\"},\"hover_glyph\":null,\"muted_glyph\":null,\"nonselection_glyph\":{\"id\":\"3681563c-cc66-408a-a83d-873080b1a688\",\"type\":\"Circle\"},\"selection_glyph\":null,\"view\":{\"id\":\"90570dc3-eec7-404c-9990-018eda0dc99d\",\"type\":\"CDSView\"}},\"id\":\"6877f88f-5005-4461-be23-fd786ce006a3\",\"type\":\"GlyphRenderer\"},{\"attributes\":{\"fill_alpha\":{\"value\":0.5},\"fill_color\":{\"value\":\"firebrick\"},\"line_alpha\":{\"value\":0.5},\"line_color\":{\"value\":\"firebrick\"},\"size\":{\"units\":\"screen\",\"value\":7},\"x\":{\"field\":\"x\"},\"y\":{\"field\":\"y\"}},\"id\":\"913493bb-a656-4791-8447-7c8131f049e8\",\"type\":\"Circle\"},{\"attributes\":{\"formatter\":{\"id\":\"687e9afe-2e6a-41e2-ac60-e62f525737c9\",\"type\":\"BasicTickFormatter\"},\"plot\":{\"id\":\"e7d99083-f93e-40c6-9f3a-5d61d590ac5b\",\"subtype\":\"Figure\",\"type\":\"Plot\"},\"ticker\":{\"id\":\"f97f616e-2c14-4b42-83d4-d4c6a7de205e\",\"type\":\"BasicTicker\"}},\"id\":\"3d386b95-02ef-44b8-b0f3-9ee0add0f042\",\"type\":\"LinearAxis\"},{\"attributes\":{},\"id\":\"d7aa07dc-1b7b-4eb6-8575-d6d75d925e3e\",\"type\":\"BasicTickFormatter\"},{\"attributes\":{\"overlay\":{\"id\":\"c6e2eebe-08bd-4e52-aad4-3f4bc7a61b87\",\"type\":\"BoxAnnotation\"}},\"id\":\"9fe2080b-58c5-4cb5-8f5c-853b2237b946\",\"type\":\"BoxZoomTool\"},{\"attributes\":{\"plot\":null,\"text\":\"\"},\"id\":\"528e17d3-b06e-4557-90b4-32568862030a\",\"type\":\"Title\"},{\"attributes\":{\"formatter\":{\"id\":\"d7aa07dc-1b7b-4eb6-8575-d6d75d925e3e\",\"type\":\"BasicTickFormatter\"},\"plot\":{\"id\":\"e7d99083-f93e-40c6-9f3a-5d61d590ac5b\",\"subtype\":\"Figure\",\"type\":\"Plot\"},\"ticker\":{\"id\":\"93212e2f-3bd0-4a01-a738-91ec30788546\",\"type\":\"BasicTicker\"}},\"id\":\"bb86df27-58ac-4b31-aab7-4b40511f5bb7\",\"type\":\"LinearAxis\"},{\"attributes\":{\"bottom_units\":\"screen\",\"fill_alpha\":{\"value\":0.5},\"fill_color\":{\"value\":\"lightgrey\"},\"left_units\":\"screen\",\"level\":\"overlay\",\"line_alpha\":{\"value\":1.0},\"line_color\":{\"value\":\"black\"},\"line_dash\":[4,4],\"line_width\":{\"value\":2},\"plot\":null,\"render_mode\":\"css\",\"right_units\":\"screen\",\"top_units\":\"screen\"},\"id\":\"c6e2eebe-08bd-4e52-aad4-3f4bc7a61b87\",\"type\":\"BoxAnnotation\"},{\"attributes\":{},\"id\":\"687e9afe-2e6a-41e2-ac60-e62f525737c9\",\"type\":\"BasicTickFormatter\"},{\"attributes\":{},\"id\":\"a9133004-22fa-42aa-aa82-2bb0a759083c\",\"type\":\"ResetTool\"},{\"attributes\":{\"plot\":{\"id\":\"e7d99083-f93e-40c6-9f3a-5d61d590ac5b\",\"subtype\":\"Figure\",\"type\":\"Plot\"},\"ticker\":{\"id\":\"93212e2f-3bd0-4a01-a738-91ec30788546\",\"type\":\"BasicTicker\"}},\"id\":\"77e5a000-32e6-4c42-9ade-7cdf460627de\",\"type\":\"Grid\"},{\"attributes\":{},\"id\":\"bdb94468-35b0-48ce-9f26-84f02c2abd29\",\"type\":\"LinearScale\"},{\"attributes\":{},\"id\":\"f97f616e-2c14-4b42-83d4-d4c6a7de205e\",\"type\":\"BasicTicker\"}],\"root_ids\":[\"e7d99083-f93e-40c6-9f3a-5d61d590ac5b\"]},\"title\":\"Bokeh Application\",\"version\":\"0.13.0\"}};\n",
       "  var render_items = [{\"docid\":\"4b094061-e396-4590-9de1-8190021c1d60\",\"roots\":{\"e7d99083-f93e-40c6-9f3a-5d61d590ac5b\":\"b222b025-8275-4f12-970e-8178dd185864\"}}];\n",
       "  root.Bokeh.embed.embed_items_notebook(docs_json, render_items);\n",
       "\n",
       "  }\n",
       "  if (root.Bokeh !== undefined) {\n",
       "    embed_document(root);\n",
       "  } else {\n",
       "    var attempts = 0;\n",
       "    var timer = setInterval(function(root) {\n",
       "      if (root.Bokeh !== undefined) {\n",
       "        embed_document(root);\n",
       "        clearInterval(timer);\n",
       "      }\n",
       "      attempts++;\n",
       "      if (attempts > 100) {\n",
       "        console.log(\"Bokeh: ERROR: Unable to run BokehJS code because BokehJS library is missing\")\n",
       "        clearInterval(timer);\n",
       "      }\n",
       "    }, 10, root)\n",
       "  }\n",
       "})(window);"
      ],
      "application/vnd.bokehjs_exec.v0+json": ""
     },
     "metadata": {
      "application/vnd.bokehjs_exec.v0+json": {
       "id": "e7d99083-f93e-40c6-9f3a-5d61d590ac5b"
      }
     },
     "output_type": "display_data"
    }
   ],
   "source": [
    "p = figure(width=500, height=500)\n",
    "p.circle(x, y, size=7, color=\"firebrick\", alpha=0.5)\n",
    "show(p)"
   ]
  },
  {
   "cell_type": "markdown",
   "metadata": {},
   "source": [
    "# Bar Plot Example\n",
    "\n",
    "\n",
    "Bokeh's core display model relies on *composing graphical primitives* which are bound to data series.  This is similar in spirit to Protovis and D3, and different than most other Python plotting libraries.\n",
    "\n",
    "A slightly more sophisticated example demonstrates this idea.\n",
    "\n",
    "Bokeh ships with a small set of interesting \"sample data\" in the `bokeh.sampledata` package.  We'll load up some historical automobile mileage data, which is returned as a Pandas `DataFrame`."
   ]
  },
  {
   "cell_type": "code",
   "execution_count": 5,
   "metadata": {
    "collapsed": true
   },
   "outputs": [],
   "source": [
    "from bokeh.sampledata.autompg import autompg\n",
    "\n",
    "grouped = autompg.groupby(\"yr\")\n",
    "\n",
    "mpg = grouped.mpg\n",
    "avg, std = mpg.mean(), mpg.std()\n",
    "years = list(grouped.groups)\n",
    "american = autompg[autompg[\"origin\"]==1]\n",
    "japanese = autompg[autompg[\"origin\"]==3]"
   ]
  },
  {
   "cell_type": "markdown",
   "metadata": {},
   "source": [
    "For each year, we want to plot the distribution of MPG within that year."
   ]
  },
  {
   "cell_type": "code",
   "execution_count": 6,
   "metadata": {},
   "outputs": [
    {
     "data": {
      "text/html": [
       "\n",
       "\n",
       "\n",
       "\n",
       "\n",
       "\n",
       "  <div class=\"bk-root\" id=\"749806b3-457c-4dff-86d6-39ea80750504\"></div>\n"
      ]
     },
     "metadata": {},
     "output_type": "display_data"
    },
    {
     "data": {
      "application/javascript": [
       "(function(root) {\n",
       "  function embed_document(root) {\n",
       "    \n",
       "  var docs_json = {\"066e2203-4c2d-4669-a77d-bae4ffe81bf8\":{\"roots\":{\"references\":[{\"attributes\":{},\"id\":\"2cb2cbf2-5adc-4c2e-8678-c95bdb658a0b\",\"type\":\"HelpTool\"},{\"attributes\":{\"label\":{\"value\":\"American\"},\"renderers\":[{\"id\":\"cb8d825d-9959-4ce9-adc6-022e2cfeeee1\",\"type\":\"GlyphRenderer\"}]},\"id\":\"6dfcc42d-ebdf-486d-92b0-a784be41a530\",\"type\":\"LegendItem\"},{\"attributes\":{\"callback\":null,\"data\":{\"bottom\":{\"__ndarray__\":\"gvFgx2qzKECcKci59t4sQJZdRzm5jipAzvVtn6zMKECki7kXNjswQIpnc6D2pi5ApAV4qVNeL0DtFQi6+rIwQBxLQL6+KTFAWBwW2YNMMkBnDzEy+Oo6QAq856zmjDhAfzfsSXnEOkA=\",\"dtype\":\"float64\",\"shape\":[13]},\"top\":{\"__ndarray__\":\"55jlF2UHN0DAzlQxaMk7QBEIyj5aJjhATTh849zMNUD6TNCFok49QMPUTjgNNTlA1KLp0Ht2O0AT6vdFBQ0+QNr+XjaL9T5AVt48aCfjP0AojYptQ1hEQPSsO6IX6UFAQOQJW8OdQkA=\",\"dtype\":\"float64\",\"shape\":[13]},\"x\":[70,71,72,73,74,75,76,77,78,79,80,81,82]},\"selected\":{\"id\":\"d32871f6-6e0c-41bf-9e26-7147788cf109\",\"type\":\"Selection\"},\"selection_policy\":{\"id\":\"f8647c78-934d-42df-a50b-212109d3641d\",\"type\":\"UnionRenderers\"}},\"id\":\"8dc4b448-970a-448b-93d9-b7f05d776e65\",\"type\":\"ColumnDataSource\"},{\"attributes\":{\"bottom\":{\"field\":\"bottom\"},\"fill_alpha\":{\"value\":0.2},\"fill_color\":{\"value\":\"#1f77b4\"},\"line_color\":{\"value\":null},\"top\":{\"field\":\"top\"},\"width\":{\"value\":0.8},\"x\":{\"field\":\"x\"}},\"id\":\"3f9528c6-e00b-4a11-b4e2-66c4127cd90c\",\"type\":\"VBar\"},{\"attributes\":{\"formatter\":{\"id\":\"978c467d-322b-4b7e-9f56-ad72bfd509e1\",\"type\":\"BasicTickFormatter\"},\"plot\":{\"id\":\"04f5d25a-c5f8-4094-83ab-a996225f2cf6\",\"subtype\":\"Figure\",\"type\":\"Plot\"},\"ticker\":{\"id\":\"bf598c19-ad95-4261-9c11-c7505eb8b0b9\",\"type\":\"BasicTicker\"}},\"id\":\"e6fc69d9-681d-412e-a7f1-9fa72acefb87\",\"type\":\"LinearAxis\"},{\"attributes\":{},\"id\":\"d32871f6-6e0c-41bf-9e26-7147788cf109\",\"type\":\"Selection\"},{\"attributes\":{},\"id\":\"f8647c78-934d-42df-a50b-212109d3641d\",\"type\":\"UnionRenderers\"},{\"attributes\":{},\"id\":\"cb3ba926-b69a-44a4-ada0-206044561974\",\"type\":\"ResetTool\"},{\"attributes\":{},\"id\":\"bf598c19-ad95-4261-9c11-c7505eb8b0b9\",\"type\":\"BasicTicker\"},{\"attributes\":{\"dimension\":1,\"plot\":{\"id\":\"04f5d25a-c5f8-4094-83ab-a996225f2cf6\",\"subtype\":\"Figure\",\"type\":\"Plot\"},\"ticker\":{\"id\":\"ddbd7c51-91c1-45e1-ab51-39a5ce1f3d9e\",\"type\":\"BasicTicker\"}},\"id\":\"720307f0-4ecc-4398-9b65-96508c2ab712\",\"type\":\"Grid\"},{\"attributes\":{\"items\":[{\"id\":\"e0744068-72db-477f-89ac-db8b57a101de\",\"type\":\"LegendItem\"},{\"id\":\"54a2bc35-e986-4531-9383-a86dbc7221d0\",\"type\":\"LegendItem\"},{\"id\":\"6dfcc42d-ebdf-486d-92b0-a784be41a530\",\"type\":\"LegendItem\"}],\"location\":\"top_left\",\"plot\":{\"id\":\"04f5d25a-c5f8-4094-83ab-a996225f2cf6\",\"subtype\":\"Figure\",\"type\":\"Plot\"}},\"id\":\"a0014750-6496-46c8-be48-8c04dd896311\",\"type\":\"Legend\"},{\"attributes\":{},\"id\":\"08b219d8-8e00-42be-ab9b-bada41d46b9f\",\"type\":\"LinearScale\"},{\"attributes\":{\"callback\":null,\"data\":{\"x\":[70,70,70,70,70,70,70,70,70,70,70,70,70,70,70,70,70,70,70,70,70,70,71,71,71,71,71,71,71,71,71,71,71,71,71,71,71,71,71,71,71,72,72,72,72,72,72,72,72,72,72,72,72,72,72,72,72,72,72,73,73,73,73,73,73,73,73,73,73,73,73,73,73,73,73,73,73,73,73,73,73,73,73,73,73,73,73,73,74,74,74,74,74,74,74,74,74,74,74,74,74,74,75,75,75,75,75,75,75,75,75,75,75,75,75,75,75,75,75,75,75,75,76,76,76,76,76,76,76,76,76,76,76,76,76,76,76,76,76,76,76,76,76,76,77,77,77,77,77,77,77,77,77,77,77,77,77,77,77,77,77,77,78,78,78,78,78,78,78,78,78,78,78,78,78,78,78,78,78,78,78,78,78,78,79,79,79,79,79,79,79,79,79,79,79,79,79,79,79,79,79,79,79,79,79,79,79,80,80,80,80,80,80,81,81,81,81,81,81,81,81,81,81,81,81,81,82,82,82,82,82,82,82,82,82,82,82,82,82,82,82,82,82,82,82],\"y\":{\"__ndarray__\":\"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\",\"dtype\":\"float64\",\"shape\":[245]}},\"selected\":{\"id\":\"c68ba4e1-aaca-47f9-bc3e-096673857f46\",\"type\":\"Selection\"},\"selection_policy\":{\"id\":\"3c5a7ab0-e8a5-4071-87e4-41c29c8533fb\",\"type\":\"UnionRenderers\"}},\"id\":\"ee1d0c69-cc3a-45aa-88bf-e650c3c76c95\",\"type\":\"ColumnDataSource\"},{\"attributes\":{\"fill_alpha\":{\"value\":0.1},\"fill_color\":{\"value\":\"#1f77b4\"},\"line_alpha\":{\"value\":0.1},\"line_color\":{\"value\":\"#1f77b4\"},\"size\":{\"units\":\"screen\",\"value\":10},\"x\":{\"field\":\"x\"},\"y\":{\"field\":\"y\"}},\"id\":\"e280bf7e-aa45-437e-9a34-89807b0abec5\",\"type\":\"Circle\"},{\"attributes\":{\"callback\":null},\"id\":\"0acfd2dd-7528-4b8e-bc93-07b4592726e0\",\"type\":\"DataRange1d\"},{\"attributes\":{\"label\":{\"value\":\"Japanese\"},\"renderers\":[{\"id\":\"30240b29-a29b-454a-8633-39fef103524d\",\"type\":\"GlyphRenderer\"}]},\"id\":\"54a2bc35-e986-4531-9383-a86dbc7221d0\",\"type\":\"LegendItem\"},{\"attributes\":{\"source\":{\"id\":\"8dc4b448-970a-448b-93d9-b7f05d776e65\",\"type\":\"ColumnDataSource\"}},\"id\":\"26fa4fd9-160b-4162-9427-faff7a1571b1\",\"type\":\"CDSView\"},{\"attributes\":{\"callback\":null},\"id\":\"70872b0c-84a0-4245-8e75-3d54a2e1659b\",\"type\":\"DataRange1d\"},{\"attributes\":{},\"id\":\"d0ff4073-7986-4b57-a4cc-a410450cf0cc\",\"type\":\"UnionRenderers\"},{\"attributes\":{},\"id\":\"4e6b358e-83ee-4b25-b4bc-7daec97fbab6\",\"type\":\"PanTool\"},{\"attributes\":{\"fill_alpha\":{\"value\":0.3},\"fill_color\":{\"value\":\"blue\"},\"line_alpha\":{\"value\":0.3},\"line_color\":{\"value\":\"blue\"},\"size\":{\"units\":\"screen\",\"value\":10},\"x\":{\"field\":\"x\"},\"y\":{\"field\":\"y\"}},\"id\":\"946d8579-8b95-4906-a0ab-0f45e4220bf8\",\"type\":\"Triangle\"},{\"attributes\":{\"plot\":{\"id\":\"04f5d25a-c5f8-4094-83ab-a996225f2cf6\",\"subtype\":\"Figure\",\"type\":\"Plot\"},\"ticker\":{\"id\":\"bf598c19-ad95-4261-9c11-c7505eb8b0b9\",\"type\":\"BasicTicker\"}},\"id\":\"209e3b3d-6ff7-49ab-80b1-58331d983895\",\"type\":\"Grid\"},{\"attributes\":{},\"id\":\"3c5a7ab0-e8a5-4071-87e4-41c29c8533fb\",\"type\":\"UnionRenderers\"},{\"attributes\":{},\"id\":\"b7cc134d-4d37-497e-b2ae-0f122b270075\",\"type\":\"SaveTool\"},{\"attributes\":{\"source\":{\"id\":\"ee1d0c69-cc3a-45aa-88bf-e650c3c76c95\",\"type\":\"ColumnDataSource\"}},\"id\":\"cf1613a2-5e31-4130-9396-705807af56cb\",\"type\":\"CDSView\"},{\"attributes\":{\"fill_alpha\":{\"value\":0.1},\"fill_color\":{\"value\":\"#1f77b4\"},\"line_alpha\":{\"value\":0.1},\"line_color\":{\"value\":\"#1f77b4\"},\"size\":{\"units\":\"screen\",\"value\":10},\"x\":{\"field\":\"x\"},\"y\":{\"field\":\"y\"}},\"id\":\"87fdec30-da3f-44e2-959a-988ae17561a3\",\"type\":\"Triangle\"},{\"attributes\":{},\"id\":\"978c467d-322b-4b7e-9f56-ad72bfd509e1\",\"type\":\"BasicTickFormatter\"},{\"attributes\":{},\"id\":\"c68ba4e1-aaca-47f9-bc3e-096673857f46\",\"type\":\"Selection\"},{\"attributes\":{\"bottom\":{\"field\":\"bottom\"},\"fill_alpha\":{\"value\":0.1},\"fill_color\":{\"value\":\"#1f77b4\"},\"line_alpha\":{\"value\":0.1},\"line_color\":{\"value\":\"#1f77b4\"},\"top\":{\"field\":\"top\"},\"width\":{\"value\":0.8},\"x\":{\"field\":\"x\"}},\"id\":\"3c17aeaa-c688-44fb-bf20-6a1adeda760b\",\"type\":\"VBar\"},{\"attributes\":{},\"id\":\"9775c7ab-0f35-4ad5-a905-120df304d9b4\",\"type\":\"WheelZoomTool\"},{\"attributes\":{\"overlay\":{\"id\":\"491b841e-4b1a-4b99-8c78-f962b1abbedd\",\"type\":\"BoxAnnotation\"}},\"id\":\"be4b5a65-1b9e-4bb4-9488-a6b9bf4302f9\",\"type\":\"BoxZoomTool\"},{\"attributes\":{\"callback\":null,\"data\":{\"x\":[70,70,71,71,71,71,72,72,72,72,72,73,73,73,73,74,74,74,74,74,74,75,75,75,75,76,76,76,76,77,77,77,77,77,77,78,78,78,78,78,78,78,78,79,79,80,80,80,80,80,80,80,80,80,80,80,80,80,81,81,81,81,81,81,81,81,81,81,81,81,82,82,82,82,82,82,82,82,82],\"y\":{\"__ndarray__\":\"AAAAAAAAOEAAAAAAAAA7QAAAAAAAADtAAAAAAAAAOUAAAAAAAAA/QAAAAAAAgEFAAAAAAAAAOEAAAAAAAAAzQAAAAAAAADxAAAAAAAAAN0AAAAAAAAA7QAAAAAAAADRAAAAAAAAANkAAAAAAAAAyQAAAAAAAADRAAAAAAAAAP0AAAAAAAABAQAAAAAAAAD9AAAAAAAAAQEAAAAAAAAA4QAAAAAAAADpAAAAAAAAAPUAAAAAAAAA4QAAAAAAAADhAAAAAAACAQEAAAAAAAIBAQAAAAAAAAEBAAAAAAAAAPEAAAAAAAAAzQAAAAAAAgD9AAAAAAADAQEAAAAAAAAA6QAAAAAAAAD5AAAAAAAAANkAAAAAAAIA1QGZmZmZmZkBAMzMzMzOzQ0DNzMzMzAxCQAAAAAAAgDtAMzMzMzMzO0CamZmZmRk1QGZmZmZm5jdAAAAAAACAPUDNzMzMzAxBQM3MzMzMzD9AzczMzMwMQ0CamZmZmZlCQM3MzMzMzD1AzczMzMxMP0AAAAAAAIBCQJqZmZmZGUBAzczMzMxMR0BmZmZmZmZEQM3MzMzMTEZAZmZmZmbmQECamZmZmVlAQDMzMzMzszdAMzMzMzMzQEDNzMzMzIxDQM3MzMzMjEFAZmZmZmYmQEAAAAAAAIBCQJqZmZmZ2UJAzczMzMwMQUCamZmZmdlAQDMzMzMzM0BAMzMzMzNzQECamZmZmZk/QGZmZmZmZjlAMzMzMzMzOEAAAAAAAIBCQAAAAAAAAD9AAAAAAAAAQkAAAAAAAABCQAAAAAAAAEFAAAAAAAAAQ0AAAAAAAABAQAAAAAAAAENAAAAAAAAAQEA=\",\"dtype\":\"float64\",\"shape\":[79]}},\"selected\":{\"id\":\"20fdfc98-80c5-444f-99ed-8fc919070530\",\"type\":\"Selection\"},\"selection_policy\":{\"id\":\"d0ff4073-7986-4b57-a4cc-a410450cf0cc\",\"type\":\"UnionRenderers\"}},\"id\":\"61c28dee-6bc7-42e3-8540-a41b502c3086\",\"type\":\"ColumnDataSource\"},{\"attributes\":{},\"id\":\"472f3cfa-41c3-48de-9805-505f03d5e33f\",\"type\":\"BasicTickFormatter\"},{\"attributes\":{\"fill_alpha\":{\"value\":0.5},\"fill_color\":{\"value\":\"red\"},\"line_alpha\":{\"value\":0.5},\"line_color\":{\"value\":\"red\"},\"size\":{\"units\":\"screen\",\"value\":10},\"x\":{\"field\":\"x\"},\"y\":{\"field\":\"y\"}},\"id\":\"815f22d4-23d4-408a-87e5-af832365270c\",\"type\":\"Circle\"},{\"attributes\":{\"label\":{\"value\":\"MPG 1 stddev\"},\"renderers\":[{\"id\":\"566ac5de-2e69-4184-8099-38b9932e58d4\",\"type\":\"GlyphRenderer\"}]},\"id\":\"e0744068-72db-477f-89ac-db8b57a101de\",\"type\":\"LegendItem\"},{\"attributes\":{\"data_source\":{\"id\":\"8dc4b448-970a-448b-93d9-b7f05d776e65\",\"type\":\"ColumnDataSource\"},\"glyph\":{\"id\":\"3f9528c6-e00b-4a11-b4e2-66c4127cd90c\",\"type\":\"VBar\"},\"hover_glyph\":null,\"muted_glyph\":null,\"nonselection_glyph\":{\"id\":\"3c17aeaa-c688-44fb-bf20-6a1adeda760b\",\"type\":\"VBar\"},\"selection_glyph\":null,\"view\":{\"id\":\"26fa4fd9-160b-4162-9427-faff7a1571b1\",\"type\":\"CDSView\"}},\"id\":\"566ac5de-2e69-4184-8099-38b9932e58d4\",\"type\":\"GlyphRenderer\"},{\"attributes\":{\"data_source\":{\"id\":\"ee1d0c69-cc3a-45aa-88bf-e650c3c76c95\",\"type\":\"ColumnDataSource\"},\"glyph\":{\"id\":\"946d8579-8b95-4906-a0ab-0f45e4220bf8\",\"type\":\"Triangle\"},\"hover_glyph\":null,\"muted_glyph\":null,\"nonselection_glyph\":{\"id\":\"87fdec30-da3f-44e2-959a-988ae17561a3\",\"type\":\"Triangle\"},\"selection_glyph\":null,\"view\":{\"id\":\"cf1613a2-5e31-4130-9396-705807af56cb\",\"type\":\"CDSView\"}},\"id\":\"cb8d825d-9959-4ce9-adc6-022e2cfeeee1\",\"type\":\"GlyphRenderer\"},{\"attributes\":{\"below\":[{\"id\":\"e6fc69d9-681d-412e-a7f1-9fa72acefb87\",\"type\":\"LinearAxis\"}],\"left\":[{\"id\":\"030c2844-e1ac-4b23-b53f-c339052f05f4\",\"type\":\"LinearAxis\"}],\"renderers\":[{\"id\":\"e6fc69d9-681d-412e-a7f1-9fa72acefb87\",\"type\":\"LinearAxis\"},{\"id\":\"209e3b3d-6ff7-49ab-80b1-58331d983895\",\"type\":\"Grid\"},{\"id\":\"030c2844-e1ac-4b23-b53f-c339052f05f4\",\"type\":\"LinearAxis\"},{\"id\":\"720307f0-4ecc-4398-9b65-96508c2ab712\",\"type\":\"Grid\"},{\"id\":\"491b841e-4b1a-4b99-8c78-f962b1abbedd\",\"type\":\"BoxAnnotation\"},{\"id\":\"a0014750-6496-46c8-be48-8c04dd896311\",\"type\":\"Legend\"},{\"id\":\"566ac5de-2e69-4184-8099-38b9932e58d4\",\"type\":\"GlyphRenderer\"},{\"id\":\"30240b29-a29b-454a-8633-39fef103524d\",\"type\":\"GlyphRenderer\"},{\"id\":\"cb8d825d-9959-4ce9-adc6-022e2cfeeee1\",\"type\":\"GlyphRenderer\"}],\"title\":{\"id\":\"a6a99b87-bc1f-46de-b4c1-9db770cc00b1\",\"type\":\"Title\"},\"toolbar\":{\"id\":\"25f360cb-5a02-477c-9612-5e7fa49e4b64\",\"type\":\"Toolbar\"},\"x_range\":{\"id\":\"0acfd2dd-7528-4b8e-bc93-07b4592726e0\",\"type\":\"DataRange1d\"},\"x_scale\":{\"id\":\"23b3b549-4154-4485-83bd-763853882884\",\"type\":\"LinearScale\"},\"y_range\":{\"id\":\"70872b0c-84a0-4245-8e75-3d54a2e1659b\",\"type\":\"DataRange1d\"},\"y_scale\":{\"id\":\"08b219d8-8e00-42be-ab9b-bada41d46b9f\",\"type\":\"LinearScale\"}},\"id\":\"04f5d25a-c5f8-4094-83ab-a996225f2cf6\",\"subtype\":\"Figure\",\"type\":\"Plot\"},{\"attributes\":{\"data_source\":{\"id\":\"61c28dee-6bc7-42e3-8540-a41b502c3086\",\"type\":\"ColumnDataSource\"},\"glyph\":{\"id\":\"815f22d4-23d4-408a-87e5-af832365270c\",\"type\":\"Circle\"},\"hover_glyph\":null,\"muted_glyph\":null,\"nonselection_glyph\":{\"id\":\"e280bf7e-aa45-437e-9a34-89807b0abec5\",\"type\":\"Circle\"},\"selection_glyph\":null,\"view\":{\"id\":\"73d5e6de-8cc0-4385-936a-3227fe142866\",\"type\":\"CDSView\"}},\"id\":\"30240b29-a29b-454a-8633-39fef103524d\",\"type\":\"GlyphRenderer\"},{\"attributes\":{\"active_drag\":\"auto\",\"active_inspect\":\"auto\",\"active_multi\":null,\"active_scroll\":\"auto\",\"active_tap\":\"auto\",\"tools\":[{\"id\":\"4e6b358e-83ee-4b25-b4bc-7daec97fbab6\",\"type\":\"PanTool\"},{\"id\":\"9775c7ab-0f35-4ad5-a905-120df304d9b4\",\"type\":\"WheelZoomTool\"},{\"id\":\"be4b5a65-1b9e-4bb4-9488-a6b9bf4302f9\",\"type\":\"BoxZoomTool\"},{\"id\":\"b7cc134d-4d37-497e-b2ae-0f122b270075\",\"type\":\"SaveTool\"},{\"id\":\"cb3ba926-b69a-44a4-ada0-206044561974\",\"type\":\"ResetTool\"},{\"id\":\"2cb2cbf2-5adc-4c2e-8678-c95bdb658a0b\",\"type\":\"HelpTool\"}]},\"id\":\"25f360cb-5a02-477c-9612-5e7fa49e4b64\",\"type\":\"Toolbar\"},{\"attributes\":{\"bottom_units\":\"screen\",\"fill_alpha\":{\"value\":0.5},\"fill_color\":{\"value\":\"lightgrey\"},\"left_units\":\"screen\",\"level\":\"overlay\",\"line_alpha\":{\"value\":1.0},\"line_color\":{\"value\":\"black\"},\"line_dash\":[4,4],\"line_width\":{\"value\":2},\"plot\":null,\"render_mode\":\"css\",\"right_units\":\"screen\",\"top_units\":\"screen\"},\"id\":\"491b841e-4b1a-4b99-8c78-f962b1abbedd\",\"type\":\"BoxAnnotation\"},{\"attributes\":{\"formatter\":{\"id\":\"472f3cfa-41c3-48de-9805-505f03d5e33f\",\"type\":\"BasicTickFormatter\"},\"plot\":{\"id\":\"04f5d25a-c5f8-4094-83ab-a996225f2cf6\",\"subtype\":\"Figure\",\"type\":\"Plot\"},\"ticker\":{\"id\":\"ddbd7c51-91c1-45e1-ab51-39a5ce1f3d9e\",\"type\":\"BasicTicker\"}},\"id\":\"030c2844-e1ac-4b23-b53f-c339052f05f4\",\"type\":\"LinearAxis\"},{\"attributes\":{},\"id\":\"20fdfc98-80c5-444f-99ed-8fc919070530\",\"type\":\"Selection\"},{\"attributes\":{},\"id\":\"23b3b549-4154-4485-83bd-763853882884\",\"type\":\"LinearScale\"},{\"attributes\":{},\"id\":\"ddbd7c51-91c1-45e1-ab51-39a5ce1f3d9e\",\"type\":\"BasicTicker\"},{\"attributes\":{\"source\":{\"id\":\"61c28dee-6bc7-42e3-8540-a41b502c3086\",\"type\":\"ColumnDataSource\"}},\"id\":\"73d5e6de-8cc0-4385-936a-3227fe142866\",\"type\":\"CDSView\"},{\"attributes\":{\"plot\":null,\"text\":\"MPG by Year (Japan and US)\"},\"id\":\"a6a99b87-bc1f-46de-b4c1-9db770cc00b1\",\"type\":\"Title\"}],\"root_ids\":[\"04f5d25a-c5f8-4094-83ab-a996225f2cf6\"]},\"title\":\"Bokeh Application\",\"version\":\"0.13.0\"}};\n",
       "  var render_items = [{\"docid\":\"066e2203-4c2d-4669-a77d-bae4ffe81bf8\",\"roots\":{\"04f5d25a-c5f8-4094-83ab-a996225f2cf6\":\"749806b3-457c-4dff-86d6-39ea80750504\"}}];\n",
       "  root.Bokeh.embed.embed_items_notebook(docs_json, render_items);\n",
       "\n",
       "  }\n",
       "  if (root.Bokeh !== undefined) {\n",
       "    embed_document(root);\n",
       "  } else {\n",
       "    var attempts = 0;\n",
       "    var timer = setInterval(function(root) {\n",
       "      if (root.Bokeh !== undefined) {\n",
       "        embed_document(root);\n",
       "        clearInterval(timer);\n",
       "      }\n",
       "      attempts++;\n",
       "      if (attempts > 100) {\n",
       "        console.log(\"Bokeh: ERROR: Unable to run BokehJS code because BokehJS library is missing\")\n",
       "        clearInterval(timer);\n",
       "      }\n",
       "    }, 10, root)\n",
       "  }\n",
       "})(window);"
      ],
      "application/vnd.bokehjs_exec.v0+json": ""
     },
     "metadata": {
      "application/vnd.bokehjs_exec.v0+json": {
       "id": "04f5d25a-c5f8-4094-83ab-a996225f2cf6"
      }
     },
     "output_type": "display_data"
    }
   ],
   "source": [
    "p = figure(title=\"MPG by Year (Japan and US)\")\n",
    "\n",
    "p.vbar(x=years, bottom=avg-std, top=avg+std, width=0.8, \n",
    "       fill_alpha=0.2, line_color=None, legend=\"MPG 1 stddev\")\n",
    "\n",
    "p.circle(x=japanese[\"yr\"], y=japanese[\"mpg\"], size=10, alpha=0.5,\n",
    "         color=\"red\", legend=\"Japanese\")\n",
    "\n",
    "p.triangle(x=american[\"yr\"], y=american[\"mpg\"], size=10, alpha=0.3,\n",
    "           color=\"blue\", legend=\"American\")\n",
    "\n",
    "p.legend.location = \"top_left\"\n",
    "show(p)"
   ]
  },
  {
   "cell_type": "markdown",
   "metadata": {},
   "source": [
    "**This kind of approach can be used to generate other kinds of interesting plots. See many more examples in the [Bokeh Documentation Gallery](https://bokeh.pydata.org/en/latest/docs/gallery.html). **"
   ]
  },
  {
   "cell_type": "markdown",
   "metadata": {},
   "source": [
    "## Linked Brushing\n",
    "\n",
    "To link plots together at a data level, we can explicitly wrap the data in a `ColumnDataSource`. This allows us to reference columns by name.\n",
    "\n",
    "We can use a \"select\" tool to select points on one plot, and the linked points on the other plots will highlight."
   ]
  },
  {
   "cell_type": "code",
   "execution_count": 7,
   "metadata": {},
   "outputs": [
    {
     "data": {
      "text/html": [
       "\n",
       "\n",
       "\n",
       "\n",
       "\n",
       "\n",
       "  <div class=\"bk-root\" id=\"8b1de935-0c0c-4447-baf0-0ee17191578b\"></div>\n"
      ]
     },
     "metadata": {},
     "output_type": "display_data"
    },
    {
     "data": {
      "application/javascript": [
       "(function(root) {\n",
       "  function embed_document(root) {\n",
       "    \n",
       "  var docs_json = {\"59478698-81fd-4e39-9a76-ab661b9ded50\":{\"roots\":{\"references\":[{\"attributes\":{\"fill_alpha\":{\"value\":0.5},\"fill_color\":{\"value\":\"lightgrey\"},\"level\":\"overlay\",\"line_alpha\":{\"value\":1.0},\"line_color\":{\"value\":\"black\"},\"line_dash\":[4,4],\"line_width\":{\"value\":2},\"plot\":null,\"xs_units\":\"screen\",\"ys_units\":\"screen\"},\"id\":\"f029c608-927b-4f32-99c6-d36a54763c4d\",\"type\":\"PolyAnnotation\"},{\"attributes\":{},\"id\":\"73864956-1d25-41d7-8835-59c1d5e14b5d\",\"type\":\"BasicTickFormatter\"},{\"attributes\":{\"bottom_units\":\"screen\",\"fill_alpha\":{\"value\":0.5},\"fill_color\":{\"value\":\"lightgrey\"},\"left_units\":\"screen\",\"level\":\"overlay\",\"line_alpha\":{\"value\":1.0},\"line_color\":{\"value\":\"black\"},\"line_dash\":[4,4],\"line_width\":{\"value\":2},\"plot\":null,\"render_mode\":\"css\",\"right_units\":\"screen\",\"top_units\":\"screen\"},\"id\":\"ae452703-916c-4842-b1d5-944cee1c4682\",\"type\":\"BoxAnnotation\"},{\"attributes\":{},\"id\":\"b5fc8fcb-06bf-470e-8919-9fc5beb72b02\",\"type\":\"PanTool\"},{\"attributes\":{\"data_source\":{\"id\":\"1afbe509-bd36-44fb-ba6d-7c1494766aff\",\"type\":\"ColumnDataSource\"},\"glyph\":{\"id\":\"6e2a5654-e8c1-43d2-9391-8a16675055dc\",\"type\":\"Circle\"},\"hover_glyph\":null,\"muted_glyph\":null,\"nonselection_glyph\":{\"id\":\"d32732c3-e735-4608-a668-07494bd10a94\",\"type\":\"Circle\"},\"selection_glyph\":null,\"view\":{\"id\":\"02942438-673a-4e69-bad6-0782152809a3\",\"type\":\"CDSView\"}},\"id\":\"3fdbc08e-0667-47b8-8f5b-6f9aadf057ed\",\"type\":\"GlyphRenderer\"},{\"attributes\":{\"children\":[{\"id\":\"9b5a571c-212b-4ae3-938e-d4a3c5631878\",\"subtype\":\"Figure\",\"type\":\"Plot\"},{\"id\":\"d2bec04d-e466-4a61-bf01-0923240618b0\",\"subtype\":\"Figure\",\"type\":\"Plot\"},{\"id\":\"c27d1f28-c8ca-445c-8aa1-20daec0f005b\",\"subtype\":\"Figure\",\"type\":\"Plot\"}]},\"id\":\"c02828b3-391f-459c-a057-242cf02f78ad\",\"type\":\"Row\"},{\"attributes\":{\"plot\":{\"id\":\"d2bec04d-e466-4a61-bf01-0923240618b0\",\"subtype\":\"Figure\",\"type\":\"Plot\"},\"ticker\":{\"id\":\"f4a58aa4-a7cf-429f-ac00-31e5d84c624f\",\"type\":\"BasicTicker\"}},\"id\":\"f52a1801-09da-4120-8fe2-cf6ac42e411d\",\"type\":\"Grid\"},{\"attributes\":{\"fill_alpha\":{\"value\":0.5},\"fill_color\":{\"value\":\"lightgrey\"},\"level\":\"overlay\",\"line_alpha\":{\"value\":1.0},\"line_color\":{\"value\":\"black\"},\"line_dash\":[4,4],\"line_width\":{\"value\":2},\"plot\":null,\"xs_units\":\"screen\",\"ys_units\":\"screen\"},\"id\":\"830d457e-5839-46d6-8034-fa4da598d142\",\"type\":\"PolyAnnotation\"},{\"attributes\":{},\"id\":\"ca574b0b-8985-441c-95c4-0e6310980a70\",\"type\":\"LinearScale\"},{\"attributes\":{\"fill_alpha\":{\"value\":0.1},\"fill_color\":{\"value\":\"#1f77b4\"},\"line_alpha\":{\"value\":0.1},\"line_color\":{\"value\":\"#1f77b4\"},\"size\":{\"field\":\"cyl\",\"units\":\"screen\"},\"x\":{\"field\":\"mpg\"},\"y\":{\"field\":\"displ\"}},\"id\":\"96513e51-dc56-4496-b76f-9b61be4b2949\",\"type\":\"Circle\"},{\"attributes\":{\"callback\":null,\"overlay\":{\"id\":\"ae452703-916c-4842-b1d5-944cee1c4682\",\"type\":\"BoxAnnotation\"}},\"id\":\"4007b35f-2a1c-49e3-9bbf-770301fb0986\",\"type\":\"BoxSelectTool\"},{\"attributes\":{},\"id\":\"2a47a76d-0678-445a-9aa5-7dd23da42259\",\"type\":\"LinearScale\"},{\"attributes\":{\"fill_alpha\":{\"value\":0.1},\"fill_color\":{\"value\":\"#1f77b4\"},\"line_alpha\":{\"value\":0.1},\"line_color\":{\"value\":\"#1f77b4\"},\"x\":{\"field\":\"hp\"},\"y\":{\"field\":\"displ\"}},\"id\":\"d32732c3-e735-4608-a668-07494bd10a94\",\"type\":\"Circle\"},{\"attributes\":{},\"id\":\"3e9605f7-ac32-4481-8162-542eef0dd5f5\",\"type\":\"BasicTickFormatter\"},{\"attributes\":{},\"id\":\"23f6b497-70bc-4eba-8062-0d5fa119958c\",\"type\":\"Selection\"},{\"attributes\":{\"bottom_units\":\"screen\",\"fill_alpha\":{\"value\":0.5},\"fill_color\":{\"value\":\"lightgrey\"},\"left_units\":\"screen\",\"level\":\"overlay\",\"line_alpha\":{\"value\":1.0},\"line_color\":{\"value\":\"black\"},\"line_dash\":[4,4],\"line_width\":{\"value\":2},\"plot\":null,\"render_mode\":\"css\",\"right_units\":\"screen\",\"top_units\":\"screen\"},\"id\":\"ff69cafd-49d8-4d09-b959-559b217f0ef8\",\"type\":\"BoxAnnotation\"},{\"attributes\":{\"plot\":null,\"text\":\"MPG by Year\"},\"id\":\"6e0afca8-dfb3-4bb7-85f3-df891f7d3e85\",\"type\":\"Title\"},{\"attributes\":{\"bottom_units\":\"screen\",\"fill_alpha\":{\"value\":0.5},\"fill_color\":{\"value\":\"lightgrey\"},\"left_units\":\"screen\",\"level\":\"overlay\",\"line_alpha\":{\"value\":1.0},\"line_color\":{\"value\":\"black\"},\"line_dash\":[4,4],\"line_width\":{\"value\":2},\"plot\":null,\"render_mode\":\"css\",\"right_units\":\"screen\",\"top_units\":\"screen\"},\"id\":\"cc8af7a0-eec7-478d-8691-b859cdaba58c\",\"type\":\"BoxAnnotation\"},{\"attributes\":{},\"id\":\"a70b1ec2-3884-4da9-a1d4-cc482c454d68\",\"type\":\"BasicTickFormatter\"},{\"attributes\":{\"fill_color\":{\"value\":\"green\"},\"line_color\":{\"value\":\"green\"},\"x\":{\"field\":\"hp\"},\"y\":{\"field\":\"displ\"}},\"id\":\"6e2a5654-e8c1-43d2-9391-8a16675055dc\",\"type\":\"Circle\"},{\"attributes\":{\"plot\":{\"id\":\"c27d1f28-c8ca-445c-8aa1-20daec0f005b\",\"subtype\":\"Figure\",\"type\":\"Plot\"},\"ticker\":{\"id\":\"a7eaf1d5-04ca-4435-9cd9-6b69cda189f5\",\"type\":\"BasicTicker\"}},\"id\":\"51fcbf4c-3f87-4f0c-b942-578225c7a059\",\"type\":\"Grid\"},{\"attributes\":{\"children\":[{\"id\":\"c02828b3-391f-459c-a057-242cf02f78ad\",\"type\":\"Row\"}]},\"id\":\"d7e9dd20-036d-4062-866e-051eed1837c5\",\"type\":\"Column\"},{\"attributes\":{\"bottom_units\":\"screen\",\"fill_alpha\":{\"value\":0.5},\"fill_color\":{\"value\":\"lightgrey\"},\"left_units\":\"screen\",\"level\":\"overlay\",\"line_alpha\":{\"value\":1.0},\"line_color\":{\"value\":\"black\"},\"line_dash\":[4,4],\"line_width\":{\"value\":2},\"plot\":null,\"render_mode\":\"css\",\"right_units\":\"screen\",\"top_units\":\"screen\"},\"id\":\"166b335f-1796-4719-ad10-c3a28e41b179\",\"type\":\"BoxAnnotation\"},{\"attributes\":{\"callback\":null},\"id\":\"0bbacceb-fbc0-4943-a528-d0b281d7ea4b\",\"type\":\"DataRange1d\"},{\"attributes\":{},\"id\":\"a7eaf1d5-04ca-4435-9cd9-6b69cda189f5\",\"type\":\"BasicTicker\"},{\"attributes\":{\"callback\":null,\"data\":{\"accel\":{\"__ndarray__\":\"AAAAAAAAKEAAAAAAAAAnQAAAAAAAACZAAAAAAAAAKEAAAAAAAAAlQAAAAAAAACRAAAAAAAAAIkAAAAAAAAAhQAAAAAAAACRAAAAAAAAAIUAAAAAAAAAkQAAAAAAAACBAAAAAAAAAI0AAAAAAAAAkQAAAAAAAAC5AAAAAAAAAL0AAAAAAAAAvQAAAAAAAADBAAAAAAAAALUAAAAAAAIA0QAAAAAAAgDFAAAAAAAAALUAAAAAAAIAxQAAAAAAAAClAAAAAAAAALkAAAAAAAAAsQAAAAAAAAC5AAAAAAAAAK0AAAAAAAIAyQAAAAAAAAC1AAAAAAAAAL0AAAAAAAAAsQAAAAAAAACpAAAAAAAAAL0AAAAAAAAAvQAAAAAAAAC9AAAAAAAAAL0AAAAAAAAAoQAAAAAAAACdAAAAAAAAAK0AAAAAAAAAqQAAAAAAAACdAAAAAAAAAKEAAAAAAAAAoQAAAAAAAACtAAAAAAAAAM0AAAAAAAAAuQAAAAAAAAC1AAAAAAAAALEAAAAAAAAAsQAAAAAAAgDNAAAAAAAAALUAAAAAAAAAzQAAAAAAAADJAAAAAAAAAM0AAAAAAAIA0QAAAAAAAAC9AAAAAAAAAMUAAAAAAAIA3QAAAAAAAgDNAAAAAAACAMEAAAAAAAAAoQAAAAAAAAChAAAAAAAAAK0AAAAAAAAAqQAAAAAAAACdAAAAAAAAAJkAAAAAAAAArQAAAAAAAACtAAAAAAAAAKUAAAAAAAAArQAAAAAAAAClAAAAAAAAALEAAAAAAAAAwQAAAAAAAACxAAAAAAAAALUAAAAAAAAAyQAAAAAAAgDNAAAAAAAAAMkAAAAAAAAAwQAAAAAAAADFAAAAAAAAALUAAAAAAAAAuQAAAAAAAgDBAAAAAAAAAKkAAAAAAAAAnQAAAAAAAACpAAAAAAAAALUAAAAAAAAApQAAAAAAAACdAAAAAAAAAKEAAAAAAAAAqQAAAAAAAAC1AAAAAAAAAJkAAAAAAAAAmQAAAAAAAACZAAAAAAACAMEAAAAAAAAAyQAAAAAAAADBAAAAAAACAMEAAAAAAAAAwQAAAAAAAADVAAAAAAAAALEAAAAAAAAApQAAAAAAAACpAAAAAAAAAKUAAAAAAAAAuQAAAAAAAADNAAAAAAACAM0AAAAAAAIAwQAAAAAAAACtAAAAAAACAMkAAAAAAAAAsQAAAAAAAAC9AAAAAAAAAKkAAAAAAAAAjQAAAAAAAgDNAAAAAAAAAL0AAAAAAAAAsQAAAAAAAAC9AAAAAAAAAJkAAAAAAAAAsQAAAAAAAACtAAAAAAAAAJkAAAAAAAIAwQAAAAAAAADBAAAAAAAAAMUAAAAAAAAAzQAAAAAAAgDBAAAAAAAAANUAAAAAAAAAxQAAAAAAAADFAAAAAAAAAMkAAAAAAAIAwQAAAAAAAACxAAAAAAAAALUAAAAAAAAArQAAAAAAAADBAAAAAAAAAL0AAAAAAAIAwQAAAAAAAAC9AAAAAAAAALUAAAAAAAIAwQAAAAAAAADNAAAAAAAAALUAAAAAAAAAvQAAAAAAAACxAAAAAAAAALkAAAAAAAAAvQAAAAAAAADBAAAAAAAAAMEAAAAAAAAAwQAAAAAAAADVAAAAAAACAM0AAAAAAAAAnQAAAAAAAACxAAAAAAAAALUAAAAAAAAArQAAAAAAAADVAAAAAAACAMkAAAAAAAAAzQAAAAAAAADNAAAAAAAAALkAAAAAAAAArQAAAAAAAAChAAAAAAAAAMEAAAAAAAAAxQAAAAAAAADBAAAAAAACAMkAAAAAAAAArQAAAAAAAgDBAAAAAAAAAMUAAAAAAAAAtQAAAAAAAACxAAAAAAAAAMUAAAAAAAAAuQAAAAAAAADFAAAAAAAAALUAAAAAAAAArQAAAAAAAgDFAAAAAAAAAL0BmZmZmZuYwQM3MzMzMzC1AMzMzMzOzMUCamZmZmZkuQAAAAAAAACpAAAAAAAAAKkDNzMzMzMwrQJqZmZmZmSlAzczMzMzMLkAAAAAAAAAtQJqZmZmZmTFAmpmZmZmZMUAzMzMzMzM2QJqZmZmZGTZAZmZmZmZmLEBmZmZmZmYxQDMzMzMzszFAAAAAAAAANUAzMzMzMzMwQM3MzMzMzDFAZmZmZmZmKEAAAAAAAAAxQGZmZmZmZjBAMzMzMzMzK0BmZmZmZmYvQGZmZmZmZipAZmZmZmbmNUAAAAAAAAAvQDMzMzMzszBAMzMzMzMzKEAAAAAAAAAoQAAAAAAAAC5AAAAAAAAALEAAAAAAAIAyQJqZmZmZmS1AmpmZmZmZMkAAAAAAAAAvQM3MzMzMzDBAAAAAAAAAKUAAAAAAAAAzQGZmZmZmZitAzczMzMzMLUBmZmZmZmYwQGZmZmZm5jBAMzMzMzOzMUAAAAAAAAAzQDMzMzMzMyZAzczMzMzMJkBmZmZmZmYoQAAAAAAAAC1AAAAAAAAALUAAAAAAAAAwQDMzMzMzMzJAmpmZmZmZL0AAAAAAAAAxQM3MzMzMzC9AZmZmZmZmMEAzMzMzMzMsQAAAAAAAAC1AmpmZmZmZKUAAAAAAAAArQAAAAAAAgDVAzczMzMzMLEBmZmZmZmYzQJqZmZmZmTJAZmZmZmZmMEAAAAAAAAAvQGZmZmZmZipAmpmZmZmZKUAzMzMzMzMzQDMzMzMzMzJAmpmZmZmZL0DNzMzMzMwuQDMzMzMzMzFAMzMzMzMzMUCamZmZmZkvQDMzMzMzszBAMzMzMzOzMkAzMzMzMzMuQGZmZmZmZipAzczMzMzMKkBmZmZmZmYmQGZmZmZmZitAAAAAAACAMEBmZmZmZmYsQGZmZmZmZi1AAAAAAAAALUCamZmZmZktQDMzMzMzszBAmpmZmZmZMUDNzMzMzMwtQM3MzMzMzC9AMzMzMzMzK0BmZmZmZmYvQJqZmZmZmS9AzczMzMzMLUCamZmZmZkwQM3MzMzMzC5AMzMzMzMzMkDNzMzMzEwxQDMzMzMzMzJAmpmZmZmZMEDNzMzMzMwuQM3MzMzMzCpAZmZmZmZmKkBmZmZmZmYuQM3MzMzMzC1AmpmZmZmZLEAAAAAAAAAuQAAAAAAAACpAAAAAAAAALEBmZmZmZmYuQM3MzMzMzCxAAAAAAAAALkCamZmZmRk0QGZmZmZmZjFAzczMzMzMOEAzMzMzMzM2QGZmZmZmZipAzczMzMzMLUAzMzMzMzMzQGZmZmZmZi1AAAAAAAAAMECamZmZmZkmQM3MzMzMzClAZmZmZmZmKkBmZmZmZmYtQM3MzMzMzDJAAAAAAAAAL0BmZmZmZmYwQAAAAAAAgDBAmpmZmZkZMkCamZmZmRk0QDMzMzMzszJAmpmZmZmZL0AAAAAAAAAvQAAAAAAAgDFAAAAAAAAALkBmZmZmZmYuQGZmZmZm5jFAzczMzMzMLEAzMzMzMzMzQDMzMzMzszVAMzMzMzOzN0BmZmZmZuYzQM3MzMzMzDVAmpmZmZmZK0AAAAAAAAAyQJqZmZmZmS5AzczMzMzMJkAAAAAAAAApQDMzMzMzMy5AAAAAAAAAMUBmZmZmZmYvQGZmZmZmZjBAzczMzMzMLEAzMzMzMzMpQM3MzMzMzClAZmZmZmbmMEBmZmZmZmYwQJqZmZmZGTBAzczMzMzMMUBmZmZmZmYzQM3MzMzMTDFAAAAAAAAAMEDNzMzMzMwtQDMzMzMzMzBAMzMzMzOzNEBmZmZmZmYsQM3MzMzMzCxAzczMzMzMMECamZmZmZktQM3MzMzMTDJAZmZmZmZmNECamZmZmZkzQDMzMzMzMylAmpmZmZmZK0CamZmZmZkvQAAAAAAAADNAmpmZmZkZMUCamZmZmZkwQJqZmZmZmTNAmpmZmZmZMkAAAAAAAAAyQDMzMzMzMzBAAAAAAAAAMEAAAAAAAAAyQGZmZmZmZjBAmpmZmZmZLkAzMzMzMzMyQJqZmZmZmTFAZmZmZmZmLUDNzMzMzEwxQAAAAAAAAC1AAAAAAAAALUBmZmZmZuYwQAAAAAAAAC5AZmZmZmZmL0AzMzMzMzMwQGZmZmZmZjBAAAAAAAAAMUAAAAAAAAAtQGZmZmZmZi1AzczMzMzMK0AAAAAAAAAqQM3MzMzMTDFAMzMzMzMzL0CamZmZmZk4QDMzMzMzMydAmpmZmZmZMkBmZmZmZmYzQA==\",\"dtype\":\"float64\",\"shape\":[392]},\"cyl\":[8,8,8,8,8,8,8,8,8,8,8,8,8,8,4,6,6,6,4,4,4,4,4,4,6,8,8,8,8,4,4,4,6,6,6,6,6,8,8,8,8,8,8,8,6,4,6,6,4,4,4,4,4,4,4,4,4,4,4,4,4,8,8,8,8,8,8,8,8,8,3,8,8,8,8,4,4,4,4,4,4,4,4,4,8,8,8,8,8,8,8,8,8,8,8,8,6,6,6,6,6,4,8,8,8,8,6,4,4,4,3,4,6,4,8,8,4,4,4,4,8,4,6,8,6,6,6,4,4,4,4,6,6,6,8,8,8,8,8,4,4,4,4,4,4,4,4,4,4,4,6,6,6,6,8,8,8,8,6,6,6,6,6,8,8,4,4,6,4,4,4,4,6,4,6,4,4,4,4,4,4,4,4,4,4,8,8,8,8,6,6,6,6,4,4,4,4,6,6,6,6,4,4,4,4,4,8,4,6,6,8,8,8,8,4,4,4,4,4,8,8,8,8,6,6,6,6,8,8,8,8,4,4,4,4,4,4,4,4,6,4,3,4,4,4,4,4,8,8,8,6,6,6,4,6,6,6,6,6,6,8,6,8,8,4,4,4,4,4,4,4,4,5,6,4,6,4,4,6,6,4,6,6,8,8,8,8,8,8,8,8,4,4,4,4,5,8,4,8,4,4,4,4,4,6,6,4,4,4,4,4,4,4,4,6,4,4,4,4,4,4,4,4,4,4,5,4,4,4,4,6,3,4,4,4,4,4,6,4,4,4,4,4,4,4,4,4,4,4,4,4,4,4,4,4,6,6,6,6,8,6,6,4,4,4,4,4,4,4,4,4,4,4,4,4,4,4,4,4,4,6,6,4,6,4,4,4,4,4,4,4,4],\"displ\":{\"__ndarray__\":\"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\",\"dtype\":\"float64\",\"shape\":[392]},\"hp\":[130,165,150,150,140,198,220,215,225,190,170,160,150,225,95,95,97,85,88,46,87,90,95,113,90,215,200,210,193,88,90,95,100,105,100,88,100,165,175,153,150,180,170,175,110,72,100,88,86,90,70,76,65,69,60,70,95,80,54,90,86,165,175,150,153,150,208,155,160,190,97,150,130,140,150,112,76,87,69,86,92,97,80,88,175,150,145,137,150,198,150,158,150,215,225,175,105,100,100,88,95,46,150,167,170,180,100,88,72,94,90,85,107,90,145,230,49,75,91,112,150,110,122,180,95,100,100,67,80,65,75,100,110,105,140,150,150,140,150,83,67,78,52,61,75,75,75,97,93,67,95,105,72,72,170,145,150,148,110,105,110,95,110,110,129,75,83,100,78,96,71,97,97,70,90,95,88,98,115,53,86,81,92,79,83,140,150,120,152,100,105,81,90,52,60,70,53,100,78,110,95,71,70,75,72,102,150,88,108,120,180,145,130,150,68,80,58,96,70,145,110,145,130,110,105,100,98,180,170,190,149,78,88,75,89,63,83,67,78,97,110,110,48,66,52,70,60,110,140,139,105,95,85,88,100,90,105,85,110,120,145,165,139,140,68,95,97,75,95,105,85,97,103,125,115,133,71,68,115,85,88,90,110,130,129,138,135,155,142,125,150,71,65,80,80,77,125,71,90,70,70,65,69,90,115,115,90,76,60,70,65,90,88,90,90,78,90,75,92,75,65,105,65,48,48,67,67,67,67,62,132,100,88,72,84,84,92,110,84,58,64,60,67,65,62,68,63,65,65,74,75,75,100,74,80,76,116,120,110,105,88,85,88,88,88,85,84,90,92,74,68,68,63,70,88,75,70,67,67,67,110,85,92,112,96,84,90,86,52,84,79,82],\"index\":[0,1,2,3,4,5,6,7,8,9,10,11,12,13,14,15,16,17,18,19,20,21,22,23,24,25,26,27,28,29,30,31,32,33,34,35,36,37,38,39,40,41,42,43,44,45,46,47,48,49,50,51,52,53,54,55,56,57,58,59,60,61,62,63,64,65,66,67,68,69,70,71,72,73,74,75,76,77,78,79,80,81,82,83,84,85,86,87,88,89,90,91,92,93,94,95,96,97,98,99,100,101,102,103,104,105,106,107,108,109,110,111,112,113,114,115,116,117,118,119,120,121,122,123,124,125,126,127,128,129,130,131,132,133,134,135,136,137,138,139,140,141,142,143,144,145,146,147,148,149,150,151,152,153,154,155,156,157,158,159,160,161,162,163,164,165,166,167,168,169,170,171,172,173,174,175,176,177,178,179,180,181,182,183,184,185,186,187,188,189,190,191,192,193,194,195,196,197,198,199,200,201,202,203,204,205,206,207,208,209,210,211,212,213,214,215,216,217,218,219,220,221,222,223,224,225,226,227,228,229,230,231,232,233,234,235,236,237,238,239,240,241,242,243,244,245,246,247,248,249,250,251,252,253,254,255,256,257,258,259,260,261,262,263,264,265,266,267,268,269,270,271,272,273,274,275,276,277,278,279,280,281,282,283,284,285,286,287,288,289,290,291,292,293,294,295,296,297,298,299,300,301,302,303,304,305,306,307,308,309,310,311,312,313,314,315,316,317,318,319,320,321,322,323,324,325,326,327,328,329,330,331,332,333,334,335,336,337,338,339,340,341,342,343,344,345,346,347,348,349,350,351,352,353,354,355,356,357,358,359,360,361,362,363,364,365,366,367,368,369,370,371,372,373,374,375,376,377,378,379,380,381,382,383,384,385,386,387,388,389,390,391],\"mpg\":{\"__ndarray__\":\"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\",\"dtype\":\"float64\",\"shape\":[392]},\"name\":[\"chevrolet chevelle malibu\",\"buick skylark 320\",\"plymouth satellite\",\"amc rebel sst\",\"ford torino\",\"ford galaxie 500\",\"chevrolet impala\",\"plymouth fury iii\",\"pontiac catalina\",\"amc ambassador dpl\",\"dodge challenger se\",\"plymouth 'cuda 340\",\"chevrolet monte carlo\",\"buick estate wagon (sw)\",\"toyota corona mark ii\",\"plymouth duster\",\"amc hornet\",\"ford maverick\",\"datsun pl510\",\"volkswagen 1131 deluxe sedan\",\"peugeot 504\",\"audi 100 ls\",\"saab 99e\",\"bmw 2002\",\"amc gremlin\",\"ford f250\",\"chevy c20\",\"dodge d200\",\"hi 1200d\",\"datsun pl510\",\"chevrolet vega 2300\",\"toyota corona\",\"amc gremlin\",\"plymouth satellite custom\",\"chevrolet chevelle malibu\",\"ford torino 500\",\"amc matador\",\"chevrolet impala\",\"pontiac catalina brougham\",\"ford galaxie 500\",\"plymouth fury iii\",\"dodge monaco (sw)\",\"ford country squire (sw)\",\"pontiac safari (sw)\",\"amc hornet sportabout (sw)\",\"chevrolet vega (sw)\",\"pontiac firebird\",\"ford mustang\",\"mercury capri 2000\",\"opel 1900\",\"peugeot 304\",\"fiat 124b\",\"toyota corolla 1200\",\"datsun 1200\",\"volkswagen model 111\",\"plymouth cricket\",\"toyota corona hardtop\",\"dodge colt hardtop\",\"volkswagen type 3\",\"chevrolet vega\",\"ford pinto runabout\",\"chevrolet impala\",\"pontiac catalina\",\"plymouth fury iii\",\"ford galaxie 500\",\"amc ambassador sst\",\"mercury marquis\",\"buick lesabre custom\",\"oldsmobile delta 88 royale\",\"chrysler newport royal\",\"mazda rx2 coupe\",\"amc matador (sw)\",\"chevrolet chevelle concours (sw)\",\"ford gran torino (sw)\",\"plymouth satellite custom (sw)\",\"volvo 145e (sw)\",\"volkswagen 411 (sw)\",\"peugeot 504 (sw)\",\"renault 12 (sw)\",\"ford pinto (sw)\",\"datsun 510 (sw)\",\"toyouta corona mark ii (sw)\",\"dodge colt (sw)\",\"toyota corolla 1600 (sw)\",\"buick century 350\",\"amc matador\",\"chevrolet malibu\",\"ford gran torino\",\"dodge coronet custom\",\"mercury marquis brougham\",\"chevrolet caprice classic\",\"ford ltd\",\"plymouth fury gran sedan\",\"chrysler new yorker brougham\",\"buick electra 225 custom\",\"amc ambassador brougham\",\"plymouth valiant\",\"chevrolet nova custom\",\"amc hornet\",\"ford maverick\",\"plymouth duster\",\"volkswagen super beetle\",\"chevrolet impala\",\"ford country\",\"plymouth custom suburb\",\"oldsmobile vista cruiser\",\"amc gremlin\",\"toyota carina\",\"chevrolet vega\",\"datsun 610\",\"maxda rx3\",\"ford pinto\",\"mercury capri v6\",\"fiat 124 sport coupe\",\"chevrolet monte carlo s\",\"pontiac grand prix\",\"fiat 128\",\"opel manta\",\"audi 100ls\",\"volvo 144ea\",\"dodge dart custom\",\"saab 99le\",\"toyota mark ii\",\"oldsmobile omega\",\"plymouth duster\",\"amc hornet\",\"chevrolet nova\",\"datsun b210\",\"ford pinto\",\"toyota corolla 1200\",\"chevrolet vega\",\"chevrolet chevelle malibu classic\",\"amc matador\",\"plymouth satellite sebring\",\"ford gran torino\",\"buick century luxus (sw)\",\"dodge coronet custom (sw)\",\"ford gran torino (sw)\",\"amc matador (sw)\",\"audi fox\",\"volkswagen dasher\",\"opel manta\",\"toyota corona\",\"datsun 710\",\"dodge colt\",\"fiat 128\",\"fiat 124 tc\",\"honda civic\",\"subaru\",\"fiat x1.9\",\"plymouth valiant custom\",\"chevrolet nova\",\"mercury monarch\",\"ford maverick\",\"pontiac catalina\",\"chevrolet bel air\",\"plymouth grand fury\",\"ford ltd\",\"buick century\",\"chevroelt chevelle malibu\",\"amc matador\",\"plymouth fury\",\"buick skyhawk\",\"chevrolet monza 2+2\",\"ford mustang ii\",\"toyota corolla\",\"ford pinto\",\"amc gremlin\",\"pontiac astro\",\"toyota corona\",\"volkswagen dasher\",\"datsun 710\",\"ford pinto\",\"volkswagen rabbit\",\"amc pacer\",\"audi 100ls\",\"peugeot 504\",\"volvo 244dl\",\"saab 99le\",\"honda civic cvcc\",\"fiat 131\",\"opel 1900\",\"capri ii\",\"dodge colt\",\"renault 12tl\",\"chevrolet chevelle malibu classic\",\"dodge coronet brougham\",\"amc matador\",\"ford gran torino\",\"plymouth valiant\",\"chevrolet nova\",\"ford maverick\",\"amc hornet\",\"chevrolet chevette\",\"chevrolet woody\",\"vw rabbit\",\"honda civic\",\"dodge aspen se\",\"ford granada ghia\",\"pontiac ventura sj\",\"amc pacer d/l\",\"volkswagen rabbit\",\"datsun b-210\",\"toyota corolla\",\"ford pinto\",\"volvo 245\",\"plymouth volare premier v8\",\"peugeot 504\",\"toyota mark ii\",\"mercedes-benz 280s\",\"cadillac seville\",\"chevy c10\",\"ford f108\",\"dodge d100\",\"honda accord cvcc\",\"buick opel isuzu deluxe\",\"renault 5 gtl\",\"plymouth arrow gs\",\"datsun f-10 hatchback\",\"chevrolet caprice classic\",\"oldsmobile cutlass supreme\",\"dodge monaco brougham\",\"mercury cougar brougham\",\"chevrolet concours\",\"buick skylark\",\"plymouth volare custom\",\"ford granada\",\"pontiac grand prix lj\",\"chevrolet monte carlo landau\",\"chrysler cordoba\",\"ford thunderbird\",\"volkswagen rabbit custom\",\"pontiac sunbird coupe\",\"toyota corolla liftback\",\"ford mustang ii 2+2\",\"chevrolet chevette\",\"dodge colt m/m\",\"subaru dl\",\"volkswagen dasher\",\"datsun 810\",\"bmw 320i\",\"mazda rx-4\",\"volkswagen rabbit custom diesel\",\"ford fiesta\",\"mazda glc deluxe\",\"datsun b210 gx\",\"honda civic cvcc\",\"oldsmobile cutlass salon brougham\",\"dodge diplomat\",\"mercury monarch ghia\",\"pontiac phoenix lj\",\"chevrolet malibu\",\"ford fairmont (auto)\",\"ford fairmont (man)\",\"plymouth volare\",\"amc concord\",\"buick century special\",\"mercury zephyr\",\"dodge aspen\",\"amc concord d/l\",\"chevrolet monte carlo landau\",\"buick regal sport coupe (turbo)\",\"ford futura\",\"dodge magnum xe\",\"chevrolet chevette\",\"toyota corona\",\"datsun 510\",\"dodge omni\",\"toyota celica gt liftback\",\"plymouth sapporo\",\"oldsmobile starfire sx\",\"datsun 200-sx\",\"audi 5000\",\"volvo 264gl\",\"saab 99gle\",\"peugeot 604sl\",\"volkswagen scirocco\",\"honda accord lx\",\"pontiac lemans v6\",\"mercury zephyr 6\",\"ford fairmont 4\",\"amc concord dl 6\",\"dodge aspen 6\",\"chevrolet caprice classic\",\"ford ltd landau\",\"mercury grand marquis\",\"dodge st. regis\",\"buick estate wagon (sw)\",\"ford country squire (sw)\",\"chevrolet malibu classic (sw)\",\"chrysler lebaron town @ country (sw)\",\"vw rabbit custom\",\"maxda glc deluxe\",\"dodge colt hatchback custom\",\"amc spirit dl\",\"mercedes benz 300d\",\"cadillac eldorado\",\"peugeot 504\",\"oldsmobile cutlass salon brougham\",\"plymouth horizon\",\"plymouth horizon tc3\",\"datsun 210\",\"fiat strada custom\",\"buick skylark limited\",\"chevrolet citation\",\"oldsmobile omega brougham\",\"pontiac phoenix\",\"vw rabbit\",\"toyota corolla tercel\",\"chevrolet chevette\",\"datsun 310\",\"chevrolet citation\",\"ford fairmont\",\"amc concord\",\"dodge aspen\",\"audi 4000\",\"toyota corona liftback\",\"mazda 626\",\"datsun 510 hatchback\",\"toyota corolla\",\"mazda glc\",\"dodge colt\",\"datsun 210\",\"vw rabbit c (diesel)\",\"vw dasher (diesel)\",\"audi 5000s (diesel)\",\"mercedes-benz 240d\",\"honda civic 1500 gl\",\"subaru dl\",\"vokswagen rabbit\",\"datsun 280-zx\",\"mazda rx-7 gs\",\"triumph tr7 coupe\",\"honda accord\",\"plymouth reliant\",\"buick skylark\",\"dodge aries wagon (sw)\",\"chevrolet citation\",\"plymouth reliant\",\"toyota starlet\",\"plymouth champ\",\"honda civic 1300\",\"subaru\",\"datsun 210 mpg\",\"toyota tercel\",\"mazda glc 4\",\"plymouth horizon 4\",\"ford escort 4w\",\"ford escort 2h\",\"volkswagen jetta\",\"honda prelude\",\"toyota corolla\",\"datsun 200sx\",\"mazda 626\",\"peugeot 505s turbo diesel\",\"volvo diesel\",\"toyota cressida\",\"datsun 810 maxima\",\"buick century\",\"oldsmobile cutlass ls\",\"ford granada gl\",\"chrysler lebaron salon\",\"chevrolet cavalier\",\"chevrolet cavalier wagon\",\"chevrolet cavalier 2-door\",\"pontiac j2000 se hatchback\",\"dodge aries se\",\"pontiac phoenix\",\"ford fairmont futura\",\"volkswagen rabbit l\",\"mazda glc custom l\",\"mazda glc custom\",\"plymouth horizon miser\",\"mercury lynx l\",\"nissan stanza xe\",\"honda accord\",\"toyota corolla\",\"honda civic\",\"honda civic (auto)\",\"datsun 310 gx\",\"buick century limited\",\"oldsmobile cutlass ciera (diesel)\",\"chrysler lebaron medallion\",\"ford granada l\",\"toyota celica gt\",\"dodge charger 2.2\",\"chevrolet camaro\",\"ford mustang gl\",\"vw pickup\",\"dodge rampage\",\"ford ranger\",\"chevy s-10\"],\"origin\":[1,1,1,1,1,1,1,1,1,1,1,1,1,1,3,1,1,1,3,2,2,2,2,2,1,1,1,1,1,3,1,3,1,1,1,1,1,1,1,1,1,1,1,1,1,1,1,1,1,2,2,2,3,3,2,1,3,1,2,1,1,1,1,1,1,1,1,1,1,1,3,1,1,1,1,2,2,2,2,1,3,3,1,3,1,1,1,1,1,1,1,1,1,1,1,1,1,1,1,1,1,2,1,1,1,1,1,3,1,3,3,1,1,2,1,1,2,2,2,2,1,2,3,1,1,1,1,3,1,3,1,1,1,1,1,1,1,1,1,2,2,2,3,3,1,2,2,3,3,2,1,1,1,1,1,1,1,1,1,1,1,1,1,1,1,3,1,1,1,3,2,3,1,2,1,2,2,2,2,3,2,2,1,1,2,1,1,1,1,1,1,1,1,1,1,2,3,1,1,1,1,2,3,3,1,2,1,2,3,2,1,1,1,1,3,1,2,1,3,1,1,1,1,1,1,1,1,1,1,1,1,2,1,3,1,1,1,3,2,3,2,3,2,1,3,3,3,1,1,1,1,1,1,1,1,1,1,1,1,1,1,1,1,1,1,3,3,1,3,1,1,3,2,2,2,2,2,3,1,1,1,1,1,1,1,1,1,1,1,1,1,2,3,1,1,2,1,2,1,1,1,3,2,1,1,1,1,2,3,1,3,1,1,1,1,2,3,3,3,3,3,1,3,2,2,2,2,3,3,2,3,3,2,3,1,1,1,1,1,3,1,3,3,3,3,3,1,1,1,2,3,3,3,3,2,2,3,3,1,1,1,1,1,1,1,1,1,1,1,2,3,3,1,1,3,3,3,3,3,3,1,1,1,1,3,1,1,1,2,1,1,1],\"weight\":[3504,3693,3436,3433,3449,4341,4354,4312,4425,3850,3563,3609,3761,3086,2372,2833,2774,2587,2130,1835,2672,2430,2375,2234,2648,4615,4376,4382,4732,2130,2264,2228,2634,3439,3329,3302,3288,4209,4464,4154,4096,4955,4746,5140,2962,2408,3282,3139,2220,2123,2074,2065,1773,1613,1834,1955,2278,2126,2254,2408,2226,4274,4385,4135,4129,3672,4633,4502,4456,4422,2330,3892,4098,4294,4077,2933,2511,2979,2189,2395,2288,2506,2164,2100,4100,3672,3988,4042,3777,4952,4464,4363,4237,4735,4951,3821,3121,3278,2945,3021,2904,1950,4997,4906,4654,4499,2789,2279,2401,2379,2124,2310,2472,2265,4082,4278,1867,2158,2582,2868,3399,2660,2807,3664,3102,2901,3336,1950,2451,1836,2542,3781,3632,3613,4141,4699,4457,4638,4257,2219,1963,2300,1649,2003,2125,2108,2246,2489,2391,2000,3264,3459,3432,3158,4668,4440,4498,4657,3907,3897,3730,3785,3039,3221,3169,2171,2639,2914,2592,2702,2223,2545,2984,1937,3211,2694,2957,2945,2671,1795,2464,2220,2572,2255,2202,4215,4190,3962,4215,3233,3353,3012,3085,2035,2164,1937,1795,3651,3574,3645,3193,1825,1990,2155,2565,3150,3940,3270,2930,3820,4380,4055,3870,3755,2045,2155,1825,2300,1945,3880,4060,4140,4295,3520,3425,3630,3525,4220,4165,4325,4335,1940,2740,2265,2755,2051,2075,1985,2190,2815,2600,2720,1985,1800,1985,2070,1800,3365,3735,3570,3535,3155,2965,2720,3430,3210,3380,3070,3620,3410,3425,3445,3205,4080,2155,2560,2300,2230,2515,2745,2855,2405,2830,3140,2795,3410,1990,2135,3245,2990,2890,3265,3360,3840,3725,3955,3830,4360,4054,3605,3940,1925,1975,1915,2670,3530,3900,3190,3420,2200,2150,2020,2130,2670,2595,2700,2556,2144,1968,2120,2019,2678,2870,3003,3381,2188,2711,2542,2434,2265,2110,2800,2110,2085,2335,2950,3250,1850,2145,1845,2910,2420,2500,2290,2490,2635,2620,2725,2385,1755,1875,1760,2065,1975,2050,1985,2215,2045,2380,2190,2210,2350,2615,2635,3230,3160,2900,2930,3415,3725,3060,3465,2605,2640,2395,2575,2525,2735,2865,1980,2025,1970,2125,2125,2160,2205,2245,1965,1965,1995,2945,3015,2585,2835,2665,2370,2950,2790,2130,2295,2625,2720],\"yr\":[70,70,70,70,70,70,70,70,70,70,70,70,70,70,70,70,70,70,70,70,70,70,70,70,70,70,70,70,70,71,71,71,71,71,71,71,71,71,71,71,71,71,71,71,71,71,71,71,71,71,71,71,71,71,71,71,72,72,72,72,72,72,72,72,72,72,72,72,72,72,72,72,72,72,72,72,72,72,72,72,72,72,72,72,73,73,73,73,73,73,73,73,73,73,73,73,73,73,73,73,73,73,73,73,73,73,73,73,73,73,73,73,73,73,73,73,73,73,73,73,73,73,73,73,74,74,74,74,74,74,74,74,74,74,74,74,74,74,74,74,74,74,74,74,74,74,74,74,74,74,75,75,75,75,75,75,75,75,75,75,75,75,75,75,75,75,75,75,75,75,75,75,75,75,75,75,75,75,75,75,76,76,76,76,76,76,76,76,76,76,76,76,76,76,76,76,76,76,76,76,76,76,76,76,76,76,76,76,76,76,76,76,76,76,77,77,77,77,77,77,77,77,77,77,77,77,77,77,77,77,77,77,77,77,77,77,77,77,77,77,77,77,78,78,78,78,78,78,78,78,78,78,78,78,78,78,78,78,78,78,78,78,78,78,78,78,78,78,78,78,78,78,78,78,78,78,78,78,79,79,79,79,79,79,79,79,79,79,79,79,79,79,79,79,79,79,79,79,79,79,79,79,79,79,79,79,79,80,80,80,80,80,80,80,80,80,80,80,80,80,80,80,80,80,80,80,80,80,80,80,80,80,80,80,81,81,81,81,81,81,81,81,81,81,81,81,81,81,81,81,81,81,81,81,81,81,81,81,81,81,81,81,82,82,82,82,82,82,82,82,82,82,82,82,82,82,82,82,82,82,82,82,82,82,82,82,82,82,82,82,82,82]},\"selected\":{\"id\":\"23f6b497-70bc-4eba-8062-0d5fa119958c\",\"type\":\"Selection\"},\"selection_policy\":{\"id\":\"4d32c39f-cf2c-4aed-a809-27ee3c18c677\",\"type\":\"UnionRenderers\"}},\"id\":\"1afbe509-bd36-44fb-ba6d-7c1494766aff\",\"type\":\"ColumnDataSource\"},{\"attributes\":{\"dimension\":1,\"plot\":{\"id\":\"9b5a571c-212b-4ae3-938e-d4a3c5631878\",\"subtype\":\"Figure\",\"type\":\"Plot\"},\"ticker\":{\"id\":\"cffe17fe-cb7f-4b4a-bd86-04bcdc83d47c\",\"type\":\"BasicTicker\"}},\"id\":\"88903a5a-8b2c-400f-8825-e88535427e1e\",\"type\":\"Grid\"},{\"attributes\":{},\"id\":\"5bbc9e1b-2a87-4695-b300-01bf326f46e5\",\"type\":\"WheelZoomTool\"},{\"attributes\":{\"overlay\":{\"id\":\"cc8af7a0-eec7-478d-8691-b859cdaba58c\",\"type\":\"BoxAnnotation\"}},\"id\":\"e6eaba29-e464-4b63-a750-efa0716a39de\",\"type\":\"BoxZoomTool\"},{\"attributes\":{\"fill_color\":{\"value\":null},\"line_color\":{\"value\":\"red\"},\"size\":{\"field\":\"cyl\",\"units\":\"screen\"},\"x\":{\"field\":\"mpg\"},\"y\":{\"field\":\"displ\"}},\"id\":\"da3a6b25-a5ea-42c8-b69c-af844d8bab8e\",\"type\":\"Circle\"},{\"attributes\":{\"callback\":null,\"overlay\":{\"id\":\"166b335f-1796-4719-ad10-c3a28e41b179\",\"type\":\"BoxAnnotation\"}},\"id\":\"5ba2d7f0-c91d-4385-b63a-1ea16fb564c4\",\"type\":\"BoxSelectTool\"},{\"attributes\":{\"callback\":null,\"overlay\":{\"id\":\"fe1b7d7e-59a8-4bf7-8c95-519a8dd719d9\",\"type\":\"PolyAnnotation\"}},\"id\":\"c28ad15f-b277-4a3d-a310-f2a99dea7773\",\"type\":\"LassoSelectTool\"},{\"attributes\":{\"data_source\":{\"id\":\"1afbe509-bd36-44fb-ba6d-7c1494766aff\",\"type\":\"ColumnDataSource\"},\"glyph\":{\"id\":\"ed163c4a-b24e-4c54-bf63-b2d0cba3e5d4\",\"type\":\"Circle\"},\"hover_glyph\":null,\"muted_glyph\":null,\"nonselection_glyph\":{\"id\":\"9085b52d-5b64-4a3f-b2b8-1d9b25a44980\",\"type\":\"Circle\"},\"selection_glyph\":null,\"view\":{\"id\":\"fc4afad6-5fad-442a-a851-88c27c17c967\",\"type\":\"CDSView\"}},\"id\":\"0d96d303-91e5-47d3-bbfc-05e4e36a29fb\",\"type\":\"GlyphRenderer\"},{\"attributes\":{},\"id\":\"a9431edd-ae90-42e7-a9a9-ac50c4ef615e\",\"type\":\"LinearScale\"},{\"attributes\":{\"plot\":null,\"text\":\"HP vs. Displacement\"},\"id\":\"6643c00f-c13a-404f-802a-6f5869a1b005\",\"type\":\"Title\"},{\"attributes\":{\"active_drag\":\"auto\",\"active_inspect\":\"auto\",\"active_multi\":null,\"active_scroll\":\"auto\",\"active_tap\":\"auto\",\"tools\":[{\"id\":\"863da0f6-455a-45d6-85cb-ff8d6dc74ffc\",\"type\":\"PanTool\"},{\"id\":\"690237bc-cb1b-436a-a81c-9f1c8143aa66\",\"type\":\"WheelZoomTool\"},{\"id\":\"e6eaba29-e464-4b63-a750-efa0716a39de\",\"type\":\"BoxZoomTool\"},{\"id\":\"5ba2d7f0-c91d-4385-b63a-1ea16fb564c4\",\"type\":\"BoxSelectTool\"},{\"id\":\"1ed70d72-adb3-4e2b-b6f1-d6d47affb86c\",\"type\":\"LassoSelectTool\"}]},\"id\":\"1bf3dd30-4a71-4619-b456-28243d242bd5\",\"type\":\"Toolbar\"},{\"attributes\":{\"plot\":{\"id\":\"9b5a571c-212b-4ae3-938e-d4a3c5631878\",\"subtype\":\"Figure\",\"type\":\"Plot\"},\"ticker\":{\"id\":\"57511e99-80df-48f2-a627-4f18fe13e160\",\"type\":\"BasicTicker\"}},\"id\":\"431ea36e-e46d-4953-8bb1-47c7d5ed507a\",\"type\":\"Grid\"},{\"attributes\":{\"children\":[{\"id\":\"d7e9dd20-036d-4062-866e-051eed1837c5\",\"type\":\"Column\"},{\"id\":\"31cba8de-6e3f-4c1d-9227-0a6fad8efe16\",\"type\":\"ToolbarBox\"}]},\"id\":\"34226a80-373a-43d1-9d0f-26175fee3e7d\",\"type\":\"Row\"},{\"attributes\":{\"bottom_units\":\"screen\",\"fill_alpha\":{\"value\":0.5},\"fill_color\":{\"value\":\"lightgrey\"},\"left_units\":\"screen\",\"level\":\"overlay\",\"line_alpha\":{\"value\":1.0},\"line_color\":{\"value\":\"black\"},\"line_dash\":[4,4],\"line_width\":{\"value\":2},\"plot\":null,\"render_mode\":\"css\",\"right_units\":\"screen\",\"top_units\":\"screen\"},\"id\":\"cb57b850-3f2f-476c-a91e-4105960b22eb\",\"type\":\"BoxAnnotation\"},{\"attributes\":{},\"id\":\"f3d7a600-2baf-435c-9809-ac03ee50b866\",\"type\":\"BasicTickFormatter\"},{\"attributes\":{\"data_source\":{\"id\":\"1afbe509-bd36-44fb-ba6d-7c1494766aff\",\"type\":\"ColumnDataSource\"},\"glyph\":{\"id\":\"da3a6b25-a5ea-42c8-b69c-af844d8bab8e\",\"type\":\"Circle\"},\"hover_glyph\":null,\"muted_glyph\":null,\"nonselection_glyph\":{\"id\":\"96513e51-dc56-4496-b76f-9b61be4b2949\",\"type\":\"Circle\"},\"selection_glyph\":null,\"view\":{\"id\":\"887cba96-fabd-48cc-b98d-5495f9980bb1\",\"type\":\"CDSView\"}},\"id\":\"18b60440-1f6f-4bc7-80ec-887be6587934\",\"type\":\"GlyphRenderer\"},{\"attributes\":{\"overlay\":{\"id\":\"cb57b850-3f2f-476c-a91e-4105960b22eb\",\"type\":\"BoxAnnotation\"}},\"id\":\"6c4c110e-7bde-4f72-9dc0-2985c5308e1e\",\"type\":\"BoxZoomTool\"},{\"attributes\":{\"dimension\":1,\"plot\":{\"id\":\"d2bec04d-e466-4a61-bf01-0923240618b0\",\"subtype\":\"Figure\",\"type\":\"Plot\"},\"ticker\":{\"id\":\"28605423-24ac-4958-8cdb-5b42805c0a3b\",\"type\":\"BasicTicker\"}},\"id\":\"f734ad24-6ed5-4bf9-b990-9cf9cf057f9c\",\"type\":\"Grid\"},{\"attributes\":{},\"id\":\"71b74f19-6c40-4628-bbf4-ea048b8eccf6\",\"type\":\"LinearScale\"},{\"attributes\":{\"callback\":null},\"id\":\"b21b5070-9c77-4c81-a880-06d193624aa0\",\"type\":\"DataRange1d\"},{\"attributes\":{\"callback\":null},\"id\":\"fe3efbee-b504-45c9-a2cf-8b1de10ecdb0\",\"type\":\"DataRange1d\"},{\"attributes\":{},\"id\":\"73b24df7-b6d7-435d-8446-0ae45ecfbab9\",\"type\":\"LinearScale\"},{\"attributes\":{\"dimension\":1,\"plot\":{\"id\":\"c27d1f28-c8ca-445c-8aa1-20daec0f005b\",\"subtype\":\"Figure\",\"type\":\"Plot\"},\"ticker\":{\"id\":\"5c8aeb04-1983-4edb-aaa0-91e93d7a2059\",\"type\":\"BasicTicker\"}},\"id\":\"6d54c518-fc9a-4758-9c9c-672a1f0212cf\",\"type\":\"Grid\"},{\"attributes\":{\"overlay\":{\"id\":\"f7b182e2-8015-42cd-8476-4853de2fcd97\",\"type\":\"BoxAnnotation\"}},\"id\":\"be84f7f1-8157-47f4-8cba-80ceb8295093\",\"type\":\"BoxZoomTool\"},{\"attributes\":{\"formatter\":{\"id\":\"6e9636f1-3543-4b61-a1fc-6558a2d648d2\",\"type\":\"BasicTickFormatter\"},\"plot\":{\"id\":\"d2bec04d-e466-4a61-bf01-0923240618b0\",\"subtype\":\"Figure\",\"type\":\"Plot\"},\"ticker\":{\"id\":\"f4a58aa4-a7cf-429f-ac00-31e5d84c624f\",\"type\":\"BasicTicker\"}},\"id\":\"3b172eb0-e966-4a87-90aa-a759af802b2e\",\"type\":\"LinearAxis\"},{\"attributes\":{},\"id\":\"c7634346-1ddf-466f-8de8-e35fc6875d05\",\"type\":\"BasicTickFormatter\"},{\"attributes\":{\"callback\":null},\"id\":\"a455efb2-3402-4e2e-acde-a41beb5299cd\",\"type\":\"DataRange1d\"},{\"attributes\":{\"active_drag\":\"auto\",\"active_inspect\":\"auto\",\"active_multi\":null,\"active_scroll\":\"auto\",\"active_tap\":\"auto\",\"tools\":[{\"id\":\"4d7f4c71-6e8e-4250-b953-fe2de416643d\",\"type\":\"PanTool\"},{\"id\":\"5bbc9e1b-2a87-4695-b300-01bf326f46e5\",\"type\":\"WheelZoomTool\"},{\"id\":\"6c4c110e-7bde-4f72-9dc0-2985c5308e1e\",\"type\":\"BoxZoomTool\"},{\"id\":\"b814a089-974c-48e5-a874-df1f589ab4d3\",\"type\":\"BoxSelectTool\"},{\"id\":\"e03c0dbf-6cb4-4efb-b92a-e1ac304bed9e\",\"type\":\"LassoSelectTool\"}]},\"id\":\"bf14f8ae-f6f1-4853-bb46-fac59ecba402\",\"type\":\"Toolbar\"},{\"attributes\":{\"source\":{\"id\":\"1afbe509-bd36-44fb-ba6d-7c1494766aff\",\"type\":\"ColumnDataSource\"}},\"id\":\"887cba96-fabd-48cc-b98d-5495f9980bb1\",\"type\":\"CDSView\"},{\"attributes\":{\"callback\":null,\"overlay\":{\"id\":\"f029c608-927b-4f32-99c6-d36a54763c4d\",\"type\":\"PolyAnnotation\"}},\"id\":\"e03c0dbf-6cb4-4efb-b92a-e1ac304bed9e\",\"type\":\"LassoSelectTool\"},{\"attributes\":{},\"id\":\"5e3ff39e-c5a6-4930-89e7-55479590ca75\",\"type\":\"WheelZoomTool\"},{\"attributes\":{},\"id\":\"f4a58aa4-a7cf-429f-ac00-31e5d84c624f\",\"type\":\"BasicTicker\"},{\"attributes\":{},\"id\":\"6e9636f1-3543-4b61-a1fc-6558a2d648d2\",\"type\":\"BasicTickFormatter\"},{\"attributes\":{\"fill_alpha\":{\"value\":0.1},\"fill_color\":{\"value\":\"#1f77b4\"},\"line_alpha\":{\"value\":0.1},\"line_color\":{\"value\":\"#1f77b4\"},\"x\":{\"field\":\"yr\"},\"y\":{\"field\":\"mpg\"}},\"id\":\"9085b52d-5b64-4a3f-b2b8-1d9b25a44980\",\"type\":\"Circle\"},{\"attributes\":{},\"id\":\"59ed68c3-e88f-4ccf-8599-1f7be68c014c\",\"type\":\"LinearScale\"},{\"attributes\":{},\"id\":\"4d32c39f-cf2c-4aed-a809-27ee3c18c677\",\"type\":\"UnionRenderers\"},{\"attributes\":{\"source\":{\"id\":\"1afbe509-bd36-44fb-ba6d-7c1494766aff\",\"type\":\"ColumnDataSource\"}},\"id\":\"fc4afad6-5fad-442a-a851-88c27c17c967\",\"type\":\"CDSView\"},{\"attributes\":{\"callback\":null},\"id\":\"175c6230-0b16-47fa-a91c-15c217a8216d\",\"type\":\"DataRange1d\"},{\"attributes\":{\"formatter\":{\"id\":\"c7634346-1ddf-466f-8de8-e35fc6875d05\",\"type\":\"BasicTickFormatter\"},\"plot\":{\"id\":\"9b5a571c-212b-4ae3-938e-d4a3c5631878\",\"subtype\":\"Figure\",\"type\":\"Plot\"},\"ticker\":{\"id\":\"cffe17fe-cb7f-4b4a-bd86-04bcdc83d47c\",\"type\":\"BasicTicker\"}},\"id\":\"5aa7523c-651b-434c-b45d-639fab83e7db\",\"type\":\"LinearAxis\"},{\"attributes\":{\"formatter\":{\"id\":\"73864956-1d25-41d7-8835-59c1d5e14b5d\",\"type\":\"BasicTickFormatter\"},\"plot\":{\"id\":\"c27d1f28-c8ca-445c-8aa1-20daec0f005b\",\"subtype\":\"Figure\",\"type\":\"Plot\"},\"ticker\":{\"id\":\"a7eaf1d5-04ca-4435-9cd9-6b69cda189f5\",\"type\":\"BasicTicker\"}},\"id\":\"52c7c259-beb1-4bce-abbb-339c1032ef6c\",\"type\":\"LinearAxis\"},{\"attributes\":{\"plot\":null,\"text\":\"MPG vs. Displacement\"},\"id\":\"5d8f5bca-1090-4610-b4ca-fff8957e5373\",\"type\":\"Title\"},{\"attributes\":{},\"id\":\"cffe17fe-cb7f-4b4a-bd86-04bcdc83d47c\",\"type\":\"BasicTicker\"},{\"attributes\":{\"below\":[{\"id\":\"52c7c259-beb1-4bce-abbb-339c1032ef6c\",\"type\":\"LinearAxis\"}],\"left\":[{\"id\":\"5ed10f30-defd-43ef-871c-a9aa2c2390d8\",\"type\":\"LinearAxis\"}],\"plot_height\":300,\"plot_width\":300,\"renderers\":[{\"id\":\"52c7c259-beb1-4bce-abbb-339c1032ef6c\",\"type\":\"LinearAxis\"},{\"id\":\"51fcbf4c-3f87-4f0c-b942-578225c7a059\",\"type\":\"Grid\"},{\"id\":\"5ed10f30-defd-43ef-871c-a9aa2c2390d8\",\"type\":\"LinearAxis\"},{\"id\":\"6d54c518-fc9a-4758-9c9c-672a1f0212cf\",\"type\":\"Grid\"},{\"id\":\"f7b182e2-8015-42cd-8476-4853de2fcd97\",\"type\":\"BoxAnnotation\"},{\"id\":\"ae452703-916c-4842-b1d5-944cee1c4682\",\"type\":\"BoxAnnotation\"},{\"id\":\"fe1b7d7e-59a8-4bf7-8c95-519a8dd719d9\",\"type\":\"PolyAnnotation\"},{\"id\":\"18b60440-1f6f-4bc7-80ec-887be6587934\",\"type\":\"GlyphRenderer\"}],\"title\":{\"id\":\"5d8f5bca-1090-4610-b4ca-fff8957e5373\",\"type\":\"Title\"},\"toolbar\":{\"id\":\"a9eb41d3-4049-442d-9e81-8ff22ec76be2\",\"type\":\"Toolbar\"},\"toolbar_location\":null,\"x_range\":{\"id\":\"55318f7a-ef73-450a-a035-74ea167d6f3c\",\"type\":\"DataRange1d\"},\"x_scale\":{\"id\":\"2a47a76d-0678-445a-9aa5-7dd23da42259\",\"type\":\"LinearScale\"},\"y_range\":{\"id\":\"0bbacceb-fbc0-4943-a528-d0b281d7ea4b\",\"type\":\"DataRange1d\"},\"y_scale\":{\"id\":\"73b24df7-b6d7-435d-8446-0ae45ecfbab9\",\"type\":\"LinearScale\"}},\"id\":\"c27d1f28-c8ca-445c-8aa1-20daec0f005b\",\"subtype\":\"Figure\",\"type\":\"Plot\"},{\"attributes\":{\"below\":[{\"id\":\"43d5362f-b7d7-41ca-ac30-2a7d1f4de430\",\"type\":\"LinearAxis\"}],\"left\":[{\"id\":\"5aa7523c-651b-434c-b45d-639fab83e7db\",\"type\":\"LinearAxis\"}],\"plot_height\":300,\"plot_width\":300,\"renderers\":[{\"id\":\"43d5362f-b7d7-41ca-ac30-2a7d1f4de430\",\"type\":\"LinearAxis\"},{\"id\":\"431ea36e-e46d-4953-8bb1-47c7d5ed507a\",\"type\":\"Grid\"},{\"id\":\"5aa7523c-651b-434c-b45d-639fab83e7db\",\"type\":\"LinearAxis\"},{\"id\":\"88903a5a-8b2c-400f-8825-e88535427e1e\",\"type\":\"Grid\"},{\"id\":\"cc8af7a0-eec7-478d-8691-b859cdaba58c\",\"type\":\"BoxAnnotation\"},{\"id\":\"166b335f-1796-4719-ad10-c3a28e41b179\",\"type\":\"BoxAnnotation\"},{\"id\":\"830d457e-5839-46d6-8034-fa4da598d142\",\"type\":\"PolyAnnotation\"},{\"id\":\"0d96d303-91e5-47d3-bbfc-05e4e36a29fb\",\"type\":\"GlyphRenderer\"}],\"title\":{\"id\":\"6e0afca8-dfb3-4bb7-85f3-df891f7d3e85\",\"type\":\"Title\"},\"toolbar\":{\"id\":\"1bf3dd30-4a71-4619-b456-28243d242bd5\",\"type\":\"Toolbar\"},\"toolbar_location\":null,\"x_range\":{\"id\":\"a455efb2-3402-4e2e-acde-a41beb5299cd\",\"type\":\"DataRange1d\"},\"x_scale\":{\"id\":\"ca574b0b-8985-441c-95c4-0e6310980a70\",\"type\":\"LinearScale\"},\"y_range\":{\"id\":\"175c6230-0b16-47fa-a91c-15c217a8216d\",\"type\":\"DataRange1d\"},\"y_scale\":{\"id\":\"71b74f19-6c40-4628-bbf4-ea048b8eccf6\",\"type\":\"LinearScale\"}},\"id\":\"9b5a571c-212b-4ae3-938e-d4a3c5631878\",\"subtype\":\"Figure\",\"type\":\"Plot\"},{\"attributes\":{\"below\":[{\"id\":\"3b172eb0-e966-4a87-90aa-a759af802b2e\",\"type\":\"LinearAxis\"}],\"left\":[{\"id\":\"121be8d7-08a2-4f45-aca2-b1e6ecf96e1e\",\"type\":\"LinearAxis\"}],\"plot_height\":300,\"plot_width\":300,\"renderers\":[{\"id\":\"3b172eb0-e966-4a87-90aa-a759af802b2e\",\"type\":\"LinearAxis\"},{\"id\":\"f52a1801-09da-4120-8fe2-cf6ac42e411d\",\"type\":\"Grid\"},{\"id\":\"121be8d7-08a2-4f45-aca2-b1e6ecf96e1e\",\"type\":\"LinearAxis\"},{\"id\":\"f734ad24-6ed5-4bf9-b990-9cf9cf057f9c\",\"type\":\"Grid\"},{\"id\":\"cb57b850-3f2f-476c-a91e-4105960b22eb\",\"type\":\"BoxAnnotation\"},{\"id\":\"ff69cafd-49d8-4d09-b959-559b217f0ef8\",\"type\":\"BoxAnnotation\"},{\"id\":\"f029c608-927b-4f32-99c6-d36a54763c4d\",\"type\":\"PolyAnnotation\"},{\"id\":\"3fdbc08e-0667-47b8-8f5b-6f9aadf057ed\",\"type\":\"GlyphRenderer\"}],\"title\":{\"id\":\"6643c00f-c13a-404f-802a-6f5869a1b005\",\"type\":\"Title\"},\"toolbar\":{\"id\":\"bf14f8ae-f6f1-4853-bb46-fac59ecba402\",\"type\":\"Toolbar\"},\"toolbar_location\":null,\"x_range\":{\"id\":\"b21b5070-9c77-4c81-a880-06d193624aa0\",\"type\":\"DataRange1d\"},\"x_scale\":{\"id\":\"a9431edd-ae90-42e7-a9a9-ac50c4ef615e\",\"type\":\"LinearScale\"},\"y_range\":{\"id\":\"fe3efbee-b504-45c9-a2cf-8b1de10ecdb0\",\"type\":\"DataRange1d\"},\"y_scale\":{\"id\":\"59ed68c3-e88f-4ccf-8599-1f7be68c014c\",\"type\":\"LinearScale\"}},\"id\":\"d2bec04d-e466-4a61-bf01-0923240618b0\",\"subtype\":\"Figure\",\"type\":\"Plot\"},{\"attributes\":{\"formatter\":{\"id\":\"3e9605f7-ac32-4481-8162-542eef0dd5f5\",\"type\":\"BasicTickFormatter\"},\"plot\":{\"id\":\"c27d1f28-c8ca-445c-8aa1-20daec0f005b\",\"subtype\":\"Figure\",\"type\":\"Plot\"},\"ticker\":{\"id\":\"5c8aeb04-1983-4edb-aaa0-91e93d7a2059\",\"type\":\"BasicTicker\"}},\"id\":\"5ed10f30-defd-43ef-871c-a9aa2c2390d8\",\"type\":\"LinearAxis\"},{\"attributes\":{\"callback\":null,\"overlay\":{\"id\":\"830d457e-5839-46d6-8034-fa4da598d142\",\"type\":\"PolyAnnotation\"}},\"id\":\"1ed70d72-adb3-4e2b-b6f1-d6d47affb86c\",\"type\":\"LassoSelectTool\"},{\"attributes\":{},\"id\":\"57511e99-80df-48f2-a627-4f18fe13e160\",\"type\":\"BasicTicker\"},{\"attributes\":{},\"id\":\"863da0f6-455a-45d6-85cb-ff8d6dc74ffc\",\"type\":\"PanTool\"},{\"attributes\":{},\"id\":\"5c8aeb04-1983-4edb-aaa0-91e93d7a2059\",\"type\":\"BasicTicker\"},{\"attributes\":{\"callback\":null},\"id\":\"55318f7a-ef73-450a-a035-74ea167d6f3c\",\"type\":\"DataRange1d\"},{\"attributes\":{\"formatter\":{\"id\":\"f3d7a600-2baf-435c-9809-ac03ee50b866\",\"type\":\"BasicTickFormatter\"},\"plot\":{\"id\":\"9b5a571c-212b-4ae3-938e-d4a3c5631878\",\"subtype\":\"Figure\",\"type\":\"Plot\"},\"ticker\":{\"id\":\"57511e99-80df-48f2-a627-4f18fe13e160\",\"type\":\"BasicTicker\"}},\"id\":\"43d5362f-b7d7-41ca-ac30-2a7d1f4de430\",\"type\":\"LinearAxis\"},{\"attributes\":{\"formatter\":{\"id\":\"a70b1ec2-3884-4da9-a1d4-cc482c454d68\",\"type\":\"BasicTickFormatter\"},\"plot\":{\"id\":\"d2bec04d-e466-4a61-bf01-0923240618b0\",\"subtype\":\"Figure\",\"type\":\"Plot\"},\"ticker\":{\"id\":\"28605423-24ac-4958-8cdb-5b42805c0a3b\",\"type\":\"BasicTicker\"}},\"id\":\"121be8d7-08a2-4f45-aca2-b1e6ecf96e1e\",\"type\":\"LinearAxis\"},{\"attributes\":{},\"id\":\"28605423-24ac-4958-8cdb-5b42805c0a3b\",\"type\":\"BasicTicker\"},{\"attributes\":{\"tools\":[{\"id\":\"863da0f6-455a-45d6-85cb-ff8d6dc74ffc\",\"type\":\"PanTool\"},{\"id\":\"690237bc-cb1b-436a-a81c-9f1c8143aa66\",\"type\":\"WheelZoomTool\"},{\"id\":\"e6eaba29-e464-4b63-a750-efa0716a39de\",\"type\":\"BoxZoomTool\"},{\"id\":\"5ba2d7f0-c91d-4385-b63a-1ea16fb564c4\",\"type\":\"BoxSelectTool\"},{\"id\":\"1ed70d72-adb3-4e2b-b6f1-d6d47affb86c\",\"type\":\"LassoSelectTool\"},{\"id\":\"4d7f4c71-6e8e-4250-b953-fe2de416643d\",\"type\":\"PanTool\"},{\"id\":\"5bbc9e1b-2a87-4695-b300-01bf326f46e5\",\"type\":\"WheelZoomTool\"},{\"id\":\"6c4c110e-7bde-4f72-9dc0-2985c5308e1e\",\"type\":\"BoxZoomTool\"},{\"id\":\"b814a089-974c-48e5-a874-df1f589ab4d3\",\"type\":\"BoxSelectTool\"},{\"id\":\"e03c0dbf-6cb4-4efb-b92a-e1ac304bed9e\",\"type\":\"LassoSelectTool\"},{\"id\":\"b5fc8fcb-06bf-470e-8919-9fc5beb72b02\",\"type\":\"PanTool\"},{\"id\":\"5e3ff39e-c5a6-4930-89e7-55479590ca75\",\"type\":\"WheelZoomTool\"},{\"id\":\"be84f7f1-8157-47f4-8cba-80ceb8295093\",\"type\":\"BoxZoomTool\"},{\"id\":\"4007b35f-2a1c-49e3-9bbf-770301fb0986\",\"type\":\"BoxSelectTool\"},{\"id\":\"c28ad15f-b277-4a3d-a310-f2a99dea7773\",\"type\":\"LassoSelectTool\"}]},\"id\":\"d30f3298-5d26-4275-b276-80d360402af4\",\"type\":\"ProxyToolbar\"},{\"attributes\":{\"fill_alpha\":{\"value\":0.5},\"fill_color\":{\"value\":\"lightgrey\"},\"level\":\"overlay\",\"line_alpha\":{\"value\":1.0},\"line_color\":{\"value\":\"black\"},\"line_dash\":[4,4],\"line_width\":{\"value\":2},\"plot\":null,\"xs_units\":\"screen\",\"ys_units\":\"screen\"},\"id\":\"fe1b7d7e-59a8-4bf7-8c95-519a8dd719d9\",\"type\":\"PolyAnnotation\"},{\"attributes\":{\"fill_color\":{\"value\":\"blue\"},\"line_color\":{\"value\":\"blue\"},\"x\":{\"field\":\"yr\"},\"y\":{\"field\":\"mpg\"}},\"id\":\"ed163c4a-b24e-4c54-bf63-b2d0cba3e5d4\",\"type\":\"Circle\"},{\"attributes\":{\"callback\":null,\"overlay\":{\"id\":\"ff69cafd-49d8-4d09-b959-559b217f0ef8\",\"type\":\"BoxAnnotation\"}},\"id\":\"b814a089-974c-48e5-a874-df1f589ab4d3\",\"type\":\"BoxSelectTool\"},{\"attributes\":{\"active_drag\":\"auto\",\"active_inspect\":\"auto\",\"active_multi\":null,\"active_scroll\":\"auto\",\"active_tap\":\"auto\",\"tools\":[{\"id\":\"b5fc8fcb-06bf-470e-8919-9fc5beb72b02\",\"type\":\"PanTool\"},{\"id\":\"5e3ff39e-c5a6-4930-89e7-55479590ca75\",\"type\":\"WheelZoomTool\"},{\"id\":\"be84f7f1-8157-47f4-8cba-80ceb8295093\",\"type\":\"BoxZoomTool\"},{\"id\":\"4007b35f-2a1c-49e3-9bbf-770301fb0986\",\"type\":\"BoxSelectTool\"},{\"id\":\"c28ad15f-b277-4a3d-a310-f2a99dea7773\",\"type\":\"LassoSelectTool\"}]},\"id\":\"a9eb41d3-4049-442d-9e81-8ff22ec76be2\",\"type\":\"Toolbar\"},{\"attributes\":{},\"id\":\"690237bc-cb1b-436a-a81c-9f1c8143aa66\",\"type\":\"WheelZoomTool\"},{\"attributes\":{\"toolbar\":{\"id\":\"d30f3298-5d26-4275-b276-80d360402af4\",\"type\":\"ProxyToolbar\"}},\"id\":\"31cba8de-6e3f-4c1d-9227-0a6fad8efe16\",\"type\":\"ToolbarBox\"},{\"attributes\":{},\"id\":\"4d7f4c71-6e8e-4250-b953-fe2de416643d\",\"type\":\"PanTool\"},{\"attributes\":{\"source\":{\"id\":\"1afbe509-bd36-44fb-ba6d-7c1494766aff\",\"type\":\"ColumnDataSource\"}},\"id\":\"02942438-673a-4e69-bad6-0782152809a3\",\"type\":\"CDSView\"},{\"attributes\":{\"bottom_units\":\"screen\",\"fill_alpha\":{\"value\":0.5},\"fill_color\":{\"value\":\"lightgrey\"},\"left_units\":\"screen\",\"level\":\"overlay\",\"line_alpha\":{\"value\":1.0},\"line_color\":{\"value\":\"black\"},\"line_dash\":[4,4],\"line_width\":{\"value\":2},\"plot\":null,\"render_mode\":\"css\",\"right_units\":\"screen\",\"top_units\":\"screen\"},\"id\":\"f7b182e2-8015-42cd-8476-4853de2fcd97\",\"type\":\"BoxAnnotation\"}],\"root_ids\":[\"34226a80-373a-43d1-9d0f-26175fee3e7d\"]},\"title\":\"Bokeh Application\",\"version\":\"0.13.0\"}};\n",
       "  var render_items = [{\"docid\":\"59478698-81fd-4e39-9a76-ab661b9ded50\",\"roots\":{\"34226a80-373a-43d1-9d0f-26175fee3e7d\":\"8b1de935-0c0c-4447-baf0-0ee17191578b\"}}];\n",
       "  root.Bokeh.embed.embed_items_notebook(docs_json, render_items);\n",
       "\n",
       "  }\n",
       "  if (root.Bokeh !== undefined) {\n",
       "    embed_document(root);\n",
       "  } else {\n",
       "    var attempts = 0;\n",
       "    var timer = setInterval(function(root) {\n",
       "      if (root.Bokeh !== undefined) {\n",
       "        embed_document(root);\n",
       "        clearInterval(timer);\n",
       "      }\n",
       "      attempts++;\n",
       "      if (attempts > 100) {\n",
       "        console.log(\"Bokeh: ERROR: Unable to run BokehJS code because BokehJS library is missing\")\n",
       "        clearInterval(timer);\n",
       "      }\n",
       "    }, 10, root)\n",
       "  }\n",
       "})(window);"
      ],
      "application/vnd.bokehjs_exec.v0+json": ""
     },
     "metadata": {
      "application/vnd.bokehjs_exec.v0+json": {
       "id": "34226a80-373a-43d1-9d0f-26175fee3e7d"
      }
     },
     "output_type": "display_data"
    }
   ],
   "source": [
    "from bokeh.models import ColumnDataSource\n",
    "from bokeh.layouts import gridplot\n",
    "\n",
    "source = ColumnDataSource(autompg)\n",
    "\n",
    "options = dict(plot_width=300, plot_height=300,\n",
    "               tools=\"pan,wheel_zoom,box_zoom,box_select,lasso_select\")\n",
    "\n",
    "p1 = figure(title=\"MPG by Year\", **options)\n",
    "p1.circle(\"yr\", \"mpg\", color=\"blue\", source=source)\n",
    "\n",
    "p2 = figure(title=\"HP vs. Displacement\", **options)\n",
    "p2.circle(\"hp\", \"displ\", color=\"green\", source=source)\n",
    "\n",
    "p3 = figure(title=\"MPG vs. Displacement\", **options)\n",
    "p3.circle(\"mpg\", \"displ\", size=\"cyl\", line_color=\"red\", fill_color=None, source=source)\n",
    "\n",
    "p = gridplot([[ p1, p2, p3]], toolbar_location=\"right\")\n",
    "\n",
    "show(p)"
   ]
  },
  {
   "cell_type": "markdown",
   "metadata": {},
   "source": [
    "You can read more about the `ColumnDataSource` and other Bokeh data structures in [Providing Data for Plots and Tables](https://bokeh.pydata.org/en/latest/docs/user_guide/data.html)"
   ]
  },
  {
   "cell_type": "markdown",
   "metadata": {},
   "source": [
    "## Standalone HTML\n",
    "\n",
    "In addition to working well with the Notebook, Bokeh can also save plots out into their own HTML files.  Here is the bar plot example from above, but saving into its own standalone file.\n",
    "\n",
    "Now when we call `show()`, a new browser tab is also opened with the plot. If we just wanted to save the file, we would use `save()` instead."
   ]
  },
  {
   "cell_type": "code",
   "execution_count": 8,
   "metadata": {},
   "outputs": [
    {
     "data": {
      "text/html": [
       "\n",
       "\n",
       "\n",
       "\n",
       "\n",
       "\n",
       "  <div class=\"bk-root\" id=\"a3fbb3bd-5e38-4110-bb97-3dccf780acf7\"></div>\n"
      ]
     },
     "metadata": {},
     "output_type": "display_data"
    },
    {
     "data": {
      "application/javascript": [
       "(function(root) {\n",
       "  function embed_document(root) {\n",
       "    \n",
       "  var docs_json = {\"5427e26a-e4a6-41ff-906d-a3dc6a245c5a\":{\"roots\":{\"references\":[{\"attributes\":{},\"id\":\"50720095-76e4-4fcd-a2db-bbe8e833042a\",\"type\":\"LinearScale\"},{\"attributes\":{},\"id\":\"bcbe9d6c-f342-4892-be26-c0bd9d8b1cb6\",\"type\":\"BasicTickFormatter\"},{\"attributes\":{\"fill_alpha\":{\"value\":0.1},\"fill_color\":{\"value\":\"#1f77b4\"},\"line_alpha\":{\"value\":0.1},\"line_color\":{\"value\":\"#1f77b4\"},\"size\":{\"units\":\"screen\",\"value\":10},\"x\":{\"field\":\"x\"},\"y\":{\"field\":\"y\"}},\"id\":\"2cc15dbc-ed1f-4da4-b745-af3261710014\",\"type\":\"Circle\"},{\"attributes\":{},\"id\":\"35ab4b7e-a9e4-4d32-a40d-72aef8994e16\",\"type\":\"Selection\"},{\"attributes\":{\"data_source\":{\"id\":\"9fd95dff-4697-4785-a322-deb3e705dd9e\",\"type\":\"ColumnDataSource\"},\"glyph\":{\"id\":\"bdd7fa94-d58a-4294-9359-9de50f5f46d6\",\"type\":\"Circle\"},\"hover_glyph\":null,\"muted_glyph\":null,\"nonselection_glyph\":{\"id\":\"2cc15dbc-ed1f-4da4-b745-af3261710014\",\"type\":\"Circle\"},\"selection_glyph\":null,\"view\":{\"id\":\"e9ae4b2a-ea53-4d2d-99d8-5aba0155b946\",\"type\":\"CDSView\"}},\"id\":\"c45d567b-5ea5-45b6-ba04-3ff122c4287f\",\"type\":\"GlyphRenderer\"},{\"attributes\":{\"fill_alpha\":{\"value\":0.3},\"fill_color\":{\"value\":\"red\"},\"line_alpha\":{\"value\":0.3},\"line_color\":{\"value\":\"red\"},\"size\":{\"units\":\"screen\",\"value\":10},\"x\":{\"field\":\"x\"},\"y\":{\"field\":\"y\"}},\"id\":\"bdd7fa94-d58a-4294-9359-9de50f5f46d6\",\"type\":\"Circle\"},{\"attributes\":{\"formatter\":{\"id\":\"01df2bd5-9c83-43bb-a1ea-2bf506779be0\",\"type\":\"BasicTickFormatter\"},\"plot\":{\"id\":\"71a19538-4460-4b13-b454-105dc614f5b1\",\"subtype\":\"Figure\",\"type\":\"Plot\"},\"ticker\":{\"id\":\"667d7931-314d-4386-8a51-3645b0dc0657\",\"type\":\"BasicTicker\"}},\"id\":\"e9282805-efa2-49fb-9203-f024d2fe5b91\",\"type\":\"LinearAxis\"},{\"attributes\":{},\"id\":\"e33217de-57f8-4ba0-acf3-421c174eb996\",\"type\":\"BasicTicker\"},{\"attributes\":{\"fill_alpha\":{\"value\":0.1},\"fill_color\":{\"value\":\"#1f77b4\"},\"line_alpha\":{\"value\":0.1},\"line_color\":{\"value\":\"#1f77b4\"},\"size\":{\"units\":\"screen\",\"value\":10},\"x\":{\"field\":\"x\"},\"y\":{\"field\":\"y\"}},\"id\":\"fcd8509d-5b36-4c79-a35c-bee645cf7bd4\",\"type\":\"Triangle\"},{\"attributes\":{\"plot\":{\"id\":\"71a19538-4460-4b13-b454-105dc614f5b1\",\"subtype\":\"Figure\",\"type\":\"Plot\"},\"ticker\":{\"id\":\"e33217de-57f8-4ba0-acf3-421c174eb996\",\"type\":\"BasicTicker\"}},\"id\":\"2939b445-ba12-4970-9ebc-6a6570b4ed3b\",\"type\":\"Grid\"},{\"attributes\":{},\"id\":\"126600f1-31f2-4be0-a049-1093a43597b1\",\"type\":\"UnionRenderers\"},{\"attributes\":{\"formatter\":{\"id\":\"bcbe9d6c-f342-4892-be26-c0bd9d8b1cb6\",\"type\":\"BasicTickFormatter\"},\"plot\":{\"id\":\"71a19538-4460-4b13-b454-105dc614f5b1\",\"subtype\":\"Figure\",\"type\":\"Plot\"},\"ticker\":{\"id\":\"e33217de-57f8-4ba0-acf3-421c174eb996\",\"type\":\"BasicTicker\"}},\"id\":\"8ceeafc1-aa96-4a43-8c03-3a1d051abab0\",\"type\":\"LinearAxis\"},{\"attributes\":{\"items\":[{\"id\":\"a538257c-560a-43c0-9411-f31e156f3a7d\",\"type\":\"LegendItem\"},{\"id\":\"e3da4bc3-3c63-48c3-873f-3261fbc8d4da\",\"type\":\"LegendItem\"},{\"id\":\"e342940a-2687-4f8f-80d5-b7aa45b4ee25\",\"type\":\"LegendItem\"}],\"location\":\"top_left\",\"plot\":{\"id\":\"71a19538-4460-4b13-b454-105dc614f5b1\",\"subtype\":\"Figure\",\"type\":\"Plot\"}},\"id\":\"ddd264a6-3661-4200-be79-29f5bba52c14\",\"type\":\"Legend\"},{\"attributes\":{\"callback\":null,\"data\":{\"x\":[70,70,70,70,70,70,70,70,70,70,70,70,70,70,70,70,70,70,70,70,70,70,71,71,71,71,71,71,71,71,71,71,71,71,71,71,71,71,71,71,71,72,72,72,72,72,72,72,72,72,72,72,72,72,72,72,72,72,72,73,73,73,73,73,73,73,73,73,73,73,73,73,73,73,73,73,73,73,73,73,73,73,73,73,73,73,73,73,74,74,74,74,74,74,74,74,74,74,74,74,74,74,75,75,75,75,75,75,75,75,75,75,75,75,75,75,75,75,75,75,75,75,76,76,76,76,76,76,76,76,76,76,76,76,76,76,76,76,76,76,76,76,76,76,77,77,77,77,77,77,77,77,77,77,77,77,77,77,77,77,77,77,78,78,78,78,78,78,78,78,78,78,78,78,78,78,78,78,78,78,78,78,78,78,79,79,79,79,79,79,79,79,79,79,79,79,79,79,79,79,79,79,79,79,79,79,79,80,80,80,80,80,80,81,81,81,81,81,81,81,81,81,81,81,81,81,82,82,82,82,82,82,82,82,82,82,82,82,82,82,82,82,82,82,82],\"y\":{\"__ndarray__\":\"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\",\"dtype\":\"float64\",\"shape\":[245]}},\"selected\":{\"id\":\"f0529a2a-708e-4a56-9297-3694de8a3a1d\",\"type\":\"Selection\"},\"selection_policy\":{\"id\":\"e053a031-0a38-4a61-9030-f96b24ca4963\",\"type\":\"UnionRenderers\"}},\"id\":\"e4eeaf41-a25c-4b06-905a-d653b7dfad52\",\"type\":\"ColumnDataSource\"},{\"attributes\":{},\"id\":\"cbae3a65-84c3-4950-9945-9ec0b6603ef5\",\"type\":\"LinearScale\"},{\"attributes\":{\"fill_alpha\":{\"value\":0.3},\"fill_color\":{\"value\":\"blue\"},\"line_alpha\":{\"value\":0.3},\"line_color\":{\"value\":\"blue\"},\"size\":{\"units\":\"screen\",\"value\":10},\"x\":{\"field\":\"x\"},\"y\":{\"field\":\"y\"}},\"id\":\"4f8dfcae-db23-42b6-8fae-32707653e16b\",\"type\":\"Triangle\"},{\"attributes\":{\"active_drag\":\"auto\",\"active_inspect\":\"auto\",\"active_multi\":null,\"active_scroll\":\"auto\",\"active_tap\":\"auto\",\"tools\":[{\"id\":\"0f46d072-693f-4133-8bf2-e1a46cb19cc5\",\"type\":\"PanTool\"},{\"id\":\"1da0aa3e-a998-4dc5-8285-2a56de67bf7e\",\"type\":\"WheelZoomTool\"},{\"id\":\"43000ba9-d331-48a7-89a9-562b39bb01a4\",\"type\":\"BoxZoomTool\"},{\"id\":\"e9280116-49c5-4a17-ae34-c4390b37fa93\",\"type\":\"SaveTool\"},{\"id\":\"77fda508-6267-4f67-8af7-c1305356a905\",\"type\":\"ResetTool\"},{\"id\":\"a2e39225-ab78-4d15-a416-e7fe9272c804\",\"type\":\"HelpTool\"}]},\"id\":\"153e7907-62d1-4dfa-aeab-108468ee1867\",\"type\":\"Toolbar\"},{\"attributes\":{\"data_source\":{\"id\":\"e4eeaf41-a25c-4b06-905a-d653b7dfad52\",\"type\":\"ColumnDataSource\"},\"glyph\":{\"id\":\"4f8dfcae-db23-42b6-8fae-32707653e16b\",\"type\":\"Triangle\"},\"hover_glyph\":null,\"muted_glyph\":null,\"nonselection_glyph\":{\"id\":\"fcd8509d-5b36-4c79-a35c-bee645cf7bd4\",\"type\":\"Triangle\"},\"selection_glyph\":null,\"view\":{\"id\":\"18f09358-0616-44de-9547-7f13de100705\",\"type\":\"CDSView\"}},\"id\":\"c31d1647-0065-403a-86d2-c6fd84319546\",\"type\":\"GlyphRenderer\"},{\"attributes\":{\"data_source\":{\"id\":\"62e11c3c-bd8d-49d2-b2c5-b22cd11f48b5\",\"type\":\"ColumnDataSource\"},\"glyph\":{\"id\":\"dc81abb5-6e19-4e9d-b618-c99b1d2e75b5\",\"type\":\"VBar\"},\"hover_glyph\":null,\"muted_glyph\":null,\"nonselection_glyph\":{\"id\":\"5926eab8-ab12-438e-a458-cc75452e3b2c\",\"type\":\"VBar\"},\"selection_glyph\":null,\"view\":{\"id\":\"735ada3a-25fe-4925-8767-df1231597423\",\"type\":\"CDSView\"}},\"id\":\"32ec3271-9e08-4469-a4da-de79d584d673\",\"type\":\"GlyphRenderer\"},{\"attributes\":{\"callback\":null,\"data\":{\"bottom\":{\"__ndarray__\":\"gvFgx2qzKECcKci59t4sQJZdRzm5jipAzvVtn6zMKECki7kXNjswQIpnc6D2pi5ApAV4qVNeL0DtFQi6+rIwQBxLQL6+KTFAWBwW2YNMMkBnDzEy+Oo6QAq856zmjDhAfzfsSXnEOkA=\",\"dtype\":\"float64\",\"shape\":[13]},\"top\":{\"__ndarray__\":\"55jlF2UHN0DAzlQxaMk7QBEIyj5aJjhATTh849zMNUD6TNCFok49QMPUTjgNNTlA1KLp0Ht2O0AT6vdFBQ0+QNr+XjaL9T5AVt48aCfjP0AojYptQ1hEQPSsO6IX6UFAQOQJW8OdQkA=\",\"dtype\":\"float64\",\"shape\":[13]},\"x\":[70,71,72,73,74,75,76,77,78,79,80,81,82]},\"selected\":{\"id\":\"35ab4b7e-a9e4-4d32-a40d-72aef8994e16\",\"type\":\"Selection\"},\"selection_policy\":{\"id\":\"126600f1-31f2-4be0-a049-1093a43597b1\",\"type\":\"UnionRenderers\"}},\"id\":\"62e11c3c-bd8d-49d2-b2c5-b22cd11f48b5\",\"type\":\"ColumnDataSource\"},{\"attributes\":{\"source\":{\"id\":\"9fd95dff-4697-4785-a322-deb3e705dd9e\",\"type\":\"ColumnDataSource\"}},\"id\":\"e9ae4b2a-ea53-4d2d-99d8-5aba0155b946\",\"type\":\"CDSView\"},{\"attributes\":{},\"id\":\"77fda508-6267-4f67-8af7-c1305356a905\",\"type\":\"ResetTool\"},{\"attributes\":{\"callback\":null},\"id\":\"078018d3-ba04-4202-a4fc-c8890222abf4\",\"type\":\"DataRange1d\"},{\"attributes\":{\"label\":{\"value\":\"MPG 1 stddev\"},\"renderers\":[{\"id\":\"32ec3271-9e08-4469-a4da-de79d584d673\",\"type\":\"GlyphRenderer\"}]},\"id\":\"a538257c-560a-43c0-9411-f31e156f3a7d\",\"type\":\"LegendItem\"},{\"attributes\":{\"plot\":null,\"text\":\"MPG by Year (Japan and US)\"},\"id\":\"c9d1dfb7-2138-4ddf-8d9b-76ab35a8e67a\",\"type\":\"Title\"},{\"attributes\":{\"label\":{\"value\":\"Japanese\"},\"renderers\":[{\"id\":\"c45d567b-5ea5-45b6-ba04-3ff122c4287f\",\"type\":\"GlyphRenderer\"}]},\"id\":\"e3da4bc3-3c63-48c3-873f-3261fbc8d4da\",\"type\":\"LegendItem\"},{\"attributes\":{},\"id\":\"a2e39225-ab78-4d15-a416-e7fe9272c804\",\"type\":\"HelpTool\"},{\"attributes\":{\"bottom\":{\"field\":\"bottom\"},\"fill_alpha\":{\"value\":0.2},\"fill_color\":{\"value\":\"#1f77b4\"},\"line_color\":{\"value\":null},\"top\":{\"field\":\"top\"},\"width\":{\"value\":0.8},\"x\":{\"field\":\"x\"}},\"id\":\"dc81abb5-6e19-4e9d-b618-c99b1d2e75b5\",\"type\":\"VBar\"},{\"attributes\":{},\"id\":\"9d73b9a0-4404-4282-b4a0-27a97c54462a\",\"type\":\"Selection\"},{\"attributes\":{},\"id\":\"e9280116-49c5-4a17-ae34-c4390b37fa93\",\"type\":\"SaveTool\"},{\"attributes\":{\"callback\":null},\"id\":\"ae9e23f3-3b99-4e5d-8c8c-181dd8d6bd46\",\"type\":\"DataRange1d\"},{\"attributes\":{\"overlay\":{\"id\":\"55ace5d7-8b62-4c93-9548-1a73779dc98e\",\"type\":\"BoxAnnotation\"}},\"id\":\"43000ba9-d331-48a7-89a9-562b39bb01a4\",\"type\":\"BoxZoomTool\"},{\"attributes\":{},\"id\":\"f0529a2a-708e-4a56-9297-3694de8a3a1d\",\"type\":\"Selection\"},{\"attributes\":{\"below\":[{\"id\":\"8ceeafc1-aa96-4a43-8c03-3a1d051abab0\",\"type\":\"LinearAxis\"}],\"left\":[{\"id\":\"e9282805-efa2-49fb-9203-f024d2fe5b91\",\"type\":\"LinearAxis\"}],\"renderers\":[{\"id\":\"8ceeafc1-aa96-4a43-8c03-3a1d051abab0\",\"type\":\"LinearAxis\"},{\"id\":\"2939b445-ba12-4970-9ebc-6a6570b4ed3b\",\"type\":\"Grid\"},{\"id\":\"e9282805-efa2-49fb-9203-f024d2fe5b91\",\"type\":\"LinearAxis\"},{\"id\":\"15532099-0176-4614-a98e-469a5b3dd6ef\",\"type\":\"Grid\"},{\"id\":\"55ace5d7-8b62-4c93-9548-1a73779dc98e\",\"type\":\"BoxAnnotation\"},{\"id\":\"ddd264a6-3661-4200-be79-29f5bba52c14\",\"type\":\"Legend\"},{\"id\":\"32ec3271-9e08-4469-a4da-de79d584d673\",\"type\":\"GlyphRenderer\"},{\"id\":\"c45d567b-5ea5-45b6-ba04-3ff122c4287f\",\"type\":\"GlyphRenderer\"},{\"id\":\"c31d1647-0065-403a-86d2-c6fd84319546\",\"type\":\"GlyphRenderer\"}],\"title\":{\"id\":\"c9d1dfb7-2138-4ddf-8d9b-76ab35a8e67a\",\"type\":\"Title\"},\"toolbar\":{\"id\":\"153e7907-62d1-4dfa-aeab-108468ee1867\",\"type\":\"Toolbar\"},\"x_range\":{\"id\":\"ae9e23f3-3b99-4e5d-8c8c-181dd8d6bd46\",\"type\":\"DataRange1d\"},\"x_scale\":{\"id\":\"50720095-76e4-4fcd-a2db-bbe8e833042a\",\"type\":\"LinearScale\"},\"y_range\":{\"id\":\"078018d3-ba04-4202-a4fc-c8890222abf4\",\"type\":\"DataRange1d\"},\"y_scale\":{\"id\":\"cbae3a65-84c3-4950-9945-9ec0b6603ef5\",\"type\":\"LinearScale\"}},\"id\":\"71a19538-4460-4b13-b454-105dc614f5b1\",\"subtype\":\"Figure\",\"type\":\"Plot\"},{\"attributes\":{},\"id\":\"01df2bd5-9c83-43bb-a1ea-2bf506779be0\",\"type\":\"BasicTickFormatter\"},{\"attributes\":{\"callback\":null,\"data\":{\"x\":[70,70,71,71,71,71,72,72,72,72,72,73,73,73,73,74,74,74,74,74,74,75,75,75,75,76,76,76,76,77,77,77,77,77,77,78,78,78,78,78,78,78,78,79,79,80,80,80,80,80,80,80,80,80,80,80,80,80,81,81,81,81,81,81,81,81,81,81,81,81,82,82,82,82,82,82,82,82,82],\"y\":{\"__ndarray__\":\"AAAAAAAAOEAAAAAAAAA7QAAAAAAAADtAAAAAAAAAOUAAAAAAAAA/QAAAAAAAgEFAAAAAAAAAOEAAAAAAAAAzQAAAAAAAADxAAAAAAAAAN0AAAAAAAAA7QAAAAAAAADRAAAAAAAAANkAAAAAAAAAyQAAAAAAAADRAAAAAAAAAP0AAAAAAAABAQAAAAAAAAD9AAAAAAAAAQEAAAAAAAAA4QAAAAAAAADpAAAAAAAAAPUAAAAAAAAA4QAAAAAAAADhAAAAAAACAQEAAAAAAAIBAQAAAAAAAAEBAAAAAAAAAPEAAAAAAAAAzQAAAAAAAgD9AAAAAAADAQEAAAAAAAAA6QAAAAAAAAD5AAAAAAAAANkAAAAAAAIA1QGZmZmZmZkBAMzMzMzOzQ0DNzMzMzAxCQAAAAAAAgDtAMzMzMzMzO0CamZmZmRk1QGZmZmZm5jdAAAAAAACAPUDNzMzMzAxBQM3MzMzMzD9AzczMzMwMQ0CamZmZmZlCQM3MzMzMzD1AzczMzMxMP0AAAAAAAIBCQJqZmZmZGUBAzczMzMxMR0BmZmZmZmZEQM3MzMzMTEZAZmZmZmbmQECamZmZmVlAQDMzMzMzszdAMzMzMzMzQEDNzMzMzIxDQM3MzMzMjEFAZmZmZmYmQEAAAAAAAIBCQJqZmZmZ2UJAzczMzMwMQUCamZmZmdlAQDMzMzMzM0BAMzMzMzNzQECamZmZmZk/QGZmZmZmZjlAMzMzMzMzOEAAAAAAAIBCQAAAAAAAAD9AAAAAAAAAQkAAAAAAAABCQAAAAAAAAEFAAAAAAAAAQ0AAAAAAAABAQAAAAAAAAENAAAAAAAAAQEA=\",\"dtype\":\"float64\",\"shape\":[79]}},\"selected\":{\"id\":\"9d73b9a0-4404-4282-b4a0-27a97c54462a\",\"type\":\"Selection\"},\"selection_policy\":{\"id\":\"4a166713-e296-41f6-a80b-5d6a1074d38b\",\"type\":\"UnionRenderers\"}},\"id\":\"9fd95dff-4697-4785-a322-deb3e705dd9e\",\"type\":\"ColumnDataSource\"},{\"attributes\":{\"bottom_units\":\"screen\",\"fill_alpha\":{\"value\":0.5},\"fill_color\":{\"value\":\"lightgrey\"},\"left_units\":\"screen\",\"level\":\"overlay\",\"line_alpha\":{\"value\":1.0},\"line_color\":{\"value\":\"black\"},\"line_dash\":[4,4],\"line_width\":{\"value\":2},\"plot\":null,\"render_mode\":\"css\",\"right_units\":\"screen\",\"top_units\":\"screen\"},\"id\":\"55ace5d7-8b62-4c93-9548-1a73779dc98e\",\"type\":\"BoxAnnotation\"},{\"attributes\":{},\"id\":\"e053a031-0a38-4a61-9030-f96b24ca4963\",\"type\":\"UnionRenderers\"},{\"attributes\":{},\"id\":\"4a166713-e296-41f6-a80b-5d6a1074d38b\",\"type\":\"UnionRenderers\"},{\"attributes\":{\"source\":{\"id\":\"62e11c3c-bd8d-49d2-b2c5-b22cd11f48b5\",\"type\":\"ColumnDataSource\"}},\"id\":\"735ada3a-25fe-4925-8767-df1231597423\",\"type\":\"CDSView\"},{\"attributes\":{\"source\":{\"id\":\"e4eeaf41-a25c-4b06-905a-d653b7dfad52\",\"type\":\"ColumnDataSource\"}},\"id\":\"18f09358-0616-44de-9547-7f13de100705\",\"type\":\"CDSView\"},{\"attributes\":{},\"id\":\"1da0aa3e-a998-4dc5-8285-2a56de67bf7e\",\"type\":\"WheelZoomTool\"},{\"attributes\":{\"dimension\":1,\"plot\":{\"id\":\"71a19538-4460-4b13-b454-105dc614f5b1\",\"subtype\":\"Figure\",\"type\":\"Plot\"},\"ticker\":{\"id\":\"667d7931-314d-4386-8a51-3645b0dc0657\",\"type\":\"BasicTicker\"}},\"id\":\"15532099-0176-4614-a98e-469a5b3dd6ef\",\"type\":\"Grid\"},{\"attributes\":{},\"id\":\"667d7931-314d-4386-8a51-3645b0dc0657\",\"type\":\"BasicTicker\"},{\"attributes\":{\"label\":{\"value\":\"American\"},\"renderers\":[{\"id\":\"c31d1647-0065-403a-86d2-c6fd84319546\",\"type\":\"GlyphRenderer\"}]},\"id\":\"e342940a-2687-4f8f-80d5-b7aa45b4ee25\",\"type\":\"LegendItem\"},{\"attributes\":{\"bottom\":{\"field\":\"bottom\"},\"fill_alpha\":{\"value\":0.1},\"fill_color\":{\"value\":\"#1f77b4\"},\"line_alpha\":{\"value\":0.1},\"line_color\":{\"value\":\"#1f77b4\"},\"top\":{\"field\":\"top\"},\"width\":{\"value\":0.8},\"x\":{\"field\":\"x\"}},\"id\":\"5926eab8-ab12-438e-a458-cc75452e3b2c\",\"type\":\"VBar\"},{\"attributes\":{},\"id\":\"0f46d072-693f-4133-8bf2-e1a46cb19cc5\",\"type\":\"PanTool\"}],\"root_ids\":[\"71a19538-4460-4b13-b454-105dc614f5b1\"]},\"title\":\"Bokeh Application\",\"version\":\"0.13.0\"}};\n",
       "  var render_items = [{\"docid\":\"5427e26a-e4a6-41ff-906d-a3dc6a245c5a\",\"roots\":{\"71a19538-4460-4b13-b454-105dc614f5b1\":\"a3fbb3bd-5e38-4110-bb97-3dccf780acf7\"}}];\n",
       "  root.Bokeh.embed.embed_items_notebook(docs_json, render_items);\n",
       "\n",
       "  }\n",
       "  if (root.Bokeh !== undefined) {\n",
       "    embed_document(root);\n",
       "  } else {\n",
       "    var attempts = 0;\n",
       "    var timer = setInterval(function(root) {\n",
       "      if (root.Bokeh !== undefined) {\n",
       "        embed_document(root);\n",
       "        clearInterval(timer);\n",
       "      }\n",
       "      attempts++;\n",
       "      if (attempts > 100) {\n",
       "        console.log(\"Bokeh: ERROR: Unable to run BokehJS code because BokehJS library is missing\")\n",
       "        clearInterval(timer);\n",
       "      }\n",
       "    }, 10, root)\n",
       "  }\n",
       "})(window);"
      ],
      "application/vnd.bokehjs_exec.v0+json": ""
     },
     "metadata": {
      "application/vnd.bokehjs_exec.v0+json": {
       "id": "71a19538-4460-4b13-b454-105dc614f5b1"
      }
     },
     "output_type": "display_data"
    }
   ],
   "source": [
    "from bokeh.plotting import output_file\n",
    "\n",
    "output_file(\"barplot.html\")\n",
    "\n",
    "p = figure(title=\"MPG by Year (Japan and US)\")\n",
    "\n",
    "p.vbar(x=years, bottom=avg-std, top=avg+std, width=0.8, \n",
    "       fill_alpha=0.2, line_color=None, legend=\"MPG 1 stddev\")\n",
    "\n",
    "p.circle(x=japanese[\"yr\"], y=japanese[\"mpg\"], size=10, alpha=0.3,\n",
    "         color=\"red\", legend=\"Japanese\")\n",
    "\n",
    "p.triangle(x=american[\"yr\"], y=american[\"mpg\"], size=10, alpha=0.3,\n",
    "           color=\"blue\", legend=\"American\")\n",
    "\n",
    "p.legend.location = \"top_left\"\n",
    "show(p)"
   ]
  },
  {
   "cell_type": "markdown",
   "metadata": {},
   "source": [
    "## Bokeh Applications\n",
    "\n",
    "Bokeh also has a server component that can be used to build interactive web applications that easily connect the powerful constellation of PyData tools to sophisticated Bokeh visualizations. The Bokeh server can be used to:\n",
    "\n",
    "* respond to UI and tool events generated in a browser with computations or queries using the full power of python\n",
    "* automatically push server-side updates to the UI (i.e. widgets or plots in a browser)\n",
    "* use periodic, timeout, and asynchronous callbacks to drive streaming updates\n",
    "\n",
    "The cell below shows a simple deployed Bokeh application from https://demo.bokehplots.com embedded in an IFrame. Scrub the sliders or change the title to see the plot update. "
   ]
  },
  {
   "cell_type": "code",
   "execution_count": 8,
   "metadata": {},
   "outputs": [
    {
     "data": {
      "text/html": [
       "\n",
       "        <iframe\n",
       "            width=\"900\"\n",
       "            height=\"410\"\n",
       "            src=\"https://demo.bokehplots.com/apps/sliders/\"\n",
       "            frameborder=\"0\"\n",
       "            allowfullscreen\n",
       "        ></iframe>\n",
       "        "
      ],
      "text/plain": [
       "<IPython.lib.display.IFrame at 0x7f9edd9a27b8>"
      ]
     },
     "execution_count": 8,
     "metadata": {},
     "output_type": "execute_result"
    }
   ],
   "source": [
    "from IPython.display import IFrame\n",
    "IFrame('https://demo.bokehplots.com/apps/sliders/', width=900, height=410)"
   ]
  },
  {
   "cell_type": "markdown",
   "metadata": {},
   "source": [
    "Click on any of the thumbnails below to launch other live Bokeh applications.\n",
    "\n",
    "<center>\n",
    "<a href=\"https://demo.bokehplots.com/apps/crossfilter\">\n",
    "  <img \n",
    "    width=\"30%\" height=\"30%\" style=\"display: inline ; padding: 10px;\" \n",
    "    src=\"https://bokeh.pydata.org/static/crossfilter_t.png\"\n",
    "  >\n",
    "</a>\n",
    "\n",
    "<a href=\"https://demo.bokehplots.com/apps/movies\">\n",
    "  <img \n",
    "    width=\"30%\" height=\"30%\" style=\"display: inline ; padding: 10px;\" \n",
    "    src=\"https://bokeh.pydata.org/static/movies_t.png\" \n",
    "  >\n",
    "</a>\n",
    "\n",
    "<a href=\"https://demo.bokehplots.com/apps/gapminder\">\n",
    "  <img \n",
    "    width=\"30%\" height=\"30%\" style=\"display: inline ; padding: 10px;\" \n",
    "    src=\"http://bokeh.pydata.org/static/gapminder_t.png\"\n",
    "  >\n",
    "</a>\n",
    "</center>\n",
    "\n",
    "Find more details and information about developing and deploying Bokeh server applications in the User's Guide chapter [Running a Bokeh Server](https://bokeh.pydata.org/en/latest/docs/user_guide/server.html)."
   ]
  },
  {
   "cell_type": "markdown",
   "metadata": {},
   "source": [
    "## BokehJS\n",
    "\n",
    "At its core, Bokeh consists of a Javascript library, [BokehJS](https://github.com/bokeh/bokeh/tree/master/bokehjs), and a Python binding which provides classes and objects that ultimately generate a JSON representation of the plot structure.\n",
    "\n",
    "You can read more about design and usage in the [Developing with JavaScript](https://bokeh.pydata.org/en/latest/docs/user_guide/bokehjs.html) section of the Bokeh User's Guide."
   ]
  },
  {
   "cell_type": "markdown",
   "metadata": {},
   "source": [
    "## More Information\n",
    "\n",
    "Find more details and information at the resources listed below:\n",
    "\n",
    "*Documentation:* https://bokeh.pydata.org/en/latest\n",
    "\n",
    "*GitHub:* https://github.com/bokeh/bokeh\n",
    "\n",
    "*Mailing list:* [bokeh@anaconda.com](mailto:bokeh@anaconda.com)\n",
    "\n",
    "*Gitter Chat:* https://gitter.im/bokeh/bokeh\n",
    "\n",
    "Be sure to follow us on Twitter [@bokehplots](http://twitter.com/BokehPlots>) and on [Youtube](https://www.youtube.com/c/Bokehplots)!\n",
    "\n",
    "<img src=\"../images/bokeh-transparent.png\" width=\"64px\" height=\"64px\">"
   ]
  },
  {
   "cell_type": "code",
   "execution_count": null,
   "metadata": {
    "collapsed": true
   },
   "outputs": [],
   "source": []
  }
 ],
 "metadata": {
  "kernelspec": {
   "display_name": "Python 3",
   "language": "python",
   "name": "python3"
  },
  "language_info": {
   "codemirror_mode": {
    "name": "ipython",
    "version": 3
   },
   "file_extension": ".py",
   "mimetype": "text/x-python",
   "name": "python",
   "nbconvert_exporter": "python",
   "pygments_lexer": "ipython3",
   "version": "3.5.4"
  }
 },
 "nbformat": 4,
 "nbformat_minor": 1
}
