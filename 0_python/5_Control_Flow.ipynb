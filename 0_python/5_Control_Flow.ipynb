{
 "cells": [
  {
   "cell_type": "markdown",
   "metadata": {},
   "source": [
    "# 控制流语句"
   ]
  },
  {
   "cell_type": "markdown",
   "metadata": {},
   "source": [
    "## 1. If"
   ]
  },
  {
   "cell_type": "markdown",
   "metadata": {},
   "source": [
    "语法为：\n",
    "```\n",
    "if some_condition:\n",
    "    \n",
    "    algorithm\n",
    "```"
   ]
  },
  {
   "cell_type": "code",
   "execution_count": 7,
   "metadata": {
    "scrolled": true
   },
   "outputs": [
    {
     "name": "stdout",
     "output_type": "stream",
     "text": [
      "Welcome!\n",
      "Too\n"
     ]
    }
   ],
   "source": [
    "x = 4\n",
    "if x >10: \n",
    "    print(\"Hello\")\n",
    "else: \n",
    "    print(\"Welcome!\")\n",
    "    print(\"Too\")"
   ]
  },
  {
   "cell_type": "code",
   "execution_count": 2,
   "metadata": {},
   "outputs": [
    {
     "name": "stdout",
     "output_type": "stream",
     "text": [
      "Hello\n",
      "2\n"
     ]
    }
   ],
   "source": [
    "x = 14\n",
    "if x > 10: print(\"Hello\"); print(\"2\")"
   ]
  },
  {
   "cell_type": "markdown",
   "metadata": {},
   "source": [
    "## 2. If-else"
   ]
  },
  {
   "cell_type": "markdown",
   "metadata": {},
   "source": [
    "语法为：\n",
    "```\n",
    "if some_condition:\n",
    "    \n",
    "    algorithm\n",
    "    \n",
    "else:\n",
    "    \n",
    "    algorithm\n",
    "```"
   ]
  },
  {
   "cell_type": "code",
   "execution_count": 3,
   "metadata": {},
   "outputs": [
    {
     "name": "stdout",
     "output_type": "stream",
     "text": [
      "hello\n"
     ]
    }
   ],
   "source": [
    "x = 12\n",
    "if x > 10:\n",
    "    print(\"hello\")\n",
    "else:\n",
    "    print(\"world\")"
   ]
  },
  {
   "cell_type": "markdown",
   "metadata": {},
   "source": [
    "## 3. if-elif"
   ]
  },
  {
   "cell_type": "markdown",
   "metadata": {},
   "source": [
    "语法为：\n",
    "```\n",
    "if some_condition:\n",
    "    \n",
    "    algorithm\n",
    "\n",
    "elif some_condition:\n",
    "    \n",
    "    algorithm\n",
    "\n",
    "else:\n",
    "    \n",
    "    algorithm\n",
    "```"
   ]
  },
  {
   "cell_type": "code",
   "execution_count": 4,
   "metadata": {},
   "outputs": [
    {
     "name": "stdout",
     "output_type": "stream",
     "text": [
      "x<y\n"
     ]
    }
   ],
   "source": [
    "x = 10\n",
    "y = 12\n",
    "if x > y:\n",
    "    print(\"x>y\")\n",
    "elif x < y:\n",
    "    print(\"x<y\")\n",
    "else:\n",
    "    print(\"x=y\")"
   ]
  },
  {
   "cell_type": "markdown",
   "metadata": {},
   "source": [
    "在if语句里的if语句，if-elif或if-else都被称为嵌套if语句。"
   ]
  },
  {
   "cell_type": "code",
   "execution_count": 5,
   "metadata": {},
   "outputs": [
    {
     "name": "stdout",
     "output_type": "stream",
     "text": [
      "x<y\n",
      "x=10\n"
     ]
    }
   ],
   "source": [
    "x = 10\n",
    "y = 12\n",
    "if x > y:\n",
    "    print(\"x>y\")\n",
    "elif x < y:\n",
    "    print(\"x<y\")\n",
    "    if x==10:\n",
    "        print(\"x=10\")\n",
    "    else:\n",
    "        print(\"invalid\")\n",
    "else:\n",
    "    print(\"x=y\")"
   ]
  },
  {
   "cell_type": "markdown",
   "metadata": {},
   "source": [
    "## 4. 循环"
   ]
  },
  {
   "cell_type": "markdown",
   "metadata": {},
   "source": [
    "### 4.1 for"
   ]
  },
  {
   "cell_type": "markdown",
   "metadata": {},
   "source": [
    "语法为：\n",
    "```\n",
    "for variable in something:\n",
    "    \n",
    "    statements\n",
    "```"
   ]
  },
  {
   "cell_type": "code",
   "execution_count": 6,
   "metadata": {},
   "outputs": [
    {
     "name": "stdout",
     "output_type": "stream",
     "text": [
      "0\n",
      "1\n",
      "2\n",
      "3\n",
      "4\n"
     ]
    }
   ],
   "source": [
    "for i in range(5):\n",
    "    print(i)"
   ]
  },
  {
   "cell_type": "code",
   "execution_count": 7,
   "metadata": {},
   "outputs": [
    {
     "name": "stdout",
     "output_type": "stream",
     "text": [
      "1\n",
      "2\n",
      "5\n",
      "6\n"
     ]
    }
   ],
   "source": [
    "a = (1, 2, 5, 6)\n",
    "for i in a:\n",
    "    print(i)"
   ]
  },
  {
   "cell_type": "markdown",
   "metadata": {},
   "source": [
    "在上面的例子中，遍历了 `0,1,2,3,4`。每次它取每个值并在循环内执行算法。还可以遍历如下所示的嵌套列表。"
   ]
  },
  {
   "cell_type": "code",
   "execution_count": 8,
   "metadata": {},
   "outputs": [
    {
     "name": "stdout",
     "output_type": "stream",
     "text": [
      "[1, 2, 3]\n",
      "[4, 5, 6]\n",
      "[7, 8, 9]\n"
     ]
    }
   ],
   "source": [
    "list_of_lists = [[1, 2, 3], [4, 5, 6], [7, 8, 9]]\n",
    "for list1 in list_of_lists:\n",
    "    print(list1)"
   ]
  },
  {
   "cell_type": "markdown",
   "metadata": {},
   "source": [
    "嵌套的for循环的一个用例是"
   ]
  },
  {
   "cell_type": "code",
   "execution_count": 9,
   "metadata": {},
   "outputs": [
    {
     "name": "stdout",
     "output_type": "stream",
     "text": [
      "1\n",
      "2\n",
      "3\n",
      "\n",
      "4\n",
      "5\n",
      "6\n",
      "\n",
      "7\n",
      "8\n",
      "9\n",
      "\n"
     ]
    }
   ],
   "source": [
    "list_of_lists = [[1, 2, 3], [4, 5, 6], [7, 8, 9]]\n",
    "for list1 in list_of_lists:\n",
    "    for x in list1:\n",
    "        print(x)\n",
    "    print()"
   ]
  },
  {
   "cell_type": "markdown",
   "metadata": {},
   "source": [
    "### 4.2 while"
   ]
  },
  {
   "cell_type": "markdown",
   "metadata": {},
   "source": [
    "语法是：\n",
    "```\n",
    "while some_condition:\n",
    "    \n",
    "    algorithm\n",
    "```"
   ]
  },
  {
   "cell_type": "code",
   "execution_count": 10,
   "metadata": {},
   "outputs": [
    {
     "name": "stdout",
     "output_type": "stream",
     "text": [
      "1\n",
      "4\n",
      "Bye\n",
      "looping   4\n",
      "looping   5\n",
      "looping   6\n",
      "looping   7\n",
      "looping   8\n",
      "looping   9\n",
      "looping  10\n",
      "looping  11\n"
     ]
    }
   ],
   "source": [
    "i = 1\n",
    "while i < 3:\n",
    "    print(i ** 2)\n",
    "    i = i+1\n",
    "print('Bye')\n",
    "\n",
    "# do-untile\n",
    "while True:\n",
    "    #do something\n",
    "    i = i+1\n",
    "    print('looping %3d' % i)\n",
    "    \n",
    "    # check \n",
    "    if i>10: break"
   ]
  },
  {
   "cell_type": "markdown",
   "metadata": {},
   "source": [
    "## 5. break"
   ]
  },
  {
   "cell_type": "markdown",
   "metadata": {},
   "source": [
    "顾名思义。它用于在执行循环时，当条件为真时中断循环。"
   ]
  },
  {
   "cell_type": "code",
   "execution_count": 9,
   "metadata": {},
   "outputs": [
    {
     "name": "stdout",
     "output_type": "stream",
     "text": [
      "0\n",
      "1\n",
      "2\n",
      "3\n",
      "4\n",
      "5\n",
      "6\n",
      "7\n"
     ]
    }
   ],
   "source": [
    "for i in range(100):\n",
    "    print(i)\n",
    "    if i>=7:\n",
    "        break"
   ]
  },
  {
   "cell_type": "markdown",
   "metadata": {},
   "source": [
    "## 6. continue"
   ]
  },
  {
   "cell_type": "markdown",
   "metadata": {},
   "source": [
    "这将继续循环的其余部分。有时，当满足条件时，循环有可能终止。这可以使用continue语句避免。"
   ]
  },
  {
   "cell_type": "code",
   "execution_count": 11,
   "metadata": {},
   "outputs": [
    {
     "name": "stdout",
     "output_type": "stream",
     "text": [
      "0\n",
      "1\n",
      "2\n",
      "3\n",
      "4\n",
      "The end.\n",
      "The end.\n",
      "The end.\n",
      "The end.\n",
      "The end.\n"
     ]
    }
   ],
   "source": [
    "for i in range(10):\n",
    "    if i>4:\n",
    "        print(\"The end.\")\n",
    "        continue\n",
    "    if i<7:\n",
    "        print(i)"
   ]
  },
  {
   "cell_type": "markdown",
   "metadata": {},
   "source": [
    "## 7. 列表推导（List Comprehensions）"
   ]
  },
  {
   "cell_type": "markdown",
   "metadata": {},
   "source": [
    "Python可以使用列表推导模式，用一行代码就可以很容易地生成所需的列表。例如，如果我需要生成27的倍数，用`for`循环缩写的代码如下："
   ]
  },
  {
   "cell_type": "code",
   "execution_count": 12,
   "metadata": {},
   "outputs": [
    {
     "name": "stdout",
     "output_type": "stream",
     "text": [
      "[27, 54, 81, 108, 135, 162, 189, 216, 243, 270]\n"
     ]
    }
   ],
   "source": [
    "res = []\n",
    "for i in range(1,11):\n",
    "    x = 27*i\n",
    "    res.append(x)\n",
    "print(res)"
   ]
  },
  {
   "cell_type": "markdown",
   "metadata": {},
   "source": [
    "由于你需要生成另一个列表，所以列表推导是解决这个问题的更有效的方法（建议大家使用这样的方式）"
   ]
  },
  {
   "cell_type": "code",
   "execution_count": 19,
   "metadata": {},
   "outputs": [
    {
     "data": {
      "text/plain": [
       "[27, 54, 81, 108, 135, 162, 189, 216, 243, 270]"
      ]
     },
     "execution_count": 19,
     "metadata": {},
     "output_type": "execute_result"
    }
   ],
   "source": [
    "[27*x for x in range(1,11)]"
   ]
  },
  {
   "cell_type": "markdown",
   "metadata": {},
   "source": [
    "将表达方式用方括号括起来。"
   ]
  },
  {
   "cell_type": "markdown",
   "metadata": {},
   "source": [
    "上述代码的第一个块 `27*x` 是输出的内容，然后留下一个空格，然后写必要的循环。\n",
    "\n",
    "你可能想知道嵌套循环可以扩展到列表理解吗?是的，可以嵌套，如下面的例子："
   ]
  },
  {
   "cell_type": "code",
   "execution_count": 13,
   "metadata": {},
   "outputs": [
    {
     "data": {
      "text/plain": [
       "[27, 54, 81, 108, 135, 162, 189, 216, 243, 270]"
      ]
     },
     "execution_count": 13,
     "metadata": {},
     "output_type": "execute_result"
    }
   ],
   "source": [
    "[27*x for x in range(1,20) if x<=10]"
   ]
  },
  {
   "cell_type": "code",
   "execution_count": 14,
   "metadata": {
    "scrolled": true
   },
   "outputs": [
    {
     "data": {
      "text/plain": [
       "{'27': 27,\n",
       " '54': 54,\n",
       " '81': 81,\n",
       " '108': 108,\n",
       " '135': 135,\n",
       " '162': 162,\n",
       " '189': 189,\n",
       " '216': 216,\n",
       " '243': 243,\n",
       " '270': 270}"
      ]
     },
     "execution_count": 14,
     "metadata": {},
     "output_type": "execute_result"
    }
   ],
   "source": [
    "{str(27*x):27*x for x in range(1,20) if x<=10}"
   ]
  },
  {
   "cell_type": "code",
   "execution_count": 15,
   "metadata": {},
   "outputs": [
    {
     "data": {
      "text/plain": [
       "(27, 54, 81, 108, 135, 162, 189, 216, 243, 270)"
      ]
     },
     "execution_count": 15,
     "metadata": {},
     "output_type": "execute_result"
    }
   ],
   "source": [
    "tuple((27*x for x in range(1,20) if x<=10))"
   ]
  },
  {
   "cell_type": "markdown",
   "metadata": {},
   "source": [
    "再加一个循环，让大家更好地理解"
   ]
  },
  {
   "cell_type": "code",
   "execution_count": 16,
   "metadata": {},
   "outputs": [
    {
     "data": {
      "text/plain": [
       "[1, 2, 3, 4, 28, 29, 30, 31, 55, 56, 57, 58]"
      ]
     },
     "execution_count": 16,
     "metadata": {},
     "output_type": "execute_result"
    }
   ],
   "source": [
    "[27*i+z for i in range(5) if i<3 for z in range(1,5)]"
   ]
  }
 ],
 "metadata": {
  "kernelspec": {
   "display_name": "Python 3 (ipykernel)",
   "language": "python",
   "name": "python3"
  },
  "language_info": {
   "codemirror_mode": {
    "name": "ipython",
    "version": 3
   },
   "file_extension": ".py",
   "mimetype": "text/x-python",
   "name": "python",
   "nbconvert_exporter": "python",
   "pygments_lexer": "ipython3",
   "version": "3.9.18"
  }
 },
 "nbformat": 4,
 "nbformat_minor": 1
}
