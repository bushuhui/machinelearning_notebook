{
 "cells": [
  {
   "cell_type": "code",
   "execution_count": 1,
   "metadata": {
    "ExecuteTime": {
     "end_time": "2020-04-21T07:47:45.459261Z",
     "start_time": "2020-04-21T07:47:40.044461Z"
    }
   },
   "outputs": [],
   "source": [
    "import requests\n",
    "\n",
    "url = 'http://www.shixi.com'\n",
    "\n",
    "rqq = requests.get(url)"
   ]
  },
  {
   "cell_type": "code",
   "execution_count": 2,
   "metadata": {
    "ExecuteTime": {
     "end_time": "2020-04-21T07:48:01.591850Z",
     "start_time": "2020-04-21T07:48:01.584870Z"
    }
   },
   "outputs": [
    {
     "name": "stdout",
     "output_type": "stream",
     "text": [
      "响应码： 200\n",
      "编码格式： gbk\n",
      "请求头： {'Date': 'Tue, 17 Aug 2021 00:57:08 GMT', 'Server': 'Apache', 'Expires': 'Thu, 19 Nov 1981 08:52:00 GMT', 'Cache-Control': 'no-store, no-cache, must-revalidate, post-check=0, pre-check=0', 'Pragma': 'no-cache', 'Set-Cookie': 'PHPSESSID=nkkgd7u8uehpfpa8oahjdnqka3; path=/', 'Keep-Alive': 'timeout=5, max=100', 'Connection': 'Keep-Alive', 'Transfer-Encoding': 'chunked', 'Content-Type': 'text/html; charset=gbk'}\n"
     ]
    }
   ],
   "source": [
    "print('响应码：', rqq.status_code)\n",
    "print('编码格式：', rqq.encoding)\n",
    "print('请求头：', rqq.headers)"
   ]
  },
  {
   "cell_type": "code",
   "execution_count": 3,
   "metadata": {
    "ExecuteTime": {
     "end_time": "2020-04-21T07:52:36.107542Z",
     "start_time": "2020-04-21T07:52:35.379312Z"
    }
   },
   "outputs": [],
   "source": [
    "from bs4 import BeautifulSoup\n",
    "\n",
    "rqq = requests.get('http://www.shixi.com')\n",
    "\n",
    "soup = BeautifulSoup(rqq.content, 'lxml')"
   ]
  },
  {
   "cell_type": "code",
   "execution_count": 36,
   "metadata": {
    "ExecuteTime": {
     "end_time": "2020-04-21T08:10:12.625262Z",
     "start_time": "2020-04-21T08:10:12.612295Z"
    }
   },
   "outputs": [
    {
     "data": {
      "text/plain": [
       "['销售运营实习生',\n",
       " 'FA实习生',\n",
       " '市场推广实习生',\n",
       " '文员实习生，行政实习生',\n",
       " '服务管控实习生',\n",
       " '销售实习生',\n",
       " '羽西文化咨询有限公司招聘公关实习 ',\n",
       " '美国实习岗位-视频音频编辑制作/新媒体 ',\n",
       " '美国实习岗位-法律 ',\n",
       " '美国实习岗位-平面设计和网页设计开发 ',\n",
       " 'Marketing Intern ',\n",
       " 'Sales Associate ',\n",
       " 'UI Designer ',\n",
       " 'Marketing Analyst ',\n",
       " 'Blockchain Analyst Intern ',\n",
       " 'Investment Analyst Intern ']"
      ]
     },
     "execution_count": 36,
     "metadata": {},
     "output_type": "execute_result"
    }
   ],
   "source": [
    "job_name=[i.text for i in soup.select('.job_content > h3 > a')]+[i.text for i in soup.select('.job_content > h3 > span.title ')]\n",
    "job_name"
   ]
  },
  {
   "cell_type": "code",
   "execution_count": 40,
   "metadata": {
    "ExecuteTime": {
     "end_time": "2020-04-21T08:12:34.921459Z",
     "start_time": "2020-04-21T08:12:34.911517Z"
    }
   },
   "outputs": [
    {
     "data": {
      "text/plain": [
       "['北京',\n",
       " '北京',\n",
       " '北京',\n",
       " '北京',\n",
       " '北京',\n",
       " '北京',\n",
       " '美国/纽约',\n",
       " '美国/纽约',\n",
       " '美国/纽约',\n",
       " '美国/纽约',\n",
       " '美国/纽约',\n",
       " '美国/纽约',\n",
       " '美国/纽约',\n",
       " '美国/纽约',\n",
       " '美国/纽约',\n",
       " '美国/纽约']"
      ]
     },
     "execution_count": 40,
     "metadata": {},
     "output_type": "execute_result"
    }
   ],
   "source": [
    "job_add=[i.text for i in soup.select('.job_content > p.job_detail > span.address')]\n",
    "job_add"
   ]
  },
  {
   "cell_type": "code",
   "execution_count": 41,
   "metadata": {
    "ExecuteTime": {
     "end_time": "2020-04-21T08:13:28.279810Z",
     "start_time": "2020-04-21T08:13:28.269840Z"
    }
   },
   "outputs": [
    {
     "data": {
      "text/plain": [
       "['本科',\n",
       " '本科',\n",
       " '本科',\n",
       " '大专',\n",
       " '本科',\n",
       " '本科',\n",
       " '本科',\n",
       " '本科',\n",
       " '本科',\n",
       " '本科',\n",
       " '本科',\n",
       " '本科',\n",
       " '本科',\n",
       " '本科',\n",
       " '本科',\n",
       " '本科']"
      ]
     },
     "execution_count": 41,
     "metadata": {},
     "output_type": "execute_result"
    }
   ],
   "source": [
    "job_degree=[i.text for i in soup.select('.job_content > p.job_detail > span.degree')]\n",
    "job_degree"
   ]
  },
  {
   "cell_type": "code",
   "execution_count": 42,
   "metadata": {
    "ExecuteTime": {
     "end_time": "2020-04-21T08:13:47.214702Z",
     "start_time": "2020-04-21T08:13:47.204757Z"
    }
   },
   "outputs": [
    {
     "data": {
      "text/plain": [
       "['80/天',\n",
       " '150/天',\n",
       " '100/天',\n",
       " '120/天',\n",
       " '150/天',\n",
       " '100/天',\n",
       " '面议',\n",
       " '面议',\n",
       " '面议',\n",
       " '面议',\n",
       " '面议',\n",
       " '面议',\n",
       " '面议',\n",
       " '面议',\n",
       " '面议',\n",
       " '面议']"
      ]
     },
     "execution_count": 42,
     "metadata": {},
     "output_type": "execute_result"
    }
   ],
   "source": [
    "job_money=[i.text for i in soup.select('.job_content > p.job_detail > span.money')]\n",
    "job_money"
   ]
  },
  {
   "cell_type": "code",
   "execution_count": 46,
   "metadata": {
    "ExecuteTime": {
     "end_time": "2020-04-21T08:16:21.086487Z",
     "start_time": "2020-04-21T08:16:21.073523Z"
    }
   },
   "outputs": [
    {
     "data": {
      "text/plain": [
       "[['销售运营实习生', '北京', '本科', '80/天'],\n",
       " ['FA实习生', '北京', '本科', '150/天'],\n",
       " ['市场推广实习生', '北京', '本科', '100/天'],\n",
       " ['文员实习生，行政实习生', '北京', '大专', '120/天'],\n",
       " ['服务管控实习生', '北京', '本科', '150/天'],\n",
       " ['销售实习生', '北京', '本科', '100/天'],\n",
       " ['羽西文化咨询有限公司招聘公关实习 ', '美国/纽约', '本科', '面议'],\n",
       " ['美国实习岗位-视频音频编辑制作/新媒体 ', '美国/纽约', '本科', '面议'],\n",
       " ['美国实习岗位-法律 ', '美国/纽约', '本科', '面议'],\n",
       " ['美国实习岗位-平面设计和网页设计开发 ', '美国/纽约', '本科', '面议'],\n",
       " ['Marketing Intern ', '美国/纽约', '本科', '面议'],\n",
       " ['Sales Associate ', '美国/纽约', '本科', '面议'],\n",
       " ['UI Designer ', '美国/纽约', '本科', '面议'],\n",
       " ['Marketing Analyst ', '美国/纽约', '本科', '面议'],\n",
       " ['Blockchain Analyst Intern ', '美国/纽约', '本科', '面议'],\n",
       " ['Investment Analyst Intern ', '美国/纽约', '本科', '面议']]"
      ]
     },
     "execution_count": 46,
     "metadata": {},
     "output_type": "execute_result"
    }
   ],
   "source": [
    "hot_jobs =[list(i) for i in zip(job_name,job_add,job_degree,job_money)]\n",
    "hot_jobs"
   ]
  },
  {
   "cell_type": "code",
   "execution_count": null,
   "metadata": {},
   "outputs": [],
   "source": []
  }
 ],
 "metadata": {
  "kernelspec": {
   "display_name": "Python 3",
   "language": "python",
   "name": "python3"
  },
  "language_info": {
   "codemirror_mode": {
    "name": "ipython",
    "version": 3
   },
   "file_extension": ".py",
   "mimetype": "text/x-python",
   "name": "python",
   "nbconvert_exporter": "python",
   "pygments_lexer": "ipython3",
   "version": "3.8.8"
  },
  "varInspector": {
   "cols": {
    "lenName": 16,
    "lenType": 16,
    "lenVar": 40
   },
   "kernels_config": {
    "python": {
     "delete_cmd_postfix": "",
     "delete_cmd_prefix": "del ",
     "library": "var_list.py",
     "varRefreshCmd": "print(var_dic_list())"
    },
    "r": {
     "delete_cmd_postfix": ") ",
     "delete_cmd_prefix": "rm(",
     "library": "var_list.r",
     "varRefreshCmd": "cat(var_dic_list()) "
    }
   },
   "types_to_exclude": [
    "module",
    "function",
    "builtin_function_or_method",
    "instance",
    "_Feature"
   ],
   "window_display": false
  }
 },
 "nbformat": 4,
 "nbformat_minor": 4
}
