{
 "cells": [
  {
   "cell_type": "code",
   "execution_count": 2,
   "metadata": {
    "collapsed": true
   },
   "outputs": [
    {
     "data": {
      "text/plain": [
       "'\\ufeff<!DOCTYPE html PUBLIC \"-//W3C//DTD XHTML 1.0 Transitional//EN\" \"http://www.w3.org/TR/xhtml1/DTD/xhtml1-transitional.dtd\">\\n<html xmlns=\"http://www.w3.org/1999/xhtml\">\\n<head>\\n<meta http-equiv=\"X-UA-Compatible\" content=\"IE=edge\" />\\n<meta http-equiv=\"Content-Type\" content=\"text/html; charset=utf-8\" />\\n<title>搜索结果 - 歌曲</title>\\n<link href=\"/min/g=2018css\" rel=\"stylesheet\" type=\"text/css\" />\\n<link href=\"/min/b=2018/resources/css/main&f=search.css\" rel=\"stylesheet\" type=\"text/css\" />\\n<link href=\"/min/g=2018csslist,2018csspagenum,2018cssscroll\" rel=\"stylesheet\" type=\"text/css\" />\\n</head>\\n<body>\\n<div id=\"useScroll\">\\n  <div class=\"main_body skin1\">\\n    <!-- banner begin -->\\n    <div class=\"search_banner\"><span>搜索<b class=\"qword\" id=\"qword\" title=\"张杰\">张杰</b>，为你找到相关歌曲&nbsp;<b>264</b>&nbsp;首</span>\\n      <!-- <div id=\"searchAd\" data-url=\"http://music.baidu.com/cms/mobile/static/apk/baidumusic-pcsssy.apk\"><img src=\"/resources/images/new_pic/ad_1.png\" /></div> -->\\n    </div>\\n    <!-- banner end -->\\n\\n    <!-- tab begin -->\\n         <div class=\"search_tab info_tab\">\\n      <ul>\\n                    <li class=\"visited\"><a href=\"javascript:void(0);\">歌曲<b>（264）</b></a></li>\\n                                        <li><a data-searchpos=\"singer\" href=\"/2018/app/search/searchListUgc.php?qword=%E5%BC%A0%E6%9D%B0&type=2\">歌手<b>（9）</b></a></li>\\n                    \\n                                <li><a data-searchpos=\"album\" href=\"/2018/app/search/searchListUgc.php?qword=%E5%BC%A0%E6%9D%B0&type=3\">专辑<b>（53）</b></a></li>\\n                    \\n                                <li class=\"disable\"><a href=\"javascript:void(0);\">歌单<b>（0）</b></a></li>\\n                    \\n                                <li class=\"disable\"><a href=\"javascript:void(0);\">用户<b>（0）</b></a></li>\\n                    \\n                                <li class=\"disable\"><a href=\"javascript:void(0);\">话题<b>（0）</b></a></li>\\n                          </ul>\\n    </div>   \\n    <div class=\"clear_float\"></div>\\n<script>\\n$(function(){\\n    /*-- log --*/\\n    $(\".search_tab li\").on(\"click\",function(){\\n        var searchpos = $(this).children(\"a\").data(\"searchpos\");\\n        var logs = {type : \"click\", page : \"search\", pos : \"song\",\"sub\":\"\"};\\n        if(searchpos){\\n            logs.pos = searchpos;\\n            $.ClickMonkey(logs);\\n        }\\n    });\\n});\\n\\n</script>\\n    <!-- tab end -->\\n \\n \\n    <!-- error begin -->\\n        <!-- error end -->\\n    <!-- table begin -->\\n    <div id=\"searchTable\" class=\"main_table_wrap new_search_list\" oncontextmenu=\"return false\" onselectstart=\"return false\">\\n       <table class=\"main_table_con\">\\n        <thead>\\n          <tr>\\n            <th class=\"num\"></th>\\n            <th class=\"source\"></th>\\n            <th class=\"s_title\">歌曲</th>\\n            <th class=\"fct\"></th>\\n            <th class=\"u_title\">歌手</th>\\n            <th class=\"a_title\">专辑</th>\\n          <!--   <th class=\"icon\"></th> -->\\n          </tr>\\n        </thead>\\n        <tbody class=\"main_table\">\\n                <tr data-song=\"{&quot;song_id&quot;:&quot;598740690&quot;,&quot;song_title&quot;:&quot;\\\\u53ea\\\\u8981\\\\u5e73\\\\u51e1&quot;,&quot;artist_id&quot;:&quot;14&quot;,&quot;song_artist&quot;:&quot;\\\\u5f20\\\\u6770,\\\\u5f20\\\\u78a7\\\\u6668&quot;,&quot;album_id&quot;:&quot;598740686&quot;,&quot;album_title&quot;:&quot;\\\\u53ea\\\\u8981\\\\u5e73\\\\u51e1&quot;,&quot;album_image_url&quot;:&quot;http:\\\\/\\\\/qukufile2.qianqian.com\\\\/data2\\\\/pic\\\\/2854c6d30aab478cec599a174c911eea\\\\/598740687\\\\/598740687.jpg@s_2,w_90,h_90&quot;,&quot;album_relate_status&quot;:1,&quot;copy_type&quot;:&quot;1&quot;,&quot;has_mv&quot;:1,&quot;biaoshi&quot;:&quot;lossless,perm-3&quot;}\" class=\"\" data-song=\"{&quot;song_id&quot;:&quot;598740690&quot;,&quot;song_title&quot;:&quot;\\\\u53ea\\\\u8981\\\\u5e73\\\\u51e1&quot;,&quot;artist_id&quot;:&quot;14&quot;,&quot;song_artist&quot;:&quot;\\\\u5f20\\\\u6770,\\\\u5f20\\\\u78a7\\\\u6668&quot;,&quot;album_id&quot;:&quot;598740686&quot;,&quot;album_title&quot;:&quot;\\\\u53ea\\\\u8981\\\\u5e73\\\\u51e1&quot;,&quot;album_image_url&quot;:&quot;http:\\\\/\\\\/qukufile2.qianqian.com\\\\/data2\\\\/pic\\\\/2854c6d30aab478cec599a174c911eea\\\\/598740687\\\\/598740687.jpg@s_2,w_90,h_90&quot;,&quot;album_relate_status&quot;:1,&quot;copy_type&quot;:&quot;1&quot;,&quot;has_mv&quot;:1,&quot;biaoshi&quot;:&quot;lossless,perm-3&quot;}\" data-copytype=\"1\">\\n          <td class=\"num\">1</td>\\n          <td class=\"source\"></td>         \\n          <td class=\"s_title hasprev\">\\n          <span class=\"s_title_txt s_title_icon_1\" title=\"只要平凡\">只要平凡</span>\\n                    <a href=\"javascript:;\" class=\"mv_icon\"></a>\\n                              <a class=\"biaoshi lossless\"></a>\\n                    </td>\\n          <td class=\"fct\"><div class=\"fct_btn\"><a href=\"javascript:;\" class=\"play\" title=\"播放\"></a><a href=\"javascript:;\" class=\"phone\" data-action=\"phone\" title=\"发送到手机\"></a><a href=\"javascript:;\" class=\"more\" data-action=\"more\" title=\"更多\"></a></div></td>\\n          <td class=\"u_title\"><a href=\"javascript:;\" class=\"artist\" title=\"张杰\" data-artistid=\"14\" data-uid=\"0\">张杰</a>,<a href=\"javascript:;\" class=\"artist\" title=\"张碧晨\" data-artistid=\"123339593\" data-uid=\"0\">张碧晨</a></td>\\n          <td class=\"a_title\"><a href=\"javascript:;\" title=\"只要平凡\" data-albumid=\"598740686\">只要平凡</a></td>\\n         <!--  <td class=\"icon\"><i class=\"sq\" title=\"无损品质\"></i></td> -->\\n        </tr>\\n                <tr data-song=\"{&quot;song_id&quot;:&quot;127018924&quot;,&quot;song_title&quot;:&quot;My Sunshine&quot;,&quot;artist_id&quot;:&quot;14&quot;,&quot;song_artist&quot;:&quot;\\\\u5f20\\\\u6770&quot;,&quot;album_id&quot;:&quot;127619348&quot;,&quot;album_title&quot;:&quot;\\\\u4f55\\\\u4ee5\\\\u7b19\\\\u7bab\\\\u9ed8 \\\\u7535\\\\u89c6\\\\u539f\\\\u58f0\\\\u5e26&quot;,&quot;album_image_url&quot;:&quot;http:\\\\/\\\\/qukufile2.qianqian.com\\\\/data2\\\\/pic\\\\/127619462\\\\/127619462.jpg@s_2,w_90,h_90&quot;,&quot;album_relate_status&quot;:1,&quot;copy_type&quot;:&quot;1&quot;,&quot;has_mv&quot;:1,&quot;biaoshi&quot;:&quot;lossless,perm-3&quot;}\" class=\"\" data-song=\"{&quot;song_id&quot;:&quot;127018924&quot;,&quot;song_title&quot;:&quot;My Sunshine&quot;,&quot;artist_id&quot;:&quot;14&quot;,&quot;song_artist&quot;:&quot;\\\\u5f20\\\\u6770&quot;,&quot;album_id&quot;:&quot;127619348&quot;,&quot;album_title&quot;:&quot;\\\\u4f55\\\\u4ee5\\\\u7b19\\\\u7bab\\\\u9ed8 \\\\u7535\\\\u89c6\\\\u539f\\\\u58f0\\\\u5e26&quot;,&quot;album_image_url&quot;:&quot;http:\\\\/\\\\/qukufile2.qianqian.com\\\\/data2\\\\/pic\\\\/127619462\\\\/127619462.jpg@s_2,w_90,h_90&quot;,&quot;album_relate_status&quot;:1,&quot;copy_type&quot;:&quot;1&quot;,&quot;has_mv&quot;:1,&quot;biaoshi&quot;:&quot;lossless,perm-3&quot;}\" data-copytype=\"1\">\\n          <td class=\"num\">2</td>\\n          <td class=\"source\"></td>         \\n          <td class=\"s_title hasprev\">\\n          <span class=\"s_title_txt s_title_icon_1\" title=\"My Sunshine\">My Sunshine</span>\\n                    <a href=\"javascript:;\" class=\"mv_icon\"></a>\\n                              <a class=\"biaoshi lossless\"></a>\\n                    </td>\\n          <td class=\"fct\"><div class=\"fct_btn\"><a href=\"javascript:;\" class=\"play\" title=\"播放\"></a><a href=\"javascript:;\" class=\"phone\" data-action=\"phone\" title=\"发送到手机\"></a><a href=\"javascript:;\" class=\"more\" data-action=\"more\" title=\"更多\"></a></div></td>\\n          <td class=\"u_title\"><a href=\"javascript:;\" class=\"artist\" title=\"张杰\" data-artistid=\"14\" data-uid=\"0\">张杰</a></td>\\n          <td class=\"a_title\"><a href=\"javascript:;\" title=\"何以笙箫默 电视原声带\" data-albumid=\"127619348\">何以笙箫默 电视原声带</a></td>\\n         <!--  <td class=\"icon\"><i class=\"sq\" title=\"无损品质\"></i></td> -->\\n        </tr>\\n                <tr data-song=\"{&quot;song_id&quot;:&quot;123192697&quot;,&quot;song_title&quot;:&quot;\\\\u542c&quot;,&quot;artist_id&quot;:&quot;14&quot;,&quot;song_artist&quot;:&quot;\\\\u5f20\\\\u6770&quot;,&quot;album_id&quot;:&quot;123206530&quot;,&quot;album_title&quot;:&quot;\\\\u542c&quot;,&quot;album_image_url&quot;:&quot;http:\\\\/\\\\/qukufile2.qianqian.com\\\\/data2\\\\/pic\\\\/9bea0301836016bbbc85209ec8772ad1\\\\/267528651\\\\/267528651.jpg@s_2,w_90,h_90&quot;,&quot;album_relate_status&quot;:1,&quot;copy_type&quot;:&quot;1&quot;,&quot;has_mv&quot;:1,&quot;biaoshi&quot;:&quot;lossless,perm-3&quot;}\" class=\"\" data-song=\"{&quot;song_id&quot;:&quot;123192697&quot;,&quot;song_title&quot;:&quot;\\\\u542c&quot;,&quot;artist_id&quot;:&quot;14&quot;,&quot;song_artist&quot;:&quot;\\\\u5f20\\\\u6770&quot;,&quot;album_id&quot;:&quot;123206530&quot;,&quot;album_title&quot;:&quot;\\\\u542c&quot;,&quot;album_image_url&quot;:&quot;http:\\\\/\\\\/qukufile2.qianqian.com\\\\/data2\\\\/pic\\\\/9bea0301836016bbbc85209ec8772ad1\\\\/267528651\\\\/267528651.jpg@s_2,w_90,h_90&quot;,&quot;album_relate_status&quot;:1,&quot;copy_type&quot;:&quot;1&quot;,&quot;has_mv&quot;:1,&quot;biaoshi&quot;:&quot;lossless,perm-3&quot;}\" data-copytype=\"1\">\\n          <td class=\"num\">3</td>\\n          <td class=\"source\"></td>         \\n          <td class=\"s_title hasprev\">\\n          <span class=\"s_title_txt s_title_icon_1\" title=\"听\">听</span>\\n                    <a href=\"javascript:;\" class=\"mv_icon\"></a>\\n                              <a class=\"biaoshi lossless\"></a>\\n                    </td>\\n          <td class=\"fct\"><div class=\"fct_btn\"><a href=\"javascript:;\" class=\"play\" title=\"播放\"></a><a href=\"javascript:;\" class=\"phone\" data-action=\"phone\" title=\"发送到手机\"></a><a href=\"javascript:;\" class=\"more\" data-action=\"more\" title=\"更多\"></a></div></td>\\n          <td class=\"u_title\"><a href=\"javascript:;\" class=\"artist\" title=\"张杰\" data-artistid=\"14\" data-uid=\"0\">张杰</a></td>\\n          <td class=\"a_title\"><a href=\"javascript:;\" title=\"听\" data-albumid=\"123206530\">听</a></td>\\n         <!--  <td class=\"icon\"><i class=\"sq\" title=\"无损品质\"></i></td> -->\\n        </tr>\\n                <tr data-song=\"{&quot;song_id&quot;:&quot;609686640&quot;,&quot;song_title&quot;:&quot;\\\\u300a\\\\u661f\\\\u8fb0\\\\u300b\\\\u2014\\\\u2014\\\\u7535\\\\u89c6\\\\u5267\\\\u300a\\\\u62e9\\\\u5929\\\\u8bb0\\\\u300b\\\\u7247\\\\u5934\\\\u66f2&quot;,&quot;artist_id&quot;:&quot;14&quot;,&quot;song_artist&quot;:&quot;\\\\u5f20\\\\u6770&quot;,&quot;album_id&quot;:&quot;609686638&quot;,&quot;album_title&quot;:&quot;\\\\u300a\\\\u62e9\\\\u5929\\\\u8bb0\\\\u300b\\\\u5f71\\\\u89c6\\\\u5267OST&quot;,&quot;album_image_url&quot;:&quot;http:\\\\/\\\\/qukufile2.qianqian.com\\\\/data2\\\\/pic\\\\/19cb1b021834e94231f1d722d38cfff3\\\\/612055421\\\\/612055421.jpg@s_2,w_90,h_90&quot;,&quot;album_relate_status&quot;:1,&quot;copy_type&quot;:&quot;1&quot;,&quot;has_mv&quot;:0,&quot;biaoshi&quot;:&quot;lossless,perm-1&quot;}\" class=\"\" data-song=\"{&quot;song_id&quot;:&quot;609686640&quot;,&quot;song_title&quot;:&quot;\\\\u300a\\\\u661f\\\\u8fb0\\\\u300b\\\\u2014\\\\u2014\\\\u7535\\\\u89c6\\\\u5267\\\\u300a\\\\u62e9\\\\u5929\\\\u8bb0\\\\u300b\\\\u7247\\\\u5934\\\\u66f2&quot;,&quot;artist_id&quot;:&quot;14&quot;,&quot;song_artist&quot;:&quot;\\\\u5f20\\\\u6770&quot;,&quot;album_id&quot;:&quot;609686638&quot;,&quot;album_title&quot;:&quot;\\\\u300a\\\\u62e9\\\\u5929\\\\u8bb0\\\\u300b\\\\u5f71\\\\u89c6\\\\u5267OST&quot;,&quot;album_image_url&quot;:&quot;http:\\\\/\\\\/qukufile2.qianqian.com\\\\/data2\\\\/pic\\\\/19cb1b021834e94231f1d722d38cfff3\\\\/612055421\\\\/612055421.jpg@s_2,w_90,h_90&quot;,&quot;album_relate_status&quot;:1,&quot;copy_type&quot;:&quot;1&quot;,&quot;has_mv&quot;:0,&quot;biaoshi&quot;:&quot;lossless,perm-1&quot;}\" data-copytype=\"1\">\\n          <td class=\"num\">4</td>\\n          <td class=\"source\"></td>         \\n          <td class=\"s_title hasprev\">\\n          <span class=\"s_title_txt s_title_icon_1\" title=\"《星辰》——电视剧《择天记》片头曲\">《星辰》——电视剧《择天记》片头曲</span>\\n                              <a class=\"biaoshi lossless\"></a>\\n                    </td>\\n          <td class=\"fct\"><div class=\"fct_btn\"><a href=\"javascript:;\" class=\"play\" title=\"播放\"></a><a href=\"javascript:;\" class=\"phone\" data-action=\"phone\" title=\"发送到手机\"></a><a href=\"javascript:;\" class=\"more\" data-action=\"more\" title=\"更多\"></a></div></td>\\n          <td class=\"u_title\"><a href=\"javascript:;\" class=\"artist\" title=\"张杰\" data-artistid=\"14\" data-uid=\"0\">张杰</a></td>\\n          <td class=\"a_title\"><a href=\"javascript:;\" title=\"《择天记》影视剧OST\" data-albumid=\"609686638\">《择天记》影视剧OST</a></td>\\n         <!--  <td class=\"icon\"><i class=\"sq\" title=\"无损品质\"></i></td> -->\\n        </tr>\\n                <tr data-song=\"{&quot;song_id&quot;:&quot;601622060&quot;,&quot;song_title&quot;:&quot;\\\\u5fae\\\\u7b11\\\\u7740\\\\u80dc\\\\u5229\\\\uff08\\\\u5e86\\\\u795d\\\\u5efa\\\\u519b91\\\\u5468\\\\u5e74\\\\u7f51\\\\u5ba3\\\\u4e3b\\\\u9898\\\\u66f2\\\\uff09&quot;,&quot;artist_id&quot;:&quot;14&quot;,&quot;song_artist&quot;:&quot;\\\\u5f20\\\\u6770&quot;,&quot;album_id&quot;:&quot;601622056&quot;,&quot;album_title&quot;:&quot;\\\\u5fae\\\\u7b11\\\\u7740\\\\u80dc\\\\u5229\\\\uff08\\\\u5e86\\\\u795d\\\\u5efa\\\\u519b91\\\\u5468\\\\u5e74\\\\u7f51\\\\u5ba3\\\\u4e3b\\\\u9898\\\\u66f2\\\\uff09&quot;,&quot;album_image_url&quot;:&quot;http:\\\\/\\\\/qukufile2.qianqian.com\\\\/data2\\\\/pic\\\\/8910f09bc6315984356d28e58e8120c0\\\\/601622057\\\\/601622057.jpg@s_2,w_90,h_90&quot;,&quot;album_relate_status&quot;:1,&quot;copy_type&quot;:&quot;1&quot;,&quot;has_mv&quot;:1,&quot;biaoshi&quot;:&quot;lossless,perm-3&quot;}\" class=\"\" data-song=\"{&quot;song_id&quot;:&quot;601622060&quot;,&quot;song_title&quot;:&quot;\\\\u5fae\\\\u7b11\\\\u7740\\\\u80dc\\\\u5229\\\\uff08\\\\u5e86\\\\u795d\\\\u5efa\\\\u519b91\\\\u5468\\\\u5e74\\\\u7f51\\\\u5ba3\\\\u4e3b\\\\u9898\\\\u66f2\\\\uff09&quot;,&quot;artist_id&quot;:&quot;14&quot;,&quot;song_artist&quot;:&quot;\\\\u5f20\\\\u6770&quot;,&quot;album_id&quot;:&quot;601622056&quot;,&quot;album_title&quot;:&quot;\\\\u5fae\\\\u7b11\\\\u7740\\\\u80dc\\\\u5229\\\\uff08\\\\u5e86\\\\u795d\\\\u5efa\\\\u519b91\\\\u5468\\\\u5e74\\\\u7f51\\\\u5ba3\\\\u4e3b\\\\u9898\\\\u66f2\\\\uff09&quot;,&quot;album_image_url&quot;:&quot;http:\\\\/\\\\/qukufile2.qianqian.com\\\\/data2\\\\/pic\\\\/8910f09bc6315984356d28e58e8120c0\\\\/601622057\\\\/601622057.jpg@s_2,w_90,h_90&quot;,&quot;album_relate_status&quot;:1,&quot;copy_type&quot;:&quot;1&quot;,&quot;has_mv&quot;:1,&quot;biaoshi&quot;:&quot;lossless,perm-3&quot;}\" data-copytype=\"1\">\\n          <td class=\"num\">5</td>\\n          <td class=\"source\"></td>         \\n          <td class=\"s_title hasprev\">\\n          <span class=\"s_title_txt s_title_icon_1\" title=\"微笑着胜利（庆祝建军91周年网宣主题曲）\">微笑着胜利（庆祝建军91周年网宣主题曲）</span>\\n                    <a href=\"javascript:;\" class=\"mv_icon\"></a>\\n                              <a class=\"biaoshi lossless\"></a>\\n                    </td>\\n          <td class=\"fct\"><div class=\"fct_btn\"><a href=\"javascript:;\" class=\"play\" title=\"播放\"></a><a href=\"javascript:;\" class=\"phone\" data-action=\"phone\" title=\"发送到手机\"></a><a href=\"javascript:;\" class=\"more\" data-action=\"more\" title=\"更多\"></a></div></td>\\n          <td class=\"u_title\"><a href=\"javascript:;\" class=\"artist\" title=\"张杰\" data-artistid=\"14\" data-uid=\"0\">张杰</a></td>\\n          <td class=\"a_title\"><a href=\"javascript:;\" title=\"微笑着胜利（庆祝建军91周年网宣主题曲）\" data-albumid=\"601622056\">微笑着胜利（庆祝建军91周年网宣主题曲）</a></td>\\n         <!--  <td class=\"icon\"><i class=\"sq\" title=\"无损品质\"></i></td> -->\\n        </tr>\\n                <tr data-song=\"{&quot;song_id&quot;:&quot;277779153&quot;,&quot;song_title&quot;:&quot;Give You My World&quot;,&quot;artist_id&quot;:&quot;14&quot;,&quot;song_artist&quot;:&quot;\\\\u5f20\\\\u6770&quot;,&quot;album_id&quot;:&quot;277779155&quot;,&quot;album_title&quot;:&quot;Give You My World&quot;,&quot;album_image_url&quot;:&quot;http:\\\\/\\\\/qukufile2.qianqian.com\\\\/data2\\\\/pic\\\\/5834499b180d49657f765e0dd186d081\\\\/277779156\\\\/277779156.jpg@s_2,w_90,h_90&quot;,&quot;album_relate_status&quot;:1,&quot;copy_type&quot;:&quot;1&quot;,&quot;has_mv&quot;:1,&quot;biaoshi&quot;:&quot;lossless,perm-3&quot;}\" class=\"\" data-song=\"{&quot;song_id&quot;:&quot;277779153&quot;,&quot;song_title&quot;:&quot;Give You My World&quot;,&quot;artist_id&quot;:&quot;14&quot;,&quot;song_artist&quot;:&quot;\\\\u5f20\\\\u6770&quot;,&quot;album_id&quot;:&quot;277779155&quot;,&quot;album_title&quot;:&quot;Give You My World&quot;,&quot;album_image_url&quot;:&quot;http:\\\\/\\\\/qukufile2.qianqian.com\\\\/data2\\\\/pic\\\\/5834499b180d49657f765e0dd186d081\\\\/277779156\\\\/277779156.jpg@s_2,w_90,h_90&quot;,&quot;album_relate_status&quot;:1,&quot;copy_type&quot;:&quot;1&quot;,&quot;has_mv&quot;:1,&quot;biaoshi&quot;:&quot;lossless,perm-3&quot;}\" data-copytype=\"1\">\\n          <td class=\"num\">6</td>\\n          <td class=\"source\"></td>         \\n          <td class=\"s_title hasprev\">\\n          <span class=\"s_title_txt s_title_icon_1\" title=\"Give You My World\">Give You My World</span>\\n                    <a href=\"javascript:;\" class=\"mv_icon\"></a>\\n                              <a class=\"biaoshi lossless\"></a>\\n                    </td>\\n          <td class=\"fct\"><div class=\"fct_btn\"><a href=\"javascript:;\" class=\"play\" title=\"播放\"></a><a href=\"javascript:;\" class=\"phone\" data-action=\"phone\" title=\"发送到手机\"></a><a href=\"javascript:;\" class=\"more\" data-action=\"more\" title=\"更多\"></a></div></td>\\n          <td class=\"u_title\"><a href=\"javascript:;\" class=\"artist\" title=\"张杰\" data-artistid=\"14\" data-uid=\"0\">张杰</a></td>\\n          <td class=\"a_title\"><a href=\"javascript:;\" title=\"Give You My World\" data-albumid=\"277779155\">Give You My World</a></td>\\n         <!--  <td class=\"icon\"><i class=\"sq\" title=\"无损品质\"></i></td> -->\\n        </tr>\\n                <tr data-song=\"{&quot;song_id&quot;:&quot;285312563&quot;,&quot;song_title&quot;:&quot;Everything Will Say Goodbye&quot;,&quot;artist_id&quot;:&quot;14&quot;,&quot;song_artist&quot;:&quot;\\\\u5f20\\\\u6770&quot;,&quot;album_id&quot;:&quot;285312662&quot;,&quot;album_title&quot;:&quot;Everything Will Say Goodbye&quot;,&quot;album_image_url&quot;:&quot;http:\\\\/\\\\/qukufile2.qianqian.com\\\\/data2\\\\/pic\\\\/406c8aa1840cfbf62eff217f53d69ed8\\\\/285312667\\\\/285312667.jpg@s_2,w_90,h_90&quot;,&quot;album_relate_status&quot;:1,&quot;copy_type&quot;:&quot;1&quot;,&quot;has_mv&quot;:0,&quot;biaoshi&quot;:&quot;lossless,perm-1&quot;}\" class=\"\" data-song=\"{&quot;song_id&quot;:&quot;285312563&quot;,&quot;song_title&quot;:&quot;Everything Will Say Goodbye&quot;,&quot;artist_id&quot;:&quot;14&quot;,&quot;song_artist&quot;:&quot;\\\\u5f20\\\\u6770&quot;,&quot;album_id&quot;:&quot;285312662&quot;,&quot;album_title&quot;:&quot;Everything Will Say Goodbye&quot;,&quot;album_image_url&quot;:&quot;http:\\\\/\\\\/qukufile2.qianqian.com\\\\/data2\\\\/pic\\\\/406c8aa1840cfbf62eff217f53d69ed8\\\\/285312667\\\\/285312667.jpg@s_2,w_90,h_90&quot;,&quot;album_relate_status&quot;:1,&quot;copy_type&quot;:&quot;1&quot;,&quot;has_mv&quot;:0,&quot;biaoshi&quot;:&quot;lossless,perm-1&quot;}\" data-copytype=\"1\">\\n          <td class=\"num\">7</td>\\n          <td class=\"source\"></td>         \\n          <td class=\"s_title hasprev\">\\n          <span class=\"s_title_txt s_title_icon_1\" title=\"Everything Will Say Goodbye\">Everything Will Say Goodbye</span>\\n                              <a class=\"biaoshi lossless\"></a>\\n                    </td>\\n          <td class=\"fct\"><div class=\"fct_btn\"><a href=\"javascript:;\" class=\"play\" title=\"播放\"></a><a href=\"javascript:;\" class=\"phone\" data-action=\"phone\" title=\"发送到手机\"></a><a href=\"javascript:;\" class=\"more\" data-action=\"more\" title=\"更多\"></a></div></td>\\n          <td class=\"u_title\"><a href=\"javascript:;\" class=\"artist\" title=\"张杰\" data-artistid=\"14\" data-uid=\"0\">张杰</a></td>\\n          <td class=\"a_title\"><a href=\"javascript:;\" title=\"Everything Will Say Goodbye\" data-albumid=\"285312662\">Everything Will Say Goodbye</a></td>\\n         <!--  <td class=\"icon\"><i class=\"sq\" title=\"无损品质\"></i></td> -->\\n        </tr>\\n                <tr data-song=\"{&quot;song_id&quot;:&quot;268791350&quot;,&quot;song_title&quot;:&quot;Lost In The Stars&quot;,&quot;artist_id&quot;:&quot;14&quot;,&quot;song_artist&quot;:&quot;\\\\u5f20\\\\u6770&quot;,&quot;album_id&quot;:&quot;268791363&quot;,&quot;album_title&quot;:&quot;Lost In The Stars&quot;,&quot;album_image_url&quot;:&quot;http:\\\\/\\\\/qukufile2.qianqian.com\\\\/data2\\\\/pic\\\\/2808e8a5e4875ddfb735d36bea8fd20b\\\\/268791367\\\\/268791367.jpg@s_2,w_90,h_90&quot;,&quot;album_relate_status&quot;:1,&quot;copy_type&quot;:&quot;1&quot;,&quot;has_mv&quot;:1,&quot;biaoshi&quot;:&quot;lossless,perm-3&quot;}\" class=\"\" data-song=\"{&quot;song_id&quot;:&quot;268791350&quot;,&quot;song_title&quot;:&quot;Lost In The Stars&quot;,&quot;artist_id&quot;:&quot;14&quot;,&quot;song_artist&quot;:&quot;\\\\u5f20\\\\u6770&quot;,&quot;album_id&quot;:&quot;268791363&quot;,&quot;album_title&quot;:&quot;Lost In The Stars&quot;,&quot;album_image_url&quot;:&quot;http:\\\\/\\\\/qukufile2.qianqian.com\\\\/data2\\\\/pic\\\\/2808e8a5e4875ddfb735d36bea8fd20b\\\\/268791367\\\\/268791367.jpg@s_2,w_90,h_90&quot;,&quot;album_relate_status&quot;:1,&quot;copy_type&quot;:&quot;1&quot;,&quot;has_mv&quot;:1,&quot;biaoshi&quot;:&quot;lossless,perm-3&quot;}\" data-copytype=\"1\">\\n          <td class=\"num\">8</td>\\n          <td class=\"source\"></td>         \\n          <td class=\"s_title hasprev\">\\n          <span class=\"s_title_txt s_title_icon_1\" title=\"Lost In The Stars\">Lost In The Stars</span>\\n                    <a href=\"javascript:;\" class=\"mv_icon\"></a>\\n                              <a class=\"biaoshi lossless\"></a>\\n                    </td>\\n          <td class=\"fct\"><div class=\"fct_btn\"><a href=\"javascript:;\" class=\"play\" title=\"播放\"></a><a href=\"javascript:;\" class=\"phone\" data-action=\"phone\" title=\"发送到手机\"></a><a href=\"javascript:;\" class=\"more\" data-action=\"more\" title=\"更多\"></a></div></td>\\n          <td class=\"u_title\"><a href=\"javascript:;\" class=\"artist\" title=\"张杰\" data-artistid=\"14\" data-uid=\"0\">张杰</a></td>\\n          <td class=\"a_title\"><a href=\"javascript:;\" title=\"Lost In The Stars\" data-albumid=\"268791363\">Lost In The Stars</a></td>\\n         <!--  <td class=\"icon\"><i class=\"sq\" title=\"无损品质\"></i></td> -->\\n        </tr>\\n                <tr data-song=\"{&quot;song_id&quot;:&quot;123206622&quot;,&quot;song_title&quot;:&quot;\\\\u542c&quot;,&quot;artist_id&quot;:&quot;14&quot;,&quot;song_artist&quot;:&quot;\\\\u5f20\\\\u6770&quot;,&quot;album_id&quot;:&quot;123206530&quot;,&quot;album_title&quot;:&quot;\\\\u542c&quot;,&quot;album_image_url&quot;:&quot;http:\\\\/\\\\/qukufile2.qianqian.com\\\\/data2\\\\/pic\\\\/9bea0301836016bbbc85209ec8772ad1\\\\/267528651\\\\/267528651.jpg@s_2,w_90,h_90&quot;,&quot;album_relate_status&quot;:1,&quot;copy_type&quot;:&quot;1&quot;,&quot;has_mv&quot;:1,&quot;biaoshi&quot;:&quot;lossless,perm-3&quot;}\" class=\"\" data-song=\"{&quot;song_id&quot;:&quot;123206622&quot;,&quot;song_title&quot;:&quot;\\\\u542c&quot;,&quot;artist_id&quot;:&quot;14&quot;,&quot;song_artist&quot;:&quot;\\\\u5f20\\\\u6770&quot;,&quot;album_id&quot;:&quot;123206530&quot;,&quot;album_title&quot;:&quot;\\\\u542c&quot;,&quot;album_image_url&quot;:&quot;http:\\\\/\\\\/qukufile2.qianqian.com\\\\/data2\\\\/pic\\\\/9bea0301836016bbbc85209ec8772ad1\\\\/267528651\\\\/267528651.jpg@s_2,w_90,h_90&quot;,&quot;album_relate_status&quot;:1,&quot;copy_type&quot;:&quot;1&quot;,&quot;has_mv&quot;:1,&quot;biaoshi&quot;:&quot;lossless,perm-3&quot;}\" data-copytype=\"1\">\\n          <td class=\"num\">9</td>\\n          <td class=\"source\"></td>         \\n          <td class=\"s_title hasprev\">\\n          <span class=\"s_title_txt s_title_icon_1\" title=\"听\">听</span>\\n                    <a href=\"javascript:;\" class=\"mv_icon\"></a>\\n                              <a class=\"biaoshi lossless\"></a>\\n                    </td>\\n          <td class=\"fct\"><div class=\"fct_btn\"><a href=\"javascript:;\" class=\"play\" title=\"播放\"></a><a href=\"javascript:;\" class=\"phone\" data-action=\"phone\" title=\"发送到手机\"></a><a href=\"javascript:;\" class=\"more\" data-action=\"more\" title=\"更多\"></a></div></td>\\n          <td class=\"u_title\"><a href=\"javascript:;\" class=\"artist\" title=\"张杰\" data-artistid=\"14\" data-uid=\"0\">张杰</a></td>\\n          <td class=\"a_title\"><a href=\"javascript:;\" title=\"听\" data-albumid=\"123206530\">听</a></td>\\n         <!--  <td class=\"icon\"><i class=\"hq\" title=\"超高品质\"></i></td> -->\\n        </tr>\\n                <tr data-song=\"{&quot;song_id&quot;:&quot;131096021&quot;,&quot;song_title&quot;:&quot;My Sunshine&quot;,&quot;artist_id&quot;:&quot;14&quot;,&quot;song_artist&quot;:&quot;\\\\u5f20\\\\u6770&quot;,&quot;album_id&quot;:&quot;129165827&quot;,&quot;album_title&quot;:&quot;\\\\u4f55\\\\u4ee5\\\\u7b19\\\\u7bab\\\\u9ed8 \\\\u7535\\\\u89c6\\\\u539f\\\\u58f0\\\\u5e26&quot;,&quot;album_image_url&quot;:&quot;http:\\\\/\\\\/qukufile2.qianqian.com\\\\/data2\\\\/pic\\\\/fd65a2493e198acbd371d58a99f82b31\\\\/611740083\\\\/611740083.jpg@s_2,w_90,h_90&quot;,&quot;album_relate_status&quot;:1,&quot;copy_type&quot;:&quot;1&quot;,&quot;has_mv&quot;:0,&quot;biaoshi&quot;:&quot;lossless,perm-1&quot;}\" class=\"\" data-song=\"{&quot;song_id&quot;:&quot;131096021&quot;,&quot;song_title&quot;:&quot;My Sunshine&quot;,&quot;artist_id&quot;:&quot;14&quot;,&quot;song_artist&quot;:&quot;\\\\u5f20\\\\u6770&quot;,&quot;album_id&quot;:&quot;129165827&quot;,&quot;album_title&quot;:&quot;\\\\u4f55\\\\u4ee5\\\\u7b19\\\\u7bab\\\\u9ed8 \\\\u7535\\\\u89c6\\\\u539f\\\\u58f0\\\\u5e26&quot;,&quot;album_image_url&quot;:&quot;http:\\\\/\\\\/qukufile2.qianqian.com\\\\/data2\\\\/pic\\\\/fd65a2493e198acbd371d58a99f82b31\\\\/611740083\\\\/611740083.jpg@s_2,w_90,h_90&quot;,&quot;album_relate_status&quot;:1,&quot;copy_type&quot;:&quot;1&quot;,&quot;has_mv&quot;:0,&quot;biaoshi&quot;:&quot;lossless,perm-1&quot;}\" data-copytype=\"1\">\\n          <td class=\"num\">10</td>\\n          <td class=\"source\"></td>         \\n          <td class=\"s_title hasprev\">\\n          <span class=\"s_title_txt s_title_icon_1\" title=\"My Sunshine\">My Sunshine</span>\\n                              <a class=\"biaoshi lossless\"></a>\\n                    </td>\\n          <td class=\"fct\"><div class=\"fct_btn\"><a href=\"javascript:;\" class=\"play\" title=\"播放\"></a><a href=\"javascript:;\" class=\"phone\" data-action=\"phone\" title=\"发送到手机\"></a><a href=\"javascript:;\" class=\"more\" data-action=\"more\" title=\"更多\"></a></div></td>\\n          <td class=\"u_title\"><a href=\"javascript:;\" class=\"artist\" title=\"张杰\" data-artistid=\"14\" data-uid=\"0\">张杰</a></td>\\n          <td class=\"a_title\"><a href=\"javascript:;\" title=\"何以笙箫默 电视原声带\" data-albumid=\"129165827\">何以笙箫默 电视原声带</a></td>\\n         <!--  <td class=\"icon\"><i class=\"sq\" title=\"无损品质\"></i></td> -->\\n        </tr>\\n                <tr data-song=\"{&quot;song_id&quot;:&quot;601622061&quot;,&quot;song_title&quot;:&quot;\\\\u5fae\\\\u7b11\\\\u7740\\\\u80dc\\\\u5229\\\\uff08\\\\u5e86\\\\u795d\\\\u5efa\\\\u519b91\\\\u5468\\\\u5e74\\\\u7f51\\\\u5ba3\\\\u4e3b\\\\u9898\\\\u66f2\\\\uff09\\\\uff08\\\\u4f34\\\\u594f\\\\uff09&quot;,&quot;artist_id&quot;:&quot;14&quot;,&quot;song_artist&quot;:&quot;\\\\u5f20\\\\u6770&quot;,&quot;album_id&quot;:&quot;601622056&quot;,&quot;album_title&quot;:&quot;\\\\u5fae\\\\u7b11\\\\u7740\\\\u80dc\\\\u5229\\\\uff08\\\\u5e86\\\\u795d\\\\u5efa\\\\u519b91\\\\u5468\\\\u5e74\\\\u7f51\\\\u5ba3\\\\u4e3b\\\\u9898\\\\u66f2\\\\uff09&quot;,&quot;album_image_url&quot;:&quot;http:\\\\/\\\\/qukufile2.qianqian.com\\\\/data2\\\\/pic\\\\/8910f09bc6315984356d28e58e8120c0\\\\/601622057\\\\/601622057.jpg@s_2,w_90,h_90&quot;,&quot;album_relate_status&quot;:1,&quot;copy_type&quot;:&quot;1&quot;,&quot;has_mv&quot;:0,&quot;biaoshi&quot;:&quot;lossless,perm-1&quot;}\" class=\"\" data-song=\"{&quot;song_id&quot;:&quot;601622061&quot;,&quot;song_title&quot;:&quot;\\\\u5fae\\\\u7b11\\\\u7740\\\\u80dc\\\\u5229\\\\uff08\\\\u5e86\\\\u795d\\\\u5efa\\\\u519b91\\\\u5468\\\\u5e74\\\\u7f51\\\\u5ba3\\\\u4e3b\\\\u9898\\\\u66f2\\\\uff09\\\\uff08\\\\u4f34\\\\u594f\\\\uff09&quot;,&quot;artist_id&quot;:&quot;14&quot;,&quot;song_artist&quot;:&quot;\\\\u5f20\\\\u6770&quot;,&quot;album_id&quot;:&quot;601622056&quot;,&quot;album_title&quot;:&quot;\\\\u5fae\\\\u7b11\\\\u7740\\\\u80dc\\\\u5229\\\\uff08\\\\u5e86\\\\u795d\\\\u5efa\\\\u519b91\\\\u5468\\\\u5e74\\\\u7f51\\\\u5ba3\\\\u4e3b\\\\u9898\\\\u66f2\\\\uff09&quot;,&quot;album_image_url&quot;:&quot;http:\\\\/\\\\/qukufile2.qianqian.com\\\\/data2\\\\/pic\\\\/8910f09bc6315984356d28e58e8120c0\\\\/601622057\\\\/601622057.jpg@s_2,w_90,h_90&quot;,&quot;album_relate_status&quot;:1,&quot;copy_type&quot;:&quot;1&quot;,&quot;has_mv&quot;:0,&quot;biaoshi&quot;:&quot;lossless,perm-1&quot;}\" data-copytype=\"1\">\\n          <td class=\"num\">11</td>\\n          <td class=\"source\"></td>         \\n          <td class=\"s_title hasprev\">\\n          <span class=\"s_title_txt s_title_icon_1\" title=\"微笑着胜利（庆祝建军91周年网宣主题曲）（伴奏）\">微笑着胜利（庆祝建军91周年网宣主题曲）（伴奏）</span>\\n                              <a class=\"biaoshi lossless\"></a>\\n                    </td>\\n          <td class=\"fct\"><div class=\"fct_btn\"><a href=\"javascript:;\" class=\"play\" title=\"播放\"></a><a href=\"javascript:;\" class=\"phone\" data-action=\"phone\" title=\"发送到手机\"></a><a href=\"javascript:;\" class=\"more\" data-action=\"more\" title=\"更多\"></a></div></td>\\n          <td class=\"u_title\"><a href=\"javascript:;\" class=\"artist\" title=\"张杰\" data-artistid=\"14\" data-uid=\"0\">张杰</a></td>\\n          <td class=\"a_title\"><a href=\"javascript:;\" title=\"微笑着胜利（庆祝建军91周年网宣主题曲）\" data-albumid=\"601622056\">微笑着胜利（庆祝建军91周年网宣主题曲）</a></td>\\n         <!--  <td class=\"icon\"><i class=\"sq\" title=\"无损品质\"></i></td> -->\\n        </tr>\\n                <tr data-song=\"{&quot;song_id&quot;:&quot;537883379&quot;,&quot;song_title&quot;:&quot;\\\\u4e09\\\\u751f\\\\u4e09\\\\u4e16&quot;,&quot;artist_id&quot;:&quot;14&quot;,&quot;song_artist&quot;:&quot;\\\\u5f20\\\\u6770&quot;,&quot;album_id&quot;:&quot;537883369&quot;,&quot;album_title&quot;:&quot;\\\\u4e09\\\\u751f\\\\u4e09\\\\u4e16\\\\u5341\\\\u91cc\\\\u6843\\\\u82b1 \\\\u7535\\\\u89c6\\\\u5267\\\\u539f\\\\u58f0\\\\u5e26&quot;,&quot;album_image_url&quot;:&quot;http:\\\\/\\\\/qukufile2.qianqian.com\\\\/data2\\\\/pic\\\\/e2955493bee4a09f69be72006ecf11b6\\\\/537883369\\\\/537883369.jpg@s_2,w_90,h_90&quot;,&quot;album_relate_status&quot;:1,&quot;copy_type&quot;:&quot;0&quot;,&quot;has_mv&quot;:1,&quot;biaoshi&quot;:&quot;perm-2&quot;}\" class=\" offline \" data-song=\"{&quot;song_id&quot;:&quot;537883379&quot;,&quot;song_title&quot;:&quot;\\\\u4e09\\\\u751f\\\\u4e09\\\\u4e16&quot;,&quot;artist_id&quot;:&quot;14&quot;,&quot;song_artist&quot;:&quot;\\\\u5f20\\\\u6770&quot;,&quot;album_id&quot;:&quot;537883369&quot;,&quot;album_title&quot;:&quot;\\\\u4e09\\\\u751f\\\\u4e09\\\\u4e16\\\\u5341\\\\u91cc\\\\u6843\\\\u82b1 \\\\u7535\\\\u89c6\\\\u5267\\\\u539f\\\\u58f0\\\\u5e26&quot;,&quot;album_image_url&quot;:&quot;http:\\\\/\\\\/qukufile2.qianqian.com\\\\/data2\\\\/pic\\\\/e2955493bee4a09f69be72006ecf11b6\\\\/537883369\\\\/537883369.jpg@s_2,w_90,h_90&quot;,&quot;album_relate_status&quot;:1,&quot;copy_type&quot;:&quot;0&quot;,&quot;has_mv&quot;:1,&quot;biaoshi&quot;:&quot;perm-2&quot;}\" data-copytype=\"0\">\\n          <td class=\"num\">12</td>\\n          <td class=\"source\"><i class=\"dsf\" title=\"该歌曲来自MP3搜索\"></i></td>         \\n          <td class=\"s_title hasprev\">\\n          <span class=\"s_title_txt s_title_icon_0\" title=\"三生三世\">三生三世</span>\\n                    <a href=\"javascript:;\" class=\"mv_icon\"></a>\\n                              </td>\\n          <td class=\"fct\"><div class=\"fct_btn\"><a href=\"javascript:;\" class=\"play\" title=\"播放\"></a><a href=\"javascript:;\" class=\"phone phonedisable disable\" data-action=\"phone\" title=\"发送到手机\"></a><a href=\"javascript:;\" class=\"more\" data-action=\"more\" title=\"更多\"></a></div></td>\\n          <td class=\"u_title\"><a href=\"javascript:;\" class=\"artist\" title=\"张杰\" data-artistid=\"14\" data-uid=\"0\">张杰</a></td>\\n          <td class=\"a_title\"><a href=\"javascript:;\" title=\"三生三世十里桃花 电视剧原声带\" data-albumid=\"537883369\">三生三世十里桃花 电视剧原声带</a></td>\\n         <!--  <td class=\"icon\"></td> -->\\n        </tr>\\n                <tr data-song=\"{&quot;song_id&quot;:&quot;121223583&quot;,&quot;song_title&quot;:&quot;\\\\u5251\\\\u5fc3&quot;,&quot;artist_id&quot;:&quot;14&quot;,&quot;song_artist&quot;:&quot;\\\\u5f20\\\\u6770&quot;,&quot;album_id&quot;:&quot;121223592&quot;,&quot;album_title&quot;:&quot;\\\\u53e4\\\\u5251\\\\u5947\\\\u8c2d \\\\u7535\\\\u89c6\\\\u539f\\\\u58f0\\\\u5e26&quot;,&quot;album_image_url&quot;:&quot;http:\\\\/\\\\/qukufile2.qianqian.com\\\\/data2\\\\/pic\\\\/84d2a5763f459c715c040260c810ec07\\\\/588453440\\\\/588453440.png@s_2,w_90,h_90&quot;,&quot;album_relate_status&quot;:1,&quot;copy_type&quot;:&quot;0&quot;,&quot;has_mv&quot;:0,&quot;biaoshi&quot;:&quot;perm-0&quot;}\" class=\" offline \" data-song=\"{&quot;song_id&quot;:&quot;121223583&quot;,&quot;song_title&quot;:&quot;\\\\u5251\\\\u5fc3&quot;,&quot;artist_id&quot;:&quot;14&quot;,&quot;song_artist&quot;:&quot;\\\\u5f20\\\\u6770&quot;,&quot;album_id&quot;:&quot;121223592&quot;,&quot;album_title&quot;:&quot;\\\\u53e4\\\\u5251\\\\u5947\\\\u8c2d \\\\u7535\\\\u89c6\\\\u539f\\\\u58f0\\\\u5e26&quot;,&quot;album_image_url&quot;:&quot;http:\\\\/\\\\/qukufile2.qianqian.com\\\\/data2\\\\/pic\\\\/84d2a5763f459c715c040260c810ec07\\\\/588453440\\\\/588453440.png@s_2,w_90,h_90&quot;,&quot;album_relate_status&quot;:1,&quot;copy_type&quot;:&quot;0&quot;,&quot;has_mv&quot;:0,&quot;biaoshi&quot;:&quot;perm-0&quot;}\" data-copytype=\"0\">\\n          <td class=\"num\">13</td>\\n          <td class=\"source\"><i class=\"dsf\" title=\"该歌曲来自MP3搜索\"></i></td>         \\n          <td class=\"s_title hasprev\">\\n          <span class=\"s_title_txt s_title_icon_0\" title=\"剑心\">剑心</span>\\n                              </td>\\n          <td class=\"fct\"><div class=\"fct_btn\"><a href=\"javascript:;\" class=\"play\" title=\"播放\"></a><a href=\"javascript:;\" class=\"phone phonedisable disable\" data-action=\"phone\" title=\"发送到手机\"></a><a href=\"javascript:;\" class=\"more\" data-action=\"more\" title=\"更多\"></a></div></td>\\n          <td class=\"u_title\"><a href=\"javascript:;\" class=\"artist\" title=\"张杰\" data-artistid=\"14\" data-uid=\"0\">张杰</a></td>\\n          <td class=\"a_title\"><a href=\"javascript:;\" title=\"古剑奇谭 电视原声带\" data-albumid=\"121223592\">古剑奇谭 电视原声带</a></td>\\n         <!--  <td class=\"icon\"></td> -->\\n        </tr>\\n                <tr data-song=\"{&quot;song_id&quot;:&quot;1103753&quot;,&quot;song_title&quot;:&quot;\\\\u6211\\\\u4eec\\\\u90fd\\\\u4e00\\\\u6837&quot;,&quot;artist_id&quot;:&quot;14&quot;,&quot;song_artist&quot;:&quot;\\\\u5f20\\\\u6770&quot;,&quot;album_id&quot;:&quot;71477&quot;,&quot;album_title&quot;:&quot;\\\\u660e\\\\u5929\\\\u8fc7\\\\u540e&quot;,&quot;album_image_url&quot;:&quot;http:\\\\/\\\\/qukufile2.qianqian.com\\\\/data2\\\\/pic\\\\/262357339\\\\/262357339.jpg@s_2,w_90,h_90&quot;,&quot;album_relate_status&quot;:0,&quot;copy_type&quot;:&quot;0&quot;,&quot;has_mv&quot;:0,&quot;biaoshi&quot;:&quot;lossless,perm-0&quot;}\" class=\" offline \" data-song=\"{&quot;song_id&quot;:&quot;1103753&quot;,&quot;song_title&quot;:&quot;\\\\u6211\\\\u4eec\\\\u90fd\\\\u4e00\\\\u6837&quot;,&quot;artist_id&quot;:&quot;14&quot;,&quot;song_artist&quot;:&quot;\\\\u5f20\\\\u6770&quot;,&quot;album_id&quot;:&quot;71477&quot;,&quot;album_title&quot;:&quot;\\\\u660e\\\\u5929\\\\u8fc7\\\\u540e&quot;,&quot;album_image_url&quot;:&quot;http:\\\\/\\\\/qukufile2.qianqian.com\\\\/data2\\\\/pic\\\\/262357339\\\\/262357339.jpg@s_2,w_90,h_90&quot;,&quot;album_relate_status&quot;:0,&quot;copy_type&quot;:&quot;0&quot;,&quot;has_mv&quot;:0,&quot;biaoshi&quot;:&quot;lossless,perm-0&quot;}\" data-copytype=\"0\">\\n          <td class=\"num\">14</td>\\n          <td class=\"source\"><i class=\"dsf\" title=\"该歌曲来自MP3搜索\"></i></td>         \\n          <td class=\"s_title hasprev\">\\n          <span class=\"s_title_txt s_title_icon_1\" title=\"我们都一样\">我们都一样</span>\\n                              <a class=\"biaoshi lossless\"></a>\\n                    </td>\\n          <td class=\"fct\"><div class=\"fct_btn\"><a href=\"javascript:;\" class=\"play\" title=\"播放\"></a><a href=\"javascript:;\" class=\"phone phonedisable disable\" data-action=\"phone\" title=\"发送到手机\"></a><a href=\"javascript:;\" class=\"more\" data-action=\"more\" title=\"更多\"></a></div></td>\\n          <td class=\"u_title\"><a href=\"javascript:;\" class=\"artist\" title=\"张杰\" data-artistid=\"14\" data-uid=\"0\">张杰</a></td>\\n          <td class=\"a_title\"><span title=\"明天过后\">明天过后</span></td>\\n         <!--  <td class=\"icon\"></td> -->\\n        </tr>\\n                <tr data-song=\"{&quot;song_id&quot;:&quot;242314587&quot;,&quot;song_title&quot;:&quot;\\\\u4e00\\\\u5ff5\\\\u4e4b\\\\u95f4&quot;,&quot;artist_id&quot;:&quot;14&quot;,&quot;song_artist&quot;:&quot;\\\\u5f20\\\\u6770,\\\\u83ab\\\\u6587\\\\u851a&quot;,&quot;album_id&quot;:&quot;242314591&quot;,&quot;album_title&quot;:&quot;\\\\u4e00\\\\u5ff5\\\\u4e4b\\\\u95f4&quot;,&quot;album_image_url&quot;:&quot;http:\\\\/\\\\/qukufile2.qianqian.com\\\\/data2\\\\/pic\\\\/242314541\\\\/242314541.jpg@s_2,w_90,h_90&quot;,&quot;album_relate_status&quot;:1,&quot;copy_type&quot;:&quot;0&quot;,&quot;has_mv&quot;:0,&quot;biaoshi&quot;:&quot;lossless,perm-0&quot;}\" class=\" offline \" data-song=\"{&quot;song_id&quot;:&quot;242314587&quot;,&quot;song_title&quot;:&quot;\\\\u4e00\\\\u5ff5\\\\u4e4b\\\\u95f4&quot;,&quot;artist_id&quot;:&quot;14&quot;,&quot;song_artist&quot;:&quot;\\\\u5f20\\\\u6770,\\\\u83ab\\\\u6587\\\\u851a&quot;,&quot;album_id&quot;:&quot;242314591&quot;,&quot;album_title&quot;:&quot;\\\\u4e00\\\\u5ff5\\\\u4e4b\\\\u95f4&quot;,&quot;album_image_url&quot;:&quot;http:\\\\/\\\\/qukufile2.qianqian.com\\\\/data2\\\\/pic\\\\/242314541\\\\/242314541.jpg@s_2,w_90,h_90&quot;,&quot;album_relate_status&quot;:1,&quot;copy_type&quot;:&quot;0&quot;,&quot;has_mv&quot;:0,&quot;biaoshi&quot;:&quot;lossless,perm-0&quot;}\" data-copytype=\"0\">\\n          <td class=\"num\">15</td>\\n          <td class=\"source\"></td>         \\n          <td class=\"s_title hasprev\">\\n          <span class=\"s_title_txt s_title_icon_1\" title=\"一念之间\">一念之间</span>\\n                              <a class=\"biaoshi lossless\"></a>\\n                    </td>\\n          <td class=\"fct\"><div class=\"fct_btn\"><a href=\"javascript:;\" class=\"play\" title=\"播放\"></a><a href=\"javascript:;\" class=\"phone phonedisable disable\" data-action=\"phone\" title=\"发送到手机\"></a><a href=\"javascript:;\" class=\"more\" data-action=\"more\" title=\"更多\"></a></div></td>\\n          <td class=\"u_title\"><a href=\"javascript:;\" class=\"artist\" title=\"张杰\" data-artistid=\"14\" data-uid=\"0\">张杰</a>,<a href=\"javascript:;\" class=\"artist\" title=\"莫文蔚\" data-artistid=\"162\" data-uid=\"0\">莫文蔚</a></td>\\n          <td class=\"a_title\"><a href=\"javascript:;\" title=\"一念之间\" data-albumid=\"242314591\">一念之间</a></td>\\n         <!--  <td class=\"icon\"><i class=\"hq\" title=\"超高品质\"></i></td> -->\\n        </tr>\\n                <tr data-song=\"{&quot;song_id&quot;:&quot;14944589&quot;,&quot;song_title&quot;:&quot;\\\\u9006\\\\u6218&quot;,&quot;artist_id&quot;:&quot;14&quot;,&quot;song_artist&quot;:&quot;\\\\u5f20\\\\u6770&quot;,&quot;album_id&quot;:&quot;27845582&quot;,&quot;album_title&quot;:&quot;One Chance \\\\u65b0\\\\u6b4c+\\\\u7cbe\\\\u9009&quot;,&quot;album_image_url&quot;:&quot;http:\\\\/\\\\/qukufile2.qianqian.com\\\\/data2\\\\/pic\\\\/89230691\\\\/89230691.jpg@s_2,w_90,h_90&quot;,&quot;album_relate_status&quot;:0,&quot;copy_type&quot;:&quot;0&quot;,&quot;has_mv&quot;:0,&quot;biaoshi&quot;:&quot;lossless,perm-0&quot;}\" class=\" offline \" data-song=\"{&quot;song_id&quot;:&quot;14944589&quot;,&quot;song_title&quot;:&quot;\\\\u9006\\\\u6218&quot;,&quot;artist_id&quot;:&quot;14&quot;,&quot;song_artist&quot;:&quot;\\\\u5f20\\\\u6770&quot;,&quot;album_id&quot;:&quot;27845582&quot;,&quot;album_title&quot;:&quot;One Chance \\\\u65b0\\\\u6b4c+\\\\u7cbe\\\\u9009&quot;,&quot;album_image_url&quot;:&quot;http:\\\\/\\\\/qukufile2.qianqian.com\\\\/data2\\\\/pic\\\\/89230691\\\\/89230691.jpg@s_2,w_90,h_90&quot;,&quot;album_relate_status&quot;:0,&quot;copy_type&quot;:&quot;0&quot;,&quot;has_mv&quot;:0,&quot;biaoshi&quot;:&quot;lossless,perm-0&quot;}\" data-copytype=\"0\">\\n          <td class=\"num\">16</td>\\n          <td class=\"source\"><i class=\"dsf\" title=\"该歌曲来自MP3搜索\"></i></td>         \\n          <td class=\"s_title hasprev\">\\n          <span class=\"s_title_txt s_title_icon_1\" title=\"逆战\">逆战</span>\\n                              <a class=\"biaoshi lossless\"></a>\\n                    </td>\\n          <td class=\"fct\"><div class=\"fct_btn\"><a href=\"javascript:;\" class=\"play\" title=\"播放\"></a><a href=\"javascript:;\" class=\"phone phonedisable disable\" data-action=\"phone\" title=\"发送到手机\"></a><a href=\"javascript:;\" class=\"more\" data-action=\"more\" title=\"更多\"></a></div></td>\\n          <td class=\"u_title\"><a href=\"javascript:;\" class=\"artist\" title=\"张杰\" data-artistid=\"14\" data-uid=\"0\">张杰</a></td>\\n          <td class=\"a_title\"><span title=\"One Chance 新歌+精选\">One Chance 新歌+精选</span></td>\\n         <!--  <td class=\"icon\"></td> -->\\n        </tr>\\n                <tr data-song=\"{&quot;song_id&quot;:&quot;1103789&quot;,&quot;song_title&quot;:&quot;\\\\u5929\\\\u4e0b&quot;,&quot;artist_id&quot;:&quot;14&quot;,&quot;song_artist&quot;:&quot;\\\\u5f20\\\\u6770&quot;,&quot;album_id&quot;:&quot;71477&quot;,&quot;album_title&quot;:&quot;\\\\u660e\\\\u5929\\\\u8fc7\\\\u540e&quot;,&quot;album_image_url&quot;:&quot;http:\\\\/\\\\/qukufile2.qianqian.com\\\\/data2\\\\/pic\\\\/262357339\\\\/262357339.jpg@s_2,w_90,h_90&quot;,&quot;album_relate_status&quot;:0,&quot;copy_type&quot;:&quot;0&quot;,&quot;has_mv&quot;:0,&quot;biaoshi&quot;:&quot;lossless,perm-0&quot;}\" class=\" offline \" data-song=\"{&quot;song_id&quot;:&quot;1103789&quot;,&quot;song_title&quot;:&quot;\\\\u5929\\\\u4e0b&quot;,&quot;artist_id&quot;:&quot;14&quot;,&quot;song_artist&quot;:&quot;\\\\u5f20\\\\u6770&quot;,&quot;album_id&quot;:&quot;71477&quot;,&quot;album_title&quot;:&quot;\\\\u660e\\\\u5929\\\\u8fc7\\\\u540e&quot;,&quot;album_image_url&quot;:&quot;http:\\\\/\\\\/qukufile2.qianqian.com\\\\/data2\\\\/pic\\\\/262357339\\\\/262357339.jpg@s_2,w_90,h_90&quot;,&quot;album_relate_status&quot;:0,&quot;copy_type&quot;:&quot;0&quot;,&quot;has_mv&quot;:0,&quot;biaoshi&quot;:&quot;lossless,perm-0&quot;}\" data-copytype=\"0\">\\n          <td class=\"num\">17</td>\\n          <td class=\"source\"><i class=\"dsf\" title=\"该歌曲来自MP3搜索\"></i></td>         \\n          <td class=\"s_title hasprev\">\\n          <span class=\"s_title_txt s_title_icon_1\" title=\"天下\">天下</span>\\n                              <a class=\"biaoshi lossless\"></a>\\n                    </td>\\n          <td class=\"fct\"><div class=\"fct_btn\"><a href=\"javascript:;\" class=\"play\" title=\"播放\"></a><a href=\"javascript:;\" class=\"phone phonedisable disable\" data-action=\"phone\" title=\"发送到手机\"></a><a href=\"javascript:;\" class=\"more\" data-action=\"more\" title=\"更多\"></a></div></td>\\n          <td class=\"u_title\"><a href=\"javascript:;\" class=\"artist\" title=\"张杰\" data-artistid=\"14\" data-uid=\"0\">张杰</a></td>\\n          <td class=\"a_title\"><span title=\"明天过后\">明天过后</span></td>\\n         <!--  <td class=\"icon\"></td> -->\\n        </tr>\\n                <tr data-song=\"{&quot;song_id&quot;:&quot;211505&quot;,&quot;song_title&quot;:&quot;\\\\u660e\\\\u5929\\\\u8fc7\\\\u540e&quot;,&quot;artist_id&quot;:&quot;14&quot;,&quot;song_artist&quot;:&quot;\\\\u5f20\\\\u6770&quot;,&quot;album_id&quot;:&quot;71477&quot;,&quot;album_title&quot;:&quot;\\\\u660e\\\\u5929\\\\u8fc7\\\\u540e&quot;,&quot;album_image_url&quot;:&quot;http:\\\\/\\\\/qukufile2.qianqian.com\\\\/data2\\\\/pic\\\\/262357339\\\\/262357339.jpg@s_2,w_90,h_90&quot;,&quot;album_relate_status&quot;:0,&quot;copy_type&quot;:&quot;0&quot;,&quot;has_mv&quot;:0,&quot;biaoshi&quot;:&quot;lossless,perm-0&quot;}\" class=\" offline \" data-song=\"{&quot;song_id&quot;:&quot;211505&quot;,&quot;song_title&quot;:&quot;\\\\u660e\\\\u5929\\\\u8fc7\\\\u540e&quot;,&quot;artist_id&quot;:&quot;14&quot;,&quot;song_artist&quot;:&quot;\\\\u5f20\\\\u6770&quot;,&quot;album_id&quot;:&quot;71477&quot;,&quot;album_title&quot;:&quot;\\\\u660e\\\\u5929\\\\u8fc7\\\\u540e&quot;,&quot;album_image_url&quot;:&quot;http:\\\\/\\\\/qukufile2.qianqian.com\\\\/data2\\\\/pic\\\\/262357339\\\\/262357339.jpg@s_2,w_90,h_90&quot;,&quot;album_relate_status&quot;:0,&quot;copy_type&quot;:&quot;0&quot;,&quot;has_mv&quot;:0,&quot;biaoshi&quot;:&quot;lossless,perm-0&quot;}\" data-copytype=\"0\">\\n          <td class=\"num\">18</td>\\n          <td class=\"source\"></td>         \\n          <td class=\"s_title hasprev\">\\n          <span class=\"s_title_txt s_title_icon_1\" title=\"明天过后\">明天过后</span>\\n                              <a class=\"biaoshi lossless\"></a>\\n                    </td>\\n          <td class=\"fct\"><div class=\"fct_btn\"><a href=\"javascript:;\" class=\"play\" title=\"播放\"></a><a href=\"javascript:;\" class=\"phone phonedisable disable\" data-action=\"phone\" title=\"发送到手机\"></a><a href=\"javascript:;\" class=\"more\" data-action=\"more\" title=\"更多\"></a></div></td>\\n          <td class=\"u_title\"><a href=\"javascript:;\" class=\"artist\" title=\"张杰\" data-artistid=\"14\" data-uid=\"0\">张杰</a></td>\\n          <td class=\"a_title\"><span title=\"明天过后\">明天过后</span></td>\\n         <!--  <td class=\"icon\"><i class=\"sq\" title=\"无损品质\"></i></td> -->\\n        </tr>\\n                <tr data-song=\"{&quot;song_id&quot;:&quot;541943830&quot;,&quot;song_title&quot;:&quot;Torches&quot;,&quot;artist_id&quot;:&quot;14&quot;,&quot;song_artist&quot;:&quot;\\\\u5f20\\\\u6770,X Ambassadors&quot;,&quot;album_id&quot;:&quot;541943827&quot;,&quot;album_title&quot;:&quot;Torches&quot;,&quot;album_image_url&quot;:&quot;http:\\\\/\\\\/qukufile2.qianqian.com\\\\/data2\\\\/pic\\\\/53d11711d325609cb29c38a724e5904a\\\\/541943827\\\\/541943827.jpg@s_2,w_90,h_90&quot;,&quot;album_relate_status&quot;:1,&quot;copy_type&quot;:&quot;0&quot;,&quot;has_mv&quot;:1,&quot;biaoshi&quot;:&quot;lossless,perm-2&quot;}\" class=\" offline \" data-song=\"{&quot;song_id&quot;:&quot;541943830&quot;,&quot;song_title&quot;:&quot;Torches&quot;,&quot;artist_id&quot;:&quot;14&quot;,&quot;song_artist&quot;:&quot;\\\\u5f20\\\\u6770,X Ambassadors&quot;,&quot;album_id&quot;:&quot;541943827&quot;,&quot;album_title&quot;:&quot;Torches&quot;,&quot;album_image_url&quot;:&quot;http:\\\\/\\\\/qukufile2.qianqian.com\\\\/data2\\\\/pic\\\\/53d11711d325609cb29c38a724e5904a\\\\/541943827\\\\/541943827.jpg@s_2,w_90,h_90&quot;,&quot;album_relate_status&quot;:1,&quot;copy_type&quot;:&quot;0&quot;,&quot;has_mv&quot;:1,&quot;biaoshi&quot;:&quot;lossless,perm-2&quot;}\" data-copytype=\"0\">\\n          <td class=\"num\">19</td>\\n          <td class=\"source\"></td>         \\n          <td class=\"s_title hasprev\">\\n          <span class=\"s_title_txt s_title_icon_1\" title=\"Torches\">Torches</span>\\n                    <a href=\"javascript:;\" class=\"mv_icon\"></a>\\n                              <a class=\"biaoshi lossless\"></a>\\n                    </td>\\n          <td class=\"fct\"><div class=\"fct_btn\"><a href=\"javascript:;\" class=\"play\" title=\"播放\"></a><a href=\"javascript:;\" class=\"phone phonedisable disable\" data-action=\"phone\" title=\"发送到手机\"></a><a href=\"javascript:;\" class=\"more\" data-action=\"more\" title=\"更多\"></a></div></td>\\n          <td class=\"u_title\"><a href=\"javascript:;\" class=\"artist\" title=\"张杰\" data-artistid=\"14\" data-uid=\"0\">张杰</a>,<a href=\"javascript:;\" class=\"artist\" title=\"X Ambassadors\" data-artistid=\"38503987\" data-uid=\"0\">X Ambassadors</a></td>\\n          <td class=\"a_title\"><a href=\"javascript:;\" title=\"Torches\" data-albumid=\"541943827\">Torches</a></td>\\n         <!--  <td class=\"icon\"><i class=\"sq\" title=\"无损品质\"></i></td> -->\\n        </tr>\\n                <tr data-song=\"{&quot;song_id&quot;:&quot;53603708&quot;,&quot;song_title&quot;:&quot;\\\\u7740\\\\u9b54&quot;,&quot;artist_id&quot;:&quot;14&quot;,&quot;song_artist&quot;:&quot;\\\\u5f20\\\\u6770&quot;,&quot;album_id&quot;:&quot;53603707&quot;,&quot;album_title&quot;:&quot;\\\\u7740\\\\u9b54&quot;,&quot;album_image_url&quot;:&quot;http:\\\\/\\\\/qukufile2.qianqian.com\\\\/data2\\\\/pic\\\\/123668579\\\\/123668579.jpg@s_2,w_90,h_90&quot;,&quot;album_relate_status&quot;:1,&quot;copy_type&quot;:&quot;0&quot;,&quot;has_mv&quot;:1,&quot;biaoshi&quot;:&quot;perm-2&quot;}\" class=\" offline \" data-song=\"{&quot;song_id&quot;:&quot;53603708&quot;,&quot;song_title&quot;:&quot;\\\\u7740\\\\u9b54&quot;,&quot;artist_id&quot;:&quot;14&quot;,&quot;song_artist&quot;:&quot;\\\\u5f20\\\\u6770&quot;,&quot;album_id&quot;:&quot;53603707&quot;,&quot;album_title&quot;:&quot;\\\\u7740\\\\u9b54&quot;,&quot;album_image_url&quot;:&quot;http:\\\\/\\\\/qukufile2.qianqian.com\\\\/data2\\\\/pic\\\\/123668579\\\\/123668579.jpg@s_2,w_90,h_90&quot;,&quot;album_relate_status&quot;:1,&quot;copy_type&quot;:&quot;0&quot;,&quot;has_mv&quot;:1,&quot;biaoshi&quot;:&quot;perm-2&quot;}\" data-copytype=\"0\">\\n          <td class=\"num\">20</td>\\n          <td class=\"source\"><i class=\"dsf\" title=\"该歌曲来自MP3搜索\"></i></td>         \\n          <td class=\"s_title hasprev\">\\n          <span class=\"s_title_txt s_title_icon_0\" title=\"着魔\">着魔</span>\\n                    <a href=\"javascript:;\" class=\"mv_icon\"></a>\\n                              </td>\\n          <td class=\"fct\"><div class=\"fct_btn\"><a href=\"javascript:;\" class=\"play\" title=\"播放\"></a><a href=\"javascript:;\" class=\"phone phonedisable disable\" data-action=\"phone\" title=\"发送到手机\"></a><a href=\"javascript:;\" class=\"more\" data-action=\"more\" title=\"更多\"></a></div></td>\\n          <td class=\"u_title\"><a href=\"javascript:;\" class=\"artist\" title=\"张杰\" data-artistid=\"14\" data-uid=\"0\">张杰</a></td>\\n          <td class=\"a_title\"><a href=\"javascript:;\" title=\"着魔\" data-albumid=\"53603707\">着魔</a></td>\\n         <!--  <td class=\"icon\"></td> -->\\n        </tr>\\n                </tbody>      \\n      </table>\\n    </div>\\n    <!-- table end -->\\n    <!-- page begin -->\\n    <div id=\"mainPage\"></div>\\n    <!-- page end --> \\n      \\n  </div>\\n</div>\\n<script>var HOST_URL = \\'http://musicmini.qianqian.com/\\';</script>\\n<script src=\"/min/g=2018js\" type=\"text/javascript\"></script>\\n<script src=\"/min/g=2018jslist,2018jspagenum,2018jsscroll\" type=\"text/javascript\"></script>\\n<script src=\"/min/g=2018function\" type=\"text/javascript\"></script>\\n<script>\\n$(function(){\\n\\t/*-- init --*/\\n\\t$(\"#mainPage\").pagenum({total : \"264\", size : \"20\", page : \"1\", static : false});\\n\\t$(\".main_table\").table();\\n\\t$(\"#useScroll\").ttScroll();\\t\\t\\n\\n\\t//广告\\n\\t$(\"#searchAd\").click(function(){\\n\\t\\tvar url = $(this).data(\"url\");\\n\\t\\twindow.open(url);\\n\\t\\t/*-- log --*/\\n\\t\\tvar logs = {type : \"click\", act : \"searchresult\", sub : \"diversion\"};\\n\\t\\t$.ClickMonkey(logs);\\n\\t\\t/*-- log --*/\\n\\t\\treturn false;\\n\\t});  \\n\\t\\t   \\n});\\n/*-- tongji --*/\\nvar _bdhmProtocol = ((\"https:\" == document.location.protocol) ? \" https://\" : \" http://\");document.write(unescape(\"%3Cscript src=\\'\" + _bdhmProtocol + \"hm.baidu.com/h.js%3Fd9ae3916b55dea6444f28d1a539c1984\\' type=\\'text/javascript\\'%3E%3C/script%3E\"));\\n</script>\\n</body>\\n</html>'"
      ]
     },
     "execution_count": 2,
     "metadata": {},
     "output_type": "execute_result"
    }
   ],
   "source": [
    "with open('C:/Users/45543/Documents/temp.html', 'r', encoding='utf-8') as f:\n",
    "    txt = f.read()\n",
    "txt"
   ]
  },
  {
   "cell_type": "code",
   "execution_count": 6,
   "metadata": {},
   "outputs": [],
   "source": [
    "from bs4 import BeautifulSoup\n",
    "soup = BeautifulSoup(txt, 'lxml')"
   ]
  },
  {
   "cell_type": "code",
   "execution_count": 38,
   "metadata": {},
   "outputs": [],
   "source": [
    "names = [i.text for i in soup.select('.main_table > tr > td > span') if 'class' in i.attrs.keys()]"
   ]
  },
  {
   "cell_type": "code",
   "execution_count": 20,
   "metadata": {},
   "outputs": [
    {
     "name": "stdout",
     "output_type": "stream",
     "text": [
      "['张杰, 张碧晨', '张杰', '张杰', '张杰', '张杰', '张杰', '张杰', '张杰', '张杰', '张杰', '张杰', '张杰', '张杰', '张杰', '张杰, 莫文蔚', '张杰', '张杰', '张杰', '张杰, X Ambassadors', '张杰']\n"
     ]
    }
   ],
   "source": [
    "artist = []\n",
    "for j, i in enumerate(soup.select('.main_table > tr > td > a.artist')):\n",
    "    if i['data-artistid'] != \"14\":\n",
    "        artist[-1] = artist[-1] + ', ' + i.text \n",
    "    else:\n",
    "        artist.append(i.text)\n",
    "print(artist)"
   ]
  },
  {
   "cell_type": "code",
   "execution_count": 53,
   "metadata": {},
   "outputs": [],
   "source": [
    "# [i['data-albumid'] for i in soup.select('.main_table > tr > td > a')]\n",
    "# album = [i.text for i in soup.select('.main_table > tr > td > a') if 'data-albumid' in i.attrs.keys()]\n",
    "album = [i.text for i in soup.select('.main_table > tr > td.a_title')]"
   ]
  },
  {
   "cell_type": "code",
   "execution_count": 54,
   "metadata": {},
   "outputs": [
    {
     "data": {
      "text/html": [
       "<div>\n",
       "<style>\n",
       "    .dataframe thead tr:only-child th {\n",
       "        text-align: right;\n",
       "    }\n",
       "\n",
       "    .dataframe thead th {\n",
       "        text-align: left;\n",
       "    }\n",
       "\n",
       "    .dataframe tbody tr th {\n",
       "        vertical-align: top;\n",
       "    }\n",
       "</style>\n",
       "<table border=\"1\" class=\"dataframe\">\n",
       "  <thead>\n",
       "    <tr style=\"text-align: right;\">\n",
       "      <th></th>\n",
       "      <th>专辑</th>\n",
       "      <th>歌手</th>\n",
       "      <th>歌曲</th>\n",
       "    </tr>\n",
       "  </thead>\n",
       "  <tbody>\n",
       "    <tr>\n",
       "      <th>0</th>\n",
       "      <td>只要平凡</td>\n",
       "      <td>张杰, 张碧晨</td>\n",
       "      <td>只要平凡</td>\n",
       "    </tr>\n",
       "    <tr>\n",
       "      <th>1</th>\n",
       "      <td>何以笙箫默 电视原声带</td>\n",
       "      <td>张杰</td>\n",
       "      <td>My Sunshine</td>\n",
       "    </tr>\n",
       "    <tr>\n",
       "      <th>2</th>\n",
       "      <td>听</td>\n",
       "      <td>张杰</td>\n",
       "      <td>听</td>\n",
       "    </tr>\n",
       "    <tr>\n",
       "      <th>3</th>\n",
       "      <td>《择天记》影视剧OST</td>\n",
       "      <td>张杰</td>\n",
       "      <td>《星辰》——电视剧《择天记》片头曲</td>\n",
       "    </tr>\n",
       "    <tr>\n",
       "      <th>4</th>\n",
       "      <td>微笑着胜利（庆祝建军91周年网宣主题曲）</td>\n",
       "      <td>张杰</td>\n",
       "      <td>微笑着胜利（庆祝建军91周年网宣主题曲）</td>\n",
       "    </tr>\n",
       "    <tr>\n",
       "      <th>5</th>\n",
       "      <td>Give You My World</td>\n",
       "      <td>张杰</td>\n",
       "      <td>Give You My World</td>\n",
       "    </tr>\n",
       "    <tr>\n",
       "      <th>6</th>\n",
       "      <td>Everything Will Say Goodbye</td>\n",
       "      <td>张杰</td>\n",
       "      <td>Everything Will Say Goodbye</td>\n",
       "    </tr>\n",
       "    <tr>\n",
       "      <th>7</th>\n",
       "      <td>Lost In The Stars</td>\n",
       "      <td>张杰</td>\n",
       "      <td>Lost In The Stars</td>\n",
       "    </tr>\n",
       "    <tr>\n",
       "      <th>8</th>\n",
       "      <td>听</td>\n",
       "      <td>张杰</td>\n",
       "      <td>听</td>\n",
       "    </tr>\n",
       "    <tr>\n",
       "      <th>9</th>\n",
       "      <td>何以笙箫默 电视原声带</td>\n",
       "      <td>张杰</td>\n",
       "      <td>My Sunshine</td>\n",
       "    </tr>\n",
       "    <tr>\n",
       "      <th>10</th>\n",
       "      <td>微笑着胜利（庆祝建军91周年网宣主题曲）</td>\n",
       "      <td>张杰</td>\n",
       "      <td>微笑着胜利（庆祝建军91周年网宣主题曲）（伴奏）</td>\n",
       "    </tr>\n",
       "    <tr>\n",
       "      <th>11</th>\n",
       "      <td>三生三世十里桃花 电视剧原声带</td>\n",
       "      <td>张杰</td>\n",
       "      <td>三生三世</td>\n",
       "    </tr>\n",
       "    <tr>\n",
       "      <th>12</th>\n",
       "      <td>古剑奇谭 电视原声带</td>\n",
       "      <td>张杰</td>\n",
       "      <td>剑心</td>\n",
       "    </tr>\n",
       "    <tr>\n",
       "      <th>13</th>\n",
       "      <td>明天过后</td>\n",
       "      <td>张杰</td>\n",
       "      <td>我们都一样</td>\n",
       "    </tr>\n",
       "    <tr>\n",
       "      <th>14</th>\n",
       "      <td>一念之间</td>\n",
       "      <td>张杰, 莫文蔚</td>\n",
       "      <td>一念之间</td>\n",
       "    </tr>\n",
       "    <tr>\n",
       "      <th>15</th>\n",
       "      <td>One Chance 新歌+精选</td>\n",
       "      <td>张杰</td>\n",
       "      <td>逆战</td>\n",
       "    </tr>\n",
       "    <tr>\n",
       "      <th>16</th>\n",
       "      <td>明天过后</td>\n",
       "      <td>张杰</td>\n",
       "      <td>天下</td>\n",
       "    </tr>\n",
       "    <tr>\n",
       "      <th>17</th>\n",
       "      <td>明天过后</td>\n",
       "      <td>张杰</td>\n",
       "      <td>明天过后</td>\n",
       "    </tr>\n",
       "    <tr>\n",
       "      <th>18</th>\n",
       "      <td>Torches</td>\n",
       "      <td>张杰, X Ambassadors</td>\n",
       "      <td>Torches</td>\n",
       "    </tr>\n",
       "    <tr>\n",
       "      <th>19</th>\n",
       "      <td>着魔</td>\n",
       "      <td>张杰</td>\n",
       "      <td>着魔</td>\n",
       "    </tr>\n",
       "  </tbody>\n",
       "</table>\n",
       "</div>"
      ],
      "text/plain": [
       "                             专辑                 歌手  \\\n",
       "0                          只要平凡            张杰, 张碧晨   \n",
       "1                   何以笙箫默 电视原声带                 张杰   \n",
       "2                             听                 张杰   \n",
       "3                   《择天记》影视剧OST                 张杰   \n",
       "4          微笑着胜利（庆祝建军91周年网宣主题曲）                 张杰   \n",
       "5             Give You My World                 张杰   \n",
       "6   Everything Will Say Goodbye                 张杰   \n",
       "7             Lost In The Stars                 张杰   \n",
       "8                             听                 张杰   \n",
       "9                   何以笙箫默 电视原声带                 张杰   \n",
       "10         微笑着胜利（庆祝建军91周年网宣主题曲）                 张杰   \n",
       "11              三生三世十里桃花 电视剧原声带                 张杰   \n",
       "12                   古剑奇谭 电视原声带                 张杰   \n",
       "13                         明天过后                 张杰   \n",
       "14                         一念之间            张杰, 莫文蔚   \n",
       "15             One Chance 新歌+精选                 张杰   \n",
       "16                         明天过后                 张杰   \n",
       "17                         明天过后                 张杰   \n",
       "18                      Torches  张杰, X Ambassadors   \n",
       "19                           着魔                 张杰   \n",
       "\n",
       "                             歌曲  \n",
       "0                          只要平凡  \n",
       "1                   My Sunshine  \n",
       "2                             听  \n",
       "3             《星辰》——电视剧《择天记》片头曲  \n",
       "4          微笑着胜利（庆祝建军91周年网宣主题曲）  \n",
       "5             Give You My World  \n",
       "6   Everything Will Say Goodbye  \n",
       "7             Lost In The Stars  \n",
       "8                             听  \n",
       "9                   My Sunshine  \n",
       "10     微笑着胜利（庆祝建军91周年网宣主题曲）（伴奏）  \n",
       "11                         三生三世  \n",
       "12                           剑心  \n",
       "13                        我们都一样  \n",
       "14                         一念之间  \n",
       "15                           逆战  \n",
       "16                           天下  \n",
       "17                         明天过后  \n",
       "18                      Torches  \n",
       "19                           着魔  "
      ]
     },
     "execution_count": 54,
     "metadata": {},
     "output_type": "execute_result"
    }
   ],
   "source": [
    "import pandas as pd\n",
    "pd.DataFrame({'歌曲': names, '歌手': artist, '专辑': album})"
   ]
  },
  {
   "cell_type": "code",
   "execution_count": 52,
   "metadata": {},
   "outputs": [
    {
     "name": "stdout",
     "output_type": "stream",
     "text": [
      "20\n",
      "20\n",
      "16\n"
     ]
    }
   ],
   "source": [
    "print(len(names))\n",
    "print(len(artist))\n",
    "print(len(album))"
   ]
  },
  {
   "cell_type": "code",
   "execution_count": 49,
   "metadata": {},
   "outputs": [
    {
     "data": {
      "text/plain": [
       "20"
      ]
     },
     "execution_count": 49,
     "metadata": {},
     "output_type": "execute_result"
    }
   ],
   "source": [
    "soup.select('.main_table > tr > td > a')\n",
    "len([i.text for i in soup.select('.main_table > tr > td.a_title')])"
   ]
  },
  {
   "cell_type": "code",
   "execution_count": null,
   "metadata": {},
   "outputs": [],
   "source": []
  }
 ],
 "metadata": {
  "kernelspec": {
   "display_name": "Python 3",
   "language": "python",
   "name": "python3"
  },
  "language_info": {
   "codemirror_mode": {
    "name": "ipython",
    "version": 3
   },
   "file_extension": ".py",
   "mimetype": "text/x-python",
   "name": "python",
   "nbconvert_exporter": "python",
   "pygments_lexer": "ipython3",
   "version": "3.6.10"
  },
  "toc": {
   "base_numbering": 1,
   "nav_menu": {},
   "number_sections": true,
   "sideBar": true,
   "skip_h1_title": false,
   "title_cell": "Table of Contents",
   "title_sidebar": "Contents",
   "toc_cell": false,
   "toc_position": {},
   "toc_section_display": true,
   "toc_window_display": false
  },
  "varInspector": {
   "cols": {
    "lenName": 16,
    "lenType": 16,
    "lenVar": 40
   },
   "kernels_config": {
    "python": {
     "delete_cmd_postfix": "",
     "delete_cmd_prefix": "del ",
     "library": "var_list.py",
     "varRefreshCmd": "print(var_dic_list())"
    },
    "r": {
     "delete_cmd_postfix": ") ",
     "delete_cmd_prefix": "rm(",
     "library": "var_list.r",
     "varRefreshCmd": "cat(var_dic_list()) "
    }
   },
   "types_to_exclude": [
    "module",
    "function",
    "builtin_function_or_method",
    "instance",
    "_Feature"
   ],
   "window_display": false
  }
 },
 "nbformat": 4,
 "nbformat_minor": 2
}
