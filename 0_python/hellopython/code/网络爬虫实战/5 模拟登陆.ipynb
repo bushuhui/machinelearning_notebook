{
 "cells": [
  {
   "cell_type": "markdown",
   "metadata": {},
   "source": [
    "# 人工获取验证码"
   ]
  },
  {
   "cell_type": "code",
   "execution_count": 14,
   "metadata": {
    "ExecuteTime": {
     "end_time": "2020-04-23T12:01:21.248020Z",
     "start_time": "2020-04-23T12:01:21.195647Z"
    }
   },
   "outputs": [],
   "source": [
    "import requests\n",
    "head ={\"Host\":\"www.douban.com\",    \"User-Agent\":\"Mozilla/5.0 (Windows NT 10.0; WOW64; rv:43.0) Gecko/20100101 Firefox/43.0\",   \n",
    "       \"Accept-Language\":\"zh-CN,zh;q=0.8,en-US;q=0.5,en;q=0.3\",    \"Accept-Encoding\":\"gzip, deflate\",    \"Connection\":\"keep-alive\"}\n",
    "rqq = requests.get('http://www.tipdm.org/captcha.svl')\n",
    "\n",
    "with open('./captcha.jpg', 'wb') as f:\n",
    "    f.write(rqq.content)"
   ]
  },
  {
   "cell_type": "code",
   "execution_count": 3,
   "metadata": {
    "ExecuteTime": {
     "end_time": "2020-04-22T12:07:42.038680Z",
     "start_time": "2020-04-22T12:07:41.735324Z"
    },
    "scrolled": true
   },
   "outputs": [
    {
     "data": {
      "image/png": "[encoded data removed]",
      "text/plain": [
       "<matplotlib.figure.Figure at 0x1ab34b45a20>"
      ]
     },
     "metadata": {
      "needs_background": "light"
     },
     "output_type": "display_data"
    }
   ],
   "source": [
    "import matplotlib.pyplot as plt\n",
    "\n",
    "pic = plt.imread('./captcha.jpg')\n",
    "plt.imshow(pic)\n",
    "plt.show()"
   ]
  },
  {
   "cell_type": "code",
   "execution_count": 4,
   "metadata": {
    "ExecuteTime": {
     "end_time": "2020-04-22T12:08:05.903707Z",
     "start_time": "2020-04-22T12:08:02.879011Z"
    }
   },
   "outputs": [
    {
     "name": "stdout",
     "output_type": "stream",
     "text": [
      "请输入验证码：ggse\n"
     ]
    }
   ],
   "source": [
    "a = input('请输入验证码：') "
   ]
  },
  {
   "cell_type": "code",
   "execution_count": 8,
   "metadata": {
    "ExecuteTime": {
     "end_time": "2020-04-22T12:18:16.896172Z",
     "start_time": "2020-04-22T12:18:16.891187Z"
    }
   },
   "outputs": [
    {
     "data": {
      "text/plain": [
       "'ggse'"
      ]
     },
     "execution_count": 8,
     "metadata": {},
     "output_type": "execute_result"
    }
   ],
   "source": [
    "a"
   ]
  },
  {
   "cell_type": "markdown",
   "metadata": {},
   "source": [
    "# 代理IP"
   ]
  },
  {
   "cell_type": "code",
   "execution_count": 15,
   "metadata": {
    "ExecuteTime": {
     "end_time": "2020-04-23T12:01:28.236463Z",
     "start_time": "2020-04-23T12:01:25.171328Z"
    }
   },
   "outputs": [
    {
     "ename": "TooManyRedirects",
     "evalue": "Exceeded 30 redirects.",
     "output_type": "error",
     "traceback": [
      "\u001b[1;31m---------------------------------------------------------------------------\u001b[0m",
      "\u001b[1;31mTooManyRedirects\u001b[0m                          Traceback (most recent call last)",
      "\u001b[1;32m<ipython-input-15-2f9da7703443>\u001b[0m in \u001b[0;36m<module>\u001b[1;34m\u001b[0m\n\u001b[0;32m      1\u001b[0m \u001b[0mproxies\u001b[0m \u001b[1;33m=\u001b[0m \u001b[1;33m{\u001b[0m\u001b[1;34m'http'\u001b[0m\u001b[1;33m:\u001b[0m \u001b[1;34m'121.237.148.31:3000'\u001b[0m\u001b[1;33m}\u001b[0m\u001b[1;33m\u001b[0m\u001b[0m\n\u001b[1;32m----> 2\u001b[1;33m \u001b[0mrequests\u001b[0m\u001b[1;33m.\u001b[0m\u001b[0mget\u001b[0m\u001b[1;33m(\u001b[0m\u001b[1;34m'https://movie.douban.com/subject/26266893/reviews?start=0'\u001b[0m\u001b[1;33m,\u001b[0m\u001b[0mheaders\u001b[0m\u001b[1;33m=\u001b[0m\u001b[0mhead\u001b[0m\u001b[1;33m,\u001b[0m\u001b[0mproxies\u001b[0m\u001b[1;33m=\u001b[0m\u001b[0mproxies\u001b[0m\u001b[1;33m)\u001b[0m\u001b[1;33m\u001b[0m\u001b[0m\n\u001b[0m",
      "\u001b[1;32mE:\\APP\\ANACONDA3\\lib\\site-packages\\requests\\api.py\u001b[0m in \u001b[0;36mget\u001b[1;34m(url, params, **kwargs)\u001b[0m\n\u001b[0;32m     70\u001b[0m \u001b[1;33m\u001b[0m\u001b[0m\n\u001b[0;32m     71\u001b[0m     \u001b[0mkwargs\u001b[0m\u001b[1;33m.\u001b[0m\u001b[0msetdefault\u001b[0m\u001b[1;33m(\u001b[0m\u001b[1;34m'allow_redirects'\u001b[0m\u001b[1;33m,\u001b[0m \u001b[1;32mTrue\u001b[0m\u001b[1;33m)\u001b[0m\u001b[1;33m\u001b[0m\u001b[0m\n\u001b[1;32m---> 72\u001b[1;33m     \u001b[1;32mreturn\u001b[0m \u001b[0mrequest\u001b[0m\u001b[1;33m(\u001b[0m\u001b[1;34m'get'\u001b[0m\u001b[1;33m,\u001b[0m \u001b[0murl\u001b[0m\u001b[1;33m,\u001b[0m \u001b[0mparams\u001b[0m\u001b[1;33m=\u001b[0m\u001b[0mparams\u001b[0m\u001b[1;33m,\u001b[0m \u001b[1;33m**\u001b[0m\u001b[0mkwargs\u001b[0m\u001b[1;33m)\u001b[0m\u001b[1;33m\u001b[0m\u001b[0m\n\u001b[0m\u001b[0;32m     73\u001b[0m \u001b[1;33m\u001b[0m\u001b[0m\n\u001b[0;32m     74\u001b[0m \u001b[1;33m\u001b[0m\u001b[0m\n",
      "\u001b[1;32mE:\\APP\\ANACONDA3\\lib\\site-packages\\requests\\api.py\u001b[0m in \u001b[0;36mrequest\u001b[1;34m(method, url, **kwargs)\u001b[0m\n\u001b[0;32m     56\u001b[0m     \u001b[1;31m# cases, and look like a memory leak in others.\u001b[0m\u001b[1;33m\u001b[0m\u001b[1;33m\u001b[0m\u001b[0m\n\u001b[0;32m     57\u001b[0m     \u001b[1;32mwith\u001b[0m \u001b[0msessions\u001b[0m\u001b[1;33m.\u001b[0m\u001b[0mSession\u001b[0m\u001b[1;33m(\u001b[0m\u001b[1;33m)\u001b[0m \u001b[1;32mas\u001b[0m \u001b[0msession\u001b[0m\u001b[1;33m:\u001b[0m\u001b[1;33m\u001b[0m\u001b[0m\n\u001b[1;32m---> 58\u001b[1;33m         \u001b[1;32mreturn\u001b[0m \u001b[0msession\u001b[0m\u001b[1;33m.\u001b[0m\u001b[0mrequest\u001b[0m\u001b[1;33m(\u001b[0m\u001b[0mmethod\u001b[0m\u001b[1;33m=\u001b[0m\u001b[0mmethod\u001b[0m\u001b[1;33m,\u001b[0m \u001b[0murl\u001b[0m\u001b[1;33m=\u001b[0m\u001b[0murl\u001b[0m\u001b[1;33m,\u001b[0m \u001b[1;33m**\u001b[0m\u001b[0mkwargs\u001b[0m\u001b[1;33m)\u001b[0m\u001b[1;33m\u001b[0m\u001b[0m\n\u001b[0m\u001b[0;32m     59\u001b[0m \u001b[1;33m\u001b[0m\u001b[0m\n\u001b[0;32m     60\u001b[0m \u001b[1;33m\u001b[0m\u001b[0m\n",
      "\u001b[1;32mE:\\APP\\ANACONDA3\\lib\\site-packages\\requests\\sessions.py\u001b[0m in \u001b[0;36mrequest\u001b[1;34m(self, method, url, params, data, headers, cookies, files, auth, timeout, allow_redirects, proxies, hooks, stream, verify, cert, json)\u001b[0m\n\u001b[0;32m    506\u001b[0m         }\n\u001b[0;32m    507\u001b[0m         \u001b[0msend_kwargs\u001b[0m\u001b[1;33m.\u001b[0m\u001b[0mupdate\u001b[0m\u001b[1;33m(\u001b[0m\u001b[0msettings\u001b[0m\u001b[1;33m)\u001b[0m\u001b[1;33m\u001b[0m\u001b[0m\n\u001b[1;32m--> 508\u001b[1;33m         \u001b[0mresp\u001b[0m \u001b[1;33m=\u001b[0m \u001b[0mself\u001b[0m\u001b[1;33m.\u001b[0m\u001b[0msend\u001b[0m\u001b[1;33m(\u001b[0m\u001b[0mprep\u001b[0m\u001b[1;33m,\u001b[0m \u001b[1;33m**\u001b[0m\u001b[0msend_kwargs\u001b[0m\u001b[1;33m)\u001b[0m\u001b[1;33m\u001b[0m\u001b[0m\n\u001b[0m\u001b[0;32m    509\u001b[0m \u001b[1;33m\u001b[0m\u001b[0m\n\u001b[0;32m    510\u001b[0m         \u001b[1;32mreturn\u001b[0m \u001b[0mresp\u001b[0m\u001b[1;33m\u001b[0m\u001b[0m\n",
      "\u001b[1;32mE:\\APP\\ANACONDA3\\lib\\site-packages\\requests\\sessions.py\u001b[0m in \u001b[0;36msend\u001b[1;34m(self, request, **kwargs)\u001b[0m\n\u001b[0;32m    638\u001b[0m \u001b[1;33m\u001b[0m\u001b[0m\n\u001b[0;32m    639\u001b[0m         \u001b[1;31m# Resolve redirects if allowed.\u001b[0m\u001b[1;33m\u001b[0m\u001b[1;33m\u001b[0m\u001b[0m\n\u001b[1;32m--> 640\u001b[1;33m         \u001b[0mhistory\u001b[0m \u001b[1;33m=\u001b[0m \u001b[1;33m[\u001b[0m\u001b[0mresp\u001b[0m \u001b[1;32mfor\u001b[0m \u001b[0mresp\u001b[0m \u001b[1;32min\u001b[0m \u001b[0mgen\u001b[0m\u001b[1;33m]\u001b[0m \u001b[1;32mif\u001b[0m \u001b[0mallow_redirects\u001b[0m \u001b[1;32melse\u001b[0m \u001b[1;33m[\u001b[0m\u001b[1;33m]\u001b[0m\u001b[1;33m\u001b[0m\u001b[0m\n\u001b[0m\u001b[0;32m    641\u001b[0m \u001b[1;33m\u001b[0m\u001b[0m\n\u001b[0;32m    642\u001b[0m         \u001b[1;31m# Shuffle things around if there's history.\u001b[0m\u001b[1;33m\u001b[0m\u001b[1;33m\u001b[0m\u001b[0m\n",
      "\u001b[1;32mE:\\APP\\ANACONDA3\\lib\\site-packages\\requests\\sessions.py\u001b[0m in \u001b[0;36m<listcomp>\u001b[1;34m(.0)\u001b[0m\n\u001b[0;32m    638\u001b[0m \u001b[1;33m\u001b[0m\u001b[0m\n\u001b[0;32m    639\u001b[0m         \u001b[1;31m# Resolve redirects if allowed.\u001b[0m\u001b[1;33m\u001b[0m\u001b[1;33m\u001b[0m\u001b[0m\n\u001b[1;32m--> 640\u001b[1;33m         \u001b[0mhistory\u001b[0m \u001b[1;33m=\u001b[0m \u001b[1;33m[\u001b[0m\u001b[0mresp\u001b[0m \u001b[1;32mfor\u001b[0m \u001b[0mresp\u001b[0m \u001b[1;32min\u001b[0m \u001b[0mgen\u001b[0m\u001b[1;33m]\u001b[0m \u001b[1;32mif\u001b[0m \u001b[0mallow_redirects\u001b[0m \u001b[1;32melse\u001b[0m \u001b[1;33m[\u001b[0m\u001b[1;33m]\u001b[0m\u001b[1;33m\u001b[0m\u001b[0m\n\u001b[0m\u001b[0;32m    641\u001b[0m \u001b[1;33m\u001b[0m\u001b[0m\n\u001b[0;32m    642\u001b[0m         \u001b[1;31m# Shuffle things around if there's history.\u001b[0m\u001b[1;33m\u001b[0m\u001b[1;33m\u001b[0m\u001b[0m\n",
      "\u001b[1;32mE:\\APP\\ANACONDA3\\lib\\site-packages\\requests\\sessions.py\u001b[0m in \u001b[0;36mresolve_redirects\u001b[1;34m(self, resp, req, stream, timeout, verify, cert, proxies, yield_requests, **adapter_kwargs)\u001b[0m\n\u001b[0;32m    138\u001b[0m \u001b[1;33m\u001b[0m\u001b[0m\n\u001b[0;32m    139\u001b[0m             \u001b[1;32mif\u001b[0m \u001b[0mlen\u001b[0m\u001b[1;33m(\u001b[0m\u001b[0mresp\u001b[0m\u001b[1;33m.\u001b[0m\u001b[0mhistory\u001b[0m\u001b[1;33m)\u001b[0m \u001b[1;33m>=\u001b[0m \u001b[0mself\u001b[0m\u001b[1;33m.\u001b[0m\u001b[0mmax_redirects\u001b[0m\u001b[1;33m:\u001b[0m\u001b[1;33m\u001b[0m\u001b[0m\n\u001b[1;32m--> 140\u001b[1;33m                 \u001b[1;32mraise\u001b[0m \u001b[0mTooManyRedirects\u001b[0m\u001b[1;33m(\u001b[0m\u001b[1;34m'Exceeded %s redirects.'\u001b[0m \u001b[1;33m%\u001b[0m \u001b[0mself\u001b[0m\u001b[1;33m.\u001b[0m\u001b[0mmax_redirects\u001b[0m\u001b[1;33m,\u001b[0m \u001b[0mresponse\u001b[0m\u001b[1;33m=\u001b[0m\u001b[0mresp\u001b[0m\u001b[1;33m)\u001b[0m\u001b[1;33m\u001b[0m\u001b[0m\n\u001b[0m\u001b[0;32m    141\u001b[0m \u001b[1;33m\u001b[0m\u001b[0m\n\u001b[0;32m    142\u001b[0m             \u001b[1;31m# Release the connection back into the pool.\u001b[0m\u001b[1;33m\u001b[0m\u001b[1;33m\u001b[0m\u001b[0m\n",
      "\u001b[1;31mTooManyRedirects\u001b[0m: Exceeded 30 redirects."
     ]
    }
   ],
   "source": [
    "proxies = {'http': '121.237.148.31:3000'}\n",
    "requests.get('https://movie.douban.com/subject/26266893/reviews?start=0',headers=head,proxies=proxies)"
   ]
  },
  {
   "cell_type": "markdown",
   "metadata": {},
   "source": [
    "# 使用POST请求方法登陆"
   ]
  },
  {
   "cell_type": "code",
   "execution_count": 10,
   "metadata": {
    "ExecuteTime": {
     "end_time": "2020-04-22T12:20:59.932445Z",
     "start_time": "2020-04-22T12:20:58.041601Z"
    }
   },
   "outputs": [
    {
     "data": {
      "text/plain": [
       "<Response [200]>"
      ]
     },
     "execution_count": 10,
     "metadata": {},
     "output_type": "execute_result"
    }
   ],
   "source": [
    "import requests\n",
    "url = 'http://www.tipdm.org/login.jspx'\n",
    "login = {'username': 'pc2019',\n",
    "         'password': 'pc2019',\n",
    "         'captcha': 'a'}\n",
    "requests.post(url, login)"
   ]
  },
  {
   "cell_type": "markdown",
   "metadata": {},
   "source": [
    "Session会话"
   ]
  },
  {
   "cell_type": "code",
   "execution_count": 2,
   "metadata": {},
   "outputs": [
    {
     "data": {
      "text/plain": [
       "<matplotlib.figure.Figure at 0x1faae2aa240>"
      ]
     },
     "metadata": {},
     "output_type": "display_data"
    },
    {
     "name": "stdout",
     "output_type": "stream",
     "text": [
      "请输入验证码：qooe\n"
     ]
    }
   ],
   "source": [
    "import requests\n",
    "import matplotlib.pyplot as plt\n",
    "\n",
    "s = requests.Session()\n",
    "url = 'http://www.tipdm.org/login.jspx'\n",
    "\n",
    "rqq = s.get('http://www.tipdm.org/captcha.svl')\n",
    "with open('./captcha.jpg', 'wb') as f:\n",
    "    f.write(rqq.content)\n",
    "\n",
    "pic = plt.imread('./captcha.jpg')\n",
    "plt.imshow(pic)\n",
    "plt.show()\n",
    "a = input('请输入验证码：')\n",
    "\n",
    "login = {'username': 'pc2019',\n",
    "         'password': 'pc2019',\n",
    "         'captcha': a}"
   ]
  },
  {
   "cell_type": "code",
   "execution_count": 4,
   "metadata": {},
   "outputs": [],
   "source": [
    "rqq = s.post(url, data=login)"
   ]
  },
  {
   "cell_type": "code",
   "execution_count": 5,
   "metadata": {},
   "outputs": [
    {
     "data": {
      "text/plain": [
       "'http://www.tipdm.org/bdrace/index.html'"
      ]
     },
     "execution_count": 5,
     "metadata": {},
     "output_type": "execute_result"
    }
   ],
   "source": [
    "rqq.url"
   ]
  },
  {
   "cell_type": "code",
   "execution_count": 7,
   "metadata": {
    "collapsed": true
   },
   "outputs": [
    {
     "data": {
      "text/plain": [
       "'<!DOCTYPE html PUBLIC \"-//W3C//DTD XHTML 1.0 Transitional//EN\" \"http://www.w3.org/TR/xhtml1/DTD/xhtml1-transitional.dtd\">\\n<html xmlns=\"http://www.w3.org/1999/xhtml\">\\n<head>\\n<meta http-equiv=\"Content-Type\" content=\"text/html; charset=utf-8\" />\\n<meta name=\"viewport\" content=\"width=device-width, initial-scale=1.0\">\\n<title>BdRace数睿思_数据挖掘竞赛平台</title>\\n<link type=\"text/css\" rel=\"stylesheet\" href=\"/r/cms/www/red/css/index.css\" />\\n<link href=\"/r/cms/front.css\" rel=\"stylesheet\" type=\"text/css\"/>\\n<script src=\"/r/cms/jquery.js\" type=\"text/javascript\"></script>\\n<script src=\"/r/cms/front.js\" type=\"text/javascript\"></script>\\n<!--[if lt IE 9]> \\n<script src=\"/r/cms/www/red/js/html5shiv.min.js\"></script>\\n<script src=\"/r/cms/www/red/js/respond.min.js\"></script>\\n<![endif]-->\\n</head>\\n<body>\\n<script src=\"/r/cms/easyui/plugins/jquery.form.js\" type=\"text/javascript\"></script>\\n<script src=\"/r/cms/easyui/plugins/jquery.validate.js\" type=\"text/javascript\"></script>\\n<script src=\"/r/cms/front.js\" type=\"text/javascript\"></script>\\n<!--start top class -->\\n<script type=\"text/javascript\">\\n\\tfunction guidGenerator() {\\n\\t\\tvar S4 = function() {\\n\\t\\t\\treturn (((1 + Math.random()) * 0x10000) | 0).toString(16)\\n\\t\\t\\t\\t\\t.substring(1);\\n\\t\\t};\\n\\t\\treturn (S4() + S4() + \"-\" + S4() + \"-\" + S4() + \"-\" + S4() + \"-\" + S4()\\n\\t\\t\\t\\t+ S4() + S4());\\n\\t}\\n\\n\\tvar cookie = {};\\n\\tcookie.set = function(n, v, t) {\\n\\t\\tvar exp = new Date();\\n\\t\\texp.setTime(exp.getTime() + (t || 24) * 60 * 60 * 1000 * 365);\\n\\t\\tdocument.cookie = n + \"=\" + escape(v) + \";expires=\" + exp.toGMTString()\\n\\t\\t\\t\\t+ \\';path=/\\';\\n\\t}\\n\\n\\tcookie.get = function(n) {\\n\\t\\tvar arr = document.cookie.match(new RegExp(\"(^| )\" + n\\n\\t\\t\\t\\t+ \"=([^;]*)(;|$)\"));\\n\\t\\tif (arr != null) {\\n\\t\\t\\treturn unescape(arr[2]);\\n\\t\\t}\\n\\t\\treturn null;\\n\\t}\\n\\n\\tvar uniqueVisitorId;\\n\\tvar co = cookie.get(\\'uniqueVisitorId\\');\\n\\tif (co != null) {\\n\\t\\tuniqueVisitorId = cookie.get(\\'uniqueVisitorId\\');\\n\\t} else {\\n\\t\\tuniqueVisitorId = guidGenerator();\\n\\t\\tcookie.set(\\'uniqueVisitorId\\', uniqueVisitorId);\\n\\t}\\n</script>\\n<!--头部开始-->\\n<div id=\"hp\" class=\"hp\">\\n\\t<div class=\"header\">\\n\\t\\t<div class=\"headerDiv\">\\n\\t\\t\\t<a class=\"logo\" href=\"/\"></a>\\n\\t\\t\\t<div id=\"Menu\" class=\"Menu\">\\n\\t\\t\\t\\t<ul class=\"ul1\">\\n\\t\\t\\t\\t\\t<li class=\"li1  cur\">\\n\\t\\t\\t\\t\\t\\t<a\\tclass=\"a1  selected \" href=\"/\"\\n\\t\\t\\t\\t\\t\\ttarget=\"_self\">首 页</a>\\n\\t\\t\\t\\t\\t\\t</li> \\n\\t\\t\\t\\t\\t\\t<li class=\"li1 \">\\n\\t\\t\\t\\t\\t\\t\\t\\t<a\\tclass=\"a1 \"\\n\\t\\t\\t\\t\\t\\t\\t\\t\\thref=\"http://www.tipdm.net\" target=\"_blank\">联盟 \\n\\t\\t\\t\\t\\t\\t\\t\\t</a>\\n\\t\\t\\t\\t\\t\\t\\t\\t<ul id=\"ul425\" class=\"ul2\">\\n\\t\\t\\t\\t\\t\\t\\t\\t\\t \\t\\t\\t\\t\\t\\t\\t\\t</ul>\\n\\t\\t\\t\\t\\t\\t</li> \\n\\t\\t\\t\\t\\t\\t<li class=\"li1 \">\\n\\t\\t\\t\\t\\t\\t\\t\\t<a\\tclass=\"a1 \"\\n\\t\\t\\t\\t\\t\\t\\t\\t\\thref=\"/bdrace/tzjingsai\" target=\"_blank\">挑战赛 \\n\\t\\t\\t\\t\\t\\t\\t\\t</a>\\n\\t\\t\\t\\t\\t\\t\\t\\t<ul id=\"ul149\" class=\"ul2\">\\n\\t\\t\\t\\t\\t\\t\\t\\t\\t \\n\\t\\t\\t\\t\\t\\t\\t\\t\\t<li class=\"li2\"><a class=\"a2\" href=\"http://www.tipdm.org/bdrace/tzjingsai/20181226/1544.html\">第七届</a></li>\\n\\n\\t\\t\\t\\t\\t\\t\\t\\t\\t<li class=\"li2\"><a class=\"a2\" href=\"/bdrace/tzjingsai/20170921/1253.html\">第六届</a></li>\\n\\n\\t\\t\\t\\t\\t\\t\\t\\t\\t<li class=\"li2\"><a class=\"a2\" href=\"/bdrace/tzjingsai/20161227/1030.html\">第五届</a></li>\\n\\n\\t\\t\\t\\t\\t\\t\\t\\t\\t<li class=\"li2\"><a class=\"a2\" href=\"/bdrace/tzjingsai/20160401/712.html\">第四届</a></li>\\n\\n\\t\\t\\t\\t\\t\\t\\t\\t\\t<li class=\"li2\"><a class=\"a2\" href=\"/bdrace/tzjingsai/20150301/613.html\">第三届</a></li>\\n\\n\\t\\t\\t\\t\\t\\t\\t\\t\\t<li class=\"li2\"><a class=\"a2\" href=\"/bdrace/tzjingsai/20140301/612.html\">第二届</a></li>\\n\\n\\t\\t\\t\\t\\t\\t\\t\\t\\t<li class=\"li2\"><a class=\"a2\" href=\"/bdrace/tzjingsai/20130301/611.html\">第一届</a></li>\\n\\t\\t\\t\\t\\t\\t\\t\\t</ul>\\n\\t\\t\\t\\t\\t\\t</li> \\n\\t\\t\\t\\t\\t\\t<li class=\"li1 \">\\n\\t\\t\\t\\t\\t\\t\\t\\t<a\\tclass=\"a1 \"\\n\\t\\t\\t\\t\\t\\t\\t\\t\\thref=\"/bdrace/jljingsai\" target=\"_blank\">技能赛 \\n\\t\\t\\t\\t\\t\\t\\t\\t</a>\\n\\t\\t\\t\\t\\t\\t\\t\\t<ul id=\"ul407\" class=\"ul2\">\\n\\t\\t\\t\\t\\t\\t\\t\\t\\t \\n\\t\\t\\t\\t\\t\\t\\t\\t\\t<li class=\"li2\"><a class=\"a2\" href=\"/bdrace/jljingsai/20181008/1488.html\">第一届</a></li>\\n\\t\\t\\t\\t\\t\\t\\t\\t</ul>\\n\\t\\t\\t\\t\\t\\t</li> \\n\\t\\t\\t\\t\\t\\t<li class=\"li1 \">\\n\\t\\t\\t\\t\\t\\t\\t\\t<a\\tclass=\"a1 \"\\n\\t\\t\\t\\t\\t\\t\\t\\t\\thref=\"/bdrace/notices/\" target=\"_self\">新闻动态 \\n\\t\\t\\t\\t\\t\\t\\t\\t</a>\\n\\t\\t\\t\\t\\t\\t\\t\\t<ul id=\"ul150\" class=\"ul2\">\\n\\t\\t\\t\\t\\t\\t\\t\\t\\t \\t\\t\\t\\t\\t\\t\\t\\t</ul>\\n\\t\\t\\t\\t\\t\\t</li> \\n\\t\\t\\t\\t\\t\\t<li class=\"li1 \">\\n\\t\\t\\t\\t\\t\\t\\t\\t<a\\tclass=\"a1 \"\\n\\t\\t\\t\\t\\t\\t\\t\\t\\thref=\"https://edu.tipdm.org\" target=\"_blank\">云课堂 \\n\\t\\t\\t\\t\\t\\t\\t\\t</a>\\n\\t\\t\\t\\t\\t\\t\\t\\t<ul id=\"ul424\" class=\"ul2\">\\n\\t\\t\\t\\t\\t\\t\\t\\t\\t \\t\\t\\t\\t\\t\\t\\t\\t</ul>\\n\\t\\t\\t\\t\\t\\t</li> \\n\\t\\t\\t\\t\\t\\t<li class=\"li1 \">\\n\\t\\t\\t\\t\\t\\t\\t\\t<a\\tclass=\"a1 \"\\n\\t\\t\\t\\t\\t\\t\\t\\t\\thref=\"http://mx.tipdm.org/\" target=\"_blank\">模型交易 \\n\\t\\t\\t\\t\\t\\t\\t\\t</a>\\n\\t\\t\\t\\t\\t\\t\\t\\t<ul id=\"ul219\" class=\"ul2\">\\n\\t\\t\\t\\t\\t\\t\\t\\t\\t \\t\\t\\t\\t\\t\\t\\t\\t</ul>\\n\\t\\t\\t\\t\\t\\t</li> \\n\\t\\t\\t\\t\\t\\t<li class=\"li1 \">\\n\\t\\t\\t\\t\\t\\t\\t\\t<a\\tclass=\"a1 \"\\n\\t\\t\\t\\t\\t\\t\\t\\t\\thref=\"/bdrace/gyrs/20160720/787.html\" target=\"_blank\">关于数睿思 \\n\\t\\t\\t\\t\\t\\t\\t\\t</a>\\n\\t\\t\\t\\t\\t\\t\\t\\t<ul id=\"ul180\" class=\"ul2\">\\n\\t\\t\\t\\t\\t\\t\\t\\t\\t \\t\\t\\t\\t\\t\\t\\t\\t</ul>\\n\\t\\t\\t\\t\\t\\t</li> \\n\\t\\t\\t\\t</ul>\\n\\t\\t\\t</div>\\n<div id=\"loginCsiDiv\" class=\"cutLink\"></div>\\n<script type=\"text/javascript\">\\n$(function(){\\n\\tCms.loginCsi(\"\",\"loginCsiDiv\",{\"returnUrl\":\"http://www.tipdm.org/member/index.jspx\"});\\n});\\n</script>\\t\\t\\t<div class=\"clear\"></div>\\n\\t\\t</div>\\n\\t</div>\\n</div>\\n<!--头部结束-->\\n\\n<!--end top class -->\\n<div class=\"member-con\">\\n  <div class=\"m-pos\"><a href=\"/\">首页</a> &gt; <span>会员中心</span></div>\\n  <div class=\"member clearfix\">\\n    <div class=\"memberLeft clearfix\">\\n      <div class=\"member-nav\">\\n        <ul>\\n<li class=\"uInfo\">\\n      <div class=\"memberImg\"><img src=\"/r/cms/www/red/images/userImg-large.png\"></div>\\n      <div class=\"memberName\">您好，<span>pc2019</span></div>\\n      <div class=\"memberOut\"><a href=\"/logout.jspx\">退出</a></div>\\n      <div class=\"uGroup\">个 </div>\\n</li>          <li><a href=\"/member/index.jspx\" class=\"on\">个人资料</a></li>\\n          <li><a href=\"/member/contribute_list.jspx\">投稿管理</a></li>\\n          <li><a href=\"/member/doc_list.jspx?modelId=9\">文档管理</a></li>\\n          <li><a href=\"/member/resume.jspx\">应聘管理</a></li>\\n          <li><a href=\"/member/mycomments.jspx\">我的评论</a></li>\\n          <li><a href=\"/member/myguestbook.jspx\">我的留言</a></li>\\n          <li><a href=\"/member/collection_list.jspx\">我的收藏</a></li>\\n          <li><a href=\"/member/message_mng.jspx\">站内信息</a></li>\\n          <li><a href=\"/member/account.jspx\">服务中心</a></li>\\n        </ul>\\n      </div>\\n      <div class=\"member-main\">\\n        <div class=\"member-child\"><a href=\"/member/index.jspx\" class=\"on\">用户信息</a>|<a href=\"/member/profile.jspx\">修改个人资料</a>|<a href=\"/member/portrait.jspx\">更换头像</a>|<a href=\"/member/pwd.jspx\">修改密码</a></div>\\n        <div class=\"member-text\">\\n          <table cellpadding=\"0\" cellspacing=\"0\" class=\"userInfo\">\\n            <tbody>\\n              <tr>\\n                <td class=\"s-p\">用户昵称：</td>\\n                <td>pc2019</td>\\n                <td class=\"s-p\">会员组别：</td>\\n                <td width=\"40%\" class=\"hyzb\">个人会员</td>\\n              </tr>\\n              <tr>\\n                <td class=\"s-p\">性别：</td>\\n                <td>保密</td>\\n                <td class=\"s-p\">出生日期：</td>\\n                <td></td>\\n              </tr>\\n              <tr>\\n                <td class=\"s-p\">真实姓名：</td>\\n                <td></td>\\n                <td class=\"s-p\">邮箱：</td>\\n                <td></td>\\n              </tr>\\n              <tr>\\n                <td class=\"s-p\">手机：</td>\\n                <td></td>\\n                <td class=\"s-p\">固定电话：</td>\\n                <td></td>\\n              </tr>\\n              <tr>\\n                <td class=\"s-p\">QQ：</td>\\n                <td></td>\\n                <td class=\"s-p\">MSN：</td>\\n                <td></td>\\n              </tr>\\n              <tr>\\n                <td class=\"s-p\">来自：</td>\\n                <td></td>\\n                <td class=\"s-p\">财富收益：</td>\\n                <td></td>\\n              </tr>\\n              <tr>\\n                <td class=\"s-p\">自我介绍：</td>\\n                <td colspan=\"3\"></td>\\n              </tr>\\n            </tbody>\\n          </table>\\n        </div>\\n      </div>\\n    </div>\\n    <div class=\"m-sj\"></div>\\n  </div>\\n</div>\\n<!--底部开始-->\\r\\n  <div id=\"fp\" class=\"fp\">\\r\\n    <div class=\"fpDiv\">\\r\\n      <div class=\"logo\"> </div>\\r\\n      <div class=\"fMenu\">\\r\\n        <dl>\\r\\n          <dt>\\r\\n\\t\\t\\t隐私和协议\\r\\n\\t\\t\\t</dt>\\r\\n          <dd>\\r\\n            <ul>\\r\\n    \\t\\t\\t\\t <li><a href=\"/bdrace/bbgx.html\">版本更新</a></li>\\r\\n            </ul>\\r\\n          </dd>\\r\\n        </dl>\\r\\n        <dl>\\r\\n          <dt>\\r\\n\\t\\t\\t交流和分享\\r\\n\\t\\t\\t</dt>\\r\\n          <dd>\\r\\n            <ul>\\r\\n    \\t\\t\\t\\t <li><a href=\"/bdrace/QQ.html\">官方QQ群</a></li>\\r\\n    \\t\\t\\t\\t <li><a href=\"/bdrace/tg.html\">投稿</a></li>\\r\\n    \\t\\t\\t\\t <li><a href=\"/bdrace/lxwm.html\">联系我们</a></li>\\r\\n            </ul>\\r\\n          </dd>\\r\\n        </dl>\\r\\n        <dl>\\r\\n          <dt>\\r\\n\\t\\t\\t商务合作\\r\\n\\t\\t\\t</dt>\\r\\n          <dd>\\r\\n            <ul>\\r\\n    \\t\\t\\t\\t <li><a href=\"/bdrace/xmhz.html\">项目合作</a></li>\\r\\n    \\t\\t\\t\\t <li><a href=\"/bdrace/rcxq.html\">招聘需求</a></li>\\r\\n    \\t\\t\\t\\t <li><a href=\"/bdrace/“tdb”hzhbzj.html\">“泰迪杯”合作伙伴征集</a></li>\\r\\n            </ul>\\r\\n          </dd>\\r\\n        </dl>\\r\\n        <div class=\"clear\"></div>\\r\\n      </div>\\r\\n      <div class=\"weixin\">请关注“官方公众号”</div>\\r\\n      <div class=\"clear\"></div>\\r\\n    </div>\\r\\n    <div class=\"webCP\">Copyright © 2013－2016 &nbsp; 广州泰迪智能科技有限公司 &nbsp; 技术支持 &nbsp; 粤ICP备14098620号</div>\\r\\n    <div class=\"fpBg\"></div>\\r\\n  </div>\\r\\n   <!--底部结束--></body>\\n</html>\\n'"
      ]
     },
     "execution_count": 7,
     "metadata": {},
     "output_type": "execute_result"
    }
   ],
   "source": [
    "s.get('http://www.tipdm.org/member/index.jspx').content.decode('utf8')"
   ]
  },
  {
   "cell_type": "code",
   "execution_count": 8,
   "metadata": {
    "collapsed": true
   },
   "outputs": [
    {
     "data": {
      "text/plain": [
       "'<!DOCTYPE html PUBLIC \"-//W3C//DTD XHTML 1.0 Transitional//EN\" \"http://www.w3.org/TR/xhtml1/DTD/xhtml1-transitional.dtd\">\\n<html xmlns=\"http://www.w3.org/1999/xhtml\">\\n<head>\\n<meta http-equiv=\"Content-Type\" content=\"text/html; charset=utf-8\" />\\n<title>会员登录 - BdRace数睿思_数据挖掘竞赛平台</title>\\n<link href=\"/r/cms/front.css\" rel=\"stylesheet\" type=\"text/css\"/>\\n<script src=\"/r/cms/jquery.js\" type=\"text/javascript\"></script>\\n<script src=\"/r/cms/front.js\" type=\"text/javascript\"></script>\\n<link rel=\"stylesheet\" type=\"text/css\" href=\"/r/cms/www/red/css/reset.css\" />\\n<link rel=\"stylesheet\" type=\"text/css\" href=\"/r/cms/www/red/css/content.css\" />\\n<script src=\"/r/cms/js/qrcode.js\"></script>\\n<script type=\"text/javascript\">\\n$(function() {\\n\\t$(\"#jvForm\").validate();\\n});\\n</script>\\n</head>\\n<body>\\n<div class=\"warp\">\\n  <div class=\"toolbar box\">\\n    <div class=\"toolbar-inner\"> <a class=\"logo\" href=\"/\"></a>\\n      <div class=\"fr \" id=\"logincontent\"> \\n        游客您好，您还没有登录哦！&nbsp;&nbsp;<a href=\"/register.jspx\">免费注册</a><em class=\"cLine\">|</em><a href=\"/login.jspx?returnUrl=http://www.tipdm.org/login.jspx?returnUrl=http://www.tipdm.org/member/index.jspx&_start_time=1559207836033&base=&resSys=/r/cms&res=r/cms/www/red&mobileRes=r/cms/www/red&location=http://www.tipdm.org/member/index.jspx&message=true&locale=zh_CN\">登录</a><em class=\"cLine\">|</em><a href=\"/index.jhtml\">返回首页</a> </div>\\n      <!-- \\n    <div class=\"fr\">\\n\\t<a href=\"/tag.jspx\" target=\"_blank\">Tags</a>|<a href=\"/search.jspx\" target=\"_blank\">高级搜索</a>|<a href=\"/rss.jspx\" target=\"_blank\">RSS订阅</a>|<a href=\"#\" onClick=\"this.style.behavior=\\'url(#default#homepage)\\';this.setHomePage(\\'http://www.tipcms.com\\');\">设为主页</a>|\\n\\t<a onclick=\"javascript:window.external.AddFavorite(\\'index.html\\', \\'BdRace数睿思_数据挖掘竞赛平台\\');\" href=\"javascript:void(0)\" class=\"login_user\">加入收藏</a>\\n\\t</div>\\n\\t -->\\n      <div class=\"clear\"></div>\\n    </div>\\n  </div>\\n  <div class=\"loginOut\">\\n    <div class=\"loginDiv\">\\n      <div class=\"hd\">\\n        <h1>会员登录</h1>\\n        <div class=\"userImg\"></div>\\n      </div>\\n      <div id=back style=\"display:none; POSITION:absolute; left:0; top:0; width:100%; height:100%; background-color:#000; filter:alpha(opacity=60)\"></div>\\n\\t <div id=win style=\"display:none; POSITION:absolute;z-index:9999; background:#FFFFFF; color:#000000;left:60%; top:50%; width:320px; height:300px; margin-left:-200px; margin-top:-170px; border:0px solid #888; text-align:center\"> \\n\\t\\t\\n\\t\\t<div style=\"align:center;margin-left:100px;margin-top:30px;\" id=\"qrcode\"> </div> \\n\\t\\t<h4>&nbsp; 微信扫码登录</h4><br /><br /> \\n\\t\\t<a href=\"javascript:closeLogin();\"style=\"height:40px; background:#CC0000; color: #FFFFFF; text-decoration:none; padding:10px;  margin-left:10px\">取消扫码登录</a>\\n\\t </div>\\n      <div class=\"bd\">\\n        <form id=\"jvForm\" action=\"/login.jspx\" method=\"post\">\\n        \\t\\t<input type=\"hidden\" name=\"returnUrl\" id=\"returnUrl\" value=\"/\"/>\\n          <table class=\"loginTable\" width=\"327px\" border=\"0\" align=\"center\" cellpadding=\"0\" cellspacing=\"5\">\\n            <tr>\\n              <td><input type=\"text\" id=\"username\" name=\"username\" class=\"input required\" placeholder=\"用户名\"/></td>\\n            </tr>\\n            <tr>\\n              <td><input type=\"password\" id=\"password\" name=\"password\" class=\"input required\" placeholder=\"密码\"/></td>\\n            </tr>\\n            <tr>\\n              <td>\\n              <input type=\"text\" maxlength=\"20\" name=\"captcha\" class=\"register-input register-code input required\" />\\n              <i class=\"code-img\">\\n              \\t<img id=\"guestbookCaptcha\" onclick=\"this.src=\\'/captcha.svl?d=\\'+new Date()\" alt=\"\" src=\"/captcha.svl\">\\n              </i>\\n              </td>\\n            </tr>\\n            \\n            <tr>\\n              <td><input type=\"submit\" value=\" 登 录 \" class=\"login-button\"/></td>\\n            </tr>\\n          </table>\\n          <div class=\"inf-message\">\\n                  \\t\\t\\n\\t\\t\\t\\t\\n\\t\\t\\t\\t<input type=\"hidden\" name=\"returnUrl\" value=\"/\"/>\\n  </div>\\n          <div class=\"loginCL\">\\n          \\t<ul class=\"oList\">\\n                <li id=\"qqLoginBtn\" style=\"display:none;\">\\n<!--                \\t<a title=\"QQ登录\" ><img  alt=\"\" src=\"/r/cms/www/red/images/qq.png\" /></a>-->\\n                \\t<script type=\"text/javascript\" src=\"http://qzonestyle.gtimg.cn/qzone/openapi/qc_loader.js\" data-appid=\"101139646\" data-redirecturi=\"http://www.tipdm.org/public_auth.jspx\" charset=\"utf-8\"></script>\\n\\t\\t\\t\\t\\t<script type=\"text/javascript\">\\n\\t\\t\\t\\t\\t\\t//插入按钮的节点qqLoginBtn id\\n\\t\\t\\t\\t\\t    QC.Login({btnId:\"qqLoginBtn\",size: \"A_M\"}, function(reqData, opts){//登录成功\\n\\t\\t\\t\\t\\t       //根据返回数据，更换按钮显示状态方法\\n\\t\\t\\t\\t\\t       var dom = document.getElementById(opts[\\'btnId\\']),\\n\\t\\t\\t\\t\\t       _logoutTemplate=[\\n\\t\\t\\t\\t\\t            //头像\\n\\t\\t\\t\\t\\t            // \\'<span><img src=\"{figureurl}\" class=\"{size_key}\"/></span>\\',\\n\\t\\t\\t\\t\\t            //昵称\\n\\t\\t\\t\\t\\t            \\'<span>{nickname}</span>\\',\\n\\t\\t\\t\\t\\t            //退出\\n\\t\\t\\t\\t\\t            \\'<span><a href=\"javascript:QC.Login.signOut();\">退出</a></span>\\'    \\n\\t\\t\\t\\t\\t       ].join(\"\");\\n\\t\\t\\t\\t\\t       dom && (dom.innerHTML = QC.String.format(_logoutTemplate, {\\n\\t\\t\\t\\t\\t           nickname : QC.String.escHTML(reqData.nickname), //做xss过滤\\n\\t\\t\\t\\t\\t           figureurl : reqData.figureurl\\n\\t\\t\\t\\t\\t       }));\\n\\t\\t\\t\\t\\t       var userId=null;\\n                           if(QC.Login.check()&&userId==null){\\n                                     QC.Login.signOut();          \\n                           }\\n\\t\\t\\t\\t\\t   });\\n\\t\\t\\t\\t\\t </script>\\n                \\n                </li>\\n\\n                <li><a title=\"微信登录\" href=\"javascript:openLogin();\"><img alt=\"\" src=\"/r/cms/www/red/images/weixinIcon.png\" /></a></li>\\n                <!-- \"/weibo/login.jspx\" 新浪微博登录连接-->\\n                <li><a href=\"javascript:openLogin();\" title=\"新浪微博登录\"><img alt=\"\" src=\"/r/cms/www/red/images/weibo.jpg\" /></a></li>\\n                <li style=\"display:none;\">\\n                \\t<a title=\"linked in 登录\"><img alt=\"\" src=\"/r/cms/www/red/images/linked.png\" /></a>\\n                \\t<script type=\"text/javascript\" src=\"http://mat1.gtimg.com/app/openjs/openjs.js\"></script>\\n                    \\t<script type=\"text/javascript\">\\n                    \\t\\tT.init({\\n                    \\t\\t    appkey: 801526383, \\n                    \\t\\t    autoclose:false,\\n                    \\t\\t    callbackurl:\"http://www.tipdm.org/public_auth.jspx\"\\n                    \\t\\t});\\n                    \\t\\t function logout(){\\n                                 T.logout(function (loginStatus) { // 登出用户\\n\\t\\t\\t    \\t\\t\\t\\t\\t// 登录成功\\n\\t\\t\\t\\t\\t\\t\\t\\t});\\n                \\t\\t\\t}\\n                    \\t\\t$(function() {\\n                        \\t\\t$(\"#qqwebo_login_btn\").click(function(){\\n                        \\t\\t\\tT.login(function (loginStatus) { // 弹出登录窗口\\n       \\t\\t\\t\\t\\t\\t\\t     // 本次登录成功\\n       \\t\\t\\t\\t\\t\\t\\t       $.cookie(\"qqWeboId\",loginStatus.openid);\\n       \\t\\t\\t\\t\\t\\t\\t \\t},function (error) {\\n       \\t\\t\\t\\t\\t\\t\\t \\t});\\n                            \\t});\\n                    \\t\\t});\\n\\t\\t\\t\\t\\t\\t</script>\\n                </li>\\n              </ul>\\n              <h5 class=\"clTit\">快捷登录</h5>\\n              <a href=\"/index.jhtml\" class=\"clTit\" style=\"margin-right: 90px;\">返回首页</a>\\n\\t\\t\\t  <div class=\"clear\"></div>\\n          </div>\\n          <div class=\"loginLink\"><span class=\"fl\">我还没有会员帐号？<a href=\"/register.jspx\" target=\"_blank\">马上注册</a></span><a href=\"/member/forgot_password.jspx\" target=\"_blank\" class=\"forgot-password fr\">忘记密码？</a>\\n          <div class=\"clear\"></div>\\n          </div>\\n        </form>\\n      </div>\\n    </div>\\n  </div>\\n</div>\\n\\n<script>\\n    var  randomCode;\\n\\tfunction openLogin(){\\n\\t   alert(\"暂不支持此功能\")\\n\\t   return false;\\n\\t\\t $.ajax({     //数据初始化\\n\\t\\t\\t\\turl : \"/weixing/randomCode.jspx\",  \\n\\t\\t\\t\\ttype : \\'post\\', \\n\\t\\t\\t\\tasync:false,\\n\\t\\t\\t\\tdataType:\\'json\\',       \\n\\t\\t\\t\\tsuccess :function(json){\\n\\t\\t\\t\\t\\trandomCode=json.randomCode;\\n\\t\\t\\t\\t\\t//alert(randomCode);\\n\\t\\t\\t\\t\\tdocument.getElementById(\"win\").style.display=\"\";\\n\\t\\t\\t\\t\\tself.setInterval(\"clock()\",5000);\\n\\t\\t\\t\\t\\t//这个地址是Demo.java生成的code_url,这个很关键\\n\\t\\t\\t\\t\\tvar url=\"https://open.weixin.qq.com/connect/oauth2/authorize?appid=wxe7dc1c7f20bb0e9d&redirect_uri=http%3A%2F%2Fwww.tipdm.org%2Fweixing%2Flogin.jspx&state=\"+randomCode+\"&response_type=code&scope=snsapi_userinfo&connect_redirect=1#wechat_redirect\";\\n\\t\\t\\t\\t\\t\\n\\t\\t\\t\\t\\t//参数1表示图像大小，取值范围1-10；参数2表示质量，取值范围\\'L\\',\\'M\\',\\'Q\\',\\'H\\'\\n\\t\\t\\t\\t\\tvar qr = qrcode(10, \\'L\\');\\n\\t\\t\\t\\t\\tqr.addData(url);\\n\\t\\t\\t\\t\\tqr.make();\\n\\t\\t\\t\\t\\tvar element=document.getElementById(\"qrcode\");\\n\\t\\t\\t\\t\\ttry{\\n\\t\\t\\t\\t\\t\\tvar element123=document.getElementById(\"tipdm123\");\\n\\t\\t\\t\\t\\t\\telement.removeChild(element123);\\n\\t\\t\\t\\t\\t}catch(err){\\n\\t\\t\\t\\t\\t\\t\\n\\t\\t\\t\\t\\t}\\n\\t\\t\\t\\t\\tvar dom=document.createElement(\\'DIV\\');\\n\\t\\t\\t\\t\\tdom.id = \"tipdm123\";\\n\\t\\t\\t\\t\\tdom.innerHTML = qr.createImgTag();\\n\\t\\t\\t\\t\\telement.appendChild(dom);\\n\\t\\t\\t\\t } \\n\\t\\t\\t}); \\n\\t}\\n\\tfunction clock(){\\n         $.ajax({     //数据初始化\\n\\t\\t\\turl : \"/weixing/verification.jspx?randomCode=\"+randomCode,  \\n\\t\\t\\ttype : \\'post\\', \\n\\t\\t\\tasync:false,\\n\\t\\t\\tdataType:\\'json\\',       \\n\\t\\t\\tsuccess :function(json){\\n\\t\\t\\t\\t   if(json.verification){\\n\\t\\t\\t\\t\\t  window.location.href=\"/weibo/reception.jspx?key=\"+json.verification; \\n\\t\\t\\t\\t  }\\n\\t\\t\\t } \\n\\t\\t}); \\n       }\\n\\tfunction closeLogin(){\\n\\t   document.getElementById(\"win\").style.display=\"none\";\\n\\t}\\n\\t\\n\\t//登录后跳转到以前的页面\\n\\tvar returnUrl = GetQueryString(\"returnUrl\");\\n\\tdocument.getElementById(\"returnUrl\").value = returnUrl;\\n</script>\\n</body>\\n</html>'"
      ]
     },
     "execution_count": 8,
     "metadata": {},
     "output_type": "execute_result"
    }
   ],
   "source": [
    "requests.get('http://www.tipdm.org/member/index.jspx').content.decode('utf8')"
   ]
  },
  {
   "cell_type": "markdown",
   "metadata": {},
   "source": [
    "# 使用浏览器Cookie登陆"
   ]
  },
  {
   "cell_type": "code",
   "execution_count": 14,
   "metadata": {
    "ExecuteTime": {
     "end_time": "2020-04-22T12:45:18.958239Z",
     "start_time": "2020-04-22T12:45:18.952254Z"
    }
   },
   "outputs": [],
   "source": [
    "cookie = 'uniqueVisitorId=a2151df1-4833-00ae-72e0-f4b99d2b7be2; pgv_pvid=2326009190; _site_id_cookie=1; clientlanguage=zh_CN; __qc_wId=658; username=pc2019; sso_logout=true; JSESSIONID=F9925FFA300D4AFD87F275194C7837CF'\n",
    "Cookies = {}\n",
    "for i in cookie.split(';'):\n",
    "    key, value = i.split('=')\n",
    "    Cookies[key] = value"
   ]
  },
  {
   "cell_type": "code",
   "execution_count": 15,
   "metadata": {
    "ExecuteTime": {
     "end_time": "2020-04-22T12:45:19.535464Z",
     "start_time": "2020-04-22T12:45:19.528439Z"
    }
   },
   "outputs": [
    {
     "data": {
      "text/plain": [
       "{'uniqueVisitorId': 'a2151df1-4833-00ae-72e0-f4b99d2b7be2',\n",
       " ' pgv_pvid': '2326009190',\n",
       " ' _site_id_cookie': '1',\n",
       " ' clientlanguage': 'zh_CN',\n",
       " ' __qc_wId': '658',\n",
       " ' username': 'pc2019',\n",
       " ' sso_logout': 'true',\n",
       " ' JSESSIONID': 'F9925FFA300D4AFD87F275194C7837CF'}"
      ]
     },
     "execution_count": 15,
     "metadata": {},
     "output_type": "execute_result"
    }
   ],
   "source": [
    "Cookies"
   ]
  },
  {
   "cell_type": "code",
   "execution_count": 17,
   "metadata": {
    "ExecuteTime": {
     "end_time": "2020-04-22T12:45:27.031455Z",
     "start_time": "2020-04-22T12:45:26.957910Z"
    },
    "collapsed": true
   },
   "outputs": [
    {
     "data": {
      "text/plain": [
       "'<!DOCTYPE html PUBLIC \"-//W3C//DTD XHTML 1.0 Transitional//EN\" \"http://www.w3.org/TR/xhtml1/DTD/xhtml1-transitional.dtd\">\\r\\n<html xmlns=\"http://www.w3.org/1999/xhtml\">\\r\\n<head>\\r\\n<meta http-equiv=\"Content-Type\" content=\"text/html; charset=utf-8\" />\\r\\n<title>会员登录 - BdRace数睿思_数据挖掘竞赛平台</title>\\r\\n<link href=\"/r/cms/front.css\" rel=\"stylesheet\" type=\"text/css\"/>\\r\\n<script src=\"/r/cms/jquery.js\" type=\"text/javascript\"></script>\\r\\n<script src=\"/r/cms/front.js\" type=\"text/javascript\"></script>\\r\\n<link rel=\"stylesheet\" type=\"text/css\" href=\"/r/cms/www/red/css/reset.css\" />\\r\\n<link rel=\"stylesheet\" type=\"text/css\" href=\"/r/cms/www/red/css/content.css\" />\\r\\n<script src=\"/r/cms/js/qrcode.js\"></script>\\r\\n<script type=\"text/javascript\">\\r\\n$(function() {\\r\\n\\t$(\"#jvForm\").validate();\\r\\n});\\r\\n</script>\\r\\n</head>\\r\\n<body>\\r\\n<div class=\"warp\">\\r\\n  <div class=\"toolbar box\">\\r\\n    <div class=\"toolbar-inner\"> <a class=\"logo\" href=\"\"></a>\\r\\n      <div class=\"fr \" id=\"logincontent\"> \\r\\n        游客您好，您还没有登录哦！&nbsp;&nbsp;<a href=\"/register.jspx\">免费注册</a><em class=\"cLine\">|</em><a href=\"/login.jspx?returnUrl=http://www.tipdm.org/login.jspx?returnUrl=http://www.tipdm.org/member/index.jspx&_start_time=1587559527066&base=&resSys=/r/cms&res=r/cms/www/red&mobileRes=r/cms/www/red&location=http://www.tipdm.org/member/index.jspx&message=true&locale=zh_CN\">登录</a><em class=\"cLine\">|</em><a href=\"/index.jhtml\">返回首页</a> </div>\\r\\n      <!-- \\r\\n    <div class=\"fr\">\\r\\n\\t<a href=\"/tag.jspx\" target=\"_blank\">Tags</a>|<a href=\"/search.jspx\" target=\"_blank\">高级搜索</a>|<a href=\"/rss.jspx\" target=\"_blank\">RSS订阅</a>|<a href=\"#\" onClick=\"this.style.behavior=\\'url(#default#homepage)\\';this.setHomePage(\\'http://www.tipcms.com\\');\">设为主页</a>|\\r\\n\\t<a onclick=\"javascript:window.external.AddFavorite(\\'index.html\\', \\'BdRace数睿思_数据挖掘竞赛平台\\');\" href=\"javascript:void(0)\" class=\"login_user\">加入收藏</a>\\r\\n\\t</div>\\r\\n\\t -->\\r\\n      <div class=\"clear\"></div>\\r\\n    </div>\\r\\n  </div>\\r\\n  <div class=\"loginOut\">\\r\\n    <div class=\"loginDiv\">\\r\\n      <div class=\"hd\">\\r\\n        <h1>会员登录</h1>\\r\\n        <div class=\"userImg\"></div>\\r\\n      </div>\\r\\n      <div id=back style=\"display:none; POSITION:absolute; left:0; top:0; width:100%; height:100%; background-color:#000; filter:alpha(opacity=60)\"></div>\\r\\n\\t <div id=win style=\"display:none; POSITION:absolute;z-index:9999; background:#FFFFFF; color:#000000;left:60%; top:50%; width:320px; height:300px; margin-left:-200px; margin-top:-170px; border:0px solid #888; text-align:center\"> \\r\\n\\t\\t\\r\\n\\t\\t<div style=\"align:center;margin-left:100px;margin-top:30px;\" id=\"qrcode\"> </div> \\r\\n\\t\\t<h4>&nbsp; 微信扫码登录</h4><br /><br /> \\r\\n\\t\\t<a href=\"javascript:closeLogin();\"style=\"height:40px; background:#CC0000; color: #FFFFFF; text-decoration:none; padding:10px;  margin-left:10px\">取消扫码登录</a>\\r\\n\\t </div>\\r\\n      <div class=\"bd\">\\r\\n        <form id=\"jvForm\" action=\"/login.jspx\" method=\"post\">\\r\\n        \\t\\t<input type=\"hidden\" name=\"returnUrl\" id=\"returnUrl\" value=\"/\"/>\\r\\n          <table class=\"loginTable\" width=\"327px\" border=\"0\" align=\"center\" cellpadding=\"0\" cellspacing=\"5\">\\r\\n            <tr>\\r\\n              <td><input type=\"text\" id=\"username\" name=\"username\" class=\"input required\" placeholder=\"用户名\"/></td>\\r\\n            </tr>\\r\\n            <tr>\\r\\n              <td><input type=\"password\" id=\"password\" name=\"password\" class=\"input required\" placeholder=\"密码\"/></td>\\r\\n            </tr>\\r\\n            <tr>\\r\\n              <td>\\r\\n              <input type=\"text\" maxlength=\"20\" name=\"captcha\" class=\"register-input register-code input required\" />\\r\\n              <i class=\"code-img\">\\r\\n              \\t<img id=\"guestbookCaptcha\" onclick=\"this.src=\\'/captcha.svl?d=\\'+new Date()\" alt=\"\" src=\"/captcha.svl\">\\r\\n              </i>\\r\\n              </td>\\r\\n            </tr>\\r\\n            \\r\\n            <tr>\\r\\n              <td><input type=\"submit\" value=\" 登 录 \" class=\"login-button\"/></td>\\r\\n            </tr>\\r\\n          </table>\\r\\n          <div class=\"inf-message\">\\r\\n                  \\t\\t\\r\\n\\t\\t\\t\\t\\r\\n\\t\\t\\t\\t<input type=\"hidden\" name=\"returnUrl\" value=\"/\"/>\\r\\n  </div>\\r\\n          <div class=\"loginCL\">\\r\\n          \\t<ul class=\"oList\">\\r\\n                <li id=\"qqLoginBtn\" style=\"display:none;\">\\r\\n<!--                \\t<a title=\"QQ登录\" ><img  alt=\"\" src=\"/r/cms/www/red/images/qq.png\" /></a>-->\\r\\n                \\t<script type=\"text/javascript\" src=\"http://qzonestyle.gtimg.cn/qzone/openapi/qc_loader.js\" data-appid=\"101139646\" data-redirecturi=\"http://www.tipdm.org/public_auth.jspx\" charset=\"utf-8\"></script>\\r\\n\\t\\t\\t\\t\\t<script type=\"text/javascript\">\\r\\n\\t\\t\\t\\t\\t\\t//插入按钮的节点qqLoginBtn id\\r\\n\\t\\t\\t\\t\\t    QC.Login({btnId:\"qqLoginBtn\",size: \"A_M\"}, function(reqData, opts){//登录成功\\r\\n\\t\\t\\t\\t\\t       //根据返回数据，更换按钮显示状态方法\\r\\n\\t\\t\\t\\t\\t       var dom = document.getElementById(opts[\\'btnId\\']),\\r\\n\\t\\t\\t\\t\\t       _logoutTemplate=[\\r\\n\\t\\t\\t\\t\\t            //头像\\r\\n\\t\\t\\t\\t\\t            // \\'<span><img src=\"{figureurl}\" class=\"{size_key}\"/></span>\\',\\r\\n\\t\\t\\t\\t\\t            //昵称\\r\\n\\t\\t\\t\\t\\t            \\'<span>{nickname}</span>\\',\\r\\n\\t\\t\\t\\t\\t            //退出\\r\\n\\t\\t\\t\\t\\t            \\'<span><a href=\"javascript:QC.Login.signOut();\">退出</a></span>\\'    \\r\\n\\t\\t\\t\\t\\t       ].join(\"\");\\r\\n\\t\\t\\t\\t\\t       dom && (dom.innerHTML = QC.String.format(_logoutTemplate, {\\r\\n\\t\\t\\t\\t\\t           nickname : QC.String.escHTML(reqData.nickname), //做xss过滤\\r\\n\\t\\t\\t\\t\\t           figureurl : reqData.figureurl\\r\\n\\t\\t\\t\\t\\t       }));\\r\\n\\t\\t\\t\\t\\t       var userId=null;\\r\\n                           if(QC.Login.check()&&userId==null){\\r\\n                                     QC.Login.signOut();          \\r\\n                           }\\r\\n\\t\\t\\t\\t\\t   });\\r\\n\\t\\t\\t\\t\\t </script>\\r\\n                \\r\\n                </li>\\r\\n\\r\\n                <li><a title=\"微信登录\" href=\"javascript:openLogin();\"><img alt=\"\" src=\"/r/cms/www/red/images/weixinIcon.png\" /></a></li>\\r\\n                <!-- \"/weibo/login.jspx\" 新浪微博登录连接-->\\r\\n                <li><a href=\"javascript:openLogin();\" title=\"新浪微博登录\"><img alt=\"\" src=\"/r/cms/www/red/images/weibo.jpg\" /></a></li>\\r\\n                <li style=\"display:none;\">\\r\\n                \\t<a title=\"linked in 登录\"><img alt=\"\" src=\"/r/cms/www/red/images/linked.png\" /></a>\\r\\n                \\t<script type=\"text/javascript\" src=\"http://mat1.gtimg.com/app/openjs/openjs.js\"></script>\\r\\n                    \\t<script type=\"text/javascript\">\\r\\n                    \\t\\tT.init({\\r\\n                    \\t\\t    appkey: 801526383, \\r\\n                    \\t\\t    autoclose:false,\\r\\n                    \\t\\t    callbackurl:\"http://www.tipdm.org/public_auth.jspx\"\\r\\n                    \\t\\t});\\r\\n                    \\t\\t function logout(){\\r\\n                                 T.logout(function (loginStatus) { // 登出用户\\r\\n\\t\\t\\t    \\t\\t\\t\\t\\t// 登录成功\\r\\n\\t\\t\\t\\t\\t\\t\\t\\t});\\r\\n                \\t\\t\\t}\\r\\n                    \\t\\t$(function() {\\r\\n                        \\t\\t$(\"#qqwebo_login_btn\").click(function(){\\r\\n                        \\t\\t\\tT.login(function (loginStatus) { // 弹出登录窗口\\r\\n       \\t\\t\\t\\t\\t\\t\\t     // 本次登录成功\\r\\n       \\t\\t\\t\\t\\t\\t\\t       $.cookie(\"qqWeboId\",loginStatus.openid);\\r\\n       \\t\\t\\t\\t\\t\\t\\t \\t},function (error) {\\r\\n       \\t\\t\\t\\t\\t\\t\\t \\t});\\r\\n                            \\t});\\r\\n                    \\t\\t});\\r\\n\\t\\t\\t\\t\\t\\t</script>\\r\\n                </li>\\r\\n              </ul>\\r\\n              <h5 class=\"clTit\">快捷登录</h5>\\r\\n              <a href=\"/index.jhtml\" class=\"clTit\" style=\"margin-right: 90px;\">返回首页</a>\\r\\n\\t\\t\\t  <div class=\"clear\"></div>\\r\\n          </div>\\r\\n          <div class=\"loginLink\"><span class=\"fl\">我还没有会员帐号？<a href=\"/register.jspx\" target=\"_blank\">马上注册</a></span><a href=\"/member/forgot_password.jspx\" target=\"_blank\" class=\"forgot-password fr\">忘记密码？</a>\\r\\n          <div class=\"clear\"></div>\\r\\n          </div>\\r\\n        </form>\\r\\n      </div>\\r\\n    </div>\\r\\n  </div>\\r\\n</div>\\r\\n\\r\\n<script>\\r\\n    var  randomCode;\\r\\n\\tfunction openLogin(){\\r\\n\\t   alert(\"暂不支持此功能\")\\r\\n\\t   return false;\\r\\n\\t\\t $.ajax({     //数据初始化\\r\\n\\t\\t\\t\\turl : \"/weixing/randomCode.jspx\",  \\r\\n\\t\\t\\t\\ttype : \\'post\\', \\r\\n\\t\\t\\t\\tasync:false,\\r\\n\\t\\t\\t\\tdataType:\\'json\\',       \\r\\n\\t\\t\\t\\tsuccess :function(json){\\r\\n\\t\\t\\t\\t\\trandomCode=json.randomCode;\\r\\n\\t\\t\\t\\t\\t//alert(randomCode);\\r\\n\\t\\t\\t\\t\\tdocument.getElementById(\"win\").style.display=\"\";\\r\\n\\t\\t\\t\\t\\tself.setInterval(\"clock()\",5000);\\r\\n\\t\\t\\t\\t\\t//这个地址是Demo.java生成的code_url,这个很关键\\r\\n\\t\\t\\t\\t\\tvar url=\"https://open.weixin.qq.com/connect/oauth2/authorize?appid=wxe7dc1c7f20bb0e9d&redirect_uri=http%3A%2F%2Fwww.tipdm.org%2Fweixing%2Flogin.jspx&state=\"+randomCode+\"&response_type=code&scope=snsapi_userinfo&connect_redirect=1#wechat_redirect\";\\r\\n\\t\\t\\t\\t\\t\\r\\n\\t\\t\\t\\t\\t//参数1表示图像大小，取值范围1-10；参数2表示质量，取值范围\\'L\\',\\'M\\',\\'Q\\',\\'H\\'\\r\\n\\t\\t\\t\\t\\tvar qr = qrcode(10, \\'L\\');\\r\\n\\t\\t\\t\\t\\tqr.addData(url);\\r\\n\\t\\t\\t\\t\\tqr.make();\\r\\n\\t\\t\\t\\t\\tvar element=document.getElementById(\"qrcode\");\\r\\n\\t\\t\\t\\t\\ttry{\\r\\n\\t\\t\\t\\t\\t\\tvar element123=document.getElementById(\"tipdm123\");\\r\\n\\t\\t\\t\\t\\t\\telement.removeChild(element123);\\r\\n\\t\\t\\t\\t\\t}catch(err){\\r\\n\\t\\t\\t\\t\\t\\t\\r\\n\\t\\t\\t\\t\\t}\\r\\n\\t\\t\\t\\t\\tvar dom=document.createElement(\\'DIV\\');\\r\\n\\t\\t\\t\\t\\tdom.id = \"tipdm123\";\\r\\n\\t\\t\\t\\t\\tdom.innerHTML = qr.createImgTag();\\r\\n\\t\\t\\t\\t\\telement.appendChild(dom);\\r\\n\\t\\t\\t\\t } \\r\\n\\t\\t\\t}); \\r\\n\\t}\\r\\n\\tfunction clock(){\\r\\n         $.ajax({     //数据初始化\\r\\n\\t\\t\\turl : \"/weixing/verification.jspx?randomCode=\"+randomCode,  \\r\\n\\t\\t\\ttype : \\'post\\', \\r\\n\\t\\t\\tasync:false,\\r\\n\\t\\t\\tdataType:\\'json\\',       \\r\\n\\t\\t\\tsuccess :function(json){\\r\\n\\t\\t\\t\\t   if(json.verification){\\r\\n\\t\\t\\t\\t\\t  window.location.href=\"/weibo/reception.jspx?key=\"+json.verification; \\r\\n\\t\\t\\t\\t  }\\r\\n\\t\\t\\t } \\r\\n\\t\\t}); \\r\\n       }\\r\\n\\tfunction closeLogin(){\\r\\n\\t   document.getElementById(\"win\").style.display=\"none\";\\r\\n\\t}\\r\\n\\t\\r\\n\\t//登录后跳转到以前的页面\\r\\n\\tvar returnUrl = GetQueryString(\"returnUrl\");\\r\\n\\tdocument.getElementById(\"returnUrl\").value = returnUrl;\\r\\n</script>\\r\\n</body>\\r\\n</html>'"
      ]
     },
     "execution_count": 17,
     "metadata": {},
     "output_type": "execute_result"
    }
   ],
   "source": [
    "import requests\n",
    "head = {'User-Agent': 'Mozilla/5.0 (Windows NT 10.0; Win64; x64) AppleWebKit/537.36 (KHTML, like Gecko) Chrome/74.0.3729.169 Safari/537.36'}\n",
    "requests.get('http://www.tipdm.org/member/index.jspx', cookies=Cookies, headers=head).content.decode('utf8')"
   ]
  },
  {
   "cell_type": "markdown",
   "metadata": {},
   "source": [
    "# 基于表单登录的cookies登录"
   ]
  },
  {
   "cell_type": "code",
   "execution_count": 7,
   "metadata": {
    "collapsed": true
   },
   "outputs": [
    {
     "data": {
      "image/png": "[encoded data removed]",
      "text/plain": [
       "<matplotlib.figure.Figure at 0x2990500c048>"
      ]
     },
     "metadata": {
      "needs_background": "light"
     },
     "output_type": "display_data"
    },
    {
     "name": "stdout",
     "output_type": "stream",
     "text": [
      "请输入验证码：unwu\n",
      "http://www.tipdm.org/bdrace/index.html\n"
     ]
    }
   ],
   "source": [
    "import requests\n",
    "import matplotlib.pyplot as plt\n",
    "from http.cookiejar import LWPCookieJar\n",
    "\n",
    "s = requests.Session()\n",
    "\n",
    "s.cookies = LWPCookieJar('cookie') \n",
    "\n",
    "\n",
    "url = 'http://www.tipdm.org/login.jspx'\n",
    "\n",
    "rqq = s.get('http://www.tipdm.org/captcha.svl')\n",
    "with open('./captcha.jpg', 'wb') as f:\n",
    "    f.write(rqq.content)\n",
    "\n",
    "pic = plt.imread('./captcha.jpg')\n",
    "plt.imshow(pic)\n",
    "plt.show()\n",
    "a = input('请输入验证码：')\n",
    "\n",
    "login = {'username': 'pc2019',\n",
    "         'password': 'pc2019',\n",
    "         'captcha': a}\n",
    "rqq = s.post(url, data=login)\n",
    "print(rqq.url)  # 检测正常登录\n",
    "s.cookies.save(ignore_discard=True, ignore_expires=True)  # save cookies"
   ]
  },
  {
   "cell_type": "code",
   "execution_count": 8,
   "metadata": {},
   "outputs": [],
   "source": [
    "s.cookies.load(ignore_discard=True, ignore_expires=True)"
   ]
  },
  {
   "cell_type": "code",
   "execution_count": 10,
   "metadata": {
    "collapsed": true
   },
   "outputs": [
    {
     "data": {
      "text/plain": [
       "'<!DOCTYPE html PUBLIC \"-//W3C//DTD XHTML 1.0 Transitional//EN\" \"http://www.w3.org/TR/xhtml1/DTD/xhtml1-transitional.dtd\">\\n<html xmlns=\"http://www.w3.org/1999/xhtml\">\\n<head>\\n<meta http-equiv=\"Content-Type\" content=\"text/html; charset=utf-8\" />\\n<meta name=\"viewport\" content=\"width=device-width, initial-scale=1.0\">\\n<title>BdRace数睿思_数据挖掘竞赛平台</title>\\n<link type=\"text/css\" rel=\"stylesheet\" href=\"/r/cms/www/red/css/index.css\" />\\n<link href=\"/r/cms/front.css\" rel=\"stylesheet\" type=\"text/css\"/>\\n<script src=\"/r/cms/jquery.js\" type=\"text/javascript\"></script>\\n<script src=\"/r/cms/front.js\" type=\"text/javascript\"></script>\\n<!--[if lt IE 9]> \\n<script src=\"/r/cms/www/red/js/html5shiv.min.js\"></script>\\n<script src=\"/r/cms/www/red/js/respond.min.js\"></script>\\n<![endif]-->\\n</head>\\n<body>\\n<script src=\"/r/cms/easyui/plugins/jquery.form.js\" type=\"text/javascript\"></script>\\n<script src=\"/r/cms/easyui/plugins/jquery.validate.js\" type=\"text/javascript\"></script>\\n<script src=\"/r/cms/front.js\" type=\"text/javascript\"></script>\\n<!--start top class -->\\n<script type=\"text/javascript\">\\n\\tfunction guidGenerator() {\\n\\t\\tvar S4 = function() {\\n\\t\\t\\treturn (((1 + Math.random()) * 0x10000) | 0).toString(16)\\n\\t\\t\\t\\t\\t.substring(1);\\n\\t\\t};\\n\\t\\treturn (S4() + S4() + \"-\" + S4() + \"-\" + S4() + \"-\" + S4() + \"-\" + S4()\\n\\t\\t\\t\\t+ S4() + S4());\\n\\t}\\n\\n\\tvar cookie = {};\\n\\tcookie.set = function(n, v, t) {\\n\\t\\tvar exp = new Date();\\n\\t\\texp.setTime(exp.getTime() + (t || 24) * 60 * 60 * 1000 * 365);\\n\\t\\tdocument.cookie = n + \"=\" + escape(v) + \";expires=\" + exp.toGMTString()\\n\\t\\t\\t\\t+ \\';path=/\\';\\n\\t}\\n\\n\\tcookie.get = function(n) {\\n\\t\\tvar arr = document.cookie.match(new RegExp(\"(^| )\" + n\\n\\t\\t\\t\\t+ \"=([^;]*)(;|$)\"));\\n\\t\\tif (arr != null) {\\n\\t\\t\\treturn unescape(arr[2]);\\n\\t\\t}\\n\\t\\treturn null;\\n\\t}\\n\\n\\tvar uniqueVisitorId;\\n\\tvar co = cookie.get(\\'uniqueVisitorId\\');\\n\\tif (co != null) {\\n\\t\\tuniqueVisitorId = cookie.get(\\'uniqueVisitorId\\');\\n\\t} else {\\n\\t\\tuniqueVisitorId = guidGenerator();\\n\\t\\tcookie.set(\\'uniqueVisitorId\\', uniqueVisitorId);\\n\\t}\\n</script>\\n<!--头部开始-->\\n<div id=\"hp\" class=\"hp\">\\n\\t<div class=\"header\">\\n\\t\\t<div class=\"headerDiv\">\\n\\t\\t\\t<a class=\"logo\" href=\"/\"></a>\\n\\t\\t\\t<div id=\"Menu\" class=\"Menu\">\\n\\t\\t\\t\\t<ul class=\"ul1\">\\n\\t\\t\\t\\t\\t<li class=\"li1  cur\">\\n\\t\\t\\t\\t\\t\\t<a\\tclass=\"a1  selected \" href=\"/\"\\n\\t\\t\\t\\t\\t\\ttarget=\"_self\">首 页</a>\\n\\t\\t\\t\\t\\t\\t</li> \\n\\t\\t\\t\\t\\t\\t<li class=\"li1 \">\\n\\t\\t\\t\\t\\t\\t\\t\\t<a\\tclass=\"a1 \"\\n\\t\\t\\t\\t\\t\\t\\t\\t\\thref=\"http://www.tipdm.net\" target=\"_blank\">联盟 \\n\\t\\t\\t\\t\\t\\t\\t\\t</a>\\n\\t\\t\\t\\t\\t\\t\\t\\t<ul id=\"ul425\" class=\"ul2\">\\n\\t\\t\\t\\t\\t\\t\\t\\t\\t \\t\\t\\t\\t\\t\\t\\t\\t</ul>\\n\\t\\t\\t\\t\\t\\t</li> \\n\\t\\t\\t\\t\\t\\t<li class=\"li1 \">\\n\\t\\t\\t\\t\\t\\t\\t\\t<a\\tclass=\"a1 \"\\n\\t\\t\\t\\t\\t\\t\\t\\t\\thref=\"/bdrace/tzjingsai\" target=\"_blank\">挑战赛 \\n\\t\\t\\t\\t\\t\\t\\t\\t</a>\\n\\t\\t\\t\\t\\t\\t\\t\\t<ul id=\"ul149\" class=\"ul2\">\\n\\t\\t\\t\\t\\t\\t\\t\\t\\t \\n\\t\\t\\t\\t\\t\\t\\t\\t\\t<li class=\"li2\"><a class=\"a2\" href=\"http://www.tipdm.org/bdrace/tzjingsai/20181226/1544.html\">第七届</a></li>\\n\\n\\t\\t\\t\\t\\t\\t\\t\\t\\t<li class=\"li2\"><a class=\"a2\" href=\"/bdrace/tzjingsai/20170921/1253.html\">第六届</a></li>\\n\\n\\t\\t\\t\\t\\t\\t\\t\\t\\t<li class=\"li2\"><a class=\"a2\" href=\"/bdrace/tzjingsai/20161227/1030.html\">第五届</a></li>\\n\\n\\t\\t\\t\\t\\t\\t\\t\\t\\t<li class=\"li2\"><a class=\"a2\" href=\"/bdrace/tzjingsai/20160401/712.html\">第四届</a></li>\\n\\n\\t\\t\\t\\t\\t\\t\\t\\t\\t<li class=\"li2\"><a class=\"a2\" href=\"/bdrace/tzjingsai/20150301/613.html\">第三届</a></li>\\n\\n\\t\\t\\t\\t\\t\\t\\t\\t\\t<li class=\"li2\"><a class=\"a2\" href=\"/bdrace/tzjingsai/20140301/612.html\">第二届</a></li>\\n\\n\\t\\t\\t\\t\\t\\t\\t\\t\\t<li class=\"li2\"><a class=\"a2\" href=\"/bdrace/tzjingsai/20130301/611.html\">第一届</a></li>\\n\\t\\t\\t\\t\\t\\t\\t\\t</ul>\\n\\t\\t\\t\\t\\t\\t</li> \\n\\t\\t\\t\\t\\t\\t<li class=\"li1 \">\\n\\t\\t\\t\\t\\t\\t\\t\\t<a\\tclass=\"a1 \"\\n\\t\\t\\t\\t\\t\\t\\t\\t\\thref=\"/bdrace/jljingsai\" target=\"_blank\">技能赛 \\n\\t\\t\\t\\t\\t\\t\\t\\t</a>\\n\\t\\t\\t\\t\\t\\t\\t\\t<ul id=\"ul407\" class=\"ul2\">\\n\\t\\t\\t\\t\\t\\t\\t\\t\\t \\n\\t\\t\\t\\t\\t\\t\\t\\t\\t<li class=\"li2\"><a class=\"a2\" href=\"/bdrace/jljingsai/20181008/1488.html\">第一届</a></li>\\n\\t\\t\\t\\t\\t\\t\\t\\t</ul>\\n\\t\\t\\t\\t\\t\\t</li> \\n\\t\\t\\t\\t\\t\\t<li class=\"li1 \">\\n\\t\\t\\t\\t\\t\\t\\t\\t<a\\tclass=\"a1 \"\\n\\t\\t\\t\\t\\t\\t\\t\\t\\thref=\"/bdrace/notices/\" target=\"_self\">新闻动态 \\n\\t\\t\\t\\t\\t\\t\\t\\t</a>\\n\\t\\t\\t\\t\\t\\t\\t\\t<ul id=\"ul150\" class=\"ul2\">\\n\\t\\t\\t\\t\\t\\t\\t\\t\\t \\t\\t\\t\\t\\t\\t\\t\\t</ul>\\n\\t\\t\\t\\t\\t\\t</li> \\n\\t\\t\\t\\t\\t\\t<li class=\"li1 \">\\n\\t\\t\\t\\t\\t\\t\\t\\t<a\\tclass=\"a1 \"\\n\\t\\t\\t\\t\\t\\t\\t\\t\\thref=\"https://edu.tipdm.org\" target=\"_blank\">云课堂 \\n\\t\\t\\t\\t\\t\\t\\t\\t</a>\\n\\t\\t\\t\\t\\t\\t\\t\\t<ul id=\"ul424\" class=\"ul2\">\\n\\t\\t\\t\\t\\t\\t\\t\\t\\t \\t\\t\\t\\t\\t\\t\\t\\t</ul>\\n\\t\\t\\t\\t\\t\\t</li> \\n\\t\\t\\t\\t\\t\\t<li class=\"li1 \">\\n\\t\\t\\t\\t\\t\\t\\t\\t<a\\tclass=\"a1 \"\\n\\t\\t\\t\\t\\t\\t\\t\\t\\thref=\"http://mx.tipdm.org/\" target=\"_blank\">模型交易 \\n\\t\\t\\t\\t\\t\\t\\t\\t</a>\\n\\t\\t\\t\\t\\t\\t\\t\\t<ul id=\"ul219\" class=\"ul2\">\\n\\t\\t\\t\\t\\t\\t\\t\\t\\t \\t\\t\\t\\t\\t\\t\\t\\t</ul>\\n\\t\\t\\t\\t\\t\\t</li> \\n\\t\\t\\t\\t\\t\\t<li class=\"li1 \">\\n\\t\\t\\t\\t\\t\\t\\t\\t<a\\tclass=\"a1 \"\\n\\t\\t\\t\\t\\t\\t\\t\\t\\thref=\"/bdrace/gyrs/20160720/787.html\" target=\"_blank\">关于数睿思 \\n\\t\\t\\t\\t\\t\\t\\t\\t</a>\\n\\t\\t\\t\\t\\t\\t\\t\\t<ul id=\"ul180\" class=\"ul2\">\\n\\t\\t\\t\\t\\t\\t\\t\\t\\t \\t\\t\\t\\t\\t\\t\\t\\t</ul>\\n\\t\\t\\t\\t\\t\\t</li> \\n\\t\\t\\t\\t</ul>\\n\\t\\t\\t</div>\\n<div id=\"loginCsiDiv\" class=\"cutLink\"></div>\\n<script type=\"text/javascript\">\\n$(function(){\\n\\tCms.loginCsi(\"\",\"loginCsiDiv\",{\"returnUrl\":\"http://www.tipdm.org/member/index.jspx\"});\\n});\\n</script>\\t\\t\\t<div class=\"clear\"></div>\\n\\t\\t</div>\\n\\t</div>\\n</div>\\n<!--头部结束-->\\n\\n<!--end top class -->\\n<div class=\"member-con\">\\n  <div class=\"m-pos\"><a href=\"/\">首页</a> &gt; <span>会员中心</span></div>\\n  <div class=\"member clearfix\">\\n    <div class=\"memberLeft clearfix\">\\n      <div class=\"member-nav\">\\n        <ul>\\n<li class=\"uInfo\">\\n      <div class=\"memberImg\"><img src=\"/r/cms/www/red/images/userImg-large.png\"></div>\\n      <div class=\"memberName\">您好，<span>pc2019</span></div>\\n      <div class=\"memberOut\"><a href=\"/logout.jspx\">退出</a></div>\\n      <div class=\"uGroup\">个 </div>\\n</li>          <li><a href=\"/member/index.jspx\" class=\"on\">个人资料</a></li>\\n          <li><a href=\"/member/contribute_list.jspx\">投稿管理</a></li>\\n          <li><a href=\"/member/doc_list.jspx?modelId=9\">文档管理</a></li>\\n          <li><a href=\"/member/resume.jspx\">应聘管理</a></li>\\n          <li><a href=\"/member/mycomments.jspx\">我的评论</a></li>\\n          <li><a href=\"/member/myguestbook.jspx\">我的留言</a></li>\\n          <li><a href=\"/member/collection_list.jspx\">我的收藏</a></li>\\n          <li><a href=\"/member/message_mng.jspx\">站内信息</a></li>\\n          <li><a href=\"/member/account.jspx\">服务中心</a></li>\\n        </ul>\\n      </div>\\n      <div class=\"member-main\">\\n        <div class=\"member-child\"><a href=\"/member/index.jspx\" class=\"on\">用户信息</a>|<a href=\"/member/profile.jspx\">修改个人资料</a>|<a href=\"/member/portrait.jspx\">更换头像</a>|<a href=\"/member/pwd.jspx\">修改密码</a></div>\\n        <div class=\"member-text\">\\n          <table cellpadding=\"0\" cellspacing=\"0\" class=\"userInfo\">\\n            <tbody>\\n              <tr>\\n                <td class=\"s-p\">用户昵称：</td>\\n                <td>pc2019</td>\\n                <td class=\"s-p\">会员组别：</td>\\n                <td width=\"40%\" class=\"hyzb\">个人会员</td>\\n              </tr>\\n              <tr>\\n                <td class=\"s-p\">性别：</td>\\n                <td>保密</td>\\n                <td class=\"s-p\">出生日期：</td>\\n                <td></td>\\n              </tr>\\n              <tr>\\n                <td class=\"s-p\">真实姓名：</td>\\n                <td></td>\\n                <td class=\"s-p\">邮箱：</td>\\n                <td></td>\\n              </tr>\\n              <tr>\\n                <td class=\"s-p\">手机：</td>\\n                <td></td>\\n                <td class=\"s-p\">固定电话：</td>\\n                <td></td>\\n              </tr>\\n              <tr>\\n                <td class=\"s-p\">QQ：</td>\\n                <td></td>\\n                <td class=\"s-p\">MSN：</td>\\n                <td></td>\\n              </tr>\\n              <tr>\\n                <td class=\"s-p\">来自：</td>\\n                <td></td>\\n                <td class=\"s-p\">财富收益：</td>\\n                <td></td>\\n              </tr>\\n              <tr>\\n                <td class=\"s-p\">自我介绍：</td>\\n                <td colspan=\"3\"></td>\\n              </tr>\\n            </tbody>\\n          </table>\\n        </div>\\n      </div>\\n    </div>\\n    <div class=\"m-sj\"></div>\\n  </div>\\n</div>\\n<!--底部开始-->\\r\\n  <div id=\"fp\" class=\"fp\">\\r\\n    <div class=\"fpDiv\">\\r\\n      <div class=\"logo\"> </div>\\r\\n      <div class=\"fMenu\">\\r\\n        <dl>\\r\\n          <dt>\\r\\n\\t\\t\\t隐私和协议\\r\\n\\t\\t\\t</dt>\\r\\n          <dd>\\r\\n            <ul>\\r\\n    \\t\\t\\t\\t <li><a href=\"/bdrace/bbgx.html\">版本更新</a></li>\\r\\n            </ul>\\r\\n          </dd>\\r\\n        </dl>\\r\\n        <dl>\\r\\n          <dt>\\r\\n\\t\\t\\t交流和分享\\r\\n\\t\\t\\t</dt>\\r\\n          <dd>\\r\\n            <ul>\\r\\n    \\t\\t\\t\\t <li><a href=\"/bdrace/QQ.html\">官方QQ群</a></li>\\r\\n    \\t\\t\\t\\t <li><a href=\"/bdrace/tg.html\">投稿</a></li>\\r\\n    \\t\\t\\t\\t <li><a href=\"/bdrace/lxwm.html\">联系我们</a></li>\\r\\n            </ul>\\r\\n          </dd>\\r\\n        </dl>\\r\\n        <dl>\\r\\n          <dt>\\r\\n\\t\\t\\t商务合作\\r\\n\\t\\t\\t</dt>\\r\\n          <dd>\\r\\n            <ul>\\r\\n    \\t\\t\\t\\t <li><a href=\"/bdrace/xmhz.html\">项目合作</a></li>\\r\\n    \\t\\t\\t\\t <li><a href=\"/bdrace/rcxq.html\">招聘需求</a></li>\\r\\n    \\t\\t\\t\\t <li><a href=\"/bdrace/“tdb”hzhbzj.html\">“泰迪杯”合作伙伴征集</a></li>\\r\\n            </ul>\\r\\n          </dd>\\r\\n        </dl>\\r\\n        <div class=\"clear\"></div>\\r\\n      </div>\\r\\n      <div class=\"weixin\">请关注“官方公众号”</div>\\r\\n      <div class=\"clear\"></div>\\r\\n    </div>\\r\\n    <div class=\"webCP\">Copyright © 2013－2016 &nbsp; 广州泰迪智能科技有限公司 &nbsp; 技术支持 &nbsp; 粤ICP备14098620号</div>\\r\\n    <div class=\"fpBg\"></div>\\r\\n  </div>\\r\\n   <!--底部结束--></body>\\n</html>\\n'"
      ]
     },
     "execution_count": 10,
     "metadata": {},
     "output_type": "execute_result"
    }
   ],
   "source": [
    "s.get('http://www.tipdm.org/member/index.jspx').content.decode('utf8')"
   ]
  },
  {
   "cell_type": "code",
   "execution_count": null,
   "metadata": {},
   "outputs": [],
   "source": []
  }
 ],
 "metadata": {
  "kernelspec": {
   "display_name": "Python 3",
   "language": "python",
   "name": "python3"
  },
  "language_info": {
   "codemirror_mode": {
    "name": "ipython",
    "version": 3
   },
   "file_extension": ".py",
   "mimetype": "text/x-python",
   "name": "python",
   "nbconvert_exporter": "python",
   "pygments_lexer": "ipython3",
   "version": "3.6.10"
  },
  "toc": {
   "base_numbering": 1,
   "nav_menu": {},
   "number_sections": true,
   "sideBar": true,
   "skip_h1_title": false,
   "title_cell": "Table of Contents",
   "title_sidebar": "Contents",
   "toc_cell": false,
   "toc_position": {},
   "toc_section_display": true,
   "toc_window_display": false
  },
  "varInspector": {
   "cols": {
    "lenName": 16,
    "lenType": 16,
    "lenVar": 40
   },
   "kernels_config": {
    "python": {
     "delete_cmd_postfix": "",
     "delete_cmd_prefix": "del ",
     "library": "var_list.py",
     "varRefreshCmd": "print(var_dic_list())"
    },
    "r": {
     "delete_cmd_postfix": ") ",
     "delete_cmd_prefix": "rm(",
     "library": "var_list.r",
     "varRefreshCmd": "cat(var_dic_list()) "
    }
   },
   "types_to_exclude": [
    "module",
    "function",
    "builtin_function_or_method",
    "instance",
    "_Feature"
   ],
   "window_display": false
  }
 },
 "nbformat": 4,
 "nbformat_minor": 2
}
