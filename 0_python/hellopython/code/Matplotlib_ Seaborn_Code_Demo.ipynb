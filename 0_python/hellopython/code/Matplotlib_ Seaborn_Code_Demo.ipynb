{
 "cells": [
  {
   "cell_type": "markdown",
   "id": "d06976ed",
   "metadata": {},
   "source": [
    "# 论文写作必备之matplotlib可视化图表\n",
    "> **参考文献** <br></br>\n",
    "[Top 50 matplotlib Visualizations – The Master Plots (with full python code)](https://www.machinelearningplus.com/plots/top-50-matplotlib-visualizations-the-master-plots-python/)<br></br>\n",
    "[https://github.com/liyangbit/PyDataRoad](https://github.com/liyangbit/PyDataRoad)"
   ]
  },
  {
   "cell_type": "code",
   "execution_count": null,
   "id": "06c762eb",
   "metadata": {},
   "outputs": [],
   "source": []
  },
  {
   "cell_type": "code",
   "execution_count": null,
   "id": "4dff6c80",
   "metadata": {},
   "outputs": [],
   "source": []
  },
  {
   "cell_type": "code",
   "execution_count": null,
   "id": "4b2c2d9b",
   "metadata": {},
   "outputs": [],
   "source": []
  }
 ],
 "metadata": {
  "kernelspec": {
   "display_name": "Python 3",
   "language": "python",
   "name": "python3"
  },
  "language_info": {
   "codemirror_mode": {
    "name": "ipython",
    "version": 3
   },
   "file_extension": ".py",
   "mimetype": "text/x-python",
   "name": "python",
   "nbconvert_exporter": "python",
   "pygments_lexer": "ipython3",
   "version": "3.8.8"
  }
 },
 "nbformat": 4,
 "nbformat_minor": 5
}
