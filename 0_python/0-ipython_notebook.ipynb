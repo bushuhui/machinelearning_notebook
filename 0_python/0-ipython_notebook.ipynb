{
 "cells": [
  {
   "cell_type": "markdown",
   "metadata": {},
   "source": [
    "# IPython和Jupyter笔记本"
   ]
  },
  {
   "cell_type": "markdown",
   "metadata": {},
   "source": [
    "本在线讲义使用Jupyter Notebook编写，因此首先介绍Jupter Notebook的使用方法。使用Notebook，可以方便的将理论描述、程序、数据可视化等集成在一个多媒体页面，方便大家的学习。\n",
    "\n",
    "Jupyter notebook 是一种 Web 应用，它能让用户将说明文本、数学方程、代码和可视化内容全部组合到一个易于共享的文档中，非常方便研究和教学，让编写、阅读变得一目了然。Jupyter notebook特别适合做科学计算、数据处理，其用途可以包括数据清理和探索、可视化、机器学习和大数据分析。其具有以下特点:\n",
    "* 编程时具有语法高亮、缩进、tab补全的功能。\n",
    "* 可直接通过浏览器运行代码，同时在代码块下方展示运行结果。\n",
    "* 以富媒体格式展示计算结果。富媒体格式包括：HTML，LaTeX，PNG，SVG等。\n",
    "* 对代码编写说明文档或语句时，支持Markdown语法。\n",
    "* 支持使用LaTeX编写数学性说明。\n"
   ]
  },
  {
   "cell_type": "markdown",
   "metadata": {},
   "source": [
    "## Jupyter 安装\n",
    "安装Jupyter最简单的方法就是使用 Anaconda，其发行版附带了 Jupyter Notebook。在 conda 环境下安装 Jupyter Notebook 可以使用 \n",
    "\n",
    "```\n",
    "conda install jupyter\n",
    "```\n",
    "\n",
    "当然，也可以通过 `pip` 来安装 \n",
    "```\n",
    "pip install jupyter\n",
    "```\n",
    "\n",
    "安装后便可在终端中输入以下命令启动：\n",
    "```\n",
    "# jupyter notebook\n",
    "\n",
    "或者\n",
    "# jupyter-notebook\n",
    "```"
   ]
  },
  {
   "cell_type": "markdown",
   "metadata": {},
   "source": [
    "## 常用操作\n",
    "\n",
    "![shortcut](images/jupyter_shortcuts.png)"
   ]
  },
  {
   "cell_type": "markdown",
   "metadata": {},
   "source": [
    "Markdown"
   ]
  },
  {
   "cell_type": "code",
   "execution_count": 2,
   "metadata": {},
   "outputs": [
    {
     "name": "stdout",
     "output_type": "stream",
     "text": [
      "Hello Machine Learning!\n"
     ]
    }
   ],
   "source": [
    "print(\"Hello Machine Learning!\")"
   ]
  },
  {
   "cell_type": "code",
   "execution_count": 3,
   "metadata": {
    "podoc": {
     "output_text": "Screenshot of a Jupyter notebook"
    }
   },
   "outputs": [
    {
     "name": "stdout",
     "output_type": "stream",
     "text": [
      "Hello world!\n"
     ]
    }
   ],
   "source": [
    "print(\"Hello world!\")"
   ]
  },
  {
   "cell_type": "code",
   "execution_count": 4,
   "metadata": {},
   "outputs": [
    {
     "data": {
      "text/plain": [
       "4"
      ]
     },
     "execution_count": 4,
     "metadata": {},
     "output_type": "execute_result"
    }
   ],
   "source": [
    "2 + 2"
   ]
  },
  {
   "cell_type": "code",
   "execution_count": 5,
   "metadata": {},
   "outputs": [
    {
     "data": {
      "text/plain": [
       "12"
      ]
     },
     "execution_count": 5,
     "metadata": {},
     "output_type": "execute_result"
    }
   ],
   "source": [
    "_ * 3"
   ]
  },
  {
   "cell_type": "code",
   "execution_count": 6,
   "metadata": {},
   "outputs": [
    {
     "name": "stdout",
     "output_type": "stream",
     "text": [
      "0-ipython_notebook_EN.ipynb  4_Data_Structure_2.ipynb  hellopython\r\n",
      "0-ipython_notebook.ipynb     5_Control_Flow_EN.ipynb   images\r\n",
      "1_Basics_EN.ipynb\t     5_Control_Flow.ipynb      module\r\n",
      "1_Basics.ipynb\t\t     6_Function_EN.ipynb       more\r\n",
      "2_Print_Statement_EN.ipynb   6_Function.ipynb\t       Python.pdf\r\n",
      "2_Print_Statement.ipynb      7_Class_EN.ipynb\t       README_ENG.md\r\n",
      "3_Data_Structure_1_EN.ipynb  7_Class.ipynb\t       README.md\r\n",
      "3_Data_Structure_1.ipynb     7_python_class.py\t       test.txt\r\n",
      "4_Data_Structure_2_EN.ipynb  demo_codes\r\n"
     ]
    }
   ],
   "source": [
    "!ls"
   ]
  },
  {
   "cell_type": "code",
   "execution_count": 7,
   "metadata": {},
   "outputs": [
    {
     "data": {
      "image/png": "[encoded data removed]",
      "text/plain": [
       "<Figure size 640x480 with 1 Axes>"
      ]
     },
     "metadata": {},
     "output_type": "display_data"
    }
   ],
   "source": [
    "# code block & drawing\n",
    "\n",
    "%matplotlib inline\n",
    "\n",
    "import matplotlib.pyplot as plt\n",
    "import numpy as np\n",
    "\n",
    "# generate data\n",
    "data_num = 100\n",
    "X = np.random.rand(data_num, 1)*10\n",
    "Y = X * 3 + 4 + 5*np.random.randn(data_num,1)\n",
    "\n",
    "# draw original data\n",
    "plt.scatter(X, Y)\n",
    "plt.xlabel(\"X\")\n",
    "plt.ylabel(\"Y\")\n",
    "plt.show()"
   ]
  }
 ],
 "metadata": {
  "kernelspec": {
   "display_name": "Python 3 (ipykernel)",
   "language": "python",
   "name": "python3"
  },
  "language_info": {
   "codemirror_mode": {
    "name": "ipython",
    "version": 3
   },
   "file_extension": ".py",
   "mimetype": "text/x-python",
   "name": "python",
   "nbconvert_exporter": "python",
   "pygments_lexer": "ipython3",
   "version": "3.9.18"
  }
 },
 "nbformat": 4,
 "nbformat_minor": 2
}
