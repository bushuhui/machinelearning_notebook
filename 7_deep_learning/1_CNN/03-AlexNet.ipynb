{
 "cells": [
  {
   "cell_type": "markdown",
   "metadata": {},
   "source": [
    "# AlexNet\n",
    "\n",
    "\n",
    "第一个典型的卷积神经网络是 LeNet5 ，但是第一个开启深度学习的网络却是 AlexNet，这个网络在2012年的ImageNet竞赛中取得冠军。这网络提出了深度学习常用的技术：ReLU和Dropout。AlexNet网络结构在整体上类似于LeNet，都是先卷积然后在全连接，但在细节上有很大不同，AlexNet更为复杂，Alexnet模型由5个卷积层和3个池化Pooling层，其中还有3个全连接层构成，共有$6 \\times 10^7$个参数和65000个神经元，最终的输出层是1000通道的Softmax。AlexNet 跟 LeNet 结构类似，但使⽤了更多的卷积层和更⼤的参数空间来拟合⼤规模数据集 ImageNet，它是浅层神经⽹络和深度神经⽹络的分界线。\n",
    "\n",
    "\n",
    "参考资料：\n",
    "* [PyTorch 的 dropout使用](https://zhuanlan.zhihu.com/p/575456981)\n",
    "* [ReLU激活函数](https://zhuanlan.zhihu.com/p/428448728)"
   ]
  },
  {
   "cell_type": "markdown",
   "metadata": {},
   "source": [
    "AlexNet的网络架构如下图所示：\n",
    "![AlexNet](images/fig-dl-alexnet-netarch-crop.jpg)"
   ]
  },
  {
   "cell_type": "code",
   "execution_count": 1,
   "metadata": {},
   "outputs": [],
   "source": [
    "import torch.nn as nn\n",
    "import torch\n",
    "from torch.autograd import Variable\n",
    "\n",
    "class AlexNet(nn.Module):\n",
    "    def __init__(self, num_classes=1000, init_weights=False):   \n",
    "        super(AlexNet, self).__init__()\n",
    "        self.features = nn.Sequential( \n",
    "            nn.Conv2d(3, 96, kernel_size=11, stride=4, padding=2),  \n",
    "            nn.ReLU(inplace=True),\n",
    "            nn.MaxPool2d(kernel_size=3, stride=2),       \n",
    "\n",
    "            nn.Conv2d(96, 256, kernel_size=5, padding=2),\n",
    "            nn.ReLU(inplace=True),\n",
    "            nn.MaxPool2d(kernel_size=3, stride=2),\n",
    "\n",
    "            nn.Conv2d(256, 384, kernel_size=3, padding=1),\n",
    "            nn.ReLU(inplace=True),\n",
    "\n",
    "            nn.Conv2d(384, 384, kernel_size=3, padding=1),\n",
    "            nn.ReLU(inplace=True),\n",
    "\n",
    "            nn.Conv2d(384, 256, kernel_size=3, padding=1),\n",
    "            nn.ReLU(inplace=True),\n",
    "            nn.MaxPool2d(kernel_size=3, stride=2),\n",
    "        )\n",
    "        self.classifier = nn.Sequential(\n",
    "            nn.Dropout(p=0.5),\n",
    "            nn.Linear(256*6*6, 4096),  #全链接\n",
    "            nn.ReLU(inplace=True),\n",
    "            nn.Dropout(p=0.5),\n",
    "            nn.Linear(4096, 4096),\n",
    "            nn.ReLU(inplace=True),\n",
    "            nn.Linear(4096, num_classes),\n",
    "        )\n",
    "        if init_weights:\n",
    "            self._initialize_weights()\n",
    "\n",
    "    def forward(self, x):\n",
    "        x = self.features(x)\n",
    "        x = torch.flatten(x, start_dim=1) #展平或者view()\n",
    "        x = self.classifier(x)\n",
    "        return x\n",
    "\n",
    "    def _initialize_weights(self):\n",
    "        for m in self.modules():\n",
    "            if isinstance(m, nn.Conv2d):\n",
    "                #何教授方法\n",
    "                nn.init.kaiming_normal_(m.weight, mode='fan_out', nonlinearity='relu') \n",
    "                if m.bias is not None:\n",
    "                    nn.init.constant_(m.bias, 0)\n",
    "            elif isinstance(m, nn.Linear):\n",
    "                #正态分布赋值\n",
    "                nn.init.normal_(m.weight, 0, 0.01) \n",
    "                nn.init.constant_(m.bias, 0)"
   ]
  },
  {
   "cell_type": "code",
   "execution_count": 2,
   "metadata": {},
   "outputs": [
    {
     "name": "stdout",
     "output_type": "stream",
     "text": [
      "torch.Size([1, 256, 6, 6])\n",
      "torch.Size([1, 1000])\n"
     ]
    }
   ],
   "source": [
    "test_x = torch.zeros(1, 3, 227, 227)\n",
    "net = AlexNet()\n",
    "test_y = net.features(test_x)\n",
    "print(test_y.shape)\n",
    "test_y = net(test_x)\n",
    "print(test_y.shape)"
   ]
  },
  {
   "cell_type": "markdown",
   "metadata": {},
   "source": [
    "## CIFAR 10\n",
    "\n",
    "首先介绍一个数据集 CIFAR10，后续以此数据集为例介绍各种卷积网络的结构。\n",
    "\n",
    "CIFAR10 这个数据集一共有 50000 张训练集，10000 张测试集，两个数据集里面的图片都是 png 彩色图片，图片大小是 32 x 32 x 3，一共是 10 分类问题，分别为飞机、汽车、鸟、猫、鹿、狗、青蛙、马、船和卡车。这个数据集是对网络性能测试一个非常重要的指标，可以说如果一个网络在这个数据集上超过另外一个网络，那么这个网络性能上一定要比另外一个网络好，目前这个数据集最好的结果是 95% 左右的测试集准确率。\n",
    "\n",
    "![](images/CIFAR10.png)\n",
    "\n",
    "\n",
    "CIFAR10 已经被 PyTorch 内置了，使用非常方便，只需要调用 `torchvision.datasets.CIFAR10` 就可以了"
   ]
  },
  {
   "cell_type": "markdown",
   "metadata": {},
   "source": [
    "## 网络训练\n",
    "\n",
    "使用CIFAR10数据集对网络进行训练。"
   ]
  },
  {
   "cell_type": "code",
   "execution_count": 4,
   "metadata": {},
   "outputs": [],
   "source": [
    "from torchvision.datasets import CIFAR10\n",
    "from torch.utils.data import DataLoader\n",
    "from torchvision import transforms as tfs\n",
    "from utils import train\n",
    "\n",
    "\n",
    "# 数据转换\n",
    "def data_tf(x):\n",
    "    # Ref: https://www.cnblogs.com/dychen/p/14025356.html\n",
    "    im_aug = tfs.Compose([\n",
    "        tfs.Resize(227),\n",
    "        tfs.ToTensor(),\n",
    "        tfs.Normalize([0.5, 0.5, 0.5], [0.5, 0.5, 0.5])\n",
    "    ])\n",
    "    x = im_aug(x)\n",
    "    return x\n",
    "     \n",
    "train_set  = CIFAR10('../../data', train=True, transform=data_tf)\n",
    "train_data = torch.utils.data.DataLoader(train_set, batch_size=64, shuffle=True)\n",
    "test_set   = CIFAR10('../../data', train=False, transform=data_tf)\n",
    "test_data  = torch.utils.data.DataLoader(test_set, batch_size=128, shuffle=False)"
   ]
  },
  {
   "cell_type": "code",
   "execution_count": null,
   "metadata": {},
   "outputs": [
    {
     "name": "stdout",
     "output_type": "stream",
     "text": [
      "[ 0] Train:(L=1.762618, Acc=0.345328), Valid:(L=1.479336, Acc=0.472310), T: 00:03:08\n",
      "[ 1] Train:(L=1.424909, Acc=0.486453), Valid:(L=1.276258, Acc=0.542820), T: 00:03:08\n",
      "[ 2] Train:(L=1.294979, Acc=0.536165), Valid:(L=1.224811, Acc=0.565170), T: 00:03:10\n",
      "[ 3] Train:(L=1.211559, Acc=0.568754), Valid:(L=1.135080, Acc=0.597112), T: 00:03:10\n",
      "[ 4] Train:(L=1.142591, Acc=0.596487), Valid:(L=1.088278, Acc=0.616792), T: 00:03:08\n",
      "[ 5] Train:(L=1.087808, Acc=0.616488), Valid:(L=1.048046, Acc=0.625198), T: 00:03:12\n",
      "[ 6] Train:(L=1.040570, Acc=0.631973), Valid:(L=1.092849, Acc=0.617880), T: 00:03:07\n",
      "[ 7] Train:(L=0.999386, Acc=0.648338), Valid:(L=1.021422, Acc=0.641317), T: 00:03:10\n",
      "[ 8] Train:(L=0.961721, Acc=0.661725), Valid:(L=1.038800, Acc=0.633703), T: 00:03:10\n",
      "[ 9] Train:(L=0.932042, Acc=0.669577), Valid:(L=1.009300, Acc=0.640724), T: 00:03:11\n",
      "[10] Train:(L=0.898817, Acc=0.682425), Valid:(L=0.966455, Acc=0.659118), T: 00:03:14\n",
      "[11] Train:(L=0.867096, Acc=0.692415), Valid:(L=0.957053, Acc=0.662381), T: 00:03:10\n",
      "[12] Train:(L=0.849695, Acc=0.699688), Valid:(L=0.945752, Acc=0.669502), T: 00:03:12\n",
      "[13] Train:(L=0.819751, Acc=0.711317), Valid:(L=0.980257, Acc=0.665941), T: 00:03:11\n",
      "[14] Train:(L=0.783112, Acc=0.722686), Valid:(L=0.954966, Acc=0.670589), T: 00:03:10\n"
     ]
    }
   ],
   "source": [
    "net = AlexNet(num_classes=10)\n",
    "optimizer = torch.optim.Adam(net.parameters(), lr=1e-3)\n",
    "criterion = nn.CrossEntropyLoss()\n",
    "\n",
    "res = train(net, train_data, test_data, 20, optimizer, criterion, use_cuda=True)"
   ]
  },
  {
   "cell_type": "code",
   "execution_count": 7,
   "metadata": {},
   "outputs": [
    {
     "data": {
      "image/png": "[encoded data removed]",
      "text/plain": [
       "<Figure size 432x288 with 1 Axes>"
      ]
     },
     "metadata": {
      "needs_background": "light"
     },
     "output_type": "display_data"
    },
    {
     "data": {
      "image/png": "[encoded data removed]",
      "text/plain": [
       "<Figure size 432x288 with 1 Axes>"
      ]
     },
     "metadata": {
      "needs_background": "light"
     },
     "output_type": "display_data"
    }
   ],
   "source": [
    "import matplotlib.pyplot as plt\n",
    "%matplotlib inline\n",
    "\n",
    "plt.plot(res[0], label='train')\n",
    "plt.plot(res[2], label='valid')\n",
    "plt.xlabel('epoch')\n",
    "plt.ylabel('Loss')\n",
    "plt.legend(loc='best')\n",
    "plt.savefig('fig-res-alexnet-train-validate-loss.pdf')\n",
    "plt.show()\n",
    "\n",
    "plt.plot(res[1], label='train')\n",
    "plt.plot(res[3], label='valid')\n",
    "plt.xlabel('epoch')\n",
    "plt.ylabel('Acc')\n",
    "plt.legend(loc='best')\n",
    "plt.savefig('fig-res-alexnet-train-validate-acc.pdf')\n",
    "plt.show()"
   ]
  },
  {
   "cell_type": "code",
   "execution_count": null,
   "metadata": {
    "collapsed": true,
    "jupyter": {
     "outputs_hidden": true
    }
   },
   "outputs": [],
   "source": [
    "# save raw data\n",
    "import numpy\n",
    "numpy.save('fig-res-alexnet_data.npy', res)"
   ]
  }
 ],
 "metadata": {
  "kernelspec": {
   "display_name": "Python 3 (ipykernel)",
   "language": "python",
   "name": "python3"
  },
  "language_info": {
   "codemirror_mode": {
    "name": "ipython",
    "version": 3
   },
   "file_extension": ".py",
   "mimetype": "text/x-python",
   "name": "python",
   "nbconvert_exporter": "python",
   "pygments_lexer": "ipython3",
   "version": "3.11.9"
  }
 },
 "nbformat": 4,
 "nbformat_minor": 4
}
