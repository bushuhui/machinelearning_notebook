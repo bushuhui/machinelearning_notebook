{
 "cells": [
  {
   "cell_type": "markdown",
   "metadata": {},
   "source": [
    "# 学习率衰减\n",
    "对于基于一阶梯度进行优化的方法而言，开始的时候更新的幅度是比较大的，也就是说开始的学习率可以设置大一点，但是当训练集的 loss 下降到一定程度之后，继续使用这个太大的学习率就会导致 loss 一直来回震荡。"
   ]
  },
  {
   "cell_type": "markdown",
   "metadata": {},
   "source": [
    "这个时候就需要对学习率进行衰减已达到 loss 的充分下降，用学习率衰减的办法能够解决这个矛盾，学习率衰减就是随着训练的进行不断的减小学习率。\n",
    "\n",
    "在 PyTorch 中学习率衰减非常方便，使用 `torch.optim.lr_scheduler`，更多的信息可以直接查看[文档](https://pytorch.org/docs/stable/optim.html#how-to-adjust-learning-rate)\n",
    "\n",
    "推荐大家使用下面这种方式来做学习率衰减，更加直观，下面举例子来说明"
   ]
  },
  {
   "cell_type": "code",
   "execution_count": 1,
   "metadata": {
    "ExecuteTime": {
     "end_time": "2017-12-24T08:45:34.293625Z",
     "start_time": "2017-12-24T08:45:33.834665Z"
    },
    "collapsed": true
   },
   "outputs": [],
   "source": [
    "import sys\n",
    "sys.path.append('..')\n",
    "\n",
    "import numpy as np\n",
    "import torch\n",
    "from torch import nn\n",
    "import torch.nn.functional as F\n",
    "from torch.autograd import Variable\n",
    "from torchvision.datasets import CIFAR10\n",
    "from utils import resnet\n",
    "from torchvision import transforms as tfs\n",
    "from datetime import datetime"
   ]
  },
  {
   "cell_type": "code",
   "execution_count": 2,
   "metadata": {
    "ExecuteTime": {
     "end_time": "2017-12-24T08:45:35.195093Z",
     "start_time": "2017-12-24T08:45:35.063610Z"
    },
    "collapsed": true
   },
   "outputs": [],
   "source": [
    "net = resnet(3, 10)\n",
    "optimizer = torch.optim.SGD(net.parameters(), lr=0.01, weight_decay=1e-4)"
   ]
  },
  {
   "cell_type": "markdown",
   "metadata": {},
   "source": [
    "这里定义好了模型和优化器，可以通过 `optimizer.param_groups` 来得到所有的参数组和其对应的属性。\n",
    "* 参数组将模型的参数分成几个组，每个组定义一个学习率。\n",
    "* 这个参数组是一个字典，里面有很多属性，比如学习率，权重衰减等等\n",
    "\n",
    "可以通过如下方式访问属性值："
   ]
  },
  {
   "cell_type": "code",
   "execution_count": 26,
   "metadata": {
    "ExecuteTime": {
     "end_time": "2017-12-24T08:22:59.192905Z",
     "start_time": "2017-12-24T08:22:59.187178Z"
    }
   },
   "outputs": [
    {
     "name": "stdout",
     "output_type": "stream",
     "text": [
      "learning rate: 0.01\n",
      "weight decay: 0.0001\n"
     ]
    }
   ],
   "source": [
    "print('learning rate: {}'.format(optimizer.param_groups[0]['lr']))\n",
    "print('weight decay: {}'.format(optimizer.param_groups[0]['weight_decay']))"
   ]
  },
  {
   "cell_type": "markdown",
   "metadata": {},
   "source": [
    "可以通过修改这个属性来改变训练过程中的学习率："
   ]
  },
  {
   "cell_type": "code",
   "execution_count": 29,
   "metadata": {
    "ExecuteTime": {
     "end_time": "2017-12-24T08:25:04.767090Z",
     "start_time": "2017-12-24T08:25:04.762612Z"
    },
    "collapsed": true
   },
   "outputs": [],
   "source": [
    "optimizer.param_groups[0]['lr'] = 1e-5"
   ]
  },
  {
   "cell_type": "markdown",
   "metadata": {},
   "source": [
    "为了使用多个参数组，可以使用一个循环"
   ]
  },
  {
   "cell_type": "code",
   "execution_count": 30,
   "metadata": {
    "ExecuteTime": {
     "end_time": "2017-12-24T08:26:05.142183Z",
     "start_time": "2017-12-24T08:26:05.136955Z"
    },
    "collapsed": true
   },
   "outputs": [],
   "source": [
    "for param_group in optimizer.param_groups:\n",
    "    param_group['lr'] = 1e-1"
   ]
  },
  {
   "cell_type": "markdown",
   "metadata": {},
   "source": [
    "方法就是这样，非常简单，可以在任意的位置改变学习率。下面具体来看看学习率衰减的好处"
   ]
  },
  {
   "cell_type": "code",
   "execution_count": 3,
   "metadata": {
    "ExecuteTime": {
     "end_time": "2017-12-24T08:45:40.809459Z",
     "start_time": "2017-12-24T08:45:40.803993Z"
    },
    "collapsed": true
   },
   "outputs": [],
   "source": [
    "def set_learning_rate(optimizer, lr):\n",
    "    for param_group in optimizer.param_groups:\n",
    "        param_group['lr'] = lr"
   ]
  },
  {
   "cell_type": "code",
   "execution_count": 4,
   "metadata": {
    "ExecuteTime": {
     "end_time": "2017-12-24T08:45:48.006789Z",
     "start_time": "2017-12-24T08:45:46.738002Z"
    },
    "collapsed": true
   },
   "outputs": [],
   "source": [
    "# 使用数据增强\n",
    "def train_tf(x):\n",
    "    im_aug = tfs.Compose([\n",
    "        tfs.Resize(120),\n",
    "        tfs.RandomHorizontalFlip(),\n",
    "        tfs.RandomCrop(96),\n",
    "        tfs.ColorJitter(brightness=0.5, contrast=0.5, hue=0.5),\n",
    "        tfs.ToTensor(),\n",
    "        tfs.Normalize([0.5, 0.5, 0.5], [0.5, 0.5, 0.5])\n",
    "    ])\n",
    "    x = im_aug(x)\n",
    "    return x\n",
    "\n",
    "def test_tf(x):\n",
    "    im_aug = tfs.Compose([\n",
    "        tfs.Resize(96),\n",
    "        tfs.ToTensor(),\n",
    "        tfs.Normalize([0.5, 0.5, 0.5], [0.5, 0.5, 0.5])\n",
    "    ])\n",
    "    x = im_aug(x)\n",
    "    return x\n",
    "\n",
    "train_set = CIFAR10('../../data', train=True, transform=train_tf)\n",
    "train_data = torch.utils.data.DataLoader(train_set, batch_size=256, shuffle=True, num_workers=4)\n",
    "valid_set = CIFAR10('../../data', train=False, transform=test_tf)\n",
    "valid_data = torch.utils.data.DataLoader(valid_set, batch_size=256, shuffle=False, num_workers=4)\n",
    "\n",
    "net = resnet(3, 10)\n",
    "optimizer = torch.optim.SGD(net.parameters(), lr=0.1, weight_decay=1e-4)\n",
    "criterion = nn.CrossEntropyLoss()"
   ]
  },
  {
   "cell_type": "code",
   "execution_count": 5,
   "metadata": {
    "ExecuteTime": {
     "end_time": "2017-12-24T08:59:49.656832Z",
     "start_time": "2017-12-24T08:45:48.556187Z"
    }
   },
   "outputs": [
    {
     "name": "stdout",
     "output_type": "stream",
     "text": [
      "Epoch 0. Train Loss: 1.872896, Valid Loss: 1.798441, Time 00:00:26\n",
      "Epoch 1. Train Loss: 1.397522, Valid Loss: 1.421618, Time 00:00:28\n",
      "Epoch 2. Train Loss: 1.129362, Valid Loss: 1.487882, Time 00:00:28\n",
      "Epoch 3. Train Loss: 0.962217, Valid Loss: 2.095880, Time 00:00:28\n",
      "Epoch 4. Train Loss: 0.859332, Valid Loss: 1.686056, Time 00:00:27\n",
      "Epoch 5. Train Loss: 0.786428, Valid Loss: 1.348701, Time 00:00:27\n",
      "Epoch 6. Train Loss: 0.730535, Valid Loss: 1.568454, Time 00:00:27\n",
      "Epoch 7. Train Loss: 0.682074, Valid Loss: 1.230555, Time 00:00:28\n",
      "Epoch 8. Train Loss: 0.643144, Valid Loss: 0.878328, Time 00:00:27\n",
      "Epoch 9. Train Loss: 0.609817, Valid Loss: 0.869068, Time 00:00:27\n",
      "Epoch 10. Train Loss: 0.585312, Valid Loss: 0.794440, Time 00:00:27\n",
      "Epoch 11. Train Loss: 0.553877, Valid Loss: 1.900850, Time 00:00:27\n",
      "Epoch 12. Train Loss: 0.526790, Valid Loss: 0.752651, Time 00:00:27\n",
      "Epoch 13. Train Loss: 0.505155, Valid Loss: 1.112544, Time 00:00:27\n",
      "Epoch 14. Train Loss: 0.486104, Valid Loss: 0.942357, Time 00:00:27\n",
      "Epoch 15. Train Loss: 0.468512, Valid Loss: 0.729420, Time 00:00:27\n",
      "Epoch 16. Train Loss: 0.449669, Valid Loss: 0.842467, Time 00:00:27\n",
      "Epoch 17. Train Loss: 0.429664, Valid Loss: 0.792635, Time 00:00:27\n",
      "Epoch 18. Train Loss: 0.420088, Valid Loss: 1.025345, Time 00:00:27\n",
      "Epoch 19. Train Loss: 0.404701, Valid Loss: 0.651725, Time 00:00:27\n",
      "Epoch 20. Train Loss: 0.326198, Valid Loss: 0.491904, Time 00:00:27\n",
      "Epoch 21. Train Loss: 0.294623, Valid Loss: 0.478969, Time 00:00:27\n",
      "Epoch 22. Train Loss: 0.284980, Valid Loss: 0.455259, Time 00:00:28\n",
      "Epoch 23. Train Loss: 0.273168, Valid Loss: 0.465930, Time 00:00:27\n",
      "Epoch 24. Train Loss: 0.270120, Valid Loss: 0.455458, Time 00:00:27\n",
      "Epoch 25. Train Loss: 0.261299, Valid Loss: 0.462319, Time 00:00:27\n",
      "Epoch 26. Train Loss: 0.258373, Valid Loss: 0.442525, Time 00:00:27\n",
      "Epoch 27. Train Loss: 0.251803, Valid Loss: 0.457620, Time 00:00:27\n",
      "Epoch 28. Train Loss: 0.247022, Valid Loss: 0.451055, Time 00:00:27\n",
      "Epoch 29. Train Loss: 0.246816, Valid Loss: 0.448706, Time 00:00:28\n"
     ]
    }
   ],
   "source": [
    "train_losses = []\n",
    "valid_losses = []\n",
    "\n",
    "if torch.cuda.is_available():\n",
    "    net = net.cuda()\n",
    "prev_time = datetime.now()\n",
    "for epoch in range(100):\n",
    "    if epoch == 20:\n",
    "        set_learning_rate(optimizer, 0.01) # 20 次修改学习率为 0.01\n",
    "    elif epoch == 60:\n",
    "        set_learning_rate(optimizer, 0.005) # 60 次修改学习率为 0.005\n",
    "\n",
    "    train_loss = 0\n",
    "    net = net.train()\n",
    "    for im, label in train_data:\n",
    "        if torch.cuda.is_available():\n",
    "            im = Variable(im.cuda())  # (bs, 3, h, w)\n",
    "            label = Variable(label.cuda())  # (bs, h, w)\n",
    "        else:\n",
    "            im = Variable(im)\n",
    "            label = Variable(label)\n",
    "        \n",
    "        # forward\n",
    "        output = net(im)\n",
    "        loss = criterion(output, label)\n",
    "        \n",
    "        # backward\n",
    "        optimizer.zero_grad()\n",
    "        loss.backward()\n",
    "        optimizer.step()\n",
    "\n",
    "        train_loss += loss.data[0]\n",
    "    cur_time = datetime.now()\n",
    "    h, remainder = divmod((cur_time - prev_time).seconds, 3600)\n",
    "    m, s = divmod(remainder, 60)\n",
    "    time_str = \"Time %02d:%02d:%02d\" % (h, m, s)\n",
    "    valid_loss = 0\n",
    "    valid_acc = 0\n",
    "    net = net.eval()\n",
    "    for im, label in valid_data:\n",
    "        if torch.cuda.is_available():\n",
    "            im = Variable(im.cuda(), volatile=True)\n",
    "            label = Variable(label.cuda(), volatile=True)\n",
    "        else:\n",
    "            im = Variable(im, volatile=True)\n",
    "            label = Variable(label, volatile=True)\n",
    "        output = net(im)\n",
    "        loss = criterion(output, label)\n",
    "        valid_loss += loss.data[0]\n",
    "    epoch_str = (\n",
    "        \"Epoch %d. Train Loss: %f, Valid Loss: %f, \"\n",
    "        % (epoch, train_loss / len(train_data), valid_loss / len(valid_data)))\n",
    "    prev_time = cur_time\n",
    "    \n",
    "    train_losses.append(train_loss / len(train_data))\n",
    "    valid_losses.append(valid_loss / len(valid_data))\n",
    "    print(epoch_str + time_str)"
   ]
  },
  {
   "cell_type": "markdown",
   "metadata": {},
   "source": [
    "下面我们画出 loss 曲线"
   ]
  },
  {
   "cell_type": "code",
   "execution_count": 6,
   "metadata": {
    "ExecuteTime": {
     "end_time": "2017-12-24T09:01:37.676274Z",
     "start_time": "2017-12-24T09:01:37.439613Z"
    },
    "collapsed": true
   },
   "outputs": [],
   "source": [
    "import matplotlib.pyplot as plt\n",
    "%matplotlib inline"
   ]
  },
  {
   "cell_type": "code",
   "execution_count": 9,
   "metadata": {
    "ExecuteTime": {
     "end_time": "2017-12-24T09:02:37.432883Z",
     "start_time": "2017-12-24T09:02:37.244995Z"
    }
   },
   "outputs": [
    {
     "data": {
      "text/plain": [
       "<matplotlib.legend.Legend at 0x7fe8a60d4e48>"
      ]
     },
     "execution_count": 9,
     "metadata": {},
     "output_type": "execute_result"
    },
    {
     "data": {
      "image/png": "[encoded data removed]",
      "text/plain": [
       "<matplotlib.figure.Figure at 0x7fe8a64ac1d0>"
      ]
     },
     "metadata": {},
     "output_type": "display_data"
    }
   ],
   "source": [
    "plt.plot(train_losses, label='train')\n",
    "plt.plot(valid_losses, label='valid')\n",
    "plt.xlabel('epoch')\n",
    "plt.legend(loc='best')"
   ]
  },
  {
   "cell_type": "markdown",
   "metadata": {},
   "source": [
    "这里我们只训练了 30 次，在 20 次的时候进行了学习率衰减，可以看 loss 曲线在 20 次的时候不管是 train loss 还是 valid loss，都有了一个陡降。\n",
    "\n",
    "当然这里我们只是作为举例，在实际应用中，做学习率衰减之前应该经过充分的训练，比如训练 80 次或者 100 次，然后再做学习率衰减得到更好的结果，有的时候甚至需要做多次学习率衰减。"
   ]
  }
 ],
 "metadata": {
  "kernelspec": {
   "display_name": "Python 3 (ipykernel)",
   "language": "python",
   "name": "python3"
  },
  "language_info": {
   "codemirror_mode": {
    "name": "ipython",
    "version": 3
   },
   "file_extension": ".py",
   "mimetype": "text/x-python",
   "name": "python",
   "nbconvert_exporter": "python",
   "pygments_lexer": "ipython3",
   "version": "3.9.18"
  }
 },
 "nbformat": 4,
 "nbformat_minor": 2
}
